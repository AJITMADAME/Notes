{
 "cells": [
  {
   "cell_type": "code",
   "execution_count": 1,
   "id": "f0360626",
   "metadata": {},
   "outputs": [
    {
     "name": "stdout",
     "output_type": "stream",
     "text": [
      "Defaulting to user installation because normal site-packages is not writeable\n",
      "Collecting SpeechRecognition\n",
      "  Downloading SpeechRecognition-3.9.0-py2.py3-none-any.whl (32.8 MB)\n",
      "     ---------------------------------------- 32.8/32.8 MB 1.2 MB/s eta 0:00:00\n",
      "Collecting pydub\n",
      "  Downloading pydub-0.25.1-py2.py3-none-any.whl (32 kB)\n",
      "Requirement already satisfied: requests>=2.26.0 in c:\\programdata\\anaconda3\\lib\\site-packages (from SpeechRecognition) (2.28.1)\n",
      "Requirement already satisfied: certifi>=2017.4.17 in c:\\programdata\\anaconda3\\lib\\site-packages (from requests>=2.26.0->SpeechRecognition) (2022.9.14)\n",
      "Requirement already satisfied: charset-normalizer<3,>=2 in c:\\programdata\\anaconda3\\lib\\site-packages (from requests>=2.26.0->SpeechRecognition) (2.0.4)\n",
      "Requirement already satisfied: urllib3<1.27,>=1.21.1 in c:\\programdata\\anaconda3\\lib\\site-packages (from requests>=2.26.0->SpeechRecognition) (1.26.11)\n",
      "Requirement already satisfied: idna<4,>=2.5 in c:\\programdata\\anaconda3\\lib\\site-packages (from requests>=2.26.0->SpeechRecognition) (3.3)\n",
      "Installing collected packages: pydub, SpeechRecognition\n",
      "Successfully installed SpeechRecognition-3.9.0 pydub-0.25.1\n"
     ]
    }
   ],
   "source": [
    "!pip3 install SpeechRecognition pydub"
   ]
  },
  {
   "cell_type": "code",
   "execution_count": 2,
   "id": "ee9f9d6b",
   "metadata": {},
   "outputs": [],
   "source": [
    "import speech_recognition as sr"
   ]
  },
  {
   "cell_type": "code",
   "execution_count": 9,
   "id": "436c138f",
   "metadata": {},
   "outputs": [],
   "source": [
    "filename = \"audio123.wav\""
   ]
  },
  {
   "cell_type": "code",
   "execution_count": 10,
   "id": "29cbfd8c",
   "metadata": {},
   "outputs": [],
   "source": [
    "# initialize the recognizer\n",
    "r = sr.Recognizer()"
   ]
  },
  {
   "cell_type": "code",
   "execution_count": 11,
   "id": "94e72e27",
   "metadata": {},
   "outputs": [
    {
     "name": "stdout",
     "output_type": "stream",
     "text": [
      "result2:\n",
      "{   'alternative': [   {   'confidence': 0.82172048,\n",
      "                           'transcript': 'the Purchase within the smooth '\n",
      "                                         'flowing through the state without '\n",
      "                                         'play background did it has a depth '\n",
      "                                         'of about 30 days it take to make a '\n",
      "                                         'river Rises after insert in Rampur '\n",
      "                                         'to choose of lemons mix find the '\n",
      "                                         'perfect used on the side of the how '\n",
      "                                         'to search quilling art for the study '\n",
      "                                         'was based on what size is talking is '\n",
      "                                         'hard to stop'},\n",
      "                       {   'transcript': 'the Purchase within the smooth '\n",
      "                                         'flowing through the state without '\n",
      "                                         'play background did it has a depth '\n",
      "                                         'of about 30 days it take to make a '\n",
      "                                         'river Rises after insert in Rampur '\n",
      "                                         'to choose of lemons mix find the '\n",
      "                                         'perfect used on the side of the how '\n",
      "                                         'to search quilling art for the study '\n",
      "                                         'was based on what size is talking is '\n",
      "                                         'hardstyle'},\n",
      "                       {   'transcript': 'the Purchase within the smooth '\n",
      "                                         'flowing through the sheet without '\n",
      "                                         'play background did it has a depth '\n",
      "                                         'of about 30 days it take to make a '\n",
      "                                         'river Rises after insert in Rampur '\n",
      "                                         'to choose of lemons mix find the '\n",
      "                                         'perfect used on the side of the how '\n",
      "                                         'to search quilling art for the study '\n",
      "                                         'was based on what size is talking is '\n",
      "                                         'hard to stop'},\n",
      "                       {   'transcript': 'the Purchase within the smooth '\n",
      "                                         'flowing through the sheet without '\n",
      "                                         'play background did it has a depth '\n",
      "                                         'of about 30 days it take to make a '\n",
      "                                         'river Rises after insert in Rampur '\n",
      "                                         'to choose of lemons mix find the '\n",
      "                                         'perfect used on the side of the how '\n",
      "                                         'to search quilling art for the study '\n",
      "                                         'was based on what size is talking is '\n",
      "                                         'hardstyle'},\n",
      "                       {   'transcript': 'the Purchase within the smooth '\n",
      "                                         'flowing through the sheet without '\n",
      "                                         'play background did it has a depth '\n",
      "                                         'of about 30 days it take to make a '\n",
      "                                         'river Rises after insert in Rampur '\n",
      "                                         'to choose of lemons mix find the '\n",
      "                                         'power source on the side of the how '\n",
      "                                         'to search quilling art for the study '\n",
      "                                         'was based advertising talking is '\n",
      "                                         'hardstyle'}],\n",
      "    'final': True}\n",
      "the Purchase within the smooth flowing through the state without play background did it has a depth of about 30 days it take to make a river Rises after insert in Rampur to choose of lemons mix find the perfect used on the side of the how to search quilling art for the study was based on what size is talking is hard to stop\n"
     ]
    }
   ],
   "source": [
    "# open the file\n",
    "with sr.AudioFile(filename) as source:\n",
    "    # listen for the data (load audio to memory)\n",
    "    audio_data = r.record(source)\n",
    "    # recognize (convert from speech to text)\n",
    "    text = r.recognize_google(audio_data)\n",
    "    print(text) "
   ]
  },
  {
   "cell_type": "code",
   "execution_count": 12,
   "id": "5e966cda",
   "metadata": {},
   "outputs": [
    {
     "name": "stderr",
     "output_type": "stream",
     "text": [
      "C:\\Users\\ASUS\\AppData\\Roaming\\Python\\Python39\\site-packages\\pydub\\utils.py:170: RuntimeWarning: Couldn't find ffmpeg or avconv - defaulting to ffmpeg, but may not work\n",
      "  warn(\"Couldn't find ffmpeg or avconv - defaulting to ffmpeg, but may not work\", RuntimeWarning)\n"
     ]
    }
   ],
   "source": [
    "# importing libraries\n",
    "import speech_recognition as sr\n",
    "import os\n",
    "from pydub import AudioSegment\n",
    "from pydub.silence import split_on_silence\n",
    "# create a speech recognition object\n",
    "r = sr.Recognizer()\n",
    "# a function that splits the audio file into chunks\n",
    "# and applies speech recognition\n",
    "def get_large_audio_transcription(path):\n",
    "    \n",
    "    \"\"\"\n",
    "    Splitting the large audio file into chunks\n",
    "    and apply speech recognition on each of these chunks\n",
    "    \"\"\"\n",
    "    # open the audio file using pydub\n",
    "    sound = AudioSegment.from_wav(path)\n",
    "    # split audio sound where silence is 700 miliseconds or more and get chunks\n",
    "    chunks = split_on_silence(sound,\n",
    "         # experiment with this value for your target audio file\n",
    "         min_silence_len = 500,\n",
    "         # adjust this per requirement\n",
    "         silence_thresh = sound.dBFS-14,\n",
    "         # keep the silence for 1 second, adjustable as well\n",
    "         keep_silence=500,\n",
    "       )\n",
    "    folder_name = \"audio-chunks\"\n",
    "    # create a directory to store the audio chunks\n",
    "    if not os.path.isdir(folder_name):\n",
    "        os.mkdir(folder_name)\n",
    "    whole_text = \"\"\n",
    "    # process each chunk\n",
    "    for i, audio_chunk in enumerate(chunks, start=1):\n",
    "        # export audio chunk and save it in\n",
    "        # the `folder_name` directory.\n",
    "        chunk_filename = os.path.join(folder_name, f\"chunk{i}.wav\")\n",
    "        audio_chunk.export(chunk_filename, format=\"wav\")\n",
    "        # recognize the chunk\n",
    "        with sr.AudioFile(chunk_filename) as source:\n",
    "            audio_listened = r.record(source)\n",
    "            # try converting it to text\n",
    "            try:\n",
    "                text = r.recognize_google(audio_listened)\n",
    "            except sr.UnknownValueError as e:\n",
    "                print(\"Error:\", str(e))\n",
    "            else:\n",
    "                text = f\"{text.capitalize()}. \"\n",
    "                print(chunk_filename, \":\", text)\n",
    "                whole_text += text\n",
    "    # return the text for all chunks detected\n",
    "    return whole_text\n"
   ]
  },
  {
   "cell_type": "code",
   "execution_count": 14,
   "id": "b114d6e3",
   "metadata": {},
   "outputs": [
    {
     "name": "stdout",
     "output_type": "stream",
     "text": [
      "result2:\n",
      "{   'alternative': [   {   'confidence': 0.88215578,\n",
      "                           'transcript': 'the boy was there when the sun was a '\n",
      "                                         'wire is used to getting payment '\n",
      "                                         'newspaper is aqueous plane or '\n",
      "                                         'straight empowered to how to get '\n",
      "                                         'that Hasee Toh Phasee evening Smoky '\n",
      "                                         \"pirate's life flimhit to solve \"\n",
      "                                         'question paper of the Mayans bol do '\n",
      "                                         'so please come across from the same '\n",
      "                                         'to grow ab so steep and'},\n",
      "                       {   'transcript': 'the boy was there when the sun was a '\n",
      "                                         'wire is used to getting payment '\n",
      "                                         'newspaper is aqueous plane or '\n",
      "                                         'straight empowered to how to get '\n",
      "                                         'that Hasee Toh Phasee evening smokey '\n",
      "                                         \"pirate's life flimhit 2 solved \"\n",
      "                                         'question paper of the Mayans bol do '\n",
      "                                         'so please come across from the same '\n",
      "                                         'to grow ab so steep and'},\n",
      "                       {   'transcript': 'the boy was there when the sun was a '\n",
      "                                         'wire is used to getting payment '\n",
      "                                         'newspaper is aqueous plane or '\n",
      "                                         'straight empowered to how to get '\n",
      "                                         'that Hasee Toh Phasee evening Smoky '\n",
      "                                         \"pirate's life flimhit 2 solved \"\n",
      "                                         'question paper of the Mayans bol do '\n",
      "                                         'so please come across from the same '\n",
      "                                         'to grow ab so steep and'},\n",
      "                       {   'transcript': 'the boy was there when the sun was a '\n",
      "                                         'wire is used to getting payment '\n",
      "                                         'newspaper is aqueous plane or '\n",
      "                                         'straight empowered to how to get '\n",
      "                                         'that Hasee Toh Phasee evening smokey '\n",
      "                                         \"pirate's life flimhit to solve \"\n",
      "                                         'question paper of the Mayans bol do '\n",
      "                                         'so please come across from the same '\n",
      "                                         'to grow ab so steep and'},\n",
      "                       {   'transcript': 'the boy was there when the sun was a '\n",
      "                                         'wire is used to getting payment '\n",
      "                                         'newspaper is aqueous playing it to '\n",
      "                                         'postraid empowered to how to get '\n",
      "                                         'that Hasee Toh Phasee evening Smoky '\n",
      "                                         \"pirate's life flimhit to solve \"\n",
      "                                         \"question paper of the man's bol do \"\n",
      "                                         'so please come across from the same '\n",
      "                                         'to grow ab so steep and'}],\n",
      "    'final': True}\n",
      "audio-chunks\\chunk1.wav : The boy was there when the sun was a wire is used to getting payment newspaper is aqueous plane or straight empowered to how to get that hasee toh phasee evening smoky pirate's life flimhit to solve question paper of the mayans bol do so please come across from the same to grow ab so steep and. \n",
      "\n",
      "Full text: The boy was there when the sun was a wire is used to getting payment newspaper is aqueous plane or straight empowered to how to get that hasee toh phasee evening smoky pirate's life flimhit to solve question paper of the mayans bol do so please come across from the same to grow ab so steep and. \n"
     ]
    }
   ],
   "source": [
    "path = \"machine-learning_speech-recognition.wav\"\n",
    "print(\"\\nFull text:\", get_large_audio_transcription(path))"
   ]
  }
 ],
 "metadata": {
  "kernelspec": {
   "display_name": "Python 3 (ipykernel)",
   "language": "python",
   "name": "python3"
  },
  "language_info": {
   "codemirror_mode": {
    "name": "ipython",
    "version": 3
   },
   "file_extension": ".py",
   "mimetype": "text/x-python",
   "name": "python",
   "nbconvert_exporter": "python",
   "pygments_lexer": "ipython3",
   "version": "3.9.13"
  }
 },
 "nbformat": 4,
 "nbformat_minor": 5
}
