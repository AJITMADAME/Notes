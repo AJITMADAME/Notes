{
  "nbformat": 4,
  "nbformat_minor": 0,
  "metadata": {
    "colab": {
      "provenance": []
    },
    "kernelspec": {
      "name": "python3",
      "display_name": "Python 3"
    },
    "language_info": {
      "name": "python"
    }
  },
  "cells": [
    {
      "cell_type": "markdown",
      "source": [
        "# Text Preprocessing\n",
        "\n",
        "Suppose we have textual data available, we need to apply many of preprocessing steps to the data to transform those words into numerical features that works with machine learning algorithms.\n",
        "\n",
        "The pre-processing steps for the problem depend mainly on the domain and the problem itself. We don't need to apply all the steps for every problem.\n",
        "\n",
        "Here, we're going to see text preprocessing in Python. We'll use NLTK(Natural Language ToolKit) library here."
      ],
      "metadata": {
        "id": "-hl2acIZ8UeQ"
      }
    },
    {
      "cell_type": "code",
      "source": [
        "# Import necessary libraries\n",
        "import nltk\n",
        "import string\n",
        "import re"
      ],
      "metadata": {
        "id": "BLqVz4jn8SIX"
      },
      "execution_count": 2,
      "outputs": []
    },
    {
      "cell_type": "markdown",
      "source": [
        "### Text Lowercase\n",
        "\n",
        "We do lowercase the text to reduce the size of the vocabulary of our text data."
      ],
      "metadata": {
        "id": "xCuVUoc_8e6P"
      }
    },
    {
      "cell_type": "code",
      "source": [
        "def lowercase_text(text):\n",
        "    return text.lower()\n",
        "\n",
        "\n",
        "input_str = \"Weather is too Cloudy.Possiblity of Rain is High,Today!!\"\n",
        "lowercase_text(input_str)"
      ],
      "metadata": {
        "colab": {
          "base_uri": "https://localhost:8080/",
          "height": 35
        },
        "id": "NVw_QlRd8i8Z",
        "outputId": "734e5299-9ad4-4d4a-9558-006c536727a2"
      },
      "execution_count": 3,
      "outputs": [
        {
          "output_type": "execute_result",
          "data": {
            "text/plain": [
              "'weather is too cloudy.possiblity of rain is high,today!!'"
            ],
            "application/vnd.google.colaboratory.intrinsic+json": {
              "type": "string"
            }
          },
          "metadata": {},
          "execution_count": 3
        }
      ]
    },
    {
      "cell_type": "markdown",
      "source": [
        "### Remove numbers\n",
        "\n",
        "We should either remove the numbers or convert those numbers into textual representations. We use regular expressions(re) to remove the numbers."
      ],
      "metadata": {
        "id": "TFuih37I8q_3"
      }
    },
    {
      "cell_type": "code",
      "source": [
        "# For Removing Numbers\n",
        "def remove_num(text):\n",
        "    result = re.sub(r'\\d+', '', text)\n",
        "    return result\n",
        "\n",
        "\n",
        "input_str = \"You bought 6 candies from shop, and 4 candies are in home.\"\n",
        "remove_num(input_str)"
      ],
      "metadata": {
        "colab": {
          "base_uri": "https://localhost:8080/",
          "height": 35
        },
        "id": "RoTbnRuj8jCB",
        "outputId": "beb8aae9-d293-40d5-f0b6-d450a3ecf82b"
      },
      "execution_count": 4,
      "outputs": [
        {
          "output_type": "execute_result",
          "data": {
            "text/plain": [
              "'You bought  candies from shop, and  candies are in home.'"
            ],
            "application/vnd.google.colaboratory.intrinsic+json": {
              "type": "string"
            }
          },
          "metadata": {},
          "execution_count": 4
        }
      ]
    },
    {
      "cell_type": "markdown",
      "source": [
        "As we mentioned above, you can also convert the numbers into words. This could be done by using the inflect."
      ],
      "metadata": {
        "id": "tJcV40rO84NY"
      }
    },
    {
      "cell_type": "code",
      "source": [
        "!pip install inflect"
      ],
      "metadata": {
        "colab": {
          "base_uri": "https://localhost:8080/"
        },
        "id": "WWhQrExI8jHd",
        "outputId": "efa08d58-f782-4db5-beb5-442443f6beed"
      },
      "execution_count": 5,
      "outputs": [
        {
          "output_type": "stream",
          "name": "stdout",
          "text": [
            "Looking in indexes: https://pypi.org/simple, https://us-python.pkg.dev/colab-wheels/public/simple/\n",
            "Requirement already satisfied: inflect in /usr/local/lib/python3.8/dist-packages (2.1.0)\n"
          ]
        }
      ]
    },
    {
      "cell_type": "code",
      "source": [
        "# Import the Library\n",
        "import inflect\n",
        "q = inflect.engine()\n",
        "\n",
        "# convert number into text\n",
        "def convert_num(text):\n",
        "    # split string into list of text\n",
        "    temp_string = text.split()\n",
        "    # initialise empty list\n",
        "    new_str = []\n",
        "    \n",
        "    for word in temp_string:\n",
        "        # if text is a digit, convert the digit\n",
        "        # to numbers and append into the new_str list\n",
        "        \n",
        "        if word.isdigit():\n",
        "            temp = q.number_to_words(word)\n",
        "            new_str.append(temp)\n",
        "            \n",
        "        # append the texts as it is\n",
        "        else:\n",
        "            new_str.append(word)\n",
        "    # join the texts of new str to form a string\n",
        "    temp_str = ' '.join(new_str)\n",
        "    return temp_str\n",
        "\n",
        "\n",
        "input_str = \"You bought 6 candies from shop, and 4 candies are in home.\"\n",
        "convert_num(input_str)"
      ],
      "metadata": {
        "colab": {
          "base_uri": "https://localhost:8080/",
          "height": 35
        },
        "id": "eflQbXMB8jKX",
        "outputId": "5d3396fb-833d-47be-f4f0-c5d82d7e3433"
      },
      "execution_count": 6,
      "outputs": [
        {
          "output_type": "execute_result",
          "data": {
            "text/plain": [
              "'You bought six candies from shop, and four candies are in home.'"
            ],
            "application/vnd.google.colaboratory.intrinsic+json": {
              "type": "string"
            }
          },
          "metadata": {},
          "execution_count": 6
        }
      ]
    },
    {
      "cell_type": "code",
      "source": [
        "### Remove Punctuation\n",
        "def rem_punct(text):\n",
        "    translator = str.maketrans('', '', string.punctuation)\n",
        "    return text.translate(translator)\n",
        "\n",
        "input_str = \"Hey, Are you excited??, After a week, we will be in Shimla!!!\"\n",
        "rem_punct(input_str)"
      ],
      "metadata": {
        "colab": {
          "base_uri": "https://localhost:8080/",
          "height": 35
        },
        "id": "G6A4OuXM8jM5",
        "outputId": "da6cf72f-d18c-493c-e7c3-18d5134d63db"
      },
      "execution_count": 7,
      "outputs": [
        {
          "output_type": "execute_result",
          "data": {
            "text/plain": [
              "'Hey Are you excited After a week we will be in Shimla'"
            ],
            "application/vnd.google.colaboratory.intrinsic+json": {
              "type": "string"
            }
          },
          "metadata": {},
          "execution_count": 7
        }
      ]
    },
    {
      "cell_type": "code",
      "source": [
        "string.punctuation"
      ],
      "metadata": {
        "colab": {
          "base_uri": "https://localhost:8080/",
          "height": 35
        },
        "id": "aV40qCSz8jPx",
        "outputId": "3e76408a-2e69-4033-a8ac-b8dc3983ad86"
      },
      "execution_count": 8,
      "outputs": [
        {
          "output_type": "execute_result",
          "data": {
            "text/plain": [
              "'!\"#$%&\\'()*+,-./:;<=>?@[\\\\]^_`{|}~'"
            ],
            "application/vnd.google.colaboratory.intrinsic+json": {
              "type": "string"
            }
          },
          "metadata": {},
          "execution_count": 8
        }
      ]
    },
    {
      "cell_type": "markdown",
      "source": [
        "### Remove default stopwords:\n",
        "\n",
        "Stopwords are words that do not contribute to the meaning of the sentence. Hence, they can be safely removed without causing any change in the meaning of a sentence. The NLTK(Natural Language Toolkit) library has the set of stopwords and we can use these to remove stopwords from our text and return a list of word tokens."
      ],
      "metadata": {
        "id": "x0VY1D3f9RLo"
      }
    },
    {
      "cell_type": "code",
      "source": [
        "# importing nlkt library\n",
        "from nltk.corpus import stopwords\n",
        "from nltk.tokenize import word_tokenize\n",
        "\n",
        "nltk.download('stopwords')\n",
        "nltk.download('punkt')"
      ],
      "metadata": {
        "colab": {
          "base_uri": "https://localhost:8080/"
        },
        "id": "U7q7DBZn8jVK",
        "outputId": "b905e382-8cb5-44f0-afcb-7e678b69a2bd"
      },
      "execution_count": 9,
      "outputs": [
        {
          "output_type": "stream",
          "name": "stderr",
          "text": [
            "[nltk_data] Downloading package stopwords to /root/nltk_data...\n",
            "[nltk_data]   Unzipping corpora/stopwords.zip.\n",
            "[nltk_data] Downloading package punkt to /root/nltk_data...\n",
            "[nltk_data]   Unzipping tokenizers/punkt.zip.\n"
          ]
        },
        {
          "output_type": "execute_result",
          "data": {
            "text/plain": [
              "True"
            ]
          },
          "metadata": {},
          "execution_count": 9
        }
      ]
    },
    {
      "cell_type": "code",
      "source": [
        "# remove stopwords function\n",
        "def rem_stopwords(text):\n",
        "    stop_words = set(stopwords.words('english'))\n",
        "    word_tokens = word_tokenize(text)\n",
        "    filtered_text = [word for word in word_tokens if word not in string.punctuation]\n",
        "    filtered_text = [word for word in filtered_text if word not in stop_words]\n",
        "    return filtered_text\n",
        "\n",
        "\n",
        "ex_text = \"Data is the new oil. A.I is the last invention\"\n",
        "rem_stopwords(ex_text)"
      ],
      "metadata": {
        "colab": {
          "base_uri": "https://localhost:8080/"
        },
        "id": "SN9kv8B38jX5",
        "outputId": "70233611-eec3-4d51-a736-2c861302ff9a"
      },
      "execution_count": 10,
      "outputs": [
        {
          "output_type": "execute_result",
          "data": {
            "text/plain": [
              "['Data', 'new', 'oil', 'A.I', 'last', 'invention']"
            ]
          },
          "metadata": {},
          "execution_count": 10
        }
      ]
    },
    {
      "cell_type": "markdown",
      "source": [
        "### Stemming\n",
        "\n",
        "From Stemming we will process of getting the root from of a word. Root or Stem is the part to which inflextional affixes(like -ed, -ize, etc) are added. We  would create the stem words by removing the pefix of a word. So, stemming a word may not result in actual words.\n",
        "\n",
        "Boys ----> Boy\n",
        "\n",
        "going ---> go\n",
        "\n",
        "If our sentences are not in tokens, then we need to convert it into tokens. After we converting strings of text into tokens, then we can convert those word tokens into their root from. These are the Porter stemmer, the snowball stemmer, and the Lancaster. We usually use Porter stemmer among them.\n"
      ],
      "metadata": {
        "id": "CAJImVhU9eBq"
      }
    },
    {
      "cell_type": "code",
      "source": [
        "# importing nltk's porter stemmer\n",
        "from nltk.stem.porter import PorterStemmer\n",
        "from nltk.tokenize import word_tokenize\n",
        "steml = PorterStemmer()\n",
        "\n",
        "# stem words in the list of tokenised words\n",
        "def s_words(text):\n",
        "    word_tokens = word_tokenize(text)\n",
        "    stems = [steml.stem(word) for word in word_tokens]\n",
        "    return stems\n",
        "\n",
        "text = 'Data is the new revolution in the word, in a day one individual would generate terabytes of data'\n",
        "s_words(text)"
      ],
      "metadata": {
        "colab": {
          "base_uri": "https://localhost:8080/"
        },
        "id": "Uk-wBtTv8jdm",
        "outputId": "46305ded-fb0d-497f-ea25-2f854b3cfe5a"
      },
      "execution_count": 11,
      "outputs": [
        {
          "output_type": "execute_result",
          "data": {
            "text/plain": [
              "['data',\n",
              " 'is',\n",
              " 'the',\n",
              " 'new',\n",
              " 'revolut',\n",
              " 'in',\n",
              " 'the',\n",
              " 'word',\n",
              " ',',\n",
              " 'in',\n",
              " 'a',\n",
              " 'day',\n",
              " 'one',\n",
              " 'individu',\n",
              " 'would',\n",
              " 'gener',\n",
              " 'terabyt',\n",
              " 'of',\n",
              " 'data']"
            ]
          },
          "metadata": {},
          "execution_count": 11
        }
      ]
    },
    {
      "cell_type": "markdown",
      "source": [
        "### Lemmatization\n",
        "\n",
        "As stemming, lemmantization do the same but the only difference is that lemmatization ensurea that root word belongs to the language. Because of the use of lemmatization we will get the valid words. In NLTK,we use WordLennatizer to get the lemmas of words. We also need to provide a context for the lemmatixzation. So, we added pos(parts-of-speech) as a parameter."
      ],
      "metadata": {
        "id": "WQA7uPY_9obp"
      }
    },
    {
      "cell_type": "code",
      "source": [
        "from nltk.stem import wordnet\n",
        "from nltk.tokenize import word_tokenize\n",
        "lemma = wordnet.WordNetLemmatizer()\n",
        "nltk.download('wordnet')\n",
        "# lemmatize string\n",
        "#lemmatize string\n",
        "def lemmatize_word(text):\n",
        "    word_tokens = word_tokenize(text)\n",
        "    # provide context i.e. part of speech(pos)\n",
        "    lemmas = [lemma.lemmatize(word, pos='v') for word in word_tokens]\n",
        "    return lemmas\n",
        "\n",
        "\n",
        "text = 'Data is the new revolution in the word, in a day one individual would generate terabytes of data'\n",
        "lemmatize_word(text)"
      ],
      "metadata": {
        "colab": {
          "base_uri": "https://localhost:8080/"
        },
        "id": "bArennrC8jjF",
        "outputId": "720851d0-2755-49a3-c495-d650bd4ce112"
      },
      "execution_count": 14,
      "outputs": [
        {
          "output_type": "stream",
          "name": "stderr",
          "text": [
            "[nltk_data] Downloading package wordnet to /root/nltk_data...\n",
            "[nltk_data]   Package wordnet is already up-to-date!\n"
          ]
        },
        {
          "output_type": "execute_result",
          "data": {
            "text/plain": [
              "['Data',\n",
              " 'be',\n",
              " 'the',\n",
              " 'new',\n",
              " 'revolution',\n",
              " 'in',\n",
              " 'the',\n",
              " 'word',\n",
              " ',',\n",
              " 'in',\n",
              " 'a',\n",
              " 'day',\n",
              " 'one',\n",
              " 'individual',\n",
              " 'would',\n",
              " 'generate',\n",
              " 'terabytes',\n",
              " 'of',\n",
              " 'data']"
            ]
          },
          "metadata": {},
          "execution_count": 14
        }
      ]
    },
    {
      "cell_type": "code",
      "source": [
        "import nltk\n",
        "nltk.download('omw-1.4')"
      ],
      "metadata": {
        "colab": {
          "base_uri": "https://localhost:8080/"
        },
        "id": "VLg8UMID8jlv",
        "outputId": "e1896cce-7d9c-401f-be7a-0163ff2383e6"
      },
      "execution_count": 13,
      "outputs": [
        {
          "output_type": "stream",
          "name": "stderr",
          "text": [
            "[nltk_data] Downloading package omw-1.4 to /root/nltk_data...\n"
          ]
        },
        {
          "output_type": "execute_result",
          "data": {
            "text/plain": [
              "True"
            ]
          },
          "metadata": {},
          "execution_count": 13
        }
      ]
    },
    {
      "cell_type": "markdown",
      "source": [
        "### Part of Speech(POS) Tagging\n",
        "\n",
        "The POS explain you how a word is used in asentence. In the sentence, a word have different contexts and semantic meanings. The basis natural language preprocessing(NLP) models like bag-of-words(bow) fails to identify these  relation the words. For that we use pos tagging to mark a word to its pos tag based on its context in the data. POS is also used to extract relationship between the words."
      ],
      "metadata": {
        "id": "BqMLrOZl96eR"
      }
    },
    {
      "cell_type": "code",
      "source": [
        "import nltk\n",
        "nltk.download('averaged_perceptron_tagger')"
      ],
      "metadata": {
        "colab": {
          "base_uri": "https://localhost:8080/"
        },
        "id": "WXFlaXX28joi",
        "outputId": "2958cf51-041a-45cb-d573-96756df7863e"
      },
      "execution_count": 15,
      "outputs": [
        {
          "output_type": "stream",
          "name": "stderr",
          "text": [
            "[nltk_data] Downloading package averaged_perceptron_tagger to\n",
            "[nltk_data]     /root/nltk_data...\n",
            "[nltk_data]   Unzipping taggers/averaged_perceptron_tagger.zip.\n"
          ]
        },
        {
          "output_type": "execute_result",
          "data": {
            "text/plain": [
              "True"
            ]
          },
          "metadata": {},
          "execution_count": 15
        }
      ]
    },
    {
      "cell_type": "code",
      "source": [
        "# importing tokenize library\n",
        "from nltk.tokenize import word_tokenize\n",
        "from nltk import pos_tag\n",
        "nltk.download('averaged_perceptron_tagger')\n",
        "\n",
        "# convert text into word_token with their tags\n",
        "def pos_tagg(text):\n",
        "    word_tokens = word_tokenize(text)\n",
        "    return pos_tag(word_tokens)\n",
        "\n",
        "pos_tagg('Are you afraid of something?')"
      ],
      "metadata": {
        "colab": {
          "base_uri": "https://localhost:8080/"
        },
        "id": "j5CL0tvF8jrL",
        "outputId": "c6c4dbd2-131c-4b7c-9db4-def18ac0e691"
      },
      "execution_count": 16,
      "outputs": [
        {
          "output_type": "stream",
          "name": "stderr",
          "text": [
            "[nltk_data] Downloading package averaged_perceptron_tagger to\n",
            "[nltk_data]     /root/nltk_data...\n",
            "[nltk_data]   Package averaged_perceptron_tagger is already up-to-\n",
            "[nltk_data]       date!\n"
          ]
        },
        {
          "output_type": "execute_result",
          "data": {
            "text/plain": [
              "[('Are', 'NNP'),\n",
              " ('you', 'PRP'),\n",
              " ('afraid', 'IN'),\n",
              " ('of', 'IN'),\n",
              " ('something', 'NN'),\n",
              " ('?', '.')]"
            ]
          },
          "metadata": {},
          "execution_count": 16
        }
      ]
    },
    {
      "cell_type": "code",
      "source": [
        "# downloading the tarset\n",
        "nltk.download('tagsets')\n",
        "\n",
        "# extract information about the tag\n",
        "nltk.help.upenn_tagset('PRP')"
      ],
      "metadata": {
        "colab": {
          "base_uri": "https://localhost:8080/"
        },
        "id": "PPyXcfR98jtw",
        "outputId": "b189dc64-a15b-4605-cebe-6b581a588db2"
      },
      "execution_count": 19,
      "outputs": [
        {
          "output_type": "stream",
          "name": "stdout",
          "text": [
            "PRP: pronoun, personal\n",
            "    hers herself him himself hisself it itself me myself one oneself ours\n",
            "    ourselves ownself self she thee theirs them themselves they thou thy us\n"
          ]
        },
        {
          "output_type": "stream",
          "name": "stderr",
          "text": [
            "[nltk_data] Downloading package tagsets to /root/nltk_data...\n",
            "[nltk_data]   Package tagsets is already up-to-date!\n"
          ]
        }
      ]
    },
    {
      "cell_type": "markdown",
      "source": [
        "### Chunking\n",
        "\n",
        "Chunking is the process of extracting phrases from the Unstructured text and give them more structure to it. We also called them shallow parsing. We can do it on top of pos tagging. It groups words into chunks mainly for noun phrases. Chunking we do by using regular expression.\n"
      ],
      "metadata": {
        "id": "o2MsSWKv-mcz"
      }
    },
    {
      "cell_type": "code",
      "source": [
        "# importing libraries\n",
        "from nltk.tokenize import word_tokenize\n",
        "from nltk import pos_tag\n",
        "\n",
        "# here we define chunking function with text and rwegular\n",
        "# expression respresenting grammer as parameter\n",
        "def chunking(text, grammar):\n",
        "    word_tokens = word_tokenize(text)\n",
        "    \n",
        "    # label words with pos\n",
        "    word_pos = pos_tag(word_tokens)\n",
        "    \n",
        "    # create chunk parser using grammar\n",
        "    chunkParser = nltk.RegexpParser(grammar)\n",
        "    \n",
        "    # text it on the list of word token with tagged pos\n",
        "    tree = chunkParser.parse(word_pos)\n",
        "    \n",
        "    for subtree in tree.subtrees():\n",
        "        print(subtree)\n",
        "    # tree.draw()\n",
        "    \n",
        "\n",
        "sentence = 'the little re parrot is flying in the sky'\n",
        "grammar = \"NP: {<DT>?<JJ>*<NN>}\"\n",
        "chunking(sentence, grammar)"
      ],
      "metadata": {
        "colab": {
          "base_uri": "https://localhost:8080/"
        },
        "id": "0tT4XDPj8jwi",
        "outputId": "4a168cc4-ba03-449a-c381-0c391e57074a"
      },
      "execution_count": 20,
      "outputs": [
        {
          "output_type": "stream",
          "name": "stdout",
          "text": [
            "(S\n",
            "  (NP the/DT little/JJ re/JJ parrot/NN)\n",
            "  is/VBZ\n",
            "  flying/VBG\n",
            "  in/IN\n",
            "  (NP the/DT sky/NN))\n",
            "(NP the/DT little/JJ re/JJ parrot/NN)\n",
            "(NP the/DT sky/NN)\n"
          ]
        }
      ]
    },
    {
      "cell_type": "markdown",
      "source": [
        "### Named Entity Recognition\n",
        "\n",
        "It is used to extract information from unstructured text. It is used to classy which is present in the text into categories like a person, organization, event, places, etc. This will give you a details knowledge about the text and the relationship between the difference entities."
      ],
      "metadata": {
        "id": "9Nv7hDI5-5v_"
      }
    },
    {
      "cell_type": "code",
      "source": [
        "# Importing tokenization and chunk\n",
        "from nltk.tokenize import word_tokenize\n",
        "from nltk import pos_tag, ne_chunk\n",
        "nltk.download('maxent_ne_chunker')\n",
        "nltk.download('words')\n",
        "\n",
        "def ner(text):\n",
        "  # tokenize the text\n",
        "  word_tokens = word_tokenize(text)\n",
        "\n",
        "  # pos tagging of words\n",
        "  word_pos = pos_tag(word_tokens)\n",
        "\n",
        "  #tree of word entities\n",
        "  print(ne_chunk(word_pos))\n",
        "\n",
        "\n",
        "text = 'Brain Lara scored the highest 400 runs in a test match which played in between WI and England.'\n",
        "ner(text)"
      ],
      "metadata": {
        "colab": {
          "base_uri": "https://localhost:8080/"
        },
        "id": "Mrz88pIZ8jzP",
        "outputId": "df95bbc9-4289-4bb7-e04e-c8461c9c4def"
      },
      "execution_count": 21,
      "outputs": [
        {
          "output_type": "stream",
          "name": "stderr",
          "text": [
            "[nltk_data] Downloading package maxent_ne_chunker to\n",
            "[nltk_data]     /root/nltk_data...\n",
            "[nltk_data]   Unzipping chunkers/maxent_ne_chunker.zip.\n",
            "[nltk_data] Downloading package words to /root/nltk_data...\n"
          ]
        },
        {
          "output_type": "stream",
          "name": "stdout",
          "text": [
            "(S\n",
            "  (PERSON Brain/NNP)\n",
            "  (PERSON Lara/NNP)\n",
            "  scored/VBD\n",
            "  the/DT\n",
            "  highest/JJS\n",
            "  400/CD\n",
            "  runs/NNS\n",
            "  in/IN\n",
            "  a/DT\n",
            "  test/NN\n",
            "  match/NN\n",
            "  which/WDT\n",
            "  played/VBD\n",
            "  in/IN\n",
            "  between/IN\n",
            "  (ORGANIZATION WI/NNP)\n",
            "  and/CC\n",
            "  (GPE England/NNP)\n",
            "  ./.)\n"
          ]
        },
        {
          "output_type": "stream",
          "name": "stderr",
          "text": [
            "[nltk_data]   Unzipping corpora/words.zip.\n"
          ]
        }
      ]
    },
    {
      "cell_type": "markdown",
      "source": [
        "### RegEx \n",
        "\n",
        "import re\n",
        "\n",
        "- re library in Python is used for string searching and manipulation.\n",
        "- We also used it frequently for web scraping"
      ],
      "metadata": {
        "id": "YMB1zUUiAv3P"
      }
    },
    {
      "cell_type": "code",
      "source": [
        "import re\n",
        "sent = \"dataset, Data is a new fuel\"\n",
        "r2 = re.findall(r\"^\\w+\",sent)\n",
        "print(r2)"
      ],
      "metadata": {
        "colab": {
          "base_uri": "https://localhost:8080/"
        },
        "id": "v3sM1hbD-0Ja",
        "outputId": "d59fe15f-0649-44ec-fa81-8e01ec1270d3"
      },
      "execution_count": 22,
      "outputs": [
        {
          "output_type": "stream",
          "name": "stdout",
          "text": [
            "['dataset']\n"
          ]
        }
      ]
    },
    {
      "cell_type": "markdown",
      "source": [
        "- Note: If we remove '+' sign from 'w. the output will change and it will give only first character of the first letter, i.e[i]\n",
        "\n",
        "#### Example of \\s ex[ression in re.split function\n",
        "- \"s.\" This expression we use for creating a space in the string.\n",
        "\n",
        "To understand better this expression we will use the split function in a sample example. In this example, we have to split each words using the \"re.split\" function and at the same time we have used \\s that allows to parse each word in the string seperately."
      ],
      "metadata": {
        "id": "YwmuaRVDBr2m"
      }
    },
    {
      "cell_type": "code",
      "source": [
        "import re\n",
        "\n",
        "print((re.split(r'\\s','We splited this sentence')))"
      ],
      "metadata": {
        "colab": {
          "base_uri": "https://localhost:8080/"
        },
        "id": "kVSXiolw-0MT",
        "outputId": "1b133560-e6c2-4c6a-a843-3fb67915aec8"
      },
      "execution_count": 23,
      "outputs": [
        {
          "output_type": "stream",
          "name": "stdout",
          "text": [
            "['We', 'splited', 'this', 'sentence']\n"
          ]
        }
      ]
    },
    {
      "cell_type": "markdown",
      "source": [
        "As we can see above we got the output ['We','splited','this','sentence'] but what if we remove'\\' from '\\s'. it will give result like remove 's' from the entire sentence."
      ],
      "metadata": {
        "id": "dPTAytYEC0R2"
      }
    },
    {
      "cell_type": "code",
      "source": [
        "import re\n",
        "\n",
        "print((re.split(r's', 'We splited this sentence')))"
      ],
      "metadata": {
        "colab": {
          "base_uri": "https://localhost:8080/"
        },
        "id": "2Vn9x4Pz-0O3",
        "outputId": "2db5cbf1-8fbf-43fd-ae5c-09868de7f76a"
      },
      "execution_count": 24,
      "outputs": [
        {
          "output_type": "stream",
          "name": "stdout",
          "text": [
            "['We ', 'plited thi', ' ', 'entence']\n"
          ]
        }
      ]
    },
    {
      "cell_type": "markdown",
      "source": [
        "### Use RegEx methods\n",
        "The re packages provide several methods to actually perform queries on an input string. We will see different methods which are \n",
        "\n",
        "    re.match()\n",
        "    re.search()\n",
        "    re.findall()\n",
        "\n",
        "    "
      ],
      "metadata": {
        "id": "rvlrTOpSDZD2"
      }
    },
    {
      "cell_type": "markdown",
      "source": [
        "### Using re.match()\n",
        "\n",
        "The match function is used to match the RegEx pattern to string with optional flag. Here, is this \"W+\" and \"\\W\" will match the words starting from 'i' and thereafter, anything which is not started with 'i' is not identified. For checking match for elements in the list or string, we run the loop."
      ],
      "metadata": {
        "id": "_fnmXxjqD5ll"
      }
    },
    {
      "cell_type": "code",
      "source": [
        "import re\n",
        "\n",
        "lists = ['icecream images', 'i immitated', 'inner peace']\n",
        "\n",
        "for i in lists:\n",
        "  q = re.match(\"(i\\w+)\\W(i\\w+)\", i)\n",
        "\n",
        "  if q:\n",
        "    print((q.groups()))"
      ],
      "metadata": {
        "colab": {
          "base_uri": "https://localhost:8080/"
        },
        "id": "w_xtaMZ1-0Ui",
        "outputId": "781aa32f-b845-4c2d-f261-ae83bd4be992"
      },
      "execution_count": 29,
      "outputs": [
        {
          "output_type": "stream",
          "name": "stdout",
          "text": [
            "('icecream', 'images')\n"
          ]
        }
      ]
    },
    {
      "cell_type": "markdown",
      "source": [
        "### Use re.search()\n",
        "\n",
        "A RegEx is commonly used to search for a pattern in the text. This methods takes a RegEx pattern and a string and searches that pattern with the using.\n",
        "\n",
        " For using re.search() function you need to import re first. The search() function takes the pattern and text to scan from our given string and retruns the match object when the pattern found or else or not match."
      ],
      "metadata": {
        "id": "fxSASI5jJ6bo"
      }
    },
    {
      "cell_type": "code",
      "source": [
        "import re\n",
        "\n",
        "pattern = [\"playing\",\"dataset\"]\n",
        "text = \"Raju is playing outside.\"\n",
        "\n",
        "for p in pattern:\n",
        "  print(\"You're looking for '%s' in '%s'\" %(p, text), end=' ')\n",
        "\n",
        "  if re.search(p, text):\n",
        "    print('Found match!')\n",
        "\n",
        "  else:\n",
        "    print('no match found!')"
      ],
      "metadata": {
        "colab": {
          "base_uri": "https://localhost:8080/"
        },
        "id": "ByDbWyZt-0XI",
        "outputId": "98a49920-98b0-4d75-bddd-ff52f5a61616"
      },
      "execution_count": 32,
      "outputs": [
        {
          "output_type": "stream",
          "name": "stdout",
          "text": [
            "You're looking for 'playing' in 'Raju is playing outside.' Found match!\n",
            "You're looking for 'dataset' in 'Raju is playing outside.' no match found!\n"
          ]
        }
      ]
    },
    {
      "cell_type": "markdown",
      "source": [
        "### Use re.findall()\n",
        "\n",
        "We use re.findall() module is when you want to iterate over the line of the file, it'll do like list all the matches in one go. Here in a example, we  would like to fetch email address from the list and we want all emails from lists, we use re.findall() method."
      ],
      "metadata": {
        "id": "fLyFbRPpMHCR"
      }
    },
    {
      "cell_type": "code",
      "source": [
        "import re\n",
        "\n",
        "kgf = \"Abc@gmail.com, XYX@gmail.com, lmn#gmail.com, efg@gmail.com\"\n",
        "\n",
        "emails = re.findall(r'[\\w\\.]+@[\\w\\.]+', kgf)\n",
        "\n",
        "for e in emails:\n",
        "  print(e)"
      ],
      "metadata": {
        "colab": {
          "base_uri": "https://localhost:8080/"
        },
        "id": "Ygakj0ss-0Zw",
        "outputId": "0affae88-c33b-4aed-a08b-0a42a6f3e096"
      },
      "execution_count": 33,
      "outputs": [
        {
          "output_type": "stream",
          "name": "stdout",
          "text": [
            "Abc@gmail.com\n",
            "XYX@gmail.com\n",
            "efg@gmail.com\n"
          ]
        }
      ]
    },
    {
      "cell_type": "markdown",
      "source": [
        "## Text Normalization\n",
        "\n",
        "In the text pre-processing highly overlooked step is text normalization. The text normalization means the process of transforming the text into the canonical(or standard) from. Like \"ok\" and \"k\" can be transformed to \"okay\". its canonical form. And another example is mapping of  near identical words such as \"preprocessing\", \"pre-processing\" and \"pre processing\" to just \"preprocessing\".\n",
        "### Later Undertands this."
      ],
      "metadata": {
        "id": "k5q84zaMT-N1"
      }
    },
    {
      "cell_type": "markdown",
      "source": [
        "## TOKENIZERS\n",
        "\n",
        "#### NLTK"
      ],
      "metadata": {
        "id": "zRqa7Gc4WW9o"
      }
    },
    {
      "cell_type": "code",
      "source": [
        "!pip install --user -U nltk"
      ],
      "metadata": {
        "colab": {
          "base_uri": "https://localhost:8080/"
        },
        "id": "N6acms1a-0cd",
        "outputId": "8d1b38c8-6e7b-4bfc-d3cc-93ef45db1d1f"
      },
      "execution_count": 34,
      "outputs": [
        {
          "output_type": "stream",
          "name": "stdout",
          "text": [
            "Looking in indexes: https://pypi.org/simple, https://us-python.pkg.dev/colab-wheels/public/simple/\n",
            "Requirement already satisfied: nltk in /usr/local/lib/python3.8/dist-packages (3.7)\n",
            "Requirement already satisfied: regex>=2021.8.3 in /usr/local/lib/python3.8/dist-packages (from nltk) (2022.6.2)\n",
            "Requirement already satisfied: click in /usr/local/lib/python3.8/dist-packages (from nltk) (7.1.2)\n",
            "Requirement already satisfied: tqdm in /usr/local/lib/python3.8/dist-packages (from nltk) (4.64.1)\n",
            "Requirement already satisfied: joblib in /usr/local/lib/python3.8/dist-packages (from nltk) (1.2.0)\n"
          ]
        }
      ]
    },
    {
      "cell_type": "code",
      "source": [
        "from nltk.tokenize.regexp import WhitespaceTokenizer\n",
        "m = \"'There is no need to panic. We need to work together, take small yet important measures to ensure self-protection the Prime Minister tweeted'\""
      ],
      "metadata": {
        "id": "IYHJasZBT8tH"
      },
      "execution_count": 39,
      "outputs": []
    },
    {
      "cell_type": "code",
      "source": [
        "from nltk.tokenize import word_tokenize\n",
        "text = \"\"\"Founded in 2002, SpaceX's mission is to enable humans to become a spacefaring civilization and multi-planet \n",
        "species by building a self-sustaining city on Marsh. In 2008, SpaceX's Falcon l became the first privately developed\n",
        "liquid-fuel launch vehicle to orbit the Earth.\"\"\"\n",
        "\n",
        "word_tokenize(text)"
      ],
      "metadata": {
        "colab": {
          "base_uri": "https://localhost:8080/"
        },
        "id": "XKEbZCBpT8wb",
        "outputId": "883a9235-c4bb-468f-f9db-015e9237eab7"
      },
      "execution_count": 37,
      "outputs": [
        {
          "output_type": "execute_result",
          "data": {
            "text/plain": [
              "['Founded',\n",
              " 'in',\n",
              " '2002',\n",
              " ',',\n",
              " 'SpaceX',\n",
              " \"'s\",\n",
              " 'mission',\n",
              " 'is',\n",
              " 'to',\n",
              " 'enable',\n",
              " 'humans',\n",
              " 'to',\n",
              " 'become',\n",
              " 'a',\n",
              " 'spacefaring',\n",
              " 'civilization',\n",
              " 'and',\n",
              " 'multi-planet',\n",
              " 'species',\n",
              " 'by',\n",
              " 'building',\n",
              " 'a',\n",
              " 'self-sustaining',\n",
              " 'city',\n",
              " 'on',\n",
              " 'Marsh',\n",
              " '.',\n",
              " 'In',\n",
              " '2008',\n",
              " ',',\n",
              " 'SpaceX',\n",
              " \"'s\",\n",
              " 'Falcon',\n",
              " 'l',\n",
              " 'became',\n",
              " 'the',\n",
              " 'first',\n",
              " 'privately',\n",
              " 'developed',\n",
              " 'liquid-fuel',\n",
              " 'launch',\n",
              " 'vehicle',\n",
              " 'to',\n",
              " 'orbit',\n",
              " 'the',\n",
              " 'Earth',\n",
              " '.']"
            ]
          },
          "metadata": {},
          "execution_count": 37
        }
      ]
    },
    {
      "cell_type": "markdown",
      "source": [
        "- Note- in the above we had used a sligtly different syntax for importing the module. You'll rewcognize by now the varible assignment."
      ],
      "metadata": {
        "id": "iTKPAjyvYpmd"
      }
    },
    {
      "cell_type": "code",
      "source": [
        "tokens = WhitespaceTokenizer().tokenize(m)\n",
        "print(len(tokens))"
      ],
      "metadata": {
        "colab": {
          "base_uri": "https://localhost:8080/"
        },
        "id": "l7g7wRkIT8zY",
        "outputId": "0090fc7e-dec3-4d20-8aaf-65d42d9e5c74"
      },
      "execution_count": 40,
      "outputs": [
        {
          "output_type": "stream",
          "name": "stdout",
          "text": [
            "23\n"
          ]
        }
      ]
    },
    {
      "cell_type": "code",
      "source": [
        "tokens"
      ],
      "metadata": {
        "colab": {
          "base_uri": "https://localhost:8080/"
        },
        "id": "XdWvvpUdT86J",
        "outputId": "598e4868-4b2a-4495-f868-164e81852430"
      },
      "execution_count": 41,
      "outputs": [
        {
          "output_type": "execute_result",
          "data": {
            "text/plain": [
              "[\"'There\",\n",
              " 'is',\n",
              " 'no',\n",
              " 'need',\n",
              " 'to',\n",
              " 'panic.',\n",
              " 'We',\n",
              " 'need',\n",
              " 'to',\n",
              " 'work',\n",
              " 'together,',\n",
              " 'take',\n",
              " 'small',\n",
              " 'yet',\n",
              " 'important',\n",
              " 'measures',\n",
              " 'to',\n",
              " 'ensure',\n",
              " 'self-protection',\n",
              " 'the',\n",
              " 'Prime',\n",
              " 'Minister',\n",
              " \"tweeted'\"]"
            ]
          },
          "metadata": {},
          "execution_count": 41
        }
      ]
    },
    {
      "cell_type": "code",
      "source": [
        "my_vocab = set(tokens)\n",
        "print(len(tokens))"
      ],
      "metadata": {
        "colab": {
          "base_uri": "https://localhost:8080/"
        },
        "id": "_Cc4W2DCT88a",
        "outputId": "c6552c10-7152-4a8d-d295-6dc99c0eb77c"
      },
      "execution_count": 42,
      "outputs": [
        {
          "output_type": "stream",
          "name": "stdout",
          "text": [
            "23\n"
          ]
        }
      ]
    },
    {
      "cell_type": "code",
      "source": [
        "my_vocab"
      ],
      "metadata": {
        "colab": {
          "base_uri": "https://localhost:8080/"
        },
        "id": "_GHsf5N-T8_x",
        "outputId": "fcb4a812-0c8f-41b2-8d15-3ced86e29a9a"
      },
      "execution_count": 43,
      "outputs": [
        {
          "output_type": "execute_result",
          "data": {
            "text/plain": [
              "{\"'There\",\n",
              " 'Minister',\n",
              " 'Prime',\n",
              " 'We',\n",
              " 'ensure',\n",
              " 'important',\n",
              " 'is',\n",
              " 'measures',\n",
              " 'need',\n",
              " 'no',\n",
              " 'panic.',\n",
              " 'self-protection',\n",
              " 'small',\n",
              " 'take',\n",
              " 'the',\n",
              " 'to',\n",
              " 'together,',\n",
              " \"tweeted'\",\n",
              " 'work',\n",
              " 'yet'}"
            ]
          },
          "metadata": {},
          "execution_count": 43
        }
      ]
    },
    {
      "cell_type": "code",
      "source": [
        "my_st= \"'There is no need to panic. We need to work together, take small yet important measures to ensure self-protection,' the Prime Minister tweeted.\""
      ],
      "metadata": {
        "id": "ioL-BkyDT9CZ"
      },
      "execution_count": 56,
      "outputs": []
    },
    {
      "cell_type": "markdown",
      "source": [
        "We will imput different tokenizer."
      ],
      "metadata": {
        "id": "8dI02pI1Z0bP"
      }
    },
    {
      "cell_type": "code",
      "source": [
        "from nltk.tokenize.regexp import WordPunctTokenizer"
      ],
      "metadata": {
        "id": "6-uhfstbT9FG"
      },
      "execution_count": 45,
      "outputs": []
    },
    {
      "cell_type": "markdown",
      "source": [
        "Above tokenizer also split the words into tokens."
      ],
      "metadata": {
        "id": "PC_0afwiaELK"
      }
    },
    {
      "cell_type": "code",
      "source": [
        "m_t = WordPunctTokenizer().tokenize(my_st)\n",
        "\n",
        "print(len(m_t))"
      ],
      "metadata": {
        "colab": {
          "base_uri": "https://localhost:8080/"
        },
        "id": "TzDUCeaWT9H9",
        "outputId": "491e1ac0-4fc2-43d1-dc7f-e0ce0e037485"
      },
      "execution_count": 57,
      "outputs": [
        {
          "output_type": "stream",
          "name": "stdout",
          "text": [
            "30\n"
          ]
        }
      ]
    },
    {
      "cell_type": "code",
      "source": [
        "m_t"
      ],
      "metadata": {
        "colab": {
          "base_uri": "https://localhost:8080/"
        },
        "id": "xipfCtapT9K1",
        "outputId": "c190c404-2265-43e6-8647-17fcb9e5f81f"
      },
      "execution_count": 58,
      "outputs": [
        {
          "output_type": "execute_result",
          "data": {
            "text/plain": [
              "[\"'\",\n",
              " 'There',\n",
              " 'is',\n",
              " 'no',\n",
              " 'need',\n",
              " 'to',\n",
              " 'panic',\n",
              " '.',\n",
              " 'We',\n",
              " 'need',\n",
              " 'to',\n",
              " 'work',\n",
              " 'together',\n",
              " ',',\n",
              " 'take',\n",
              " 'small',\n",
              " 'yet',\n",
              " 'important',\n",
              " 'measures',\n",
              " 'to',\n",
              " 'ensure',\n",
              " 'self',\n",
              " '-',\n",
              " 'protection',\n",
              " \",'\",\n",
              " 'the',\n",
              " 'Prime',\n",
              " 'Minister',\n",
              " 'tweeted',\n",
              " '.']"
            ]
          },
          "metadata": {},
          "execution_count": 58
        }
      ]
    },
    {
      "cell_type": "code",
      "source": [
        "my_vocab = set(m_t)\n",
        "print(len(my_vocab))"
      ],
      "metadata": {
        "colab": {
          "base_uri": "https://localhost:8080/"
        },
        "id": "gV56NiNNT9Nj",
        "outputId": "2383eeb5-65d6-499b-f6c7-d9a002730f09"
      },
      "execution_count": 59,
      "outputs": [
        {
          "output_type": "stream",
          "name": "stdout",
          "text": [
            "26\n"
          ]
        }
      ]
    },
    {
      "cell_type": "code",
      "source": [
        "my_vocab"
      ],
      "metadata": {
        "colab": {
          "base_uri": "https://localhost:8080/"
        },
        "id": "SHjXcp2B-0fW",
        "outputId": "1cd84510-b337-4800-b1ab-fa86c1882832"
      },
      "execution_count": 60,
      "outputs": [
        {
          "output_type": "execute_result",
          "data": {
            "text/plain": [
              "{\"'\",\n",
              " ',',\n",
              " \",'\",\n",
              " '-',\n",
              " '.',\n",
              " 'Minister',\n",
              " 'Prime',\n",
              " 'There',\n",
              " 'We',\n",
              " 'ensure',\n",
              " 'important',\n",
              " 'is',\n",
              " 'measures',\n",
              " 'need',\n",
              " 'no',\n",
              " 'panic',\n",
              " 'protection',\n",
              " 'self',\n",
              " 'small',\n",
              " 'take',\n",
              " 'the',\n",
              " 'to',\n",
              " 'together',\n",
              " 'tweeted',\n",
              " 'work',\n",
              " 'yet'}"
            ]
          },
          "metadata": {},
          "execution_count": 60
        }
      ]
    },
    {
      "cell_type": "markdown",
      "source": [
        "What is the difference between the above approaches? In the first one, vocabulary ends up containing \"words\" and \"words.\" as two distinct words; whereas in second example\"words\" is a token type and \",\"(i.e. the dot) is split into a seperate token and this results into a  new tokens type in addition to 'words\"."
      ],
      "metadata": {
        "id": "yi9l1ytjdb9a"
      }
    },
    {
      "cell_type": "code",
      "source": [
        "from nltk.tokenize import sent_tokenize\n",
        "text = \"\"\"Founded in 2002, SpaceX's mission is to enable humans to become a spacefaring civilization and multi-planet \n",
        "species by building a self-sustaining city on Marsh. In 2008, SpaceX's Falcon l became the first privately developed\n",
        "liquid-fuel launch vehicle to orbit the Earth.\"\"\"\n",
        "sent_tokenize(text)"
      ],
      "metadata": {
        "colab": {
          "base_uri": "https://localhost:8080/"
        },
        "id": "9W0f5U31akfW",
        "outputId": "bf5cb176-6dd7-4a8f-8661-374de4c234d2"
      },
      "execution_count": 68,
      "outputs": [
        {
          "output_type": "execute_result",
          "data": {
            "text/plain": [
              "[\"Founded in 2002, SpaceX's mission is to enable humans to become a spacefaring civilization and multi-planet \\nspecies by building a self-sustaining city on Marsh.\",\n",
              " \"In 2008, SpaceX's Falcon l became the first privately developed\\nliquid-fuel launch vehicle to orbit the Earth.\"]"
            ]
          },
          "metadata": {},
          "execution_count": 68
        }
      ]
    },
    {
      "cell_type": "markdown",
      "source": [
        "## Frequency Distribution\n",
        "\n",
        "What is frequency distribution? This is basically counting words in your text. To give a brief example of how it works."
      ],
      "metadata": {
        "id": "KPS04yV8eh7P"
      }
    },
    {
      "cell_type": "code",
      "source": [
        "# from nltk.book import\n",
        "import nltk\n",
        "# nltk.download('guteberg')\n",
        "print(\"\\n\\n\\n\")\n",
        "textl = \"'There is no need to panic. We need to work together, take small yet important measures to ensure self-protection,' the Prime Minister tweeted.\"\n",
        "freqDist = nltk.FreqDist(word_tokenize(textl))\n",
        "print(freqDist)"
      ],
      "metadata": {
        "colab": {
          "base_uri": "https://localhost:8080/"
        },
        "id": "Xk8uprcjdbB4",
        "outputId": "bd940473-98e1-4baa-cdda-b4a2e4f9fd91"
      },
      "execution_count": 69,
      "outputs": [
        {
          "output_type": "stream",
          "name": "stdout",
          "text": [
            "\n",
            "\n",
            "\n",
            "\n",
            "<FreqDist with 23 samples and 28 outcomes>\n"
          ]
        }
      ]
    },
    {
      "cell_type": "markdown",
      "source": [
        "The class FreqDist works like a dictionary where keys are the words in the text and the values are count associated with that word. For example, if you want to see how many words \"person\" are in the test you can type as"
      ],
      "metadata": {
        "id": "87aIlCIrfdPI"
      }
    },
    {
      "cell_type": "code",
      "source": [
        "print(freqDist[\"person\"])"
      ],
      "metadata": {
        "colab": {
          "base_uri": "https://localhost:8080/"
        },
        "id": "cHRvQM5HdbEq",
        "outputId": "a26559eb-d077-438d-e726-752efa319f8e"
      },
      "execution_count": 71,
      "outputs": [
        {
          "output_type": "stream",
          "name": "stdout",
          "text": [
            "0\n"
          ]
        }
      ]
    },
    {
      "cell_type": "markdown",
      "source": [
        "One of the most important in FreqDist is the .keys()function. Lets us see what will it give in a below code:"
      ],
      "metadata": {
        "id": "OWLzKCDtgEAt"
      }
    },
    {
      "cell_type": "code",
      "source": [
        "words = freqDist.keys()\n",
        "print(type(words))"
      ],
      "metadata": {
        "colab": {
          "base_uri": "https://localhost:8080/"
        },
        "id": "e4fJfBRqdZgr",
        "outputId": "b777dfe6-446c-4fe2-ac6e-5a4c40e1c1bd"
      },
      "execution_count": 72,
      "outputs": [
        {
          "output_type": "stream",
          "name": "stdout",
          "text": [
            "<class 'dict_keys'>\n"
          ]
        }
      ]
    },
    {
      "cell_type": "markdown",
      "source": [
        "After running above code, it'll give as class 'dict_keys' in the other words, you get a list of all the words in your text.\n",
        "\n",
        "And you want to see how many words are there in the text,"
      ],
      "metadata": {
        "id": "PZ7Nl2zXgebq"
      }
    },
    {
      "cell_type": "code",
      "source": [
        "print(len(words))"
      ],
      "metadata": {
        "colab": {
          "base_uri": "https://localhost:8080/"
        },
        "id": "FLQeBhtndZjl",
        "outputId": "6eba3a07-cb1d-474b-9508-96416150d80f"
      },
      "execution_count": 73,
      "outputs": [
        {
          "output_type": "stream",
          "name": "stdout",
          "text": [
            "23\n"
          ]
        }
      ]
    },
    {
      "cell_type": "markdown",
      "source": [
        "In the class nltk.text. Text function do the same stuff, so what is the difference? The difference is that with freqDist you can create your own text without the necessity of converting your text to nltk.text Text class."
      ],
      "metadata": {
        "id": "2w5YwWkrg_9h"
      }
    },
    {
      "cell_type": "code",
      "source": [
        "freqDist.plot(15)"
      ],
      "metadata": {
        "colab": {
          "base_uri": "https://localhost:8080/",
          "height": 335
        },
        "id": "rkTaaiGv-0ht",
        "outputId": "a75580f0-f4d3-47c0-d474-fecf6d2de70b"
      },
      "execution_count": 74,
      "outputs": [
        {
          "output_type": "display_data",
          "data": {
            "text/plain": [
              "<Figure size 432x288 with 1 Axes>"
            ],
            "image/png": "[encoded data removed]"
          },
          "metadata": {
            "needs_background": "light"
          }
        },
        {
          "output_type": "execute_result",
          "data": {
            "text/plain": [
              "<matplotlib.axes._subplots.AxesSubplot at 0x7ff969f8e160>"
            ]
          },
          "metadata": {},
          "execution_count": 74
        }
      ]
    },
    {
      "cell_type": "markdown",
      "source": [
        "## Personal Frequency Distribution\n",
        "\n",
        "Suppose you want to do frequency distribution based on your own personal text. Let's get started."
      ],
      "metadata": {
        "id": "Yx-efXakhiVC"
      }
    },
    {
      "cell_type": "code",
      "source": [
        "from nltk import FreqDist\n",
        "\n",
        "sent = \"'There is no need to panic. We need to work together, take small yet important measures to ensure self-protection,' the Prime Minister tweeted.\"\n",
        "\n",
        "text_list = sent.split(\" \")\n",
        "\n",
        "freqDist = FreqDist(text_list)\n",
        "words = list(freqDist.keys())\n",
        "\n",
        "print(freqDist['need'])"
      ],
      "metadata": {
        "colab": {
          "base_uri": "https://localhost:8080/"
        },
        "id": "zWxhYzVs8j15",
        "outputId": "b4efdef9-791b-4634-add9-db7759901387"
      },
      "execution_count": 75,
      "outputs": [
        {
          "output_type": "stream",
          "name": "stdout",
          "text": [
            "2\n"
          ]
        }
      ]
    },
    {
      "cell_type": "code",
      "source": [
        "freqDist.plot(20)"
      ],
      "metadata": {
        "colab": {
          "base_uri": "https://localhost:8080/",
          "height": 364
        },
        "id": "JY2Oy7xehhdL",
        "outputId": "0df000a7-f966-41bc-e829-1911417e79b9"
      },
      "execution_count": 76,
      "outputs": [
        {
          "output_type": "display_data",
          "data": {
            "text/plain": [
              "<Figure size 432x288 with 1 Axes>"
            ],
            "image/png": "[encoded data removed]"
          },
          "metadata": {
            "needs_background": "light"
          }
        },
        {
          "output_type": "execute_result",
          "data": {
            "text/plain": [
              "<matplotlib.axes._subplots.AxesSubplot at 0x7ff969a1f520>"
            ]
          },
          "metadata": {},
          "execution_count": 76
        }
      ]
    },
    {
      "cell_type": "code",
      "source": [],
      "metadata": {
        "id": "_MdVX7958SOf"
      },
      "execution_count": null,
      "outputs": []
    },
    {
      "cell_type": "code",
      "source": [],
      "metadata": {
        "id": "psdSS7eK8SRG"
      },
      "execution_count": null,
      "outputs": []
    }
  ]
}