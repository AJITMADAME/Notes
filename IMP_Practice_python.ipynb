{
 "cells": [
  {
   "cell_type": "code",
   "execution_count": 1,
   "id": "10e2a52c",
   "metadata": {},
   "outputs": [],
   "source": [
    "import cv2\n",
    "import os"
   ]
  },
  {
   "cell_type": "code",
   "execution_count": null,
   "id": "4da06d79",
   "metadata": {},
   "outputs": [],
   "source": []
  },
  {
   "cell_type": "code",
   "execution_count": 2,
   "id": "cb79731d",
   "metadata": {},
   "outputs": [],
   "source": [
    "import shutil\n",
    "import numpy as np"
   ]
  },
  {
   "cell_type": "code",
   "execution_count": 5,
   "id": "92bfc73e",
   "metadata": {},
   "outputs": [
    {
     "name": "stdout",
     "output_type": "stream",
     "text": [
      "Move Path D:\\Ajit\\cv2_try\\threshold_image\\2685563244_b0d5f7eb67_b.jpg\n",
      "Move Path D:\\Ajit\\cv2_try\\threshold_image\\489752654_777853a0ba_b.jpg\n",
      "Move Path D:\\Ajit\\cv2_try\\threshold_image\\605521662_a470fef77f_b.jpg\n"
     ]
    }
   ],
   "source": [
    "op_path = r\"D:\\Ajit\\cv2_try\\threshold_image\"\n",
    "path1 = r\"D:\\Ajit\\cv2_try\\image\"\n",
    "for i in os.listdir(path1):\n",
    "    img_path = os.path.join(path1,i)\n",
    "    img = cv2.imread(img_path)\n",
    "    img_g = cv2.cvtColor(img,cv2.COLOR_BGR2GRAY)\n",
    "    white_pix = np.sum(img_g==255)\n",
    "    black_pix = np.sum(img_g ==0)\n",
    "    if black_pix > 200:\n",
    "        move_path = os.path.join(op_path,i)\n",
    "        shutil.move(img_path, move_path)\n",
    "        print(f'Move Path {move_path}')\n",
    "    \n",
    "   # print(img_path)"
   ]
  },
  {
   "cell_type": "code",
   "execution_count": 8,
   "id": "768b4f5f",
   "metadata": {},
   "outputs": [
    {
     "name": "stdout",
     "output_type": "stream",
     "text": [
      "Move Path D:\\Ajit\\cv2_try\\threshold_image\\145053828_e0e748717c_b.jpg\n",
      "Move Path D:\\Ajit\\cv2_try\\threshold_image\\2685563244_b0d5f7eb67_b.jpg\n",
      "Move Path D:\\Ajit\\cv2_try\\threshold_image\\489752654_777853a0ba_b.jpg\n",
      "Move Path D:\\Ajit\\cv2_try\\threshold_image\\605521662_a470fef77f_b.jpg\n"
     ]
    }
   ],
   "source": [
    "for i in os.listdir(path1):\n",
    "    img_path = os.path.join(path1,i)\n",
    "    img = cv2.imread(img_path)\n",
    "    img_g = cv2.cvtColor(img, cv2.COLOR_BGR2GRAY)\n",
    "    white_pix = np.sum(img_g == 255)\n",
    "    black_pix = np.sum(img_g==0)\n",
    "    if black_pix >= 150:\n",
    "        move_path = os.path.join(op_path,i)\n",
    "        shutil.move(img_path,move_path)\n",
    "        print(f'Move Path {move_path}')"
   ]
  },
  {
   "cell_type": "code",
   "execution_count": 58,
   "id": "2e246839",
   "metadata": {},
   "outputs": [],
   "source": [
    "\n",
    "def black_image(path1, path2):\n",
    "    for i in os.listdir(path1):\n",
    "        img_path = os.path.join(path1, i)\n",
    "        img = cv2.imread(img_path)  # Read the image\n",
    "        if img is None:  # Check if the image is loaded successfully\n",
    "            print(f\"Unable to read image: {img_path}\")\n",
    "            continue\n",
    "\n",
    "        img_g = cv2.cvtColor(img, cv2.COLOR_BGR2GRAY)\n",
    "        white_pix = np.sum(img_g == 255)\n",
    "        black_pix = np.sum(img_g == 0)\n",
    "\n",
    "        if black_pix >= 150:\n",
    "            move_path = os.path.join(path2, i)\n",
    "            shutil.move(img_path, move_path)\n",
    "            print(f'Moved image from {img_path} to {move_path}')\n",
    "\n",
    "op_path = r\"D:\\Ajit\\cv2_try\\threshold_image\"\n",
    "path1 = r\"D:\\Ajit\\cv2_try\\image\"\n",
    "\n",
    "black_image(path1, op_path)\n"
   ]
  },
  {
   "cell_type": "code",
   "execution_count": null,
   "id": "a5cdf37f",
   "metadata": {},
   "outputs": [],
   "source": []
  },
  {
   "cell_type": "code",
   "execution_count": 185,
   "id": "19c1e4db",
   "metadata": {},
   "outputs": [
    {
     "name": "stdout",
     "output_type": "stream",
     "text": [
      "Moved image from D:\\Ajit\\cv2_try\\image\\145053828_e0e748717c_b.jpg to D:\\Ajit\\cv2_try\\threshold_image\\145053828_e0e748717c_b.jpg\n",
      "Moved image from D:\\Ajit\\cv2_try\\image\\2685563244_b0d5f7eb67_b.jpg to D:\\Ajit\\cv2_try\\threshold_image\\2685563244_b0d5f7eb67_b.jpg\n",
      "Moved image from D:\\Ajit\\cv2_try\\image\\489752654_777853a0ba_b.jpg to D:\\Ajit\\cv2_try\\threshold_image\\489752654_777853a0ba_b.jpg\n",
      "Moved image from D:\\Ajit\\cv2_try\\image\\605521662_a470fef77f_b.jpg to D:\\Ajit\\cv2_try\\threshold_image\\605521662_a470fef77f_b.jpg\n"
     ]
    }
   ],
   "source": [
    "def black_image(path1, path2):\n",
    "    for i in os.listdir(path1):\n",
    "        img_path = os.path.join(path1, i)\n",
    "        img = cv2.imread(img_path)\n",
    "        img_gray = cv2.cvtColor(img, cv2.COLOR_BGR2GRAY)\n",
    "        \n",
    "        white = np.sum(img_gray == 255)\n",
    "        black =  np.sum(img_gray == 0)\n",
    "        \n",
    "        if black >=150:\n",
    "            move_path = os.path.join(path2,i)\n",
    "            shutil.move(img_path, move_path)\n",
    "            print(f'Moved image from {img_path} to {move_path}')\n",
    "            \n",
    "op_path = r\"D:\\Ajit\\cv2_try\\threshold_image\"\n",
    "path1 = r\"D:\\Ajit\\cv2_try\\image\"\n",
    "\n",
    "black_image(path1, op_path)\n",
    "          \n",
    "    "
   ]
  },
  {
   "cell_type": "code",
   "execution_count": 211,
   "id": "15435a6c",
   "metadata": {},
   "outputs": [
    {
     "ename": "SyntaxError",
     "evalue": "invalid syntax (2586180072.py, line 11)",
     "output_type": "error",
     "traceback": [
      "\u001b[1;36m  File \u001b[1;32m\"C:\\Users\\ASUS\\AppData\\Local\\Temp\\ipykernel_3960\\2586180072.py\"\u001b[1;36m, line \u001b[1;32m11\u001b[0m\n\u001b[1;33m    if black_pix => 150:\u001b[0m\n\u001b[1;37m                 ^\u001b[0m\n\u001b[1;31mSyntaxError\u001b[0m\u001b[1;31m:\u001b[0m invalid syntax\n"
     ]
    }
   ],
   "source": [
    "def black_image(path1, path2):\n",
    "    try:\n",
    "        for i in os.listdir(path1):\n",
    "            img_path = os.path.join(path1,i)\n",
    "            img = cv2.imread(img_path)\n",
    "            img_gray = cv2.cvtColor(img, cv2.COLOR_BGR2GRAY)\n",
    "            \n",
    "            white_pix = np.sum(img_gray == 255)\n",
    "            black_pix = np.sum(img_gray == 0)\n",
    "            \n",
    "            if black_pix => 150:\n",
    "                move_path = os.path.join(path2,i)\n",
    "                shutil.move(img_path, move_path)\n",
    "                print(f\"Move Image {img_path} to {move_path}\")\n",
    "    except Exception as e:\n",
    "        #print('Choose Correct Path')\n",
    "        print(e)\n",
    "        \n"
   ]
  },
  {
   "cell_type": "code",
   "execution_count": 215,
   "id": "46be0b4f",
   "metadata": {},
   "outputs": [],
   "source": [
    "def black_image(path1, path2):\n",
    "    try:\n",
    "        for i in os.listdir(path1):\n",
    "            img_path = os.path.join(path1,i)\n",
    "            img = cv2.imread(img_path)\n",
    "            img_gray = cv2.cvtColor(img, cv2.COLOR_BGR2GRAY)\n",
    "            \n",
    "            white_pix = np.sum(img_gray == 255)\n",
    "            black_pix = np.sum(img_gray == 0)\n",
    "            \n",
    "            if black_pix >= 150:\n",
    "                move_path = os.path.join(path2,i)\n",
    "                shutil.move(img_path, move_path)\n",
    "                print(f\"Move Image {img_path} to {move_path}\")\n",
    "    except Exception as e:\n",
    "        print('Choose Correct Path')\n",
    "        print(e)\n",
    "        \n"
   ]
  },
  {
   "cell_type": "code",
   "execution_count": null,
   "id": "f8f56c4e",
   "metadata": {},
   "outputs": [],
   "source": []
  },
  {
   "cell_type": "code",
   "execution_count": 216,
   "id": "2e5b9a26",
   "metadata": {},
   "outputs": [],
   "source": [
    "op_path = r\"D:\\Ajit\\cv2_try\\threshold_image\"\n",
    "path1 = r\"D:\\Ajit\\cv2_try\\image\"\n",
    "black_image(op_path, path1)"
   ]
  },
  {
   "cell_type": "code",
   "execution_count": null,
   "id": "cda363f4",
   "metadata": {},
   "outputs": [],
   "source": []
  },
  {
   "cell_type": "code",
   "execution_count": 37,
   "id": "7bf4fa45",
   "metadata": {},
   "outputs": [
    {
     "name": "stdout",
     "output_type": "stream",
     "text": [
      "Move Path:D:\\Ajit\\cv2_try\\threshold_image\\2685563244_b0d5f7eb67_b.jpg\n",
      "Move Path:D:\\Ajit\\cv2_try\\threshold_image\\489752654_777853a0ba_b.jpg\n",
      "Move Path:D:\\Ajit\\cv2_try\\threshold_image\\605521662_a470fef77f_b.jpg\n"
     ]
    }
   ],
   "source": [
    "op_path = r\"D:\\Ajit\\cv2_try\\threshold_image\"\n",
    "path1 = r\"D:\\Ajit\\cv2_try\\image\"\n",
    "for i in os.listdir(path1):\n",
    "    img_path = os.path.join(path1,i)\n",
    "    img = cv2.imread(img_path)\n",
    "    img_g = cv2.cvtColor(img, cv2.COLOR_BGR2GRAY)\n",
    "    white_pix = np.sum(img_g == 255)\n",
    "    black_pix = np.sum(img_g == 0)\n",
    "    if black_pix > 200:\n",
    "        move_path = os.path.join(op_path, i)\n",
    "        shutil.move(img_path, move_path)\n",
    "        print(f\"Move Path:{move_path}\")"
   ]
  },
  {
   "cell_type": "code",
   "execution_count": 11,
   "id": "5ba09096",
   "metadata": {},
   "outputs": [
    {
     "data": {
      "text/plain": [
       "(856, 1024, 3)"
      ]
     },
     "execution_count": 11,
     "metadata": {},
     "output_type": "execute_result"
    }
   ],
   "source": [
    "img.shape"
   ]
  },
  {
   "cell_type": "code",
   "execution_count": 12,
   "id": "02df9109",
   "metadata": {},
   "outputs": [
    {
     "data": {
      "text/plain": [
       "1024"
      ]
     },
     "execution_count": 12,
     "metadata": {},
     "output_type": "execute_result"
    }
   ],
   "source": [
    "img.shape[1]"
   ]
  },
  {
   "cell_type": "code",
   "execution_count": null,
   "id": "3630ccbd",
   "metadata": {},
   "outputs": [],
   "source": []
  },
  {
   "cell_type": "code",
   "execution_count": 4,
   "id": "ba20da66",
   "metadata": {},
   "outputs": [],
   "source": [
    "#weightedSum = cv2.addWeighted(image1, 0.5, image2, 0.4, 0)\n",
    "img_1 = r\"D:\\Ajit\\cv2_try\\image\\120853323_d4788431b9_b.jpg\"\n",
    "img_2 = r\"D:\\Ajit\\cv2_try\\image\\155815494_800fc9aa32_b.jpg\"\n",
    "img1 = cv2.imread(img_1)\n",
    "img2 = cv2.imread(img_2)\n",
    "img2_re = cv2.resize(img2, (img1.shape[1], img1.shape[0]))\n",
    "weigh_sum = cv2.addWeighted(img1, 0.5, img2_re,0.4,0)\n",
    "cv2.imshow(\"weighted_sum_img\", weigh_sum)\n",
    "cv2.waitKey(0)\n",
    "cv2.destroyAllWindows()\n"
   ]
  },
  {
   "cell_type": "code",
   "execution_count": 6,
   "id": "68489494",
   "metadata": {},
   "outputs": [],
   "source": [
    "img1 = cv2.imread(img_1)\n",
    "img2 = cv2.imread(img_2)\n",
    "img_re = cv2.resize(img2,(img1.shape[1],img1.shape[0]))\n",
    "\n",
    "bitwise_and = cv2.bitwise_and(img1,img_re, mask=None)\n",
    "cv2.imshow(\"Bitwise_and\",bitwise_and)\n",
    "cv2.waitKey(0)\n",
    "cv2.destroyAllWindows()"
   ]
  },
  {
   "cell_type": "code",
   "execution_count": 16,
   "id": "76060e1c",
   "metadata": {},
   "outputs": [],
   "source": [
    "bit_nor = cv2.bitwise_not(img1, img_re)\n",
    "cv2.imshow('bitwise_not',bit_nor)\n",
    "cv2.waitKey(0)\n",
    "cv2.destroyAllWindows()"
   ]
  },
  {
   "cell_type": "code",
   "execution_count": 17,
   "id": "09499936",
   "metadata": {},
   "outputs": [],
   "source": [
    "bit_xor = cv2.bitwise_xor(img1, img_re)\n",
    "cv2.imshow('bitwise xor',bit_xor)\n",
    "cv2.waitKey(0)\n",
    "cv2.destroyAllWindows()"
   ]
  },
  {
   "cell_type": "code",
   "execution_count": 7,
   "id": "7c2f7479",
   "metadata": {},
   "outputs": [],
   "source": [
    "bit_or = cv2.bitwise_or(img1,img_re)\n",
    "cv2.imshow('bitwise_or', bit_or)\n",
    "cv2.waitKey(0)\n",
    "cv2.destroyAllWindows()"
   ]
  },
  {
   "cell_type": "code",
   "execution_count": 17,
   "id": "7b842318",
   "metadata": {},
   "outputs": [
    {
     "name": "stdout",
     "output_type": "stream",
     "text": [
      "move Path:D:\\Ajit\\cv2_try\\threshold_image\\126700562_8e27720147_b.jpg, percentage_black_image:0.015385945638020834\n",
      "move Path:D:\\Ajit\\cv2_try\\threshold_image\\1297451346_5b92bdac08_b.jpg, percentage_black_image:10.184860229492188\n",
      "move Path:D:\\Ajit\\cv2_try\\threshold_image\\145053828_e0e748717c_b.jpg, percentage_black_image:0.04183451334635417\n",
      "move Path:D:\\Ajit\\cv2_try\\threshold_image\\2354829160_3f65a6bf6f_b.jpg, percentage_black_image:0.2257135646108664\n",
      "move Path:D:\\Ajit\\cv2_try\\threshold_image\\2385899600_94b68350af_b.jpg, percentage_black_image:0.057305230034722224\n",
      "move Path:D:\\Ajit\\cv2_try\\threshold_image\\321888854_3723b6f10b_b.jpg, percentage_black_image:0.0888824462890625\n",
      "move Path:D:\\Ajit\\cv2_try\\threshold_image\\332344155_71be3a3b22_b.jpg, percentage_black_image:0.10120947036384975\n",
      "move Path:D:\\Ajit\\cv2_try\\threshold_image\\351678851_e2aeebdafd_b.jpg, percentage_black_image:5.950037638346354\n",
      "move Path:D:\\Ajit\\cv2_try\\threshold_image\\485227412_e335662bb5_b.jpg, percentage_black_image:0.9098052978515625\n",
      "move Path:D:\\Ajit\\cv2_try\\threshold_image\\489752654_777853a0ba_b.jpg, percentage_black_image:2.550372626089664\n",
      "move Path:D:\\Ajit\\cv2_try\\threshold_image\\605521662_a470fef77f_b.jpg, percentage_black_image:1.2775421142578125\n",
      "move Path:D:\\Ajit\\cv2_try\\threshold_image\\873768102_7d931e5fa3_b.jpg, percentage_black_image:0.02669575058411215\n"
     ]
    }
   ],
   "source": [
    "op_path = r\"D:\\Ajit\\cv2_try\\threshold_image\"\n",
    "path1 = r\"D:\\Ajit\\cv2_try\\image\"\n",
    "\n",
    "for i in os.listdir(path1):\n",
    "    img_path = os.path.join(path1,i)\n",
    "    img = cv2.imread(img_path)\n",
    "    img_g = cv2.cvtColor(img, cv2.COLOR_BGR2GRAY)\n",
    "    black_pix = np.sum(img_g == 255)\n",
    "    white_pix = np.sum(img_g == 0)\n",
    "    total_pix = img_g.size\n",
    "    per_black_img = (black_pix/total_pix)*100\n",
    "    if black_pix > 100:\n",
    "        move_path = os.path.join(op_path, i)\n",
    "        shutil.move(img_path, move_path)\n",
    "        print(f\"move Path:{move_path}, percentage_black_image:{per_black_img}\")\n",
    "#     print(img_path)"
   ]
  },
  {
   "cell_type": "code",
   "execution_count": 16,
   "id": "d3976421",
   "metadata": {},
   "outputs": [
    {
     "name": "stdout",
     "output_type": "stream",
     "text": [
      "0.02669575058411215\n"
     ]
    }
   ],
   "source": [
    "total_pix = img_g.size\n",
    "per_black_img = (black_pix/total_pix)*100\n",
    "print(per_black_img)"
   ]
  },
  {
   "cell_type": "code",
   "execution_count": 9,
   "id": "3cfe09d8",
   "metadata": {},
   "outputs": [
    {
     "name": "stdout",
     "output_type": "stream",
     "text": [
      "(1024, 768, 3)\n",
      "(679, 1024, 3)\n"
     ]
    }
   ],
   "source": [
    "print(img2.shape)\n",
    "img2_resize = cv2.resize(img2,(img1.shape[1], img1.shape[0]))\n",
    "print(img2_resize.shape)"
   ]
  },
  {
   "cell_type": "code",
   "execution_count": 5,
   "id": "5800d7c8",
   "metadata": {},
   "outputs": [
    {
     "data": {
      "text/plain": [
       "2085888"
      ]
     },
     "execution_count": 5,
     "metadata": {},
     "output_type": "execute_result"
    }
   ],
   "source": [
    "total_pixel = img1.size"
   ]
  },
  {
   "cell_type": "raw",
   "id": "ba1a314f",
   "metadata": {},
   "source": [
    "np.unique(img_g)"
   ]
  },
  {
   "cell_type": "code",
   "execution_count": 30,
   "id": "ff96e0d9",
   "metadata": {},
   "outputs": [],
   "source": [
    "image_path = r\"D:\\Ajit\\cv2_try\\image\\120853323_d4788431b9_b.jpg\"\n",
    "img = cv2.imread(image_path)\n",
    "\n",
    "img_g = cv2.cvtColor(img, cv2.COLOR_BGR2GRAY)\n",
    "blurred = cv2.GaussianBlur(img_g,(7,7),0)\n",
    "edge = cv2.Canny(blurred, 50,150)\n",
    "contours, hierarchy = cv2.findContours(edge, cv2.RETR_EXTERNAL, cv2.CHAIN_APPROX_SIMPLE)\n",
    "contours_img = img.copy()\n",
    "cv2.drawContours(contours_img,contours, -1,(0,255,0),2)\n",
    "cv2.imshow('Contours Image',contours_img)\n",
    "cv2.waitKey(0)\n",
    "cv2.destroyAllWindows()"
   ]
  },
  {
   "cell_type": "code",
   "execution_count": 36,
   "id": "cc2829b0",
   "metadata": {},
   "outputs": [
    {
     "data": {
      "text/plain": [
       "array([  0,   1,   2,   3,   4,   5,   6,   7,   8,   9,  10,  11,  12,\n",
       "        13,  14,  15,  16,  17,  18,  19,  20,  21,  22,  23,  24,  25,\n",
       "        26,  27,  28,  29,  30,  31,  32,  33,  34,  35,  36,  37,  38,\n",
       "        39,  40,  41,  42,  43,  44,  45,  46,  47,  48,  49,  50,  51,\n",
       "        52,  53,  54,  55,  56,  57,  58,  59,  60,  61,  62,  63,  64,\n",
       "        65,  66,  67,  68,  69,  70,  71,  72,  73,  74,  75,  76,  77,\n",
       "        78,  79,  80,  81,  82,  83,  84,  85,  86,  87,  88,  89,  90,\n",
       "        91,  92,  93,  94,  95,  96,  97,  98,  99, 100, 101, 102, 103,\n",
       "       104, 105, 106, 107, 108, 109, 110, 111, 112, 113, 114, 115, 116,\n",
       "       117, 118, 119, 120, 121, 122, 123, 124, 125, 126, 127, 128, 129,\n",
       "       130, 131, 132, 133, 134, 135, 136, 137, 138, 139, 140, 141, 142,\n",
       "       143, 144, 145, 146, 147, 148, 149, 150, 151, 152, 153, 154, 155,\n",
       "       156, 157, 158, 159, 160, 161, 162, 163, 164, 165, 166, 167, 168,\n",
       "       169, 170, 171, 172, 173, 174, 175, 176, 177, 178, 179, 180, 181,\n",
       "       182, 183, 184, 185, 186, 187, 188, 189, 190, 191, 192, 193, 194,\n",
       "       195, 196, 197, 198, 199, 200, 201, 202, 203, 204, 205, 206, 207,\n",
       "       208, 209, 210, 211, 212, 213, 214, 215, 216, 217, 218, 219, 220,\n",
       "       221, 222, 223, 224, 225, 226, 227, 228, 229, 230, 231, 232, 233,\n",
       "       234, 235, 236, 237, 238, 239, 240, 241, 242, 243, 244, 245, 246,\n",
       "       247, 248, 249, 250, 251, 252, 253, 254, 255], dtype=uint8)"
      ]
     },
     "execution_count": 36,
     "metadata": {},
     "output_type": "execute_result"
    }
   ],
   "source": [
    "np.unique(img_g)"
   ]
  },
  {
   "cell_type": "code",
   "execution_count": 10,
   "id": "aad09633",
   "metadata": {},
   "outputs": [
    {
     "name": "stdout",
     "output_type": "stream",
     "text": [
      "Enter the number12\n",
      "Even\n"
     ]
    }
   ],
   "source": [
    "num = int(input('Enter the number'))\n",
    "\n",
    "    \n",
    "if num%2  == 0:\n",
    "    print('Even')\n",
    "else:\n",
    "    print(\"odd\")"
   ]
  },
  {
   "cell_type": "code",
   "execution_count": 17,
   "id": "9a8cfb29",
   "metadata": {},
   "outputs": [
    {
     "name": "stdout",
     "output_type": "stream",
     "text": [
      "10\n"
     ]
    }
   ],
   "source": [
    "list1 = [1,2,3,4]\n",
    "co = 0\n",
    "for i in list1:\n",
    "    co += i\n",
    "print(co)\n",
    "    "
   ]
  },
  {
   "cell_type": "code",
   "execution_count": 18,
   "id": "7ccd3ec1",
   "metadata": {},
   "outputs": [
    {
     "data": {
      "text/plain": [
       "10"
      ]
     },
     "execution_count": 18,
     "metadata": {},
     "output_type": "execute_result"
    }
   ],
   "source": [
    "sum(list1)"
   ]
  },
  {
   "cell_type": "code",
   "execution_count": 64,
   "id": "67cf2cc1",
   "metadata": {},
   "outputs": [
    {
     "data": {
      "text/plain": [
       "'321 tija'"
      ]
     },
     "execution_count": 64,
     "metadata": {},
     "output_type": "execute_result"
    }
   ],
   "source": [
    "str1 = 'ajit 123'\n",
    "str1[::-1]"
   ]
  },
  {
   "cell_type": "code",
   "execution_count": 65,
   "id": "b3f150eb",
   "metadata": {},
   "outputs": [
    {
     "data": {
      "text/plain": [
       "False"
      ]
     },
     "execution_count": 65,
     "metadata": {},
     "output_type": "execute_result"
    }
   ],
   "source": [
    "str1.isdigit()"
   ]
  },
  {
   "cell_type": "code",
   "execution_count": 72,
   "id": "a7e4eaf3",
   "metadata": {},
   "outputs": [
    {
     "name": "stdout",
     "output_type": "stream",
     "text": [
      "1\n",
      "2\n",
      "3\n"
     ]
    }
   ],
   "source": [
    "for i in str1:\n",
    "    if i.isdigit():\n",
    "        print(i)\n",
    "        "
   ]
  },
  {
   "cell_type": "code",
   "execution_count": 73,
   "id": "c6177dd8",
   "metadata": {},
   "outputs": [
    {
     "data": {
      "text/plain": [
       "False"
      ]
     },
     "execution_count": 73,
     "metadata": {},
     "output_type": "execute_result"
    }
   ],
   "source": [
    "str1.isdigit()"
   ]
  },
  {
   "cell_type": "code",
   "execution_count": 1,
   "id": "39f354de",
   "metadata": {},
   "outputs": [],
   "source": [
    "str2 = \"123 ajit madame bhandara nagpur 456 789 10 raj 25\"\n",
    "lis = []\n",
    "\n",
    "for i in str2.split():\n",
    "    if i.isdigit():\n",
    "        lis.append(i)"
   ]
  },
  {
   "cell_type": "code",
   "execution_count": 338,
   "id": "e53e477d",
   "metadata": {},
   "outputs": [
    {
     "data": {
      "text/plain": [
       "['123', '456', '789', '10', '25']"
      ]
     },
     "execution_count": 338,
     "metadata": {},
     "output_type": "execute_result"
    }
   ],
   "source": [
    "def isdigit(str):\n",
    "    l = []\n",
    "    for i in str.split():\n",
    "        if i.isdigit():\n",
    "            l.append(i)\n",
    "    return l\n",
    "\n",
    "isdigit(str2)"
   ]
  },
  {
   "cell_type": "code",
   "execution_count": 2,
   "id": "57857788",
   "metadata": {},
   "outputs": [
    {
     "data": {
      "text/plain": [
       "'123 ajit madame bhandara nagpur 456 789 10 raj 25'"
      ]
     },
     "execution_count": 2,
     "metadata": {},
     "output_type": "execute_result"
    }
   ],
   "source": [
    "str2"
   ]
  },
  {
   "cell_type": "code",
   "execution_count": 106,
   "id": "5ea37dfd",
   "metadata": {},
   "outputs": [],
   "source": [
    "lis2 = []\n",
    "def isdigit(str):\n",
    "    for i in str2.split():\n",
    "        if i.isdigit():\n",
    "            lis2.append(i)\n",
    "    return lis2"
   ]
  },
  {
   "cell_type": "code",
   "execution_count": 107,
   "id": "e5fdbb37",
   "metadata": {},
   "outputs": [
    {
     "data": {
      "text/plain": [
       "['123', '456', '789', '10', '25']"
      ]
     },
     "execution_count": 107,
     "metadata": {},
     "output_type": "execute_result"
    }
   ],
   "source": [
    "isdigit(str2)"
   ]
  },
  {
   "cell_type": "code",
   "execution_count": 108,
   "id": "78f13170",
   "metadata": {},
   "outputs": [],
   "source": [
    "def word_count(para):\n",
    "    words = para.split()\n",
    "    word_count = {}\n",
    "    for word in words:\n",
    "        word = word.strip()\n",
    "        word = word.lower()\n",
    "        if word in word_count:\n",
    "            word_count[word]+=1\n",
    "        else:\n",
    "            word_count[word] = 1\n",
    "    return word_count"
   ]
  },
  {
   "cell_type": "code",
   "execution_count": 9,
   "id": "c87c81a5",
   "metadata": {},
   "outputs": [],
   "source": [
    "def word_count1(para):\n",
    "    word_count = {}\n",
    "    for i in para.split():\n",
    "        j=i.lower()\n",
    "        if j in word_count:\n",
    "            word_count[j]+=1\n",
    "        else:\n",
    "            word_count[j] = 1\n",
    "    return word_count"
   ]
  },
  {
   "cell_type": "code",
   "execution_count": null,
   "id": "d3038505",
   "metadata": {},
   "outputs": [],
   "source": []
  },
  {
   "cell_type": "code",
   "execution_count": 10,
   "id": "8f5dca88",
   "metadata": {},
   "outputs": [],
   "source": [
    "para = 'ajit madame bhandara uasagondi sujit madame nagpur trupti bhandara Ajit'"
   ]
  },
  {
   "cell_type": "code",
   "execution_count": 11,
   "id": "ca4a026e",
   "metadata": {
    "collapsed": true
   },
   "outputs": [
    {
     "data": {
      "text/plain": [
       "{'ajit': 2,\n",
       " 'madame': 2,\n",
       " 'bhandara': 2,\n",
       " 'uasagondi': 1,\n",
       " 'sujit': 1,\n",
       " 'nagpur': 1,\n",
       " 'trupti': 1}"
      ]
     },
     "execution_count": 11,
     "metadata": {},
     "output_type": "execute_result"
    }
   ],
   "source": [
    "word_count1(para)"
   ]
  },
  {
   "cell_type": "code",
   "execution_count": 138,
   "id": "101dcd0b",
   "metadata": {},
   "outputs": [
    {
     "data": {
      "text/plain": [
       "{'ajit': 2,\n",
       " 'madame': 2,\n",
       " 'bhandara': 2,\n",
       " 'uasagondi': 1,\n",
       " 'sujit': 1,\n",
       " 'nagpur': 1,\n",
       " 'trupti': 1}"
      ]
     },
     "execution_count": 138,
     "metadata": {},
     "output_type": "execute_result"
    }
   ],
   "source": [
    "word_counts(para)"
   ]
  },
  {
   "cell_type": "code",
   "execution_count": 143,
   "id": "93a556ab",
   "metadata": {},
   "outputs": [
    {
     "name": "stdout",
     "output_type": "stream",
     "text": [
      "Fibonacci sequence (first 10 terms): [0, 1, 1, 2, 3, 5, 8, 13, 21, 34]\n"
     ]
    }
   ],
   "source": [
    "def fibonacci(n):\n",
    "    fib_sequence = [0, 1]\n",
    "    for i in range(2, n):\n",
    "        fib_sequence.append(fib_sequence[-1] + fib_sequence[-2])\n",
    "    return fib_sequence\n",
    "\n",
    "# Example usage:\n",
    "print(\"Fibonacci sequence (first 10 terms):\", fibonacci(10))\n"
   ]
  },
  {
   "cell_type": "code",
   "execution_count": 147,
   "id": "a99d85ff",
   "metadata": {},
   "outputs": [],
   "source": [
    "def fibo(n):\n",
    "    fib_seq = [0,1]\n",
    "    for i in range(2,n):\n",
    "        fib_seq.append(fib_seq[-1] + fib_seq[-2])\n",
    "    return fib_seq"
   ]
  },
  {
   "cell_type": "code",
   "execution_count": 148,
   "id": "47d8afb7",
   "metadata": {},
   "outputs": [
    {
     "data": {
      "text/plain": [
       "[0, 1, 1, 2, 3, 5, 8, 13, 21, 34]"
      ]
     },
     "execution_count": 148,
     "metadata": {},
     "output_type": "execute_result"
    }
   ],
   "source": [
    "fibo(10)"
   ]
  },
  {
   "cell_type": "code",
   "execution_count": null,
   "id": "48054850",
   "metadata": {},
   "outputs": [],
   "source": []
  },
  {
   "cell_type": "code",
   "execution_count": 168,
   "id": "45a986eb",
   "metadata": {},
   "outputs": [],
   "source": [
    "def fibonacci(n):\n",
    "    fib_seq = [0,1]\n",
    "    for i in range(2,n):\n",
    "        fib_seq.append(fib_seq[-1] + fib_seq[-2])\n",
    "    return fib_seq"
   ]
  },
  {
   "cell_type": "code",
   "execution_count": 169,
   "id": "80259672",
   "metadata": {},
   "outputs": [
    {
     "data": {
      "text/plain": [
       "[0, 1, 1, 2, 3, 5, 8, 13, 21, 34]"
      ]
     },
     "execution_count": 169,
     "metadata": {},
     "output_type": "execute_result"
    }
   ],
   "source": [
    "fibonacci(10)"
   ]
  },
  {
   "cell_type": "code",
   "execution_count": 193,
   "id": "1149fe59",
   "metadata": {},
   "outputs": [
    {
     "name": "stdout",
     "output_type": "stream",
     "text": [
      "Sum of digits in 12345: 15\n"
     ]
    }
   ],
   "source": [
    "def sum_of_digits(n):\n",
    "    sum_digits = 0\n",
    "    while n > 0:\n",
    "        sum_digits += n % 10\n",
    "        n //= 10\n",
    "    return sum_digits\n",
    "\n",
    "# Example usage:\n",
    "print(\"Sum of digits in 12345:\", sum_of_digits(12345))\n"
   ]
  },
  {
   "cell_type": "code",
   "execution_count": 371,
   "id": "bf3b0d5f",
   "metadata": {},
   "outputs": [],
   "source": [
    "#n = int(input('enter the number: '))\n",
    "def sum_digit(n):\n",
    "    digit = 0\n",
    "    while n > 0:\n",
    "        digit += n%10\n",
    "        n //= 10\n",
    "    return digit"
   ]
  },
  {
   "cell_type": "code",
   "execution_count": 372,
   "id": "c89b3097",
   "metadata": {},
   "outputs": [
    {
     "data": {
      "text/plain": [
       "8"
      ]
     },
     "execution_count": 372,
     "metadata": {},
     "output_type": "execute_result"
    }
   ],
   "source": [
    "sum_digit(125)"
   ]
  },
  {
   "cell_type": "code",
   "execution_count": 19,
   "id": "25e72286",
   "metadata": {},
   "outputs": [
    {
     "data": {
      "text/plain": [
       "10"
      ]
     },
     "execution_count": 19,
     "metadata": {},
     "output_type": "execute_result"
    }
   ],
   "source": [
    "def sum_digit(n):\n",
    "    digit = 0\n",
    "    while n >0:\n",
    "        digit +=n%10\n",
    "        n //= 10\n",
    "    return digit\n",
    "\n",
    "sum_digit(1234)"
   ]
  },
  {
   "cell_type": "code",
   "execution_count": null,
   "id": "380a3c64",
   "metadata": {},
   "outputs": [],
   "source": []
  },
  {
   "cell_type": "code",
   "execution_count": null,
   "id": "cf514322",
   "metadata": {},
   "outputs": [],
   "source": []
  },
  {
   "cell_type": "code",
   "execution_count": null,
   "id": "5d4bb593",
   "metadata": {},
   "outputs": [],
   "source": []
  },
  {
   "cell_type": "code",
   "execution_count": 208,
   "id": "b906592c",
   "metadata": {},
   "outputs": [],
   "source": [
    "def is_polli(str):\n",
    "    if str == str[::-1]:\n",
    "        return True\n",
    "    else:\n",
    "        return False"
   ]
  },
  {
   "cell_type": "code",
   "execution_count": 209,
   "id": "64406339",
   "metadata": {},
   "outputs": [
    {
     "data": {
      "text/plain": [
       "False"
      ]
     },
     "execution_count": 209,
     "metadata": {},
     "output_type": "execute_result"
    }
   ],
   "source": [
    "str1 = 'raare'\n",
    "is_polli(str1)"
   ]
  },
  {
   "cell_type": "code",
   "execution_count": 210,
   "id": "a9b09639",
   "metadata": {},
   "outputs": [],
   "source": [
    "def is_leap(year):\n",
    "    if (year % 4 == 0 and year % 100 != 0) or (year % 400 == 0):\n",
    "        return True\n",
    "    else:\n",
    "        return False"
   ]
  },
  {
   "cell_type": "code",
   "execution_count": 214,
   "id": "d0cc9d4b",
   "metadata": {},
   "outputs": [
    {
     "name": "stdout",
     "output_type": "stream",
     "text": [
      "This is a Leap Year\n"
     ]
    }
   ],
   "source": [
    "if is_leap(2024)== True:\n",
    "    print('This is a Leap Year')\n",
    "else:\n",
    "    print('This is not a Leap Year')"
   ]
  },
  {
   "cell_type": "code",
   "execution_count": 230,
   "id": "d7b3059f",
   "metadata": {},
   "outputs": [],
   "source": [
    "def is_even(n):\n",
    "    if n % 2 ==0:\n",
    "        return True\n",
    "    else:\n",
    "        return False"
   ]
  },
  {
   "cell_type": "code",
   "execution_count": 242,
   "id": "3ebe73aa",
   "metadata": {},
   "outputs": [],
   "source": [
    "a = is_even(10)"
   ]
  },
  {
   "cell_type": "code",
   "execution_count": 250,
   "id": "205b1bb5",
   "metadata": {},
   "outputs": [
    {
     "name": "stdout",
     "output_type": "stream",
     "text": [
      "Weird\n",
      "Not Weird\n",
      "Weird\n",
      "Not Weird\n"
     ]
    }
   ],
   "source": [
    "def check_weirdness(n):\n",
    "    if n % 2 == 1:\n",
    "        print(\"Weird\")\n",
    "    elif n % 2 == 0 and 2 <= n <= 5:\n",
    "        print(\"Not Weird\")\n",
    "    elif n % 2 == 0 and 6 <= n <= 20:\n",
    "        print(\"Weird\")\n",
    "    elif n % 2 == 0 and n > 20:\n",
    "        print(\"Not Weird\")\n",
    "\n",
    "# Example usage:\n",
    "check_weirdness(3)\n",
    "check_weirdness(4)\n",
    "check_weirdness(18)\n",
    "check_weirdness(24)\n"
   ]
  },
  {
   "cell_type": "code",
   "execution_count": 253,
   "id": "7d8be417",
   "metadata": {},
   "outputs": [
    {
     "name": "stdout",
     "output_type": "stream",
     "text": [
      "Not Weird\n"
     ]
    }
   ],
   "source": [
    "def check_weired(n):\n",
    "    if n % 2 == 1 or (n % 2 == 0 and 6 <= n <= 20):\n",
    "        print(\"Weird\")\n",
    "    else:\n",
    "        print(\"Not Weird\")\n",
    "        \n",
    "check_weired(24)"
   ]
  },
  {
   "cell_type": "code",
   "execution_count": 255,
   "id": "13eede05",
   "metadata": {},
   "outputs": [
    {
     "name": "stdout",
     "output_type": "stream",
     "text": [
      "0\n",
      "1\n",
      "4\n",
      "9\n",
      "16\n"
     ]
    }
   ],
   "source": [
    "for i in range(5):\n",
    "    j = i*i\n",
    "    print(j)"
   ]
  },
  {
   "cell_type": "code",
   "execution_count": 256,
   "id": "0523c5c9",
   "metadata": {},
   "outputs": [],
   "source": [
    "def is_leap(year):\n",
    "    if (year %4 ==0 and year %100 !=0) or (year % 400 ==0):\n",
    "        return True\n",
    "    else:\n",
    "        return False"
   ]
  },
  {
   "cell_type": "code",
   "execution_count": 257,
   "id": "7c090653",
   "metadata": {},
   "outputs": [
    {
     "data": {
      "text/plain": [
       "False"
      ]
     },
     "execution_count": 257,
     "metadata": {},
     "output_type": "execute_result"
    }
   ],
   "source": [
    "is_leap(1990)"
   ]
  },
  {
   "cell_type": "code",
   "execution_count": null,
   "id": "985a1a4f",
   "metadata": {},
   "outputs": [],
   "source": []
  },
  {
   "cell_type": "code",
   "execution_count": 269,
   "id": "c0d1888f",
   "metadata": {},
   "outputs": [
    {
     "name": "stdout",
     "output_type": "stream",
     "text": [
      "123"
     ]
    }
   ],
   "source": [
    "n = 3\n",
    "for i in range(1,n+1):\n",
    "    print(i, end='')"
   ]
  },
  {
   "cell_type": "code",
   "execution_count": 260,
   "id": "8099be4c",
   "metadata": {},
   "outputs": [
    {
     "name": "stdout",
     "output_type": "stream",
     "text": [
      "range(0, 5)\n"
     ]
    }
   ],
   "source": [
    "print(range(5))"
   ]
  },
  {
   "cell_type": "code",
   "execution_count": 268,
   "id": "38630c05",
   "metadata": {},
   "outputs": [
    {
     "name": "stdout",
     "output_type": "stream",
     "text": [
      "5\n",
      "12345\n"
     ]
    }
   ],
   "source": [
    "if __name__ == '__main__':\n",
    "    n = int(input().strip())\n",
    "\n",
    "    # Print the numbers from 1 to n\n",
    "    for i in range(1, n + 1):\n",
    "        print(i, end=\"\")  # Print the number without newline\n",
    "\n",
    "    # Print the pattern in a new line\n",
    "    print()\n"
   ]
  },
  {
   "cell_type": "code",
   "execution_count": 270,
   "id": "145d1266",
   "metadata": {},
   "outputs": [],
   "source": [
    "# return  lesser number of two given number if both are even\n",
    "# but return greter if one of the number are odd\n",
    "\n",
    "def less_or_gre(a,b):\n",
    "    if a%2==0 and b%2==0:\n",
    "        return min(a,b)\n",
    "    else:\n",
    "        return max(a,b)"
   ]
  },
  {
   "cell_type": "code",
   "execution_count": 272,
   "id": "a2b2493f",
   "metadata": {},
   "outputs": [
    {
     "data": {
      "text/plain": [
       "2"
      ]
     },
     "execution_count": 272,
     "metadata": {},
     "output_type": "execute_result"
    }
   ],
   "source": [
    "less_or_gre(2,4)"
   ]
  },
  {
   "cell_type": "code",
   "execution_count": 273,
   "id": "a77f85df",
   "metadata": {},
   "outputs": [],
   "source": [
    "# take two word string and return true if both word begain with same letter\n",
    "\n",
    "def same_lett(str):\n",
    "    a = str.split()\n",
    "    if a[0][0] ==  a[1][0]:\n",
    "        return True\n",
    "    else:\n",
    "        return False"
   ]
  },
  {
   "cell_type": "code",
   "execution_count": 275,
   "id": "41843a80",
   "metadata": {},
   "outputs": [
    {
     "data": {
      "text/plain": [
       "True"
      ]
     },
     "execution_count": 275,
     "metadata": {},
     "output_type": "execute_result"
    }
   ],
   "source": [
    "same_lett('hello hord')"
   ]
  },
  {
   "cell_type": "code",
   "execution_count": 280,
   "id": "096d0603",
   "metadata": {},
   "outputs": [],
   "source": [
    "# given two integer, return True if the sum of the integer is 20 or one of the interger is 20 or return False\n",
    "\n",
    "def add_two(a,b):\n",
    "    if (a+b)==20 or a==20 or b==20:\n",
    "        return True\n",
    "    else:\n",
    "        return False"
   ]
  },
  {
   "cell_type": "code",
   "execution_count": 281,
   "id": "74baa86c",
   "metadata": {},
   "outputs": [
    {
     "data": {
      "text/plain": [
       "True"
      ]
     },
     "execution_count": 281,
     "metadata": {},
     "output_type": "execute_result"
    }
   ],
   "source": [
    "add_two(20,20)"
   ]
  },
  {
   "cell_type": "code",
   "execution_count": 287,
   "id": "3f70d70f",
   "metadata": {},
   "outputs": [],
   "source": [
    "## Capitalize the first and fourth letter\n",
    "# macdonald ==MacDonald\n",
    "\n",
    "def cap(name):\n",
    "    return name[0].upper()+name[1:3]+name[3].upper() + name[4:]\n",
    "    "
   ]
  },
  {
   "cell_type": "code",
   "execution_count": 288,
   "id": "f42d5cb5",
   "metadata": {},
   "outputs": [
    {
     "data": {
      "text/plain": [
       "'MacDonald'"
      ]
     },
     "execution_count": 288,
     "metadata": {},
     "output_type": "execute_result"
    }
   ],
   "source": [
    "cap(\"macdonald\")"
   ]
  },
  {
   "cell_type": "code",
   "execution_count": 289,
   "id": "61324047",
   "metadata": {},
   "outputs": [
    {
     "data": {
      "text/plain": [
       "'AjiTmadame'"
      ]
     },
     "execution_count": 289,
     "metadata": {},
     "output_type": "execute_result"
    }
   ],
   "source": [
    "cap('ajitmadame')"
   ]
  },
  {
   "cell_type": "code",
   "execution_count": 296,
   "id": "b2904733",
   "metadata": {},
   "outputs": [],
   "source": [
    "## reverse the word for given sentence\n",
    "\n",
    "def rev_word(str):\n",
    "    a = str.split()\n",
    "    b = a[::-1]\n",
    "    c = ' '.join(b)\n",
    "    return c"
   ]
  },
  {
   "cell_type": "code",
   "execution_count": 297,
   "id": "45d50f3d",
   "metadata": {},
   "outputs": [
    {
     "data": {
      "text/plain": [
       "'you love I'"
      ]
     },
     "execution_count": 297,
     "metadata": {},
     "output_type": "execute_result"
    }
   ],
   "source": [
    "rev_word('I love you')"
   ]
  },
  {
   "cell_type": "code",
   "execution_count": 298,
   "id": "7a998a64",
   "metadata": {},
   "outputs": [],
   "source": [
    "## Almost there 10 of either 100 or 200\n",
    "\n",
    "def almost_there(n):\n",
    "    if abs(100-n) <= 10 or abs(200-n) <=10:\n",
    "        return True\n",
    "    else:\n",
    "        return False"
   ]
  },
  {
   "cell_type": "code",
   "execution_count": 300,
   "id": "e5b7aad5",
   "metadata": {},
   "outputs": [
    {
     "data": {
      "text/plain": [
       "False"
      ]
     },
     "execution_count": 300,
     "metadata": {},
     "output_type": "execute_result"
    }
   ],
   "source": [
    "almost_there(0)"
   ]
  },
  {
   "cell_type": "code",
   "execution_count": 318,
   "id": "bfa8b688",
   "metadata": {},
   "outputs": [],
   "source": [
    "## return \"hello\" ==> \"hhheellloo\"\n",
    "\n",
    "def triple_word(str):\n",
    "    i = ''\n",
    "    for j in str:\n",
    "        i = i + j *3\n",
    "    return i\n",
    "    "
   ]
  },
  {
   "cell_type": "code",
   "execution_count": 319,
   "id": "c8f6cb1d",
   "metadata": {},
   "outputs": [
    {
     "data": {
      "text/plain": [
       "'AAAjjjiiittt'"
      ]
     },
     "execution_count": 319,
     "metadata": {},
     "output_type": "execute_result"
    }
   ],
   "source": [
    "triple_word('Ajit')"
   ]
  },
  {
   "cell_type": "code",
   "execution_count": 301,
   "id": "e79a4b8c",
   "metadata": {},
   "outputs": [
    {
     "data": {
      "text/plain": [
       "'AjitAjitAjit'"
      ]
     },
     "execution_count": 301,
     "metadata": {},
     "output_type": "execute_result"
    }
   ],
   "source": [
    "'Ajit' *3"
   ]
  },
  {
   "cell_type": "code",
   "execution_count": 333,
   "id": "24ae8c32",
   "metadata": {},
   "outputs": [],
   "source": [
    "# check a number is in range\n",
    "\n",
    "def check_range(n, low, high):\n",
    "    if n in range(low, high+1):\n",
    "        return 'Number in given range'\n",
    "    else:\n",
    "        return 'Number is not in given Range'"
   ]
  },
  {
   "cell_type": "code",
   "execution_count": 334,
   "id": "5bbc6e0f",
   "metadata": {},
   "outputs": [
    {
     "data": {
      "text/plain": [
       "'Number in given range'"
      ]
     },
     "execution_count": 334,
     "metadata": {},
     "output_type": "execute_result"
    }
   ],
   "source": [
    "check_range(2,1,10)"
   ]
  },
  {
   "cell_type": "code",
   "execution_count": 337,
   "id": "9c83d650",
   "metadata": {},
   "outputs": [
    {
     "name": "stdout",
     "output_type": "stream",
     "text": [
      "1\n",
      "2\n",
      "3\n",
      "4\n",
      "5\n",
      "Number in given range\n"
     ]
    }
   ],
   "source": [
    "n=5\n",
    "for i in range(1, 10+1):\n",
    "    print(i)\n",
    "    if i == n:\n",
    "        print('Number in given range')\n",
    "        break"
   ]
  },
  {
   "cell_type": "code",
   "execution_count": 348,
   "id": "deb9fe47",
   "metadata": {},
   "outputs": [],
   "source": [
    "# count upper letter and lower letter in string\n",
    "\n",
    "def count(str):\n",
    "    lower = 0\n",
    "    upper = 0\n",
    "    for i in str:\n",
    "        if i.isupper():\n",
    "            upper = upper + 1\n",
    "        else:\n",
    "            lower = lower+1\n",
    "    print('Total Upper = {} and Lower = {}'.format(upper, lower))"
   ]
  },
  {
   "cell_type": "code",
   "execution_count": 349,
   "id": "0544342b",
   "metadata": {},
   "outputs": [
    {
     "name": "stdout",
     "output_type": "stream",
     "text": [
      "Total Upper = 4 and Lower = 6\n"
     ]
    }
   ],
   "source": [
    "count('AjitmaDAMe')"
   ]
  },
  {
   "cell_type": "code",
   "execution_count": 329,
   "id": "03abd4cf",
   "metadata": {},
   "outputs": [
    {
     "name": "stdout",
     "output_type": "stream",
     "text": [
      "Total Upper 4 and total lower 34\n"
     ]
    }
   ],
   "source": [
    "def count(str):\n",
    "    lower = 0\n",
    "    upper = 0\n",
    "    for i in str:\n",
    "        if i.isupper():\n",
    "            upper = upper + 1\n",
    "        else:\n",
    "            lower = lower + 1\n",
    "            \n",
    "    print('Total Upper {} and total lower {}'.format(upper, lower))\n",
    "count('ajit madame Ajit Madame Bhandara Noida')"
   ]
  },
  {
   "cell_type": "code",
   "execution_count": 332,
   "id": "ccf32278",
   "metadata": {},
   "outputs": [
    {
     "name": "stdout",
     "output_type": "stream",
     "text": [
      "Total Upper 0 and Total Lower 8\n"
     ]
    }
   ],
   "source": [
    "def count(str):\n",
    "    lower = 0\n",
    "    upper = 0\n",
    "    st = str.split()\n",
    "#     st = str\n",
    "    for i in st:\n",
    "        if i.isupper():\n",
    "            upper = upper + 1\n",
    "#             print(upper)\n",
    "        else:\n",
    "            lower = lower + 1\n",
    "#             print(lower)\n",
    "    print('Total Upper {} and Total Lower {}'.format(upper, lower))\n",
    "    \n",
    "count('Ajit Madame ajit madame Noida bhandara ajit madame')"
   ]
  },
  {
   "cell_type": "code",
   "execution_count": null,
   "id": "29b68036",
   "metadata": {},
   "outputs": [],
   "source": []
  },
  {
   "cell_type": "code",
   "execution_count": null,
   "id": "3a9333fb",
   "metadata": {},
   "outputs": [],
   "source": []
  },
  {
   "cell_type": "code",
   "execution_count": 23,
   "id": "ebab509f",
   "metadata": {},
   "outputs": [
    {
     "data": {
      "text/plain": [
       "[1, 7, 2, 3, 4, 5, 6]"
      ]
     },
     "execution_count": 23,
     "metadata": {},
     "output_type": "execute_result"
    }
   ],
   "source": [
    "def unique(lst):\n",
    "    l1 = []\n",
    "    for i in lst:\n",
    "        if i not in l1:\n",
    "            l1.append(i)\n",
    "    return l1\n",
    "\n",
    "unique([1,7,2,3,4,3,5,2,1,6])"
   ]
  },
  {
   "cell_type": "code",
   "execution_count": null,
   "id": "4651045c",
   "metadata": {},
   "outputs": [],
   "source": []
  },
  {
   "cell_type": "code",
   "execution_count": null,
   "id": "61196476",
   "metadata": {},
   "outputs": [],
   "source": []
  },
  {
   "cell_type": "code",
   "execution_count": 364,
   "id": "cad34541",
   "metadata": {},
   "outputs": [],
   "source": [
    "# take list and return unique element\n",
    "\n",
    "def unique_return(lst):\n",
    "    l = []\n",
    "    for i in lst:\n",
    "        if i in l:  # if i not in lst:\n",
    "            pass\n",
    "        else:\n",
    "            l.append(i)\n",
    "    return l"
   ]
  },
  {
   "cell_type": "code",
   "execution_count": 365,
   "id": "5c06a0e3",
   "metadata": {},
   "outputs": [
    {
     "data": {
      "text/plain": [
       "[1, 2, 3, 5, 6]"
      ]
     },
     "execution_count": 365,
     "metadata": {},
     "output_type": "execute_result"
    }
   ],
   "source": [
    "unique_return(l)"
   ]
  },
  {
   "cell_type": "code",
   "execution_count": 161,
   "id": "c85abd5e",
   "metadata": {},
   "outputs": [
    {
     "name": "stdout",
     "output_type": "stream",
     "text": [
      "Not Prime\n",
      "Not Prime\n",
      "Prime\n",
      "Prime\n",
      "Not Prime\n"
     ]
    }
   ],
   "source": [
    "def is_prime(num):\n",
    "    if num <= 1:  # 0, 1, and negative numbers are not prime\n",
    "        print(\"Not Prime\")\n",
    "        return\n",
    "    for i in range(2, int(num**0.5) + 1):\n",
    "        if num % i == 0:\n",
    "            print(\"Not Prime\")\n",
    "            return\n",
    "    print(\"Prime\")\n",
    "\n",
    "# Test cases\n",
    "is_prime(0)  # Not Prime\n",
    "is_prime(1)  # Not Prime\n",
    "is_prime(2)  # Prime\n",
    "is_prime(17) # Prime\n",
    "is_prime(25) # Not Prime\n"
   ]
  },
  {
   "cell_type": "code",
   "execution_count": 307,
   "id": "9ce8cd01",
   "metadata": {},
   "outputs": [],
   "source": [
    "def prime(num):\n",
    "    if num <= 1:\n",
    "        print('Not Prime')\n",
    "        return \n",
    "    for i in range(2, int(num ** 0.5)+1):\n",
    "        if num %i == 0:\n",
    "            print('Not Prime')\n",
    "            return \n",
    "        print('Prime')\n",
    "        \n",
    "prime(2)"
   ]
  },
  {
   "cell_type": "code",
   "execution_count": null,
   "id": "3eebe5a9",
   "metadata": {},
   "outputs": [],
   "source": []
  },
  {
   "cell_type": "code",
   "execution_count": 380,
   "id": "cd0ede01",
   "metadata": {},
   "outputs": [],
   "source": [
    "# 1st and 4th letter in capital after reverse the strin\n",
    "def string(str):\n",
    "    st1 = str.lower()\n",
    "    result = st1[::-1]\n",
    "    result1 = result[0].upper() + result[1:3] + result[3].upper() + result[4::]\n",
    "    return result1"
   ]
  },
  {
   "cell_type": "code",
   "execution_count": 381,
   "id": "70516b2e",
   "metadata": {},
   "outputs": [
    {
     "data": {
      "text/plain": [
       "'PamDnim'"
      ]
     },
     "execution_count": 381,
     "metadata": {},
     "output_type": "execute_result"
    }
   ],
   "source": [
    "string('MindMap')"
   ]
  },
  {
   "cell_type": "code",
   "execution_count": 377,
   "id": "d82faaea",
   "metadata": {},
   "outputs": [],
   "source": [
    "def string1(str):\n",
    "    st = str.lower()\n",
    "    result = \"\"\n",
    "    for i in range(len(st)):\n",
    "        if i == 0 or i == 3:\n",
    "            result += st[-(i+1)].upper()\n",
    "        else:\n",
    "            result += st[-(i+1)]\n",
    "    return result"
   ]
  },
  {
   "cell_type": "code",
   "execution_count": 378,
   "id": "c3c12185",
   "metadata": {},
   "outputs": [
    {
     "data": {
      "text/plain": [
       "'PamDnim'"
      ]
     },
     "execution_count": 378,
     "metadata": {},
     "output_type": "execute_result"
    }
   ],
   "source": [
    "string1(\"mindmap\")"
   ]
  },
  {
   "cell_type": "code",
   "execution_count": 26,
   "id": "b6dca4a6",
   "metadata": {},
   "outputs": [
    {
     "data": {
      "text/plain": [
       "1000000"
      ]
     },
     "execution_count": 26,
     "metadata": {},
     "output_type": "execute_result"
    }
   ],
   "source": [
    "20000*50"
   ]
  },
  {
   "cell_type": "code",
   "execution_count": null,
   "id": "f2cacd21",
   "metadata": {},
   "outputs": [],
   "source": []
  },
  {
   "cell_type": "code",
   "execution_count": null,
   "id": "0af57410",
   "metadata": {},
   "outputs": [],
   "source": []
  },
  {
   "cell_type": "code",
   "execution_count": 88,
   "id": "d96fb2b3",
   "metadata": {},
   "outputs": [
    {
     "data": {
      "text/plain": [
       "'PamDnim'"
      ]
     },
     "execution_count": 88,
     "metadata": {},
     "output_type": "execute_result"
    }
   ],
   "source": [
    "def string(str):\n",
    "    st = str.lower()\n",
    "    result = \"\"\n",
    "    for i in range(len(st)):\n",
    "        if i==0 or i==3:\n",
    "            result += st[-(i+1)].upper()\n",
    "        else:\n",
    "            result += st[-(i+1)]\n",
    "    return result\n",
    "\n",
    "string('mindmap')"
   ]
  },
  {
   "cell_type": "code",
   "execution_count": null,
   "id": "6c0d6228",
   "metadata": {},
   "outputs": [],
   "source": []
  },
  {
   "cell_type": "code",
   "execution_count": null,
   "id": "2aa558a9",
   "metadata": {},
   "outputs": [],
   "source": []
  },
  {
   "cell_type": "code",
   "execution_count": null,
   "id": "8cb2dfe3",
   "metadata": {},
   "outputs": [],
   "source": []
  },
  {
   "cell_type": "code",
   "execution_count": 413,
   "id": "b294819b",
   "metadata": {},
   "outputs": [
    {
     "name": "stdout",
     "output_type": "stream",
     "text": [
      "* \n",
      "* * \n",
      "* * * \n",
      "* * * * \n",
      "* * * * * \n"
     ]
    }
   ],
   "source": [
    "#draw a pattern where each row has an increasing number of asterisk\n",
    "def draw_pattern(rows):\n",
    "    for i in range(1, rows + 1):\n",
    "        for j in range(1, i + 1):\n",
    "            print(\"*\", end=\" \")\n",
    "        print()\n",
    "\n",
    "# Example usage\n",
    "draw_pattern(5)\n"
   ]
  },
  {
   "cell_type": "code",
   "execution_count": 414,
   "id": "ac2df064",
   "metadata": {},
   "outputs": [],
   "source": [
    "def draw_pattern(rows):\n",
    "    for i in range(1, rows+1):\n",
    "        for j in range(1, i+1):\n",
    "            print('#', end=' ')\n",
    "        print()"
   ]
  },
  {
   "cell_type": "code",
   "execution_count": 415,
   "id": "2a9b7ec7",
   "metadata": {},
   "outputs": [
    {
     "name": "stdout",
     "output_type": "stream",
     "text": [
      "# \n",
      "# # \n",
      "# # # \n",
      "# # # # \n",
      "# # # # # \n",
      "# # # # # # \n"
     ]
    }
   ],
   "source": [
    "draw_pattern(6)"
   ]
  },
  {
   "cell_type": "code",
   "execution_count": 418,
   "id": "2d01892a",
   "metadata": {},
   "outputs": [
    {
     "name": "stdout",
     "output_type": "stream",
     "text": [
      "* \n",
      "* * \n",
      "* * * \n",
      "* * * * \n",
      "* * * * * \n"
     ]
    }
   ],
   "source": [
    "def draw_pattern1(rows):\n",
    "    for i in range(1, rows + 1):\n",
    "        print(\"* \" * i)\n",
    "\n",
    "draw_pattern1(5)\n"
   ]
  },
  {
   "cell_type": "code",
   "execution_count": 419,
   "id": "7102207c",
   "metadata": {},
   "outputs": [
    {
     "name": "stdout",
     "output_type": "stream",
     "text": [
      "@@@@@\n",
      "@@@@\n",
      "@@@\n",
      "@@\n",
      "@\n"
     ]
    }
   ],
   "source": [
    "def inv_draw(row):\n",
    "    for i in range(row, 0, -1):\n",
    "        print('@' * i)\n",
    "inv_draw(5)"
   ]
  },
  {
   "cell_type": "code",
   "execution_count": 422,
   "id": "a476732d",
   "metadata": {},
   "outputs": [
    {
     "name": "stdout",
     "output_type": "stream",
     "text": [
      "     * \n",
      "    * * \n",
      "   * * * \n",
      "  * * * * \n",
      " * * * * * \n",
      "* * * * * * \n"
     ]
    }
   ],
   "source": [
    "def tringle_pattern(row):\n",
    "    for i in range(1, row +1):\n",
    "        print(' '*(row -i) + '* ' * i)\n",
    "tringle_pattern(6)"
   ]
  },
  {
   "cell_type": "code",
   "execution_count": 424,
   "id": "83dbf7ed",
   "metadata": {},
   "outputs": [
    {
     "name": "stdout",
     "output_type": "stream",
     "text": [
      "* * * * * * \n",
      " * * * * * \n",
      "  * * * * \n",
      "   * * * \n",
      "    * * \n",
      "     * \n"
     ]
    }
   ],
   "source": [
    "def inv_triangle(row):\n",
    "    for i in range(row, 0 ,-1):\n",
    "        print(\" \"* (row - i) + \"* \" * i)\n",
    "        \n",
    "inv_triangle(6)"
   ]
  },
  {
   "cell_type": "code",
   "execution_count": 436,
   "id": "8b5c2e2e",
   "metadata": {},
   "outputs": [
    {
     "name": "stdout",
     "output_type": "stream",
     "text": [
      "* * * * * * \n",
      "*        *\n",
      "*        *\n",
      "*        *\n",
      "*        *\n",
      "* * * * * * \n"
     ]
    }
   ],
   "source": [
    "def draw_pattern5(rows):\n",
    "    for i in range(1, rows + 1):\n",
    "        if i == 1 or i == rows:\n",
    "            print(\"* \" * rows)\n",
    "        else:\n",
    "            print(\"* \" + \" \" * (rows + 1) + \"*\")\n",
    "\n",
    "draw_pattern5(6)\n"
   ]
  },
  {
   "cell_type": "code",
   "execution_count": 437,
   "id": "af833184",
   "metadata": {},
   "outputs": [
    {
     "name": "stdout",
     "output_type": "stream",
     "text": [
      "1 \n",
      "1 2 \n",
      "1 2 3 \n",
      "1 2 3 4 \n",
      "1 2 3 4 5 \n"
     ]
    }
   ],
   "source": [
    "def draw_pattern6(rows):\n",
    "    for i in range(1, rows + 1):\n",
    "        for j in range(1, i + 1):\n",
    "            print(j, end=\" \")\n",
    "        print()\n",
    "\n",
    "draw_pattern6(5)\n"
   ]
  },
  {
   "cell_type": "code",
   "execution_count": 442,
   "id": "027f6e43",
   "metadata": {},
   "outputs": [
    {
     "name": "stdout",
     "output_type": "stream",
     "text": [
      "1 \n",
      "1 2 \n",
      "1 2 3 \n",
      "1 2 3 4 \n",
      "1 2 3 4 5 \n"
     ]
    }
   ],
   "source": [
    "def draw(row):\n",
    "    for i in range(1, row+1):\n",
    "        for j in range(1, i+1):\n",
    "            print(j, end=\" \")\n",
    "        print()\n",
    "\n",
    "draw(5)"
   ]
  },
  {
   "cell_type": "code",
   "execution_count": 445,
   "id": "66e06b2f",
   "metadata": {},
   "outputs": [
    {
     "name": "stdout",
     "output_type": "stream",
     "text": [
      "A \n",
      "A B \n",
      "A B C \n",
      "A B C D \n",
      "A B C D E \n"
     ]
    }
   ],
   "source": [
    "def draw1(row):\n",
    "    for i in range(1, row+1):\n",
    "        for j in range(1, i+1):\n",
    "            print(chr(64 + j), end=' ')\n",
    "        print()\n",
    "        \n",
    "draw1(5)"
   ]
  },
  {
   "cell_type": "code",
   "execution_count": 50,
   "id": "385e2a5c",
   "metadata": {},
   "outputs": [
    {
     "name": "stdout",
     "output_type": "stream",
     "text": [
      "    1 \n",
      "   1 2 \n",
      "  1 2 3 \n",
      " 1 2 3 4 \n",
      "1 2 3 4 5 \n"
     ]
    }
   ],
   "source": [
    "def draw(n):\n",
    "    for i in range(1, n+1):\n",
    "        print(\" \"*(n-i), end = '')\n",
    "        for j in range(1, i+1):\n",
    "            print(j, end=\" \")\n",
    "        print()\n",
    "        \n",
    "draw(5)"
   ]
  },
  {
   "cell_type": "code",
   "execution_count": 51,
   "id": "8acff9cf",
   "metadata": {},
   "outputs": [
    {
     "name": "stdout",
     "output_type": "stream",
     "text": [
      "1 2 3 4 5 \n",
      " 1 2 3 4 \n",
      "  1 2 3 \n",
      "   1 2 \n",
      "    1 \n"
     ]
    }
   ],
   "source": [
    "def draw1(n):\n",
    "    for i in range(n,0, -1):\n",
    "        print(\" \"*(n-i), end=\"\")\n",
    "        for j in range(1, i+1):\n",
    "            print(j, end=\" \")\n",
    "        print()\n",
    "        \n",
    "draw1(5)"
   ]
  },
  {
   "cell_type": "code",
   "execution_count": 52,
   "id": "ed7ca666",
   "metadata": {},
   "outputs": [
    {
     "name": "stdout",
     "output_type": "stream",
     "text": [
      "* * * * * \n",
      " * * * * \n",
      "  * * * \n",
      "   * * \n",
      "    * \n",
      "\n"
     ]
    }
   ],
   "source": [
    "def draw(n):\n",
    "    for i in range(n, 0, -1):\n",
    "        print(\" \"* (n-i) + \"* \" * i)\n",
    "    print()\n",
    "draw(5)"
   ]
  },
  {
   "cell_type": "code",
   "execution_count": 57,
   "id": "263afd1e",
   "metadata": {},
   "outputs": [
    {
     "name": "stdout",
     "output_type": "stream",
     "text": [
      "1 2 3 4 5 \n",
      " 1 2 3 4 \n",
      "  1 2 3 \n",
      "   1 2 \n",
      "    1 \n"
     ]
    }
   ],
   "source": [
    "def draw(n):\n",
    "    for i in range(n, 0, -1):\n",
    "        print(\" \"*(n-i), end=\"\")\n",
    "        for j in range(1, i+1):\n",
    "            print(j, end=\" \")\n",
    "        print()\n",
    "draw(5)"
   ]
  },
  {
   "cell_type": "code",
   "execution_count": null,
   "id": "74d046f4",
   "metadata": {},
   "outputs": [],
   "source": []
  },
  {
   "cell_type": "code",
   "execution_count": 450,
   "id": "246e52d3",
   "metadata": {},
   "outputs": [
    {
     "name": "stdout",
     "output_type": "stream",
     "text": [
      "    1 \n",
      "   1 2 \n",
      "  1 2 3 \n",
      " 1 2 3 4 \n",
      "1 2 3 4 5 \n"
     ]
    }
   ],
   "source": [
    "def draw_pattern8(rows):\n",
    "    for i in range(1, rows + 1):\n",
    "        print(\" \" * (rows - i), end=\"\")\n",
    "        for j in range(1, i + 1):\n",
    "            print(j, end=\" \")\n",
    "        print()\n",
    "\n",
    "draw_pattern8(5)\n"
   ]
  },
  {
   "cell_type": "code",
   "execution_count": 453,
   "id": "b3f5b097",
   "metadata": {},
   "outputs": [
    {
     "name": "stdout",
     "output_type": "stream",
     "text": [
      "    A \n",
      "   A B \n",
      "  A B C \n",
      " A B C D \n",
      "A B C D E \n"
     ]
    }
   ],
   "source": [
    "def draw(row):\n",
    "    for i in range(1, row+1):\n",
    "        print(\" \"*(row -i), end='')\n",
    "        for j in range(1, i+1):\n",
    "            print(chr(64 + j), end=' ')\n",
    "            #print(j, end=' ')\n",
    "        print()\n",
    "\n",
    "draw(5)"
   ]
  },
  {
   "cell_type": "code",
   "execution_count": 460,
   "id": "13ad037a",
   "metadata": {},
   "outputs": [
    {
     "name": "stdout",
     "output_type": "stream",
     "text": [
      "    A \n",
      "   A B \n",
      "  A B C \n",
      " A B C D \n",
      "A B C D E \n"
     ]
    }
   ],
   "source": [
    "def draw11(row):\n",
    "    for i in range(1, row+1):\n",
    "        print(\" \"*(row - i), end='')\n",
    "        for j in range(1, i +1):\n",
    "            print(chr(64 + j), end=' ')\n",
    "        print()\n",
    "draw11(5)"
   ]
  },
  {
   "cell_type": "code",
   "execution_count": 58,
   "id": "abe12e8a",
   "metadata": {},
   "outputs": [
    {
     "name": "stdout",
     "output_type": "stream",
     "text": [
      "A B C D E \n",
      " A B C D \n",
      "  A B C \n",
      "   A B \n",
      "    A \n"
     ]
    }
   ],
   "source": [
    "def draw1(n):\n",
    "    for i in range(n, 0, -1):\n",
    "        print(\" \"*(n-i), end=\"\")\n",
    "        for j in range(1, i+1):\n",
    "            print(chr(64+j), end=\" \")\n",
    "        print()\n",
    "        \n",
    "draw1(5)"
   ]
  },
  {
   "cell_type": "code",
   "execution_count": 106,
   "id": "404683dd",
   "metadata": {},
   "outputs": [
    {
     "name": "stdout",
     "output_type": "stream",
     "text": [
      "    A \n",
      "   A B \n",
      "  A B C \n",
      " A B C D \n",
      "A B C D E \n"
     ]
    }
   ],
   "source": [
    "def draw(row):\n",
    "    for i in range(1, row+1):\n",
    "        print(' '*(row-i), end='')\n",
    "        for j in range(1, i+1):\n",
    "            print(chr(64+j),end=' ')\n",
    "        print()\n",
    "        \n",
    "draw(5)"
   ]
  },
  {
   "cell_type": "code",
   "execution_count": 112,
   "id": "d56c97ae",
   "metadata": {},
   "outputs": [
    {
     "name": "stdout",
     "output_type": "stream",
     "text": [
      "1 \n",
      "1 2 \n",
      "1 2 3 \n",
      "1 2 3 4 \n",
      "1 2 3 4 5 \n"
     ]
    }
   ],
   "source": [
    "def draw(row):\n",
    "    for i in range(1,row+1):\n",
    "        for j in range(1,i+1):\n",
    "            print(j,end=' ')\n",
    "        print()\n",
    "draw(5)"
   ]
  },
  {
   "cell_type": "code",
   "execution_count": null,
   "id": "a77f0c02",
   "metadata": {},
   "outputs": [],
   "source": []
  },
  {
   "cell_type": "code",
   "execution_count": 53,
   "id": "9358aa8f",
   "metadata": {},
   "outputs": [],
   "source": [
    "def count_word(str):\n",
    "    st = str.lower()\n",
    "    words = st.split()\n",
    "    count_words= {}\n",
    "    for word in words:\n",
    "        if word in count_words:\n",
    "            count_words[word]+=1\n",
    "        else:\n",
    "            count_words[word]=1\n",
    "    return count_words"
   ]
  },
  {
   "cell_type": "code",
   "execution_count": 54,
   "id": "02f09569",
   "metadata": {},
   "outputs": [
    {
     "data": {
      "text/plain": [
       "{'ajit': 3,\n",
       " 'madame': 2,\n",
       " 'usaragondi': 1,\n",
       " 'bhandara': 1,\n",
       " 'delhi': 1,\n",
       " 'noida': 1}"
      ]
     },
     "execution_count": 54,
     "metadata": {},
     "output_type": "execute_result"
    }
   ],
   "source": [
    "str1 = \"Ajit madame usaragondi Bhandara Delhi Noida Ajit Madame ajit\"\n",
    "count_word(str1)"
   ]
  },
  {
   "cell_type": "code",
   "execution_count": 56,
   "id": "c857a4b7",
   "metadata": {},
   "outputs": [
    {
     "data": {
      "text/plain": [
       "{'ajit': 3,\n",
       " 'madame': 2,\n",
       " 'usaragondi': 1,\n",
       " 'bhandara': 1,\n",
       " 'delhi': 1,\n",
       " 'noida': 1}"
      ]
     },
     "execution_count": 56,
     "metadata": {},
     "output_type": "execute_result"
    }
   ],
   "source": [
    "def word_count(str):\n",
    "    str = str.lower()\n",
    "    words = str.split()\n",
    "    word_count = {}\n",
    "    for word in words:\n",
    "        if word in word_count:\n",
    "            word_count[word]+=1\n",
    "        else:\n",
    "            word_count[word] = 1\n",
    "    return word_count\n",
    "\n",
    "word_count(str1)"
   ]
  },
  {
   "cell_type": "code",
   "execution_count": null,
   "id": "1a85a941",
   "metadata": {},
   "outputs": [],
   "source": []
  },
  {
   "cell_type": "code",
   "execution_count": null,
   "id": "58de955c",
   "metadata": {},
   "outputs": [],
   "source": []
  },
  {
   "cell_type": "code",
   "execution_count": null,
   "id": "913ee6f8",
   "metadata": {},
   "outputs": [],
   "source": []
  },
  {
   "cell_type": "code",
   "execution_count": 81,
   "id": "c9fe8bc6",
   "metadata": {},
   "outputs": [
    {
     "data": {
      "text/plain": [
       "[123, 456]"
      ]
     },
     "execution_count": 81,
     "metadata": {},
     "output_type": "execute_result"
    }
   ],
   "source": [
    "#get int for list\n",
    "\n",
    "lst = ['Ajit',123, 456, 'Madame']\n",
    "l1=[]\n",
    "for i in lst:\n",
    "    if isinstance(i, int):\n",
    "        l1.append(i)\n",
    "l1"
   ]
  },
  {
   "cell_type": "code",
   "execution_count": 102,
   "id": "2ffae62e",
   "metadata": {},
   "outputs": [
    {
     "data": {
      "text/plain": [
       "[123, 456]"
      ]
     },
     "execution_count": 102,
     "metadata": {},
     "output_type": "execute_result"
    }
   ],
   "source": [
    "l1"
   ]
  },
  {
   "cell_type": "code",
   "execution_count": 100,
   "id": "6ade8d83",
   "metadata": {},
   "outputs": [
    {
     "data": {
      "text/plain": [
       "type"
      ]
     },
     "execution_count": 100,
     "metadata": {},
     "output_type": "execute_result"
    }
   ],
   "source": [
    "a"
   ]
  },
  {
   "cell_type": "code",
   "execution_count": 84,
   "id": "952a421b",
   "metadata": {},
   "outputs": [
    {
     "data": {
      "text/plain": [
       "['123', '456']"
      ]
     },
     "execution_count": 84,
     "metadata": {},
     "output_type": "execute_result"
    }
   ],
   "source": [
    "def isdigit(str):\n",
    "    str1 = str.split()\n",
    "    l1 = []\n",
    "    for i in str1:\n",
    "        if i.isdigit():\n",
    "            l1.append(i)\n",
    "    return l1\n",
    "\n",
    "str1 = 'Ajit madame 123 456 Bhandara'\n",
    "isdigit(str1)"
   ]
  },
  {
   "cell_type": "code",
   "execution_count": null,
   "id": "94e4f3f5",
   "metadata": {},
   "outputs": [],
   "source": []
  },
  {
   "cell_type": "code",
   "execution_count": 137,
   "id": "b3de3498",
   "metadata": {},
   "outputs": [
    {
     "data": {
      "text/plain": [
       "['123', '456']"
      ]
     },
     "execution_count": 137,
     "metadata": {},
     "output_type": "execute_result"
    }
   ],
   "source": [
    "def get_digit(str):\n",
    "    l1 = []\n",
    "    st = str.split()\n",
    "    for i in st:\n",
    "        if i.isdigit():\n",
    "            l1.append(i)\n",
    "    return l1\n",
    "            \n",
    "get_digit('ajit 123 madame usaragondi 456')"
   ]
  },
  {
   "cell_type": "code",
   "execution_count": 139,
   "id": "85b70552",
   "metadata": {},
   "outputs": [
    {
     "data": {
      "text/plain": [
       "[123, 234]"
      ]
     },
     "execution_count": 139,
     "metadata": {},
     "output_type": "execute_result"
    }
   ],
   "source": [
    "def digit(lst):\n",
    "    l1 = []\n",
    "    for i in lst:\n",
    "        if isinstance(i,int):\n",
    "            l1.append(i)\n",
    "    return l1\n",
    "\n",
    "digit(['Ajit',123,'Madame',234])"
   ]
  },
  {
   "cell_type": "code",
   "execution_count": null,
   "id": "07b73beb",
   "metadata": {},
   "outputs": [],
   "source": []
  },
  {
   "cell_type": "code",
   "execution_count": 186,
   "id": "0c7e3bb1",
   "metadata": {},
   "outputs": [
    {
     "name": "stdout",
     "output_type": "stream",
     "text": [
      "Error: Division by zero is not allowed.\n"
     ]
    }
   ],
   "source": [
    "def divide_numbers(numerator, denominator):\n",
    "    try:\n",
    "        result = numerator / denominator\n",
    "    except ZeroDivisionError:\n",
    "        print(\"Error: Division by zero is not allowed.\")\n",
    "        result = None\n",
    "    return result\n",
    "\n",
    "# Example usage:\n",
    "numerator = 10\n",
    "denominator = 0\n",
    "\n",
    "result = divide_numbers(numerator, denominator)\n",
    "if result is not None:\n",
    "    print(f\"The result of {numerator} divided by {denominator} is {result}.\")\n"
   ]
  },
  {
   "cell_type": "code",
   "execution_count": 200,
   "id": "b6f4cdce",
   "metadata": {},
   "outputs": [
    {
     "name": "stdout",
     "output_type": "stream",
     "text": [
      "division by zero\n"
     ]
    }
   ],
   "source": [
    "def divide_num(nume, deno):\n",
    "    try:\n",
    "        result = nume / deno\n",
    "    except Exception as e:\n",
    "        print(e)\n",
    "        result = None\n",
    "    return result\n",
    "nume = 10\n",
    "deno = 0\n",
    "\n",
    "result = divide_num(nume, deno)\n",
    "\n",
    "if result is not None:\n",
    "    print(f\"The Result of {nume} divided by {deno} is {result}.\")"
   ]
  },
  {
   "cell_type": "code",
   "execution_count": 205,
   "id": "17b31c21",
   "metadata": {},
   "outputs": [
    {
     "name": "stdout",
     "output_type": "stream",
     "text": [
      "Error: The file 'non_existent_file.txt' does not exist.\n"
     ]
    }
   ],
   "source": [
    "# Problem: Reading a File That Doesn't Exist\n",
    "# You want to read data from a file, but you need to handle the scenario where the file doesn't exist or cannot be opened.\n",
    "\n",
    "def read_file(filename):\n",
    "    try:\n",
    "        with open(filename, 'r') as file:\n",
    "            data = file.read()\n",
    "    except FileNotFoundError:\n",
    "        print(f\"Error: The file '{filename}' does not exist.\")\n",
    "        data = None\n",
    "    except PermissionError:\n",
    "        print(f\"Error: You do not have permission to read the file '{filename}'.\")\n",
    "        data = None\n",
    "    except Exception as e:\n",
    "        print(f\"An unexpected error occurred: {e}\")\n",
    "        data = None\n",
    "    return data\n",
    "\n",
    "# Example usage:\n",
    "filename = \"non_existent_file.txt\"\n",
    "#filename = r\"C:\\Users\\ASUS\\Desktop\\unet.jpg\"\n",
    "file_data = read_file(filename)\n",
    "if file_data is not None:\n",
    "    print(f\"Data read from '{filename}':\\n{file_data}\")\n"
   ]
  },
  {
   "cell_type": "code",
   "execution_count": 220,
   "id": "7e61a080",
   "metadata": {},
   "outputs": [
    {
     "name": "stdout",
     "output_type": "stream",
     "text": [
      "'charmap' codec can't decode byte 0x81 in position 271: character maps to <undefined>\n"
     ]
    }
   ],
   "source": [
    "def read_file(filename):\n",
    "    try:\n",
    "        with open(filename, 'r') as file:\n",
    "            data = file.read()\n",
    "    except FileNotFoundError:\n",
    "        print('f\"Error: The File \"{filename}\" does not exist')\n",
    "        data = None\n",
    "    except Exception as e:\n",
    "        print(e)\n",
    "        data = None\n",
    "    return data\n",
    "\n",
    "\n",
    "#filename = \"test.txt\"\n",
    "filename = r\"D:\\Ajit\\cv2_try\\image\\53500107_d24b11b3c2_b.jpg\"\n",
    "file_data = read_file(filename)\n",
    "if file_data is not None:\n",
    "    print(f\"Data read from '{filename}':\\n{file_data}\")"
   ]
  },
  {
   "cell_type": "code",
   "execution_count": 221,
   "id": "f448d837",
   "metadata": {},
   "outputs": [
    {
     "name": "stdout",
     "output_type": "stream",
     "text": [
      "Error: Key 'c' not found in the dictionary.\n"
     ]
    }
   ],
   "source": [
    "# Problem: Accessing a Dictionary\n",
    "# You want to access a key in a dictionary, but you need to handle the scenario where the key doesn't exist.\n",
    "\n",
    "def get_value_from_dict(dictionary, key):\n",
    "    try:\n",
    "        value = dictionary[key]\n",
    "        print(f\"The value for key '{key}' is: {value}\")\n",
    "    except KeyError:\n",
    "        print(f\"Error: Key '{key}' not found in the dictionary.\")\n",
    "\n",
    "# Example usage:\n",
    "my_dict = {\"a\": 1, \"b\": 2}\n",
    "get_value_from_dict(my_dict, \"c\")\n"
   ]
  },
  {
   "cell_type": "code",
   "execution_count": 228,
   "id": "4e1f6453",
   "metadata": {},
   "outputs": [
    {
     "name": "stdout",
     "output_type": "stream",
     "text": [
      "Not\n",
      "'1'\n"
     ]
    }
   ],
   "source": [
    "def get_value(dic, key):\n",
    "    try:\n",
    "        value = dic[key]\n",
    "        print(f\"the value for key '{key}' is: {value}\")\n",
    "    except Exception as e:\n",
    "        print('Not')\n",
    "        print(e)\n",
    "\n",
    "dic = {'a':1, \"b\":2,'c':4}\n",
    "get_value(dic,\"1\")"
   ]
  },
  {
   "cell_type": "code",
   "execution_count": 230,
   "id": "98d956f3",
   "metadata": {},
   "outputs": [
    {
     "name": "stdout",
     "output_type": "stream",
     "text": [
      "Key not Found\n"
     ]
    }
   ],
   "source": [
    "def get_value(dic, key):\n",
    "    try:\n",
    "        value = dic[key]\n",
    "        print(f\"the value for key '{key}' is: {value}\")\n",
    "    except KeyError:\n",
    "        print('Key not Found')\n",
    "            \n",
    "\n",
    "dic = {'a':1, \"b\":2,'c':4}\n",
    "get_value(dic,\"1\")"
   ]
  },
  {
   "cell_type": "code",
   "execution_count": 231,
   "id": "4191a9f2",
   "metadata": {},
   "outputs": [
    {
     "name": "stdout",
     "output_type": "stream",
     "text": [
      "Error: The attribute does not exist.\n"
     ]
    }
   ],
   "source": [
    "class MyClass:\n",
    "    def __init__(self, value):\n",
    "        self.value = value\n",
    "\n",
    "try:\n",
    "    obj = MyClass(10)\n",
    "    print(obj.non_existent_attribute)\n",
    "except AttributeError:\n",
    "    print(\"Error: The attribute does not exist.\")\n"
   ]
  },
  {
   "cell_type": "code",
   "execution_count": 232,
   "id": "f50629a2",
   "metadata": {},
   "outputs": [
    {
     "name": "stdout",
     "output_type": "stream",
     "text": [
      "Error: File 'data.csv' not found.\n"
     ]
    }
   ],
   "source": [
    "#You want to parse a CSV file, process the data, and perform calculations, \n",
    "#but you need to handle errors such as missing files, invalid data format, or calculation errors.\n",
    "\n",
    "import csv\n",
    "\n",
    "def process_csv_file(filename):\n",
    "    try:\n",
    "        with open(filename, 'r') as file:\n",
    "            reader = csv.reader(file)\n",
    "            next(reader)  # Skip header row\n",
    "            total = 0\n",
    "            for row in reader:\n",
    "                try:\n",
    "                    value = float(row[1])\n",
    "                    total += value\n",
    "                except ValueError:\n",
    "                    print(f\"Invalid data format in row: {row}\")\n",
    "            print(\"Total sum:\", total)\n",
    "    except FileNotFoundError:\n",
    "        print(f\"Error: File '{filename}' not found.\")\n",
    "\n",
    "# Example usage:\n",
    "process_csv_file(\"data.csv\")\n"
   ]
  },
  {
   "cell_type": "code",
   "execution_count": 246,
   "id": "f1c3957c",
   "metadata": {},
   "outputs": [],
   "source": [
    "def process_csv(filename):\n",
    "    try:\n",
    "        with open(filename, 'r') as file:\n",
    "            reader = csv.reader(file)\n",
    "            next(reader)\n",
    "            total = 0\n",
    "            for row in reader:\n",
    "                try:\n",
    "                    value = float(row[1])\n",
    "                    total += value\n",
    "                except ValueError:\n",
    "                    print(f\"Invalid Data Format {row}\")\n",
    "            print('Total Row:- ', total)\n",
    "    except Exception as e:\n",
    "        print(e)"
   ]
  },
  {
   "cell_type": "code",
   "execution_count": 247,
   "id": "c46d650d",
   "metadata": {},
   "outputs": [
    {
     "name": "stdout",
     "output_type": "stream",
     "text": [
      "Invalid Data Format ['3', '', '104', '3', '3', '3.5', '8', '1', '0.72']\n",
      "Invalid Data Format ['13', '', '112', '4', '4', '4.5', '9.1', '1', '0.78']\n",
      "Invalid Data Format ['24', '', '119', '5', '5', '4.5', '9.7', '1', '0.95']\n",
      "Invalid Data Format ['37', '', '106', '2', '4', '4', '8.4', '0', '0.64']\n",
      "Invalid Data Format ['52', '', '100', '2', '1.5', '3.5', '7.9', '1', '0.56']\n",
      "Invalid Data Format ['71', '', '118', '5', '5', '5', '9.64', '1', '0.94']\n",
      "Invalid Data Format ['125', '', '106', '4', '2.5', '3', '8.47', '0', '0.57']\n",
      "Invalid Data Format ['156', '', '109', '3', '3', '3', '8.69', '0', '0.77']\n",
      "Invalid Data Format ['183', '', '100', '2', '3', '3.5', '7.88', '0', '0.68']\n",
      "Invalid Data Format ['219', '', '110', '4', '3', '3.5', '8.97', '1', '0.84']\n",
      "Invalid Data Format ['280', '', '102', '2', '3', '4', '8.73', '0', '0.67']\n",
      "Invalid Data Format ['339', '', '108', '5', '4', '4', '8.74', '1', '0.81']\n",
      "Invalid Data Format ['419', '', '111', '2', '2.5', '4', '8.03', '0', '0.6']\n",
      "Invalid Data Format ['455', '', '105', '2', '3', '3.5', '8.01', '0', '0.71']\n",
      "Invalid Data Format ['490', '', '110', '3', '4', '4.5', '8.5', '0', '0.65']\n",
      "Total Row:-  153531.0\n"
     ]
    }
   ],
   "source": [
    "process_csv(\"F:\\Data Trained csv file\\Admission_Prediction.csv\")"
   ]
  },
  {
   "cell_type": "code",
   "execution_count": 251,
   "id": "8e6d3298",
   "metadata": {},
   "outputs": [
    {
     "name": "stdout",
     "output_type": "stream",
     "text": [
      "         1 \n",
      "        1 2 \n",
      "       1 2 3 \n",
      "      1 2 3 4 \n",
      "     1 2 3 4 5 \n",
      "    1 2 3 4 5 6 \n",
      "   1 2 3 4 5 6 7 \n",
      "  1 2 3 4 5 6 7 8 \n",
      " 1 2 3 4 5 6 7 8 9 \n",
      "1 2 3 4 5 6 7 8 9 10 \n"
     ]
    }
   ],
   "source": [
    "def draw(row):\n",
    "    for i in range(1, row+1):\n",
    "        print(\" \"*(row-i), end='')\n",
    "        for j in range(1,i+1):\n",
    "            print(j, end=' ')\n",
    "#             print(chr(64+j), end=' ')\n",
    "\n",
    "        print()\n",
    "\n",
    "draw(10)"
   ]
  },
  {
   "cell_type": "code",
   "execution_count": 280,
   "id": "24874557",
   "metadata": {},
   "outputs": [
    {
     "name": "stdout",
     "output_type": "stream",
     "text": [
      "    1 \n",
      "   1 2 \n",
      "  1 2 3 \n",
      " 1 2 3 4 \n",
      "1 2 3 4 5 \n"
     ]
    }
   ],
   "source": [
    "def draw(row):\n",
    "    for i in range(1, row+1):\n",
    "        print(\" \"*(row-i), end='')\n",
    "        for j in range(1, i+1):\n",
    "            print(j, end=' ')\n",
    "        print()\n",
    "        \n",
    "draw(5)"
   ]
  },
  {
   "cell_type": "code",
   "execution_count": 283,
   "id": "05ae7365",
   "metadata": {},
   "outputs": [
    {
     "name": "stdout",
     "output_type": "stream",
     "text": [
      "A B C D E \n",
      " A B C D \n",
      "  A B C \n",
      "   A B \n",
      "    A \n"
     ]
    }
   ],
   "source": [
    "def draw(row):\n",
    "    try:\n",
    "        for i in range(row, 0,-1):\n",
    "            print(\" \"*(row-i), end='')\n",
    "            for j in range(1,i+1):\n",
    "                print(chr(64+j), end=' ')\n",
    "            print()\n",
    "    except Exception as e:\n",
    "        print(e)\n",
    "        \n",
    "draw(5)"
   ]
  },
  {
   "cell_type": "code",
   "execution_count": 287,
   "id": "e115006a",
   "metadata": {},
   "outputs": [
    {
     "data": {
      "text/plain": [
       "{'ajit': 2, 'madame': 2, 'bhandara': 2, 'noida': 1}"
      ]
     },
     "execution_count": 287,
     "metadata": {},
     "output_type": "execute_result"
    }
   ],
   "source": [
    "def count(str):\n",
    "    str1 = str.lower()\n",
    "    words = str1.split()\n",
    "    word_count = {}\n",
    "    for word in words:\n",
    "        if word in word_count:\n",
    "            word_count[word] +=1\n",
    "        else:\n",
    "            word_count[word] = 1\n",
    "            \n",
    "    return word_count\n",
    "count('Ajit Madame ajit madame Bhandara bhandara noida')"
   ]
  },
  {
   "cell_type": "code",
   "execution_count": null,
   "id": "df3bfbc0",
   "metadata": {},
   "outputs": [],
   "source": [
    "def count(lst):\n",
    "    \n",
    "    "
   ]
  },
  {
   "cell_type": "code",
   "execution_count": null,
   "id": "85b29f1c",
   "metadata": {},
   "outputs": [],
   "source": []
  },
  {
   "cell_type": "code",
   "execution_count": null,
   "id": "5155d470",
   "metadata": {},
   "outputs": [],
   "source": []
  },
  {
   "cell_type": "code",
   "execution_count": null,
   "id": "ee06efcf",
   "metadata": {},
   "outputs": [],
   "source": []
  },
  {
   "cell_type": "code",
   "execution_count": null,
   "id": "b3c46336",
   "metadata": {},
   "outputs": [],
   "source": []
  },
  {
   "cell_type": "code",
   "execution_count": null,
   "id": "ca242fa8",
   "metadata": {},
   "outputs": [],
   "source": []
  },
  {
   "cell_type": "code",
   "execution_count": null,
   "id": "dee29579",
   "metadata": {},
   "outputs": [],
   "source": []
  },
  {
   "cell_type": "code",
   "execution_count": null,
   "id": "fb109732",
   "metadata": {},
   "outputs": [],
   "source": []
  },
  {
   "cell_type": "code",
   "execution_count": null,
   "id": "57763f61",
   "metadata": {},
   "outputs": [],
   "source": []
  },
  {
   "cell_type": "code",
   "execution_count": 253,
   "id": "c74f9dd2",
   "metadata": {},
   "outputs": [
    {
     "name": "stdout",
     "output_type": "stream",
     "text": [
      "Invalid Data Format ['3', '', '104', '3', '3', '3.5', '8', '1', '0.72']\n",
      "Invalid Data Format ['13', '', '112', '4', '4', '4.5', '9.1', '1', '0.78']\n",
      "Invalid Data Format ['24', '', '119', '5', '5', '4.5', '9.7', '1', '0.95']\n",
      "Invalid Data Format ['37', '', '106', '2', '4', '4', '8.4', '0', '0.64']\n",
      "Invalid Data Format ['52', '', '100', '2', '1.5', '3.5', '7.9', '1', '0.56']\n",
      "Invalid Data Format ['71', '', '118', '5', '5', '5', '9.64', '1', '0.94']\n",
      "Invalid Data Format ['125', '', '106', '4', '2.5', '3', '8.47', '0', '0.57']\n",
      "Invalid Data Format ['156', '', '109', '3', '3', '3', '8.69', '0', '0.77']\n",
      "Invalid Data Format ['183', '', '100', '2', '3', '3.5', '7.88', '0', '0.68']\n",
      "Invalid Data Format ['219', '', '110', '4', '3', '3.5', '8.97', '1', '0.84']\n",
      "Invalid Data Format ['280', '', '102', '2', '3', '4', '8.73', '0', '0.67']\n",
      "Invalid Data Format ['339', '', '108', '5', '4', '4', '8.74', '1', '0.81']\n",
      "Invalid Data Format ['419', '', '111', '2', '2.5', '4', '8.03', '0', '0.6']\n",
      "Invalid Data Format ['455', '', '105', '2', '3', '3.5', '8.01', '0', '0.71']\n",
      "Invalid Data Format ['490', '', '110', '3', '4', '4.5', '8.5', '0', '0.65']\n",
      "Total Rows:-  153531.0\n"
     ]
    }
   ],
   "source": [
    "def process_csv(filename):\n",
    "    try:\n",
    "        with open(filename, 'r') as file:\n",
    "            reader = csv.reader(file)\n",
    "            next(reader)\n",
    "            total = 0\n",
    "            for row in reader:\n",
    "                try:\n",
    "                    value = float(row[1])\n",
    "                    total += value\n",
    "                except ValueError:\n",
    "                    print(f\"Invalid Data Format {row}\")\n",
    "            print('Total Rows:- ', total)\n",
    "    except Exception as e:\n",
    "        print(e)\n",
    "        \n",
    "process_csv(r\"F:\\Data Trained csv file\\Admission_Prediction.csv\")"
   ]
  },
  {
   "cell_type": "code",
   "execution_count": 254,
   "id": "39f61a2c",
   "metadata": {},
   "outputs": [],
   "source": [
    "def black_image(pathe, path2):\n",
    "    try:\n",
    "        if not os.path.isdir(path1) or not os.path.isdir(path2):\n",
    "            raise ValueError('Both path must be valid directories')\n",
    "            \n",
    "        for i in os.listdir(path1):\n",
    "            img_path = os.path.join(path1,i)\n",
    "            img = cv2.imread(img_path)\n",
    "            \n",
    "            if  img is None:\n",
    "                print(f\"Skipping {img_path} as it is not valid iamge\")\n",
    "                continue\n",
    "            img_gray = cv2.cvtColor(img, cv2.COLOR_BGR2GRAY)\n",
    "            \n",
    "            white_pix = np.sum(img_gray == 255)\n",
    "            black_pix = np.sum(img_gray == 0)\n",
    "            \n",
    "            if black_pix >= 150:\n",
    "                move_path = os.path.join(path2, i)\n",
    "                shutil.move(img_path, move_path)\n",
    "                print(f\"Image is Move from {img_path} to {move_path}\")\n",
    "    except Exception as e:\n",
    "        print(e)\n",
    "            "
   ]
  },
  {
   "cell_type": "code",
   "execution_count": 255,
   "id": "447359a3",
   "metadata": {},
   "outputs": [
    {
     "name": "stdout",
     "output_type": "stream",
     "text": [
      "Image is Move from D:\\Ajit\\cv2_try\\image\\145053828_e0e748717c_b.jpg to D:\\Ajit\\cv2_try\\threshold_image\\145053828_e0e748717c_b.jpg\n",
      "Image is Move from D:\\Ajit\\cv2_try\\image\\2685563244_b0d5f7eb67_b.jpg to D:\\Ajit\\cv2_try\\threshold_image\\2685563244_b0d5f7eb67_b.jpg\n",
      "Image is Move from D:\\Ajit\\cv2_try\\image\\489752654_777853a0ba_b.jpg to D:\\Ajit\\cv2_try\\threshold_image\\489752654_777853a0ba_b.jpg\n",
      "Image is Move from D:\\Ajit\\cv2_try\\image\\605521662_a470fef77f_b.jpg to D:\\Ajit\\cv2_try\\threshold_image\\605521662_a470fef77f_b.jpg\n"
     ]
    }
   ],
   "source": [
    "black_image(path1, op_path)"
   ]
  },
  {
   "cell_type": "code",
   "execution_count": null,
   "id": "67e83441",
   "metadata": {},
   "outputs": [],
   "source": [
    "import os\n",
    "import cv2\n",
    "import numpy as np\n",
    "import shutil\n",
    "\n",
    "def black_image(path1, path2):\n",
    "    try:\n",
    "        if not os.path.isdir(path1) or not os.path.isdir(path2):\n",
    "            raise ValueError(\"Both paths must be valid directories\")\n",
    "        \n",
    "        for i in os.listdir(path1):\n",
    "            img_path = os.path.join(path1, i)\n",
    "            img = cv2.imread(img_path)\n",
    "            \n",
    "            if img is None:\n",
    "                print(f\"Skipping {img_path} as it's not a valid image\")\n",
    "                continue\n",
    "            \n",
    "            img_gray = cv2.cvtColor(img, cv2.COLOR_BGR2GRAY)\n",
    "            \n",
    "            white_pix = np.sum(img_gray == 255)\n",
    "            black_pix = np.sum(img_gray == 0)\n",
    "            \n",
    "            if black_pix >= 150:\n",
    "                move_path = os.path.join(path2, i)\n",
    "                shutil.move(img_path, move_path)\n",
    "                print(f\"Move Image {img_path} to {move_path}\")\n",
    "    except FileNotFoundError:\n",
    "        print('File not found.')\n",
    "    except PermissionError:\n",
    "        print('Permission denied.')\n",
    "    except ValueError as ve:\n",
    "        print(ve)\n",
    "    except Exception as e:\n",
    "        print('An error occurred:', e)\n",
    "\n",
    "# Example usage:\n",
    "path1 = '/path/to/source/directory'\n",
    "path2 = '/path/to/target/directory'\n",
    "black_image(path1, path2)\n"
   ]
  },
  {
   "cell_type": "code",
   "execution_count": null,
   "id": "2d389664",
   "metadata": {},
   "outputs": [],
   "source": []
  },
  {
   "cell_type": "code",
   "execution_count": null,
   "id": "8c04b795",
   "metadata": {},
   "outputs": [],
   "source": []
  },
  {
   "cell_type": "code",
   "execution_count": 262,
   "id": "1a97d775",
   "metadata": {},
   "outputs": [],
   "source": [
    "mask_path = r\"D:\\Ajit\\cv2_try\\label_gen_prac\\Images\"\n",
    "image_path =r\"D:\\Ajit\\cv2_try\\label_gen_prac\\mask\""
   ]
  },
  {
   "cell_type": "code",
   "execution_count": null,
   "id": "4adc9744",
   "metadata": {},
   "outputs": [],
   "source": [
    "mask_dir = os.listdir(mask_path)\n",
    "image_dir = os.listdir(image_path)\n",
    "\n",
    "\n",
    "for i in range(len(mask_dir)):\n",
    "    print(mask_path+'/'+mask_dir[j])\n",
    "    mask = cv2.imread(mask_path+\"/\"+mask_dir[j])\n",
    "    print(\"mask is\", np.min(mask))\n",
    "    print(image_path+\"/\"+image_dir[j])\n",
    "    image = cv2.imread(image_path+\"/\"+image_dir[j])\n",
    "    \n",
    "    [He, Wi, band] = image.shape\n",
    "    print(\"h, and w: \", He)\n",
    "    mask = cv2.cvtColor(mask, cv2.COLOR_BGR2GRAY)\n",
    "    print('Mask is: ', np.max(mask))\n",
    "    contours, hierarchy = cv2.findContours(mask, cv2.RETR_EXTERNAL, cv2.CHAIN_APPROX_NONE)\n",
    "    print('Contours: ', contours)\n",
    "    for c in countours:\n",
    "        x, y, w, h = cv2.boundingRect(c)\n",
    "        print('I am in the loop')\n",
    "        pad1, pad2, pad3, pad4 = 2,2,2,2\n",
    "        if (y==0):\n",
    "            pad1 = 0\n",
    "        if (y+h == He):\n",
    "            pad2 = 0\n",
    "        if (x == 0):\n",
    "            pad3 = 0\n",
    "        if (x+w == Wi):\n",
    "            pad4 = 0\n",
    "        c1 = (y-pad1+y+h+pad2)//2\n",
    "        c2 = (x-pad3+x+w+pad4) // 2\n",
    "        fpath = r''+'\\{}'.format(madk_die[j][:-3]+'txt')\n",
    "        print('fpath ', fpath)\n",
    "        \n",
    "        co = str(0) + \" \" + str(c2/Wi) + \" \" + str(c1/He) + \" \" + str(w/Wi) + \" \" + str(h/he)+\"\\n\"\n",
    "        with open(fpath, 'a') as f:\n",
    "            f.write(co)\n",
    "    \n",
    "    "
   ]
  },
  {
   "cell_type": "code",
   "execution_count": null,
   "id": "5e92532e",
   "metadata": {},
   "outputs": [],
   "source": [
    "import cv2\n",
    "import numpy as np\n",
    "import os\n",
    "\n",
    "def generate_yolo_labels(mask_path, class_id):\n",
    "    # Load the mask image (binary mask where objects are white and background is black)\n",
    "    mask = cv2.imread(mask_path, cv2.IMREAD_GRAYSCALE)\n",
    "    \n",
    "    # Find contours in the mask\n",
    "    contours, _ = cv2.findContours(mask, cv2.RETR_EXTERNAL, cv2.CHAIN_APPROX_SIMPLE)\n",
    "    \n",
    "    labels = []\n",
    "    \n",
    "    # Iterate through each contour\n",
    "    for contour in contours:\n",
    "        # Get bounding box coordinates\n",
    "        x, y, w, h = cv2.boundingRect(contour)\n",
    "        \n",
    "        # Calculate center and normalize\n",
    "        x_center = (x + w / 2) / mask.shape[1]\n",
    "        y_center = (y + h / 2) / mask.shape[0]\n",
    "        width = w / mask.shape[1]\n",
    "        height = h / mask.shape[0]\n",
    "        \n",
    "        # Append label to the list\n",
    "        labels.append([class_id, x_center, y_center, width, height])\n",
    "    \n",
    "    return labels\n",
    "\n",
    "# Example usage\n",
    "# Directory containing mask images\n",
    "mask_dir = 'path_to_mask_directory'\n",
    "\n",
    "# Class ID for the objects in the mask images (e.g., 0 for the first class)\n",
    "class_id = 0\n",
    "\n",
    "# Output directory for YOLO labels\n",
    "output_dir = 'yolo_labels'\n",
    "\n",
    "# Create the output directory if it doesn't exist\n",
    "os.makedirs(output_dir, exist_ok=True)\n",
    "\n",
    "# Process each mask image in the directory\n",
    "for filename in os.listdir(mask_dir):\n",
    "    if filename.endswith('.png') or filename.endswith('.jpg'):\n",
    "        mask_path = os.path.join(mask_dir, filename)\n",
    "        # Generate YOLO labels from the mask\n",
    "        yolo_labels = generate_yolo_labels(mask_path, class_id)\n",
    "        # Save labels to a text file\n",
    "        label_file = os.path.splitext(filename)[0] + '.txt'\n",
    "        label_path = os.path.join(output_dir, label_file)\n",
    "        with open(label_path, 'w') as f:\n",
    "            for label in yolo_labels:\n",
    "                f.write(' '.join(map(str, label)) + '\\n')\n"
   ]
  },
  {
   "cell_type": "code",
   "execution_count": null,
   "id": "2a53e2fa",
   "metadata": {},
   "outputs": [],
   "source": [
    "from osgeo import\n",
    "import os\n",
    "\n",
    "path=r'D:\\water_body\\117622_43_RGB_1_Shape_tif'\n",
    "out=r'D:\\water_body\\mask'\n",
    "vector_layer = r\"D:\\water_body\\shp\\WB_Unet_Pred_shp.shp\"\n",
    "\n",
    "file_list = os.listdir(path)\n",
    "i=0\n",
    "for f in file_list:\n",
    "    i = i+1\n",
    "    print(f,i)\n",
    "    if (f.endwith('.tif') or f.endwith('.TIF') or f.endwith('.Tif')):\n",
    "        f1 = os.path.splitext(f)[0]\n",
    "        head, tail = os.path.split(f1)\n",
    "        raster_layer = path+\"/\" + f\n",
    "        target_layer = out+\"/\"+tail+'.png'\n",
    "        \n",
    "        raster_ds = gdal.Open(raster_layer, gdal.GA_ReadOnly)\n",
    "        xSize = raset_ds.RasterXSize\n",
    "        ySize = raster_ds,RasterYSize\n",
    "        geotransform = raster_ds.GetGeoTransform()\n",
    "        projection = raster_ds.GetProjection()\n",
    "        raster_ds.GetProjection()\n",
    "        \n",
    "        driver = gdal.GetDriverByName('GTiff')\n",
    "        target_ds = driver.Create(target_layer,xSize,ySize, bands =1, eType = gdal.GDT_Byte, options = ['COMPRESS=DEFLATE'])\n",
    "        target_ds.SetGeoTransform(geotransform)\n",
    "        target_ds.SetProjection(projection)\n",
    "        \n",
    "        ds = gdal.Rasterize(target_ds, vector_layer, burnValues = [255])\n",
    "        \n",
    "        target_ds = None"
   ]
  },
  {
   "cell_type": "code",
   "execution_count": null,
   "id": "a49409c8",
   "metadata": {},
   "outputs": [],
   "source": []
  },
  {
   "cell_type": "code",
   "execution_count": null,
   "id": "ad720da8",
   "metadata": {},
   "outputs": [],
   "source": [
    "from osgeo import gdal\n",
    "import os\n",
    "\n",
    "def rasterize_vector_to_raster(path, out, vector_layer):\n",
    "    file_list = os.listdir(path)\n",
    "    i = 0\n",
    "    \n",
    "    for f in file_list:\n",
    "        i += 1\n",
    "        print(f, i)\n",
    "        \n",
    "        if f.endswith('.tif') or f.endswith('.TIF') or f.endswith('.Tif'):\n",
    "            try:\n",
    "                f1 = os.path.splitext(f)[0]\n",
    "                head, tail = os.path.split(f1)\n",
    "                raster_layer = os.path.join(path, f)\n",
    "                target_layer = os.path.join(out, tail + '.png')\n",
    "\n",
    "                raster_ds = gdal.Open(raster_layer, gdal.GA_ReadOnly)\n",
    "                xSize = raster_ds.RasterXSize\n",
    "                ySize = raster_ds.RasterYSize\n",
    "                geotransform = raster_ds.GetGeoTransform()\n",
    "                projection = raster_ds.GetProjection()\n",
    "\n",
    "                driver = gdal.GetDriverByName('GTiff')\n",
    "                target_ds = driver.Create(target_layer, xSize, ySize, bands=1, eType=gdal.GDT_Byte, options=['COMPRESS=DEFLATE'])\n",
    "                target_ds.SetGeoTransform(geotransform)\n",
    "                target_ds.SetProjection(projection)\n",
    "\n",
    "                ds = gdal.Rasterize(target_ds, vector_layer, burnValues=[255])\n",
    "\n",
    "                target_ds = None\n",
    "            \n",
    "            except Exception as e:\n",
    "                print(f\"Error processing file '{f}': {e}\")\n",
    "                continue\n",
    "\n",
    "# Example usage:\n",
    "path = r'D:\\water_body\\117622_43_RGB_1_Shape_tif'\n",
    "out = r'D:\\water_body\\mask'\n",
    "vector_layer = r\"D:\\water_body\\shp\\WB_Unet_Pred_shp.shp\"\n",
    "\n",
    "rasterize_vector_to_raster(path, out, vector_layer)\n"
   ]
  },
  {
   "cell_type": "code",
   "execution_count": null,
   "id": "73b9cd9d",
   "metadata": {},
   "outputs": [],
   "source": []
  },
  {
   "cell_type": "code",
   "execution_count": null,
   "id": "d2d70ced",
   "metadata": {},
   "outputs": [],
   "source": []
  },
  {
   "cell_type": "code",
   "execution_count": null,
   "id": "707f5fc8",
   "metadata": {},
   "outputs": [],
   "source": []
  },
  {
   "cell_type": "code",
   "execution_count": null,
   "id": "b9092bc6",
   "metadata": {},
   "outputs": [],
   "source": []
  },
  {
   "cell_type": "code",
   "execution_count": 349,
   "id": "77288ffc",
   "metadata": {},
   "outputs": [],
   "source": [
    "class TreeNode:\n",
    "    def __init__(self, val):\n",
    "        self.val = val\n",
    "        self.left = None\n",
    "        self.right = None\n",
    "        \n",
    "\n",
    "def build_tree(strArr):\n",
    "    nodes = {}\n",
    "    for pair in strArr:\n",
    "        child, parent = map(int, pair.strip('()').split(','))\n",
    "        if parent not in nodes:\n",
    "            nodes[parent] = TreeNode(parent)\n",
    "        if child not in nodes:\n",
    "            nodes[child] = TreeNode(child)\n",
    "        if nodes[parent].left is None:\n",
    "            nodes[parent].left = nodes[child]\n",
    "        elif nodes[parent].right is None:\n",
    "            nodes[parent].right = nodes[child]\n",
    "        else:\n",
    "            return False\n",
    "    root_count = 0\n",
    "    for node in nodes.values():\n",
    "        if node.val not in [n.val for n in nodes.values() if n.left is not None or n.right is not None]:\n",
    "            root_count += 1\n",
    "        if root_count > 1:\n",
    "            return False\n",
    "    return True"
   ]
  },
  {
   "cell_type": "code",
   "execution_count": 350,
   "id": "e5204a6c",
   "metadata": {},
   "outputs": [
    {
     "name": "stdout",
     "output_type": "stream",
     "text": [
      "False\n"
     ]
    }
   ],
   "source": [
    "# Example usage:\n",
    "strArr = [\"(1,2)\", \"(2,4)\", \"(5,7)\", \"(7,4)\", \"(3,8)\", \"(8,7)\", \"(9,8)\"]\n",
    "print(build_tree(strArr))  # Output: True"
   ]
  },
  {
   "cell_type": "code",
   "execution_count": null,
   "id": "88787ba6",
   "metadata": {},
   "outputs": [],
   "source": []
  },
  {
   "cell_type": "code",
   "execution_count": null,
   "id": "b4b0c50a",
   "metadata": {},
   "outputs": [],
   "source": []
  },
  {
   "cell_type": "code",
   "execution_count": 351,
   "id": "69197caa",
   "metadata": {},
   "outputs": [
    {
     "name": "stdout",
     "output_type": "stream",
     "text": [
      "False\n"
     ]
    }
   ],
   "source": [
    "class TreeNode:\n",
    "    def __init__(self, val):\n",
    "        self.val = val\n",
    "        self.left = None\n",
    "        self.right = None\n",
    "\n",
    "def build_tree(strArr):\n",
    "    nodes = {}\n",
    "    for pair in strArr:\n",
    "        child, parent = map(int, pair.strip('()').split(','))\n",
    "        if parent not in nodes:\n",
    "            nodes[parent] = TreeNode(parent)\n",
    "        if child not in nodes:\n",
    "            nodes[child] = TreeNode(child)\n",
    "        if nodes[parent].left is None:\n",
    "            nodes[parent].left = nodes[child]\n",
    "        elif nodes[parent].right is None:\n",
    "            nodes[parent].right = nodes[child]\n",
    "        else:\n",
    "            # Invalid binary tree if a parent already has two children\n",
    "            return False\n",
    "    root_count = 0\n",
    "    for node in nodes.values():\n",
    "        if node.val not in [n.val for n in nodes.values() if n.left is not None or n.right is not None]:\n",
    "            root_count += 1\n",
    "        if root_count > 1:\n",
    "            # More than one root found, invalid binary tree\n",
    "            return False\n",
    "    return True\n",
    "\n",
    "# Example usage:\n",
    "strArr = [\"(1,2)\", \"(2,4)\", \"(5,7)\", \"(7,4)\", \"(3,8)\", \"(8,7)\", \"(9,8)\"]\n",
    "print(build_tree(strArr))  # Output: True\n"
   ]
  },
  {
   "cell_type": "code",
   "execution_count": 359,
   "id": "c3cb0191",
   "metadata": {},
   "outputs": [
    {
     "data": {
      "text/plain": [
       "20"
      ]
     },
     "execution_count": 359,
     "metadata": {},
     "output_type": "execute_result"
    }
   ],
   "source": [
    "def find_maximum(arr):\n",
    "    max_element = float('-inf')\n",
    "    for num in arr:\n",
    "        if num > max_element:\n",
    "            max_element = num\n",
    "    return max_element\n",
    "a = (1,2,3)\n",
    "b = (1,5,8,7,10,20)\n",
    "find_maximum(b)"
   ]
  },
  {
   "cell_type": "code",
   "execution_count": null,
   "id": "79f333c4",
   "metadata": {},
   "outputs": [],
   "source": []
  },
  {
   "cell_type": "code",
   "execution_count": 356,
   "id": "984434b7",
   "metadata": {},
   "outputs": [
    {
     "data": {
      "text/plain": [
       "20"
      ]
     },
     "execution_count": 356,
     "metadata": {},
     "output_type": "execute_result"
    }
   ],
   "source": [
    "a = 10 \n",
    "b = 20\n",
    "c = 5\n",
    "\n",
    "def maximum(a,b,c, *args):\n",
    "    if a > b and a > c:\n",
    "        return a\n",
    "    elif b > a and b >c:\n",
    "        return b\n",
    "    else:\n",
    "        return c\n",
    "    \n",
    "maximum(a,b,c)"
   ]
  },
  {
   "cell_type": "code",
   "execution_count": 369,
   "id": "838ce178",
   "metadata": {},
   "outputs": [
    {
     "data": {
      "text/plain": [
       "194"
      ]
     },
     "execution_count": 369,
     "metadata": {},
     "output_type": "execute_result"
    }
   ],
   "source": [
    "## sum of array\n",
    "def calculate_sum(arr):\n",
    "    total_sum = 0\n",
    "    for num in arr:\n",
    "        total_sum += num\n",
    "    return total_sum\n",
    "\n",
    "calculate_sum(a)"
   ]
  },
  {
   "cell_type": "code",
   "execution_count": null,
   "id": "6f2ed0c5",
   "metadata": {},
   "outputs": [],
   "source": []
  },
  {
   "cell_type": "code",
   "execution_count": null,
   "id": "e6407397",
   "metadata": {},
   "outputs": [],
   "source": []
  },
  {
   "cell_type": "code",
   "execution_count": 23,
   "id": "a56b9de7",
   "metadata": {},
   "outputs": [
    {
     "data": {
      "text/plain": [
       "6"
      ]
     },
     "execution_count": 23,
     "metadata": {},
     "output_type": "execute_result"
    }
   ],
   "source": [
    "def sum_digit(n):\n",
    "    digit = 0\n",
    "    while n > 0:\n",
    "        digit += n%10\n",
    "        n//=10\n",
    "    return digit\n",
    "\n",
    "sum_digit(123)"
   ]
  },
  {
   "cell_type": "code",
   "execution_count": 41,
   "id": "043be51b",
   "metadata": {},
   "outputs": [
    {
     "name": "stdout",
     "output_type": "stream",
     "text": [
      "    A \n",
      "   A B \n",
      "  A B C \n",
      " A B C D \n",
      "A B C D E \n"
     ]
    }
   ],
   "source": [
    "def draw(row):\n",
    "    for i in range(1, row+1):\n",
    "        print(\" \" * (row -i), end='')\n",
    "        for j in range(1, i+1):\n",
    "            print(chr(64+j),end=' ')\n",
    "        print()\n",
    "draw(5)"
   ]
  },
  {
   "cell_type": "code",
   "execution_count": 40,
   "id": "0e340102",
   "metadata": {},
   "outputs": [
    {
     "name": "stdout",
     "output_type": "stream",
     "text": [
      "    1 \n",
      "   1 2 \n",
      "  1 2 3 \n",
      " 1 2 3 4 \n",
      "1 2 3 4 5 \n"
     ]
    }
   ],
   "source": [
    "def draw(row):\n",
    "    for i in range(1, row+1):\n",
    "        print(' ' * (row-i), end='')\n",
    "        for j in range(1,i+1):\n",
    "            print(j,end=' ')\n",
    "        print()\n",
    "        \n",
    "draw(5)"
   ]
  },
  {
   "cell_type": "code",
   "execution_count": null,
   "id": "59b1d46f",
   "metadata": {},
   "outputs": [],
   "source": []
  },
  {
   "cell_type": "code",
   "execution_count": null,
   "id": "eb9ca1d2",
   "metadata": {},
   "outputs": [],
   "source": []
  },
  {
   "cell_type": "code",
   "execution_count": 379,
   "id": "dd2d37d1",
   "metadata": {},
   "outputs": [
    {
     "data": {
      "text/plain": [
       "6"
      ]
     },
     "execution_count": 379,
     "metadata": {},
     "output_type": "execute_result"
    }
   ],
   "source": [
    "def sum_digit(n):\n",
    "    digit = 0\n",
    "    while n > 0:\n",
    "        digit += n%10\n",
    "        n //= 10\n",
    "    return digit\n",
    "\n",
    "sum_digit(123)"
   ]
  },
  {
   "cell_type": "code",
   "execution_count": 385,
   "id": "de4e38f7",
   "metadata": {},
   "outputs": [
    {
     "name": "stdout",
     "output_type": "stream",
     "text": [
      "    1 \n",
      "   1 2 \n",
      "  1 2 3 \n",
      " 1 2 3 4 \n",
      "1 2 3 4 5 \n"
     ]
    }
   ],
   "source": [
    "def draw(row):\n",
    "    for i in range(1, row+1):\n",
    "        print(\" \"*(row-i), end='')\n",
    "        for j in range(1, i+1):\n",
    "            print(j, end=' ')\n",
    "        print()\n",
    "draw(5)"
   ]
  },
  {
   "cell_type": "code",
   "execution_count": 388,
   "id": "f71fb8da",
   "metadata": {},
   "outputs": [
    {
     "name": "stdout",
     "output_type": "stream",
     "text": [
      "    1 \n",
      "   1 2 \n",
      "  1 2 3 \n",
      " 1 2 3 4 \n",
      "1 2 3 4 5 \n"
     ]
    }
   ],
   "source": [
    "def draw(row):\n",
    "    for i in range(1, row+1):\n",
    "        print(\" \"*(row-i), end='')\n",
    "        for j in range(1, i+1):\n",
    "            print(j, end=' ')\n",
    "        print()\n",
    "draw(5)"
   ]
  },
  {
   "cell_type": "code",
   "execution_count": 398,
   "id": "3b5996cc",
   "metadata": {},
   "outputs": [
    {
     "name": "stdout",
     "output_type": "stream",
     "text": [
      "    1 \n",
      "    * \n",
      "   1 1 \n",
      "   * * \n",
      "  1 1 1 \n",
      "  * * * \n",
      " 1 1 1 1 \n",
      " * * * * \n",
      "1 1 1 1 1 \n",
      "* * * * * \n"
     ]
    }
   ],
   "source": [
    "def draw(row):\n",
    "    for i in range(1, row+1):\n",
    "        print(\" \"*(row-i)+\"1 \"*i)\n",
    "        print(' '*(row -i) + '* ' * i)\n",
    "#     print()\n",
    "    \n",
    "draw(5)"
   ]
  },
  {
   "cell_type": "code",
   "execution_count": null,
   "id": "77411fca",
   "metadata": {},
   "outputs": [],
   "source": []
  },
  {
   "cell_type": "code",
   "execution_count": 407,
   "id": "fcaf76d3",
   "metadata": {},
   "outputs": [
    {
     "data": {
      "text/plain": [
       "120"
      ]
     },
     "execution_count": 407,
     "metadata": {},
     "output_type": "execute_result"
    }
   ],
   "source": [
    "def factorial(n):\n",
    "    if n == 0:\n",
    "        return 1\n",
    "    return n * factorial(n - 1)\n",
    "factorial(5)"
   ]
  },
  {
   "cell_type": "code",
   "execution_count": 427,
   "id": "1bcfa5d3",
   "metadata": {},
   "outputs": [
    {
     "data": {
      "text/plain": [
       "120"
      ]
     },
     "execution_count": 427,
     "metadata": {},
     "output_type": "execute_result"
    }
   ],
   "source": [
    "def fact(n):\n",
    "    if n == 0:\n",
    "        return 1\n",
    "    return n*fact(n-1)\n",
    "\n",
    "fact(5)"
   ]
  },
  {
   "cell_type": "code",
   "execution_count": null,
   "id": "c5a15fe3",
   "metadata": {},
   "outputs": [],
   "source": []
  },
  {
   "cell_type": "code",
   "execution_count": 429,
   "id": "20637d0b",
   "metadata": {},
   "outputs": [
    {
     "data": {
      "text/plain": [
       "[0, 1, 1, 2, 3, 5, 8, 13, 21, 34]"
      ]
     },
     "execution_count": 429,
     "metadata": {},
     "output_type": "execute_result"
    }
   ],
   "source": [
    "def fibo(lis):\n",
    "    fib_seq = [0,1]\n",
    "    for i in range(2,lis):\n",
    "        fib_seq.append(fib_seq[-1]+fib_seq[-2])\n",
    "    return fib_seq\n",
    "\n",
    "fibo(10)"
   ]
  },
  {
   "cell_type": "code",
   "execution_count": null,
   "id": "285fed66",
   "metadata": {},
   "outputs": [],
   "source": []
  },
  {
   "cell_type": "code",
   "execution_count": 416,
   "id": "1cbe8de6",
   "metadata": {},
   "outputs": [
    {
     "data": {
      "text/plain": [
       "3"
      ]
     },
     "execution_count": 416,
     "metadata": {},
     "output_type": "execute_result"
    }
   ],
   "source": [
    "# Problem Statement: Given an array of integers and a target element, \n",
    "# count the number of occurrences of the target element in the array.\n",
    "\n",
    "def count_occurrences(arr, target):\n",
    "    count = 0\n",
    "    for num in arr:\n",
    "        if num == target:\n",
    "            count += 1\n",
    "    return count\n",
    "a = (1,2,3,5,6,2,2)\n",
    "count_occurrences(a,2)"
   ]
  },
  {
   "cell_type": "code",
   "execution_count": 421,
   "id": "8f5b43d4",
   "metadata": {},
   "outputs": [
    {
     "data": {
      "text/plain": [
       "3"
      ]
     },
     "execution_count": 421,
     "metadata": {},
     "output_type": "execute_result"
    }
   ],
   "source": [
    "def count(arr, target):\n",
    "    count = 0\n",
    "    for i in arr:\n",
    "        if i == target:\n",
    "            count +=1\n",
    "    return count\n",
    "\n",
    "count(a,2)"
   ]
  },
  {
   "cell_type": "code",
   "execution_count": 3,
   "id": "cf2d600a",
   "metadata": {},
   "outputs": [
    {
     "data": {
      "text/plain": [
       "[1, 2, 3, 4, 4, 5, 6, 7]"
      ]
     },
     "execution_count": 3,
     "metadata": {},
     "output_type": "execute_result"
    }
   ],
   "source": [
    "## Problem Statement: Given two sorted arrays, merge them into a single sorted array.\n",
    "\n",
    "def merge_sorted_arrays(arr1, arr2):\n",
    "    result = []\n",
    "    i = j = 0\n",
    "    while i < len(arr1) and j < len(arr2):\n",
    "        if arr1[i] < arr2[j]:\n",
    "            result.append(arr1[i])\n",
    "            i += 1\n",
    "        else:\n",
    "            result.append(arr2[j])\n",
    "            j += 1\n",
    "    result.extend(arr1[i:])\n",
    "    result.extend(arr2[j:])\n",
    "    return result\n",
    "arr1 = (1,2,3,4)\n",
    "arr2 = (4,5,6,7,)\n",
    "merge_sorted_arrays(arr1, arr2)"
   ]
  },
  {
   "cell_type": "code",
   "execution_count": 440,
   "id": "a4d53973",
   "metadata": {},
   "outputs": [
    {
     "data": {
      "text/plain": [
       "[1, 2, 3, 4, 4, 5, 6, 7]"
      ]
     },
     "execution_count": 440,
     "metadata": {},
     "output_type": "execute_result"
    }
   ],
   "source": [
    "def merge_sorted(arr1,arr2):\n",
    "    result = []\n",
    "    i = j = 0\n",
    "    while i <len(arr1) and j < len(arr2):\n",
    "        if arr1[i] < arr2[j]:\n",
    "            result.append(arr1[i])\n",
    "            i+=1\n",
    "        else:\n",
    "            result.append(arr2[j])\n",
    "            j += 1\n",
    "    result.extend(arr1[i:])\n",
    "    result.extend(arr2[j:])\n",
    "    return result\n",
    "\n",
    "merge_sorted(arr1,arr2)"
   ]
  },
  {
   "cell_type": "code",
   "execution_count": null,
   "id": "176ac72d",
   "metadata": {},
   "outputs": [],
   "source": []
  },
  {
   "cell_type": "code",
   "execution_count": 449,
   "id": "235c2eb2",
   "metadata": {},
   "outputs": [
    {
     "data": {
      "text/plain": [
       "-1"
      ]
     },
     "execution_count": 449,
     "metadata": {},
     "output_type": "execute_result"
    }
   ],
   "source": [
    "## Problem Statement: Given a sorted array and a target value, implement binary search to find \n",
    "## the target value's index (if it exists) in the array.\n",
    "\n",
    "def binary_search(arr, target):\n",
    "    left, right = 0, len(arr) - 1\n",
    "    while left <= right:\n",
    "        mid = left + (right - left) // 2\n",
    "        if arr[mid] == target:\n",
    "            return mid\n",
    "        elif arr[mid] < target:\n",
    "            left = mid + 1\n",
    "        else:\n",
    "            right = mid - 1\n",
    "    return -1\n",
    "\n",
    "arr1 = (1,2,3,4,1,2)\n",
    "binary_search(arr1, 4)"
   ]
  },
  {
   "cell_type": "code",
   "execution_count": 58,
   "id": "cc6978ee",
   "metadata": {},
   "outputs": [
    {
     "data": {
      "text/plain": [
       "-1"
      ]
     },
     "execution_count": 58,
     "metadata": {},
     "output_type": "execute_result"
    }
   ],
   "source": [
    "def bi_search(arr, target):\n",
    "    left, right = 0, len(arr) - 1\n",
    "    while left <= right:\n",
    "        mid = left + (right - left) // 2\n",
    "        if arr[mid] == target:\n",
    "            return mid\n",
    "        elif arr[mid] == target:\n",
    "            left = mid + 1\n",
    "        else:\n",
    "            right = mid -1\n",
    "    return -1\n",
    "\n",
    "bi_search(arr1,1)"
   ]
  },
  {
   "cell_type": "code",
   "execution_count": null,
   "id": "aafb294e",
   "metadata": {},
   "outputs": [],
   "source": []
  },
  {
   "cell_type": "code",
   "execution_count": null,
   "id": "2d922337",
   "metadata": {},
   "outputs": [],
   "source": []
  }
 ],
 "metadata": {
  "kernelspec": {
   "display_name": "Python 3 (ipykernel)",
   "language": "python",
   "name": "python3"
  },
  "language_info": {
   "codemirror_mode": {
    "name": "ipython",
    "version": 3
   },
   "file_extension": ".py",
   "mimetype": "text/x-python",
   "name": "python",
   "nbconvert_exporter": "python",
   "pygments_lexer": "ipython3",
   "version": "3.9.13"
  }
 },
 "nbformat": 4,
 "nbformat_minor": 5
}
