{
 "cells": [
  {
   "cell_type": "code",
   "execution_count": null,
   "id": "9f0afaa6",
   "metadata": {},
   "outputs": [],
   "source": [
    "#Problem: Retrieve employees whose salary is greater than 50,000.\n",
    "\n",
    "SELECT first_name, last_name, salary \n",
    "FROM employees \n",
    "WHERE salary > 50000;\n"
   ]
  },
  {
   "cell_type": "code",
   "execution_count": null,
   "id": "a232fee5",
   "metadata": {},
   "outputs": [],
   "source": []
  },
  {
   "cell_type": "code",
   "execution_count": null,
   "id": "c94ab113",
   "metadata": {},
   "outputs": [],
   "source": [
    "#Problem: Retrieve all employees and order them by their salary in descending order.\n",
    "\n",
    "SELECT first_name, last_name, salary \n",
    "FROM employees \n",
    "ORDER BY salary DESC;\n"
   ]
  },
  {
   "cell_type": "code",
   "execution_count": null,
   "id": "80b4351e",
   "metadata": {},
   "outputs": [],
   "source": []
  },
  {
   "cell_type": "code",
   "execution_count": null,
   "id": "6967d3bb",
   "metadata": {},
   "outputs": [],
   "source": [
    "#Problem: Retrieve the top 5 highest-paid employees.\n",
    "\n",
    "SELECT first_name, last_name, salary \n",
    "FROM employees \n",
    "ORDER BY salary DESC \n",
    "LIMIT 5;\n"
   ]
  },
  {
   "cell_type": "code",
   "execution_count": null,
   "id": "4becad47",
   "metadata": {},
   "outputs": [],
   "source": []
  },
  {
   "cell_type": "code",
   "execution_count": null,
   "id": "082c692b",
   "metadata": {},
   "outputs": [],
   "source": [
    "#Problem: Find the total number of employees in the employees table.\n",
    "\n",
    "SELECT COUNT(*) AS total_employees \n",
    "FROM employees;\n"
   ]
  },
  {
   "cell_type": "code",
   "execution_count": null,
   "id": "9e914013",
   "metadata": {},
   "outputs": [],
   "source": [
    "#Problem: Find the total number of employees in each department.\n",
    "\n",
    "SELECT department, COUNT(*) AS total_employees \n",
    "FROM employees \n",
    "GROUP BY department;\n"
   ]
  },
  {
   "cell_type": "code",
   "execution_count": null,
   "id": "fd71c9a7",
   "metadata": {},
   "outputs": [],
   "source": [
    "#Retrieve all employee names and their corresponding department names from two tables: \n",
    "#employees and departments. The employees table has a department_id, and the departments table has id and department_name.\n",
    "\n",
    "SELECT e.first_name, e.last_name, d.department_name \n",
    "FROM employees e\n",
    "JOIN departments d \n",
    "ON e.department_id = d.id;\n"
   ]
  },
  {
   "cell_type": "code",
   "execution_count": null,
   "id": "be9c4ff3",
   "metadata": {},
   "outputs": [],
   "source": [
    "SELECT department_name, COUNT(*) AS total_employees FROM employees GROUP BY departments HAVING COUNT(*) >10;"
   ]
  },
  {
   "cell_type": "code",
   "execution_count": null,
   "id": "67101936",
   "metadata": {},
   "outputs": [],
   "source": [
    "### Problem: Find departments that have more than 10 employees.\n",
    "\n",
    "SELECT department, COUNT(*) AS total_employees \n",
    "FROM employees \n",
    "GROUP BY department \n",
    "HAVING COUNT(*) > 10;\n"
   ]
  },
  {
   "cell_type": "code",
   "execution_count": null,
   "id": "024192e6",
   "metadata": {},
   "outputs": [],
   "source": [
    "SELECT department,COUNT(*) AS total_employees FROM employees GROUP BY department HAVING COUNT(*) > 10;\n",
    "UPDATE employess SET salary 60000 WHERE employee_id = 5;\n",
    "UPDATE employess SET salary 60000 WHERE employess_id = 5;"
   ]
  },
  {
   "cell_type": "code",
   "execution_count": null,
   "id": "cc805dc0",
   "metadata": {},
   "outputs": [],
   "source": [
    "###Problem: Update the salary of an employee with employee_id = 5 to 60,000.\n",
    "\n",
    "UPDATE employees \n",
    "SET salary = 60000 \n",
    "WHERE employee_id = 5;\n"
   ]
  },
  {
   "cell_type": "code",
   "execution_count": null,
   "id": "259f3139",
   "metadata": {},
   "outputs": [],
   "source": [
    "UPDATE employees SET salary=60000 WHERE employees_id =5"
   ]
  },
  {
   "cell_type": "code",
   "execution_count": null,
   "id": "e6c05e39",
   "metadata": {},
   "outputs": [],
   "source": [
    "## create table"
   ]
  },
  {
   "cell_type": "code",
   "execution_count": null,
   "id": "f602ca76",
   "metadata": {},
   "outputs": [],
   "source": [
    "CREATE TABLE employees (\n",
    "    employee_id INT PRIMARY KEY,             -- Unique identifier for each employee\n",
    "    first_name VARCHAR(100) NOT NULL,        -- Employee's first name (cannot be NULL)\n",
    "    last_name VARCHAR(100) NOT NULL,         -- Employee's last name (cannot be NULL)\n",
    "    salary DECIMAL(10, 2),                   -- Salary with up to 10 digits and 2 decimal places\n",
    "    department_id INT                        -- Foreign key column (to link with departments table)\n",
    ");\n"
   ]
  },
  {
   "cell_type": "code",
   "execution_count": null,
   "id": "f3803752",
   "metadata": {},
   "outputs": [],
   "source": [
    "CREATE TABLE employees (emp_id INT PRIMARY KEY, name VARCHAR(100), salary DECIMAL(10,2), department VARCHAR(10));\n",
    "INSERT INTO employees values (1,'Ajit', 50000,'AI');\n"
   ]
  },
  {
   "cell_type": "code",
   "execution_count": null,
   "id": "b2a88cf8",
   "metadata": {},
   "outputs": [],
   "source": [
    "CREATE TABLE employees (emp_id INT PRIMARY KEY, name VARCHAR(100), salary INT, department_idINT);\n",
    "INTER INTO employess values(1,'ajit',14,4)"
   ]
  },
  {
   "cell_type": "code",
   "execution_count": null,
   "id": "445c6bbd",
   "metadata": {},
   "outputs": [],
   "source": [
    "## add data in table\n",
    "\n",
    "INSERT INTO employees (employee_id, first_name, last_name, salary, department_id)\n",
    "VALUES (1, 'John', 'Doe', 50000.00, 2);\n"
   ]
  },
  {
   "cell_type": "code",
   "execution_count": null,
   "id": "1d1cf6d5",
   "metadata": {},
   "outputs": [],
   "source": [
    "INERT INTO emplotyee(employee_id,name,department,salary,department_id) VALUES(1,'John','IT',50000,2)"
   ]
  },
  {
   "cell_type": "code",
   "execution_count": null,
   "id": "5a7520b2",
   "metadata": {},
   "outputs": [],
   "source": []
  },
  {
   "cell_type": "code",
   "execution_count": null,
   "id": "cbbb16c7",
   "metadata": {},
   "outputs": [],
   "source": [
    "#Creating a Table with a Foreign Key\n",
    "#Let's assume we have two tables: departments and employees. \n",
    "#The employees table will have a foreign key reference to the departments table.\n"
   ]
  },
  {
   "cell_type": "code",
   "execution_count": null,
   "id": "3051e35d",
   "metadata": {},
   "outputs": [],
   "source": [
    "#-- Create the 'departments' table\n",
    "CREATE TABLE departments (\n",
    "    department_id INT PRIMARY KEY,\n",
    "    department_name VARCHAR(100) NOT NULL\n",
    ");\n",
    "\n",
    "#-- Create the 'employees' table with a foreign key referencing 'departments'\n",
    "CREATE TABLE employees (\n",
    "    employee_id INT PRIMARY KEY,\n",
    "    first_name VARCHAR(100),\n",
    "    last_name VARCHAR(100),\n",
    "    department_id INT,  -- This will be the foreign key\n",
    "    FOREIGN KEY (department_id) REFERENCES departments(department_id)\n",
    ");\n"
   ]
  },
  {
   "cell_type": "code",
   "execution_count": null,
   "id": "4c7f5737",
   "metadata": {},
   "outputs": [],
   "source": [
    "CREATE TABLE employees(emp_id INT PRIMARY KEY, name VARCHAR(100), departytment INT, \n",
    "                       \n",
    "                       FOREIGN KEY (department_id) REFERENCES departments(department_id))"
   ]
  },
  {
   "cell_type": "code",
   "execution_count": null,
   "id": "c8c07066",
   "metadata": {},
   "outputs": [],
   "source": [
    "#Adding a Foreign Key to an Existing Table\n",
    "#If you already have two tables and want to add a foreign key to one of them, you can use the ALTER TABLE statement.\n"
   ]
  },
  {
   "cell_type": "code",
   "execution_count": null,
   "id": "1d4eabcd",
   "metadata": {},
   "outputs": [],
   "source": [
    "#-- Add a foreign key to the 'employees' table\n",
    "\n",
    "ALTER TABLE employees \n",
    "ADD CONSTRAINT fk_department\n",
    "FOREIGN KEY (department_id) REFERENCES departments(department_id);\n"
   ]
  },
  {
   "cell_type": "code",
   "execution_count": null,
   "id": "0bc5bd9f",
   "metadata": {},
   "outputs": [],
   "source": [
    "##Description: Returns only the records that have matching values in both tables.\n",
    "\n",
    "SELECT e.first_name, e.last_name, d.department_name\n",
    "FROM employees e\n",
    "INNER JOIN departments d\n",
    "ON e.department_id = d.department_id;\n"
   ]
  },
  {
   "cell_type": "code",
   "execution_count": null,
   "id": "feaab6e8",
   "metadata": {},
   "outputs": [],
   "source": [
    "SELECT e.name,d.department FROM employess e INNER JOIN departments d ON e.department_id = d.department_id;\n"
   ]
  },
  {
   "cell_type": "code",
   "execution_count": null,
   "id": "71e8bc01",
   "metadata": {},
   "outputs": [],
   "source": [
    "##Description: Returns all records from the left table (employees), \n",
    "##and the matched records from the right table (departments). If there's no match, it returns NULL for the right table.\n",
    "\n",
    "SELECT e.first_name, e.last_name, d.department_name\n",
    "FROM employees e\n",
    "LEFT JOIN departments d\n",
    "ON e.department_id = d.department_id;\n"
   ]
  },
  {
   "cell_type": "code",
   "execution_count": null,
   "id": "ce120277",
   "metadata": {},
   "outputs": [],
   "source": [
    "#Description: Returns all records from the right table (departments),\n",
    "#and the matched records from the left table (employees). If there's no match, it returns NULL for the left table.\n",
    "\n",
    "SELECT e.first_name, e.last_name, d.department_name\n",
    "FROM employees e\n",
    "RIGHT JOIN departments d\n",
    "ON e.department_id = d.department_id;\n"
   ]
  },
  {
   "cell_type": "code",
   "execution_count": null,
   "id": "4bd42eae",
   "metadata": {},
   "outputs": [],
   "source": [
    "##Description: Returns all records when there is a match in either table. \n",
    "#Records without a match in one of the tables will contain NULL values.\n",
    "\n",
    "SELECT e.first_name, e.last_name, d.department_name\n",
    "FROM employees e\n",
    "FULL OUTER JOIN departments d\n",
    "ON e.department_id = d.department_id;\n"
   ]
  },
  {
   "cell_type": "code",
   "execution_count": null,
   "id": "29602cdb",
   "metadata": {},
   "outputs": [],
   "source": [
    "#CROSS JOIN Description: Returns the Cartesian product of both tables.\n",
    "#Every row in the left table is combined with every row in the right table.\n",
    "\n",
    "SELECT e.first_name, e.last_name, d.department_name\n",
    "FROM employees e\n",
    "CROSS JOIN departments d;\n"
   ]
  },
  {
   "cell_type": "code",
   "execution_count": null,
   "id": "1c324777",
   "metadata": {},
   "outputs": [],
   "source": [
    "SELECT e.employee_id,e.name,d.department_name FROM employees CROSS JOIN department d;"
   ]
  },
  {
   "cell_type": "code",
   "execution_count": null,
   "id": "b3532226",
   "metadata": {},
   "outputs": [],
   "source": [
    "#SELF JOIN\n",
    "#Description: A self-join is used to join a table with itself.\n",
    "#Problem: Find employees who work in the same department.\n",
    "\n",
    "SELECT e1.first_name AS Employee1, e2.first_name AS Employee2, e1.department_id\n",
    "FROM employees e1\n",
    "JOIN employees e2\n",
    "ON e1.department_id = e2.department_id AND e1.employee_id != e2.employee_id;\n"
   ]
  },
  {
   "cell_type": "code",
   "execution_count": null,
   "id": "9275255a",
   "metadata": {},
   "outputs": [],
   "source": [
    "#Query to Get the Maximum Salary for Each Department:\n",
    "\n",
    "SELECT department_id, MAX(salary) AS max_salary\n",
    "FROM employees\n",
    "GROUP BY department_id;\n"
   ]
  },
  {
   "cell_type": "code",
   "execution_count": null,
   "id": "57004639",
   "metadata": {},
   "outputs": [],
   "source": [
    "SELECT name,salary FROM employees WHERE salary > (SELECT AVG(salary) FROM employees) AS avg_salary;\n",
    "SELECT MAX(salary) FROM employees WHERE salary < (SELECT MAX(salary) FROM employees)"
   ]
  },
  {
   "cell_type": "code",
   "execution_count": null,
   "id": "0e388eed",
   "metadata": {},
   "outputs": [],
   "source": []
  },
  {
   "cell_type": "code",
   "execution_count": null,
   "id": "2c1ad01b",
   "metadata": {},
   "outputs": [],
   "source": [
    "SELECT department_id, MAX(salary) AS max_salary FROM employess GROUP BY department_ids;\n",
    "SELECT name,salary FROM employee where salary >(SELECT AVG(salary) FROM employees);"
   ]
  },
  {
   "cell_type": "code",
   "execution_count": null,
   "id": "e2a7c961",
   "metadata": {},
   "outputs": [],
   "source": [
    "#Problem: Find employees whose salary is higher than the average salary of all employees.\n",
    "\n",
    "SELECT first_name, last_name, salary\n",
    "FROM employees\n",
    "WHERE salary > (SELECT AVG(salary) FROM employees);\n"
   ]
  },
  {
   "cell_type": "code",
   "execution_count": null,
   "id": "cb4a6cd6",
   "metadata": {},
   "outputs": [],
   "source": [
    "### Problem: Find departments that have more than 10 employees.\n",
    "\n",
    "SELECT department, COUNT(*) AS total_employees \n",
    "FROM employees \n",
    "GROUP BY department \n",
    "HAVING COUNT(*) > 10;\n"
   ]
  },
  {
   "cell_type": "code",
   "execution_count": null,
   "id": "aac83adf",
   "metadata": {},
   "outputs": [],
   "source": [
    "SELECT department, COUNT(*)AS total_employees FROM employees GROUP BY department HAVING COUNT(*) >10;"
   ]
  },
  {
   "cell_type": "code",
   "execution_count": null,
   "id": "35ec1c9b",
   "metadata": {},
   "outputs": [],
   "source": [
    "#Problem: Retrieve each employee's salary and the average salary for the entire company.\n",
    "\n",
    "SELECT first_name, last_name, salary,\n",
    "       (SELECT AVG(salary) FROM employees) AS avg_salary\n",
    "FROM employees;\n"
   ]
  },
  {
   "cell_type": "code",
   "execution_count": null,
   "id": "e3333435",
   "metadata": {},
   "outputs": [],
   "source": [
    "SELECT department_name,MAX(salary) AS max_salary FROM employees GROUP BY department_name;"
   ]
  },
  {
   "cell_type": "code",
   "execution_count": null,
   "id": "8b40d2aa",
   "metadata": {},
   "outputs": [],
   "source": [
    "#Problem: Find the highest-paid employees in each department by using a subquery as a derived table.\n",
    "\n",
    "SELECT department_id, MAX(salary) AS max_salary\n",
    "FROM employees\n",
    "GROUP BY department_id;\n"
   ]
  },
  {
   "cell_type": "code",
   "execution_count": null,
   "id": "f87d34bf",
   "metadata": {},
   "outputs": [],
   "source": [
    "SELECT department_id,MAX(salalry) As max_salary FROM employees GROUP BY departmernt_id;\n",
    "SELECT department_id, MAX(salary) AS max_salary FROM employess GROUP BY department_id;"
   ]
  },
  {
   "cell_type": "code",
   "execution_count": null,
   "id": "8af8ee71",
   "metadata": {},
   "outputs": [],
   "source": [
    "##Problem: Update the first_name to 'Michael' and salary to 70,000 for the employee with employee_id = 4.\n",
    "\n",
    "UPDATE employees\n",
    "SET first_name = 'Michael', salary = 70000\n",
    "WHERE employee_id = 4;\n"
   ]
  },
  {
   "cell_type": "code",
   "execution_count": null,
   "id": "4239fdfd",
   "metadata": {},
   "outputs": [],
   "source": []
  },
  {
   "cell_type": "code",
   "execution_count": null,
   "id": "ab6c7e81",
   "metadata": {},
   "outputs": [],
   "source": [
    "## Self-Join Find pairs of employees working in the same department.\n",
    "\n",
    "SELECT e1.name AS employee_1, e2.name AS employee_2, e1.department\n",
    "FROM employees e1\n",
    "JOIN employees e2\n",
    "ON e1.department = e2.department AND e1.id != e2.id;\n"
   ]
  },
  {
   "cell_type": "code",
   "execution_count": null,
   "id": "a3ac6855",
   "metadata": {},
   "outputs": [],
   "source": []
  },
  {
   "cell_type": "code",
   "execution_count": 1,
   "id": "6356cb0b",
   "metadata": {},
   "outputs": [],
   "source": [
    "# Rank employees by their salary within each department.\n",
    "\n",
    "SELECT name, department, salary, \n",
    "       RANK() OVER (PARTITION BY department ORDER BY salary DESC) AS rank\n",
    "FROM employees;\n"
   ]
  },
  {
   "cell_type": "code",
   "execution_count": null,
   "id": "051f7269",
   "metadata": {},
   "outputs": [],
   "source": [
    "SELECT name,department,salary RANK() OVER(PARTITION BY department ORDER BY salary DES) AS rank FROM employees;"
   ]
  },
  {
   "cell_type": "code",
   "execution_count": null,
   "id": "7b89e417",
   "metadata": {},
   "outputs": [],
   "source": []
  },
  {
   "cell_type": "code",
   "execution_count": null,
   "id": "59455afb",
   "metadata": {},
   "outputs": [],
   "source": []
  },
  {
   "cell_type": "markdown",
   "id": "959d7d8e",
   "metadata": {},
   "source": [
    "14. CTEs (Common Table Expressions)\n",
    "Find the total salary and average salary for employees, then filter only departments with a total salary > 100,000."
   ]
  },
  {
   "cell_type": "code",
   "execution_count": null,
   "id": "be168692",
   "metadata": {},
   "outputs": [],
   "source": [
    "WITH DepartmentSalary AS (\n",
    "    SELECT department, SUM(salary) AS total_salary, AVG(salary) AS average_salary\n",
    "    FROM employees\n",
    "    GROUP BY department\n",
    ")\n",
    "SELECT *\n",
    "FROM DepartmentSalary\n",
    "WHERE total_salary > 100000;\n"
   ]
  },
  {
   "cell_type": "code",
   "execution_count": null,
   "id": "f49353bb",
   "metadata": {},
   "outputs": [],
   "source": [
    "WITH DepartmentSalary As (SELECT department, SUM(salary) AS total_salary, \n",
    "                          AVG(salary) AS average_salary FROM employees GROUB BY department)\n",
    "SELECT * FROM DepartmentSalary WHERE total_salary > 100000;"
   ]
  },
  {
   "cell_type": "code",
   "execution_count": null,
   "id": "33ee0f37",
   "metadata": {},
   "outputs": [],
   "source": []
  },
  {
   "cell_type": "code",
   "execution_count": null,
   "id": "054a5b03",
   "metadata": {},
   "outputs": [],
   "source": [
    "## Combine results from two tables, current_employees and former_employees.\n",
    "\n",
    "SELECT name, department \n",
    "FROM current_employees\n",
    "UNION\n",
    "SELECT name, department \n",
    "FROM former_employees;\n"
   ]
  },
  {
   "cell_type": "code",
   "execution_count": null,
   "id": "3fa00964",
   "metadata": {},
   "outputs": [],
   "source": [
    "SELECT name,salary FROM employees UNION SELECT name, salary FROM former_employees;\n",
    "SELECT MAX(salary) AS second_max_salary FROM employees WHERE salary < (SELECT MAX(salary) FROM employees)"
   ]
  },
  {
   "cell_type": "code",
   "execution_count": null,
   "id": "2699eeab",
   "metadata": {},
   "outputs": [],
   "source": []
  },
  {
   "cell_type": "code",
   "execution_count": null,
   "id": "8600ee5a",
   "metadata": {},
   "outputs": [],
   "source": [
    "# EXCEPT Find employees who are not working on any projects.\n",
    "\n",
    "SELECT id, name\n",
    "FROM employees\n",
    "EXCEPT\n",
    "SELECT employee_id, name\n",
    "FROM projects;\n"
   ]
  },
  {
   "cell_type": "code",
   "execution_count": null,
   "id": "7dd86953",
   "metadata": {},
   "outputs": [],
   "source": [
    "# DELETE FROM employees/\n",
    "\n",
    "WHERE joining_date < '2020-01-01';\n"
   ]
  },
  {
   "cell_type": "code",
   "execution_count": null,
   "id": "6f105c5a",
   "metadata": {},
   "outputs": [],
   "source": [
    "# Find Second Highest Salary Find the second highest salary in the employees table\n",
    "\n",
    "SELECT MAX(salary) AS second_highest_salary\n",
    "FROM employees\n",
    "WHERE salary < (SELECT MAX(salary) FROM employees);\n"
   ]
  },
  {
   "cell_type": "code",
   "execution_count": null,
   "id": "8b194b4a",
   "metadata": {},
   "outputs": [],
   "source": [
    "SELECT MAX(salary) AS second_high_salary FROM employees WHERE salary < (SELECT MAX(salary) FROM employees)"
   ]
  },
  {
   "cell_type": "code",
   "execution_count": null,
   "id": "f1b0b9b2",
   "metadata": {},
   "outputs": [],
   "source": []
  },
  {
   "cell_type": "code",
   "execution_count": null,
   "id": "622006fe",
   "metadata": {},
   "outputs": [],
   "source": []
  },
  {
   "cell_type": "code",
   "execution_count": null,
   "id": "6f3e4254",
   "metadata": {},
   "outputs": [],
   "source": []
  },
  {
   "cell_type": "code",
   "execution_count": null,
   "id": "c364d265",
   "metadata": {},
   "outputs": [],
   "source": []
  },
  {
   "cell_type": "code",
   "execution_count": null,
   "id": "1c42bcc3",
   "metadata": {},
   "outputs": [],
   "source": []
  },
  {
   "cell_type": "code",
   "execution_count": null,
   "id": "e18ce987",
   "metadata": {},
   "outputs": [],
   "source": []
  }
 ],
 "metadata": {
  "kernelspec": {
   "display_name": "transformer",
   "language": "python",
   "name": "transformer"
  },
  "language_info": {
   "codemirror_mode": {
    "name": "ipython",
    "version": 3
   },
   "file_extension": ".py",
   "mimetype": "text/x-python",
   "name": "python",
   "nbconvert_exporter": "python",
   "pygments_lexer": "ipython3",
   "version": "3.9.19"
  }
 },
 "nbformat": 4,
 "nbformat_minor": 5
}
