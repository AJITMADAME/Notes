{
 "cells": [
  {
   "cell_type": "code",
   "execution_count": null,
   "id": "10a03873",
   "metadata": {},
   "outputs": [],
   "source": [
    "def find_pairs(arr, target):\n",
    "    seen = set()\n",
    "    pairs = set()\n",
    "    for num in arr:\n",
    "        diff = target - num\n",
    "        if diff in seen:\n",
    "            pairs.add((min(num, diff), max(num, diff)))\n",
    "        seen.add(num)\n",
    "    return list(pairs)\n",
    "\n",
    "print(find_pairs([2, 4, 3, 7, 1, 5], 6))  # [(1, 5), (2, 4)]\n"
   ]
  },
  {
   "cell_type": "code",
   "execution_count": 165,
   "id": "948303b7",
   "metadata": {},
   "outputs": [
    {
     "name": "stdout",
     "output_type": "stream",
     "text": [
      "[(1, 'a'), (3, 'c')]\n",
      "[(1, 'a'), (9, 'c')]\n"
     ]
    }
   ],
   "source": [
    "# Combine two lists and filter out pairs where the number is even\n",
    "nums = [1, 2, 3, 4]\n",
    "letters = ['a', 'b', 'c', 'd']\n",
    "\n",
    "# Combine with zip\n",
    "zipped = zip(nums, letters)\n",
    "\n",
    "# Filter pairs where the number is odd\n",
    "filtered_pairs = list(filter(lambda x: x[0] % 2 != 0, zipped))\n",
    "print(filtered_pairs)  # Output: [(1, 'a'), (3, 'c')]\n",
    "\n",
    "# Transform numbers to their square using map\n",
    "squared_nums = list(map(lambda x: (x[0]**2, x[1]), filtered_pairs))\n",
    "print(squared_nums)  # Output: [(1, 'a'), (9, 'c')]\n"
   ]
  },
  {
   "cell_type": "code",
   "execution_count": 166,
   "id": "f9995fc9",
   "metadata": {},
   "outputs": [
    {
     "name": "stdout",
     "output_type": "stream",
     "text": [
      "[1, 4, 9, 16, 25]\n"
     ]
    }
   ],
   "source": [
    "# Square each number in a list\n",
    "nums = [1, 2, 3, 4, 5]\n",
    "\n",
    "squared_nums = list(map(lambda x: x ** 2, nums))\n",
    "print(squared_nums)  # Output: [1, 4, 9, 16, 25]\n"
   ]
  },
  {
   "cell_type": "code",
   "execution_count": 167,
   "id": "2ecf3924",
   "metadata": {},
   "outputs": [
    {
     "data": {
      "text/plain": [
       "[1, 4, 9, 16, 25]"
      ]
     },
     "execution_count": 167,
     "metadata": {},
     "output_type": "execute_result"
    }
   ],
   "source": [
    "a = list(map(lambda x: x **2, nums))\n",
    "a"
   ]
  },
  {
   "cell_type": "code",
   "execution_count": 171,
   "id": "d2c552e2",
   "metadata": {},
   "outputs": [
    {
     "name": "stdout",
     "output_type": "stream",
     "text": [
      "[(1, 'a'), (2, 'b'), (3, 'c')]\n"
     ]
    }
   ],
   "source": [
    "# Combine two lists into a list of tuples\n",
    "list1 = [1, 2, 3,4]\n",
    "list2 = ['a', 'b', 'c']\n",
    "\n",
    "zipped = list(zip(list1, list2))\n",
    "print(zipped)  # Output: [(1, 'a'), (2, 'b'), (3, 'c')]\n"
   ]
  },
  {
   "cell_type": "code",
   "execution_count": 170,
   "id": "31ec8052",
   "metadata": {},
   "outputs": [
    {
     "data": {
      "text/plain": [
       "[(1, 'a'), (2, 'b'), (3, 'c')]"
      ]
     },
     "execution_count": 170,
     "metadata": {},
     "output_type": "execute_result"
    }
   ],
   "source": [
    "list(zip(list1, list2))"
   ]
  },
  {
   "cell_type": "code",
   "execution_count": 172,
   "id": "21e4c127",
   "metadata": {},
   "outputs": [
    {
     "name": "stdout",
     "output_type": "stream",
     "text": [
      "120\n"
     ]
    }
   ],
   "source": [
    "from functools import reduce\n",
    "\n",
    "# Find the product of all numbers in a list\n",
    "nums = [1, 2, 3, 4, 5]\n",
    "\n",
    "product = reduce(lambda x, y: x * y, nums)\n",
    "print(product)  # Output: 120\n"
   ]
  },
  {
   "cell_type": "code",
   "execution_count": 173,
   "id": "a249b83b",
   "metadata": {},
   "outputs": [
    {
     "name": "stdout",
     "output_type": "stream",
     "text": [
      "120\n"
     ]
    }
   ],
   "source": [
    "def max_product_of_three(nums):\n",
    "    nums.sort()  # Sort the list in ascending order\n",
    "    # Option 1: Product of the largest three numbers\n",
    "    product1 = nums[-1] * nums[-2] * nums[-3]\n",
    "    # Option 2: Product of the two smallest numbers (if negative) and the largest number\n",
    "    product2 = nums[0] * nums[1] * nums[-1]\n",
    "    # Return the maximum of the two options\n",
    "    return max(product1, product2)\n",
    "\n",
    "# Example usage\n",
    "nums = [1, 2, 3, 4, 5, 6]\n",
    "print(max_product_of_three(nums))  # Output: 120 (4 * 5 * 6)\n"
   ]
  },
  {
   "cell_type": "code",
   "execution_count": 178,
   "id": "642baf9f",
   "metadata": {},
   "outputs": [
    {
     "data": {
      "text/plain": [
       "(120, (6, 5, 4))"
      ]
     },
     "execution_count": 178,
     "metadata": {},
     "output_type": "execute_result"
    }
   ],
   "source": [
    "def max_product_three(nums):\n",
    "    nums.sort()\n",
    "    product1 = nums[-1] * nums[-2] * nums[-3]\n",
    "    com1 = nums[-1] , nums[-2] , nums[-3]\n",
    "    \n",
    "    product2 = nums[0] * nums[1] * nums[-1]\n",
    "    com2 = nums[0] , nums[1] , nums[-1]\n",
    "    \n",
    "    if product1 > product2:\n",
    "        return product1,com1\n",
    "    else:\n",
    "        return product2,com2\n",
    "max_product_three(nums)"
   ]
  },
  {
   "cell_type": "code",
   "execution_count": 205,
   "id": "f3cd7777",
   "metadata": {},
   "outputs": [
    {
     "name": "stdout",
     "output_type": "stream",
     "text": [
      "[1, 5, 9]\n"
     ]
    }
   ],
   "source": [
    "def get_diagonal(matrix):\n",
    "    if not matrix or not matrix[0]:\n",
    "        return []\n",
    "    diagonal = []\n",
    "    for i in range(min(len(matrix), len(matrix[0]))):\n",
    "        diagonal.append(matrix[i][i])\n",
    "    return diagonal\n",
    "matrix = [\n",
    "    [1, 2, 3],\n",
    "    [4, 5, 6],\n",
    "    [7, 8, 9]\n",
    "]\n",
    "\n",
    "diagonal = get_diagonal(matrix)\n",
    "print(diagonal)"
   ]
  },
  {
   "cell_type": "code",
   "execution_count": null,
   "id": "4d2b382e",
   "metadata": {},
   "outputs": [],
   "source": []
  },
  {
   "cell_type": "code",
   "execution_count": null,
   "id": "09e80bc2",
   "metadata": {},
   "outputs": [],
   "source": []
  },
  {
   "cell_type": "code",
   "execution_count": 199,
   "id": "8fcdc8aa",
   "metadata": {},
   "outputs": [
    {
     "name": "stdout",
     "output_type": "stream",
     "text": [
      "[1, 5, 9]\n"
     ]
    }
   ],
   "source": [
    "def get_diagonal(matrix):\n",
    "    if not matrix or not matrix[0]:\n",
    "        return []\n",
    "    diagonal = []\n",
    "    for i in range(min(len(matrix), len(matrix[0]))):\n",
    "        diagonal.append(matrix[i][i])\n",
    "    return diagonal\n",
    "\n",
    "\n",
    "matrix = [\n",
    "    [1, 2, 3],\n",
    "    [4, 5, 6],\n",
    "    [7, 8, 9]\n",
    "]\n",
    "\n",
    "diagonal = get_diagonal(matrix)\n",
    "print(diagonal)"
   ]
  },
  {
   "cell_type": "code",
   "execution_count": 212,
   "id": "ed277fb0",
   "metadata": {},
   "outputs": [
    {
     "name": "stdout",
     "output_type": "stream",
     "text": [
      "[1, 4, 7]\n",
      "[2, 5, 8]\n",
      "[3, 6, 9]\n"
     ]
    }
   ],
   "source": [
    "def get_diagonal(matrix):\n",
    "    if not matrix or not matrix[0]:\n",
    "        return []\n",
    "    diagonal = []\n",
    "    for i in range(min(len(matrix),len(matrix[0]))):\n",
    "        diagonal.append(matrix[i][i])\n",
    "    return diagonal\n",
    "\n",
    "def transposed(matrix):\n",
    "    if not matrix:\n",
    "        return []\n",
    "    trans = []\n",
    "    for i in range(len(matrix[0])):\n",
    "        trans.append([row[i] for row in matrix])\n",
    "    return trans\n",
    "\n",
    "transposed = transposed(matrix)\n",
    "for i in transposed:\n",
    "    print(i)"
   ]
  },
  {
   "cell_type": "code",
   "execution_count": null,
   "id": "957d0b7c",
   "metadata": {},
   "outputs": [],
   "source": []
  },
  {
   "cell_type": "code",
   "execution_count": null,
   "id": "a53d61f2",
   "metadata": {},
   "outputs": [],
   "source": []
  },
  {
   "cell_type": "code",
   "execution_count": 207,
   "id": "19e256e3",
   "metadata": {},
   "outputs": [
    {
     "name": "stdout",
     "output_type": "stream",
     "text": [
      "[1, 4, 7]\n",
      "[2, 5, 8]\n",
      "[3, 6, 9]\n"
     ]
    }
   ],
   "source": [
    "def transpose_matrix(matrix):\n",
    "    # Ensure the matrix is not empty\n",
    "    if not matrix:\n",
    "        return []\n",
    "\n",
    "    # Transpose the matrix\n",
    "    transposed = []\n",
    "    for col in range(len(matrix[0])):  # Iterate through columns of the original matrix\n",
    "        transposed.append([row[col] for row in matrix])  # Collect all elements in each column\n",
    "    return transposed\n",
    "\n",
    "transposed = transpose_matrix(matrix)\n",
    "for i in transposed:\n",
    "    print(i)"
   ]
  },
  {
   "cell_type": "code",
   "execution_count": null,
   "id": "351d9291",
   "metadata": {},
   "outputs": [],
   "source": []
  },
  {
   "cell_type": "code",
   "execution_count": null,
   "id": "c6f12e44",
   "metadata": {},
   "outputs": [],
   "source": []
  },
  {
   "cell_type": "code",
   "execution_count": null,
   "id": "1dd6519f",
   "metadata": {},
   "outputs": [],
   "source": []
  },
  {
   "cell_type": "code",
   "execution_count": 196,
   "id": "371ea8d9",
   "metadata": {},
   "outputs": [
    {
     "name": "stdout",
     "output_type": "stream",
     "text": [
      "Matrix:\n",
      "[1, 2, 3]\n",
      "[4, 5, 6]\n",
      "[7, 8, 9]\n",
      "\n",
      "Diagonal: [1, 5, 9]\n"
     ]
    }
   ],
   "source": [
    "def get_diagonal(matrix):\n",
    "    # Ensure the matrix is not empty\n",
    "    if not matrix or not matrix[0]:\n",
    "        return []\n",
    "\n",
    "    diagonal = []\n",
    "    for i in range(min(len(matrix), len(matrix[0]))):  # Traverse up to the smaller dimension\n",
    "        diagonal.append(matrix[i][i])\n",
    "    return diagonal\n",
    "\n",
    "# Example usage\n",
    "matrix = [\n",
    "    [1, 2, 3],\n",
    "    [4, 5, 6],\n",
    "    [7, 8, 9]\n",
    "]\n",
    "\n",
    "diagonal = get_diagonal(matrix)\n",
    "print(\"Matrix:\")\n",
    "for row in matrix:\n",
    "    print(row)\n",
    "print(\"\\nDiagonal:\", diagonal)\n"
   ]
  },
  {
   "cell_type": "code",
   "execution_count": 184,
   "id": "f9ab5234",
   "metadata": {},
   "outputs": [
    {
     "name": "stdout",
     "output_type": "stream",
     "text": [
      "Original Matrix:\n",
      "[1, 2, 3]\n",
      "[4, 5, 6]\n",
      "[7, 8, 9]\n",
      "\n",
      "Transposed Matrix:\n",
      "[1, 4, 7]\n",
      "[2, 5, 8]\n",
      "[3, 6, 9]\n"
     ]
    }
   ],
   "source": [
    "def transpose_matrix(matrix):\n",
    "    # Ensure the matrix is not empty\n",
    "    if not matrix:\n",
    "        return []\n",
    "\n",
    "    # Transpose the matrix\n",
    "    transposed = []\n",
    "    for col in range(len(matrix[0])):  # Iterate through columns of the original matrix\n",
    "        transposed.append([row[col] for row in matrix])  # Collect all elements in each column\n",
    "    return transposed\n",
    "\n",
    "# Example usage\n",
    "matrix = [\n",
    "    [1, 2, 3],\n",
    "    [4, 5, 6],\n",
    "    [7, 8, 9]\n",
    "]\n",
    "\n",
    "transposed = transpose_matrix(matrix)\n",
    "\n",
    "print(\"Original Matrix:\")\n",
    "for row in matrix:\n",
    "    print(row)\n",
    "\n",
    "print(\"\\nTransposed Matrix:\")\n",
    "for row in transposed:\n",
    "    print(row)\n"
   ]
  },
  {
   "cell_type": "code",
   "execution_count": 213,
   "id": "0c0d06c9",
   "metadata": {},
   "outputs": [
    {
     "data": {
      "text/plain": [
       "(315, (9, 7, 5))"
      ]
     },
     "execution_count": 213,
     "metadata": {},
     "output_type": "execute_result"
    }
   ],
   "source": [
    "def max_product_three(nums):\n",
    "    nums.sort()\n",
    "    prod1 = nums[-1]*nums[-2]*nums[-3]\n",
    "    com1 = nums[-1],nums[-2],nums[-3]\n",
    "    prod2 = nums[0]*nums[1]*nums[-1]\n",
    "    com2 = nums[0], nums[1], nums[-1]\n",
    "    if prod1 > prod2:\n",
    "        return prod1,com1\n",
    "    else:\n",
    "        prod2,com2\n",
    "        \n",
    "max_product_three([9,5,1,3,5,7])"
   ]
  },
  {
   "cell_type": "code",
   "execution_count": null,
   "id": "b411f877",
   "metadata": {},
   "outputs": [],
   "source": [
    "def find_pairs(arr, target):\n",
    "    seen = set()\n",
    "    pairs = set()\n",
    "    for num in arr:\n",
    "        diff = target - num\n",
    "        if diff in seen:\n",
    "            pairs.add((min(num, diff), max(num, diff)))\n",
    "        seen.add(num)\n",
    "    return list(pairs)\n",
    "\n",
    "print(find_pairs([2, 4, 3, 7, 1, 5], 6))"
   ]
  },
  {
   "cell_type": "code",
   "execution_count": 214,
   "id": "49c6d8f6",
   "metadata": {},
   "outputs": [
    {
     "name": "stdout",
     "output_type": "stream",
     "text": [
      "{(2, 4), (1, 5)}\n"
     ]
    }
   ],
   "source": [
    "def find_pair(arr,target):\n",
    "    seen = set()\n",
    "    pairs = set()\n",
    "    for num in arr:\n",
    "        diff = target - num\n",
    "        if diff in seen:\n",
    "            pairs.add((min(num,diff), max(num,diff)))\n",
    "        seen.add(num)\n",
    "    return list(pairs)\n",
    "print(find_pairs([2, 4, 3, 7, 1, 5], 6))"
   ]
  },
  {
   "cell_type": "code",
   "execution_count": 220,
   "id": "31e5fb74",
   "metadata": {},
   "outputs": [
    {
     "data": {
      "text/plain": [
       "[[1, 4, 7], [2, 5, 8], [3, 6, 9]]"
      ]
     },
     "execution_count": 220,
     "metadata": {},
     "output_type": "execute_result"
    }
   ],
   "source": [
    "def transposed(matrix):\n",
    "    if not matrix:\n",
    "        return []\n",
    "    trans = []\n",
    "    for i in range(len(matrix)):\n",
    "        trans.append([row[i] for row in matrix])\n",
    "    return trans\n",
    "\n",
    "transposed(matrix)"
   ]
  },
  {
   "cell_type": "code",
   "execution_count": 221,
   "id": "cb0a37be",
   "metadata": {},
   "outputs": [
    {
     "data": {
      "text/plain": [
       "[1, 5, 9]"
      ]
     },
     "execution_count": 221,
     "metadata": {},
     "output_type": "execute_result"
    }
   ],
   "source": [
    "def get_diagonal(matrix):\n",
    "    if not matrix or not matrix[0]:\n",
    "        return []\n",
    "    dia = []\n",
    "    for i in range(min(len(matrix), len(matrix[0]))):\n",
    "        dia.append(matrix[i][i])\n",
    "    return dia\n",
    "\n",
    "get_diagonal(matrix)"
   ]
  },
  {
   "cell_type": "code",
   "execution_count": 225,
   "id": "12a1500c",
   "metadata": {},
   "outputs": [
    {
     "name": "stdout",
     "output_type": "stream",
     "text": [
      "{(2, 4), (1, 5)}\n"
     ]
    }
   ],
   "source": [
    "def find_pairs(arr,target):\n",
    "    seen = set()\n",
    "    pairs = set()\n",
    "    for num in arr:\n",
    "        diff = target - num\n",
    "        if diff in seen:\n",
    "            pairs.add((min(num,diff), max(num,diff)))\n",
    "        seen.add(num)\n",
    "    return pairs\n",
    "\n",
    "print(find_pairs([2, 4, 3, 7, 1, 5], 6))"
   ]
  },
  {
   "cell_type": "code",
   "execution_count": 217,
   "id": "2658f22c",
   "metadata": {},
   "outputs": [
    {
     "name": "stdout",
     "output_type": "stream",
     "text": [
      "[1, 4, 7]\n",
      "[2, 5, 8]\n",
      "[3, 6, 9]\n"
     ]
    }
   ],
   "source": [
    "def transponsed(matrix):\n",
    "    if not matrix:\n",
    "        return []\n",
    "    trans = []\n",
    "    for i in range(len(matrix[0])):\n",
    "        trans.append([row[i] for row in matrix])\n",
    "    return trans\n",
    "\n",
    "trans1 = transponsed(matrix)\n",
    "for i in trans1:\n",
    "    print(i)"
   ]
  },
  {
   "cell_type": "code",
   "execution_count": 219,
   "id": "a49f744f",
   "metadata": {},
   "outputs": [
    {
     "data": {
      "text/plain": [
       "[1, 5, 9]"
      ]
     },
     "execution_count": 219,
     "metadata": {},
     "output_type": "execute_result"
    }
   ],
   "source": [
    "def get_diagonal(matrix):\n",
    "    if not matrix:\n",
    "        return []\n",
    "    diagonal = []\n",
    "    for i in range(min(len(matrix), len(matrix[0]))):\n",
    "        diagonal.append(matrix[i][i])\n",
    "    return diagonal\n",
    "\n",
    "dia = get_diagonal(matrix)\n",
    "dia"
   ]
  },
  {
   "cell_type": "code",
   "execution_count": 226,
   "id": "072f39d6",
   "metadata": {},
   "outputs": [
    {
     "data": {
      "text/plain": [
       "(240, (8, 6, 5))"
      ]
     },
     "execution_count": 226,
     "metadata": {},
     "output_type": "execute_result"
    }
   ],
   "source": [
    "def max_product_three(nums):\n",
    "    nums.sort()\n",
    "    prod1 = nums[-1]*nums[-2]*nums[-3]\n",
    "    com1 = nums[-1],nums[-2],nums[-3]\n",
    "    prod2 = nums[0]*nums[1]*nums[-1]\n",
    "    com2 = nums[0],nums[1],nums[-1]\n",
    "    if prod1 > prod2:\n",
    "        return prod1,com1\n",
    "    else:\n",
    "        return prod2,com2\n",
    "    \n",
    "max_product_three([8,5,2,6,5,4])"
   ]
  },
  {
   "cell_type": "code",
   "execution_count": null,
   "id": "40a7bf4a",
   "metadata": {},
   "outputs": [],
   "source": []
  },
  {
   "cell_type": "code",
   "execution_count": null,
   "id": "95428fc7",
   "metadata": {},
   "outputs": [],
   "source": []
  },
  {
   "cell_type": "code",
   "execution_count": null,
   "id": "6e31c5c5",
   "metadata": {},
   "outputs": [],
   "source": []
  },
  {
   "cell_type": "code",
   "execution_count": null,
   "id": "2fb037ec",
   "metadata": {},
   "outputs": [],
   "source": []
  },
  {
   "cell_type": "code",
   "execution_count": null,
   "id": "485c311f",
   "metadata": {},
   "outputs": [],
   "source": []
  },
  {
   "cell_type": "code",
   "execution_count": null,
   "id": "606d1539",
   "metadata": {},
   "outputs": [],
   "source": []
  },
  {
   "cell_type": "code",
   "execution_count": null,
   "id": "8c0448b6",
   "metadata": {},
   "outputs": [],
   "source": []
  },
  {
   "cell_type": "code",
   "execution_count": null,
   "id": "a202ccc6",
   "metadata": {},
   "outputs": [],
   "source": []
  },
  {
   "cell_type": "code",
   "execution_count": 176,
   "id": "93dbfc53",
   "metadata": {},
   "outputs": [
    {
     "name": "stdout",
     "output_type": "stream",
     "text": [
      "Maximum Product: 120\n",
      "Numbers: (6, 5, 4)\n"
     ]
    }
   ],
   "source": [
    "def max_product_of_three(nums):\n",
    "    nums.sort()  # Sort the list in ascending order\n",
    "\n",
    "    # Option 1: Product of the largest three numbers\n",
    "    product1 = nums[-1] * nums[-2] * nums[-3]\n",
    "    combination1 = (nums[-1], nums[-2], nums[-3])\n",
    "\n",
    "    # Option 2: Product of the two smallest numbers (if negative) and the largest number\n",
    "    product2 = nums[0] * nums[1] * nums[-1]\n",
    "    combination2 = (nums[0], nums[1], nums[-1])\n",
    "\n",
    "    # Compare the two options and return the larger product along with the numbers\n",
    "    if product1 > product2:\n",
    "        return product1, combination1\n",
    "    else:\n",
    "        return product2, combination2\n",
    "\n",
    "# Example usage\n",
    "nums = [1, 2, 3, 4, 5, 6]\n",
    "product, numbers = max_product_of_three(nums)\n",
    "print(f\"Maximum Product: {product}\")\n",
    "print(f\"Numbers: {numbers}\")\n"
   ]
  },
  {
   "cell_type": "code",
   "execution_count": null,
   "id": "ffe31c32",
   "metadata": {},
   "outputs": [],
   "source": []
  },
  {
   "cell_type": "code",
   "execution_count": 8,
   "id": "08c947fa",
   "metadata": {},
   "outputs": [
    {
     "name": "stdout",
     "output_type": "stream",
     "text": [
      "3\n"
     ]
    }
   ],
   "source": [
    "def longest_unique_substring(s):\n",
    "    seen = {}\n",
    "    start = max_length = 0\n",
    "    for i , char in enumerate(s):\n",
    "        if char in seen and seen[char] >= start:\n",
    "            start = seen[char] + 1\n",
    "        seen[char] = i\n",
    "        max_length = max(max_length, i-start +1)\n",
    "    return max_length\n",
    "\n",
    "print(longest_unique_substring(\"abcabcbb\"))"
   ]
  },
  {
   "cell_type": "code",
   "execution_count": 12,
   "id": "276b665e",
   "metadata": {},
   "outputs": [
    {
     "name": "stdout",
     "output_type": "stream",
     "text": [
      "3\n"
     ]
    }
   ],
   "source": [
    "s = 'abcabcbb'\n",
    "seen = {}\n",
    "start = max_length = 0\n",
    "for i, char in enumerate(s):\n",
    "    if char in seen and seen[char] >= start:\n",
    "        start = seen[char] +1\n",
    "    seen[char] = i\n",
    "    max_length = max(max_length, i - start +1)\n",
    "print(max_length)"
   ]
  },
  {
   "cell_type": "code",
   "execution_count": 14,
   "id": "4979aff8",
   "metadata": {},
   "outputs": [
    {
     "name": "stdout",
     "output_type": "stream",
     "text": [
      "{(2, 4), (1, 5)}\n"
     ]
    }
   ],
   "source": [
    "def find_pairs(arr,target):\n",
    "    seen = set()\n",
    "    pairs = set()\n",
    "    for num in arr:\n",
    "        diff = target - num\n",
    "        if diff in  seen:\n",
    "            pairs.add((min(num,diff), max(num,diff)))\n",
    "        seen.add(num)\n",
    "    return pairs\n",
    "\n",
    "print(find_pairs([2, 4, 3, 7, 1, 5], 6))\n"
   ]
  },
  {
   "cell_type": "code",
   "execution_count": 17,
   "id": "29aced51",
   "metadata": {},
   "outputs": [
    {
     "name": "stdout",
     "output_type": "stream",
     "text": [
      "{(2, 4), (1, 5)}\n"
     ]
    }
   ],
   "source": [
    "def find_pairs(arr, target):\n",
    "    seen = set()\n",
    "    pairs = set()\n",
    "    for num in arr:\n",
    "        diff = target - num\n",
    "        if diff in seen:\n",
    "            pairs.add((min(num,diff), max(num,diff)))\n",
    "        seen.add(num)\n",
    "    return pairs\n",
    "\n",
    "print(find_pairs([2, 4, 3, 7, 1, 5], 6))\n"
   ]
  },
  {
   "cell_type": "code",
   "execution_count": null,
   "id": "309801f9",
   "metadata": {},
   "outputs": [],
   "source": [
    "def longest_unique_substring(s):\n",
    "    seen = {}\n",
    "    start = max_length = 0\n",
    "    for i, char in enumerate(s):\n",
    "        if char in seen and seen[char] >= start:\n",
    "            start = seen[char] + 1\n",
    "        seen[char] = i\n",
    "        max_length = max(max_length, i - start + 1)\n",
    "    return max_length\n",
    "\n",
    "print(longest_unique_substring(\"abcabcbb\"))  # 3 (\"abc\")\n"
   ]
  },
  {
   "cell_type": "code",
   "execution_count": 24,
   "id": "d2eda928",
   "metadata": {},
   "outputs": [
    {
     "name": "stdout",
     "output_type": "stream",
     "text": [
      "3\n"
     ]
    }
   ],
   "source": [
    "def largest_unique_substring(s):\n",
    "    seen = {}\n",
    "    start = max_length = 0\n",
    "    for i,char in enumerate(s):\n",
    "        if char in seen and seen[char] >= start:\n",
    "            start = seen[char] +1\n",
    "        seen[char] = i\n",
    "        max_length = max(max_length, i-start+2)\n",
    "    return max_length\n",
    "\n",
    "print(longest_unique_substring(\"abcabcbb\"))  # 3 (\"abc\")\n"
   ]
  },
  {
   "cell_type": "code",
   "execution_count": null,
   "id": "2a0e289a",
   "metadata": {},
   "outputs": [],
   "source": []
  },
  {
   "cell_type": "code",
   "execution_count": null,
   "id": "906d25bd",
   "metadata": {},
   "outputs": [],
   "source": [
    "def is_armstrong(num):\n",
    "    digits = list(map(int, str(num)))\n",
    "    return num == sum(d ** len(digits) for d in digits)\n",
    "\n",
    "print(is_armstrong(153))  # True\n",
    "print(is_armstrong(123))  # False\n"
   ]
  },
  {
   "cell_type": "code",
   "execution_count": null,
   "id": "75632028",
   "metadata": {},
   "outputs": [],
   "source": [
    "def pascal_triangle(n):\n",
    "    result = [[1]]\n",
    "    for i in range(1, n):\n",
    "        row = [1]\n",
    "        for j in range(1, i):\n",
    "            row.append(result[i-1][j-1] + result[i-1][j])\n",
    "        row.append(1)\n",
    "        result.append(row)\n",
    "    return result\n",
    "\n",
    "print(pascal_triangle(5))\n"
   ]
  },
  {
   "cell_type": "code",
   "execution_count": null,
   "id": "cbe2945a",
   "metadata": {},
   "outputs": [],
   "source": [
    "def subsets(nums):\n",
    "    result = [[]]\n",
    "    for num in nums:\n",
    "        result += [curr + [num] for curr in result]\n",
    "    return result\n",
    "\n",
    "print(subsets([1, 2, 3]))\n",
    "# [[], [1], [2], [1, 2], [3], [1, 3], [2, 3], [1, 2, 3]]\n"
   ]
  },
  {
   "cell_type": "code",
   "execution_count": 19,
   "id": "0ff8d3ff",
   "metadata": {},
   "outputs": [
    {
     "name": "stdout",
     "output_type": "stream",
     "text": [
      "[[], [1], [2], [1, 2], [3], [1, 3], [2, 3], [1, 2, 3], [4], [1, 4], [2, 4], [1, 2, 4], [3, 4], [1, 3, 4], [2, 3, 4], [1, 2, 3, 4]]\n"
     ]
    }
   ],
   "source": [
    "def subsets(nums):\n",
    "    result = [[]]\n",
    "    for i in nums:\n",
    "        result += [curr + [i] for curr in result]\n",
    "    return result\n",
    "\n",
    "print(subsets([1,2,3,4]))"
   ]
  },
  {
   "cell_type": "code",
   "execution_count": null,
   "id": "94a78380",
   "metadata": {},
   "outputs": [],
   "source": []
  },
  {
   "cell_type": "code",
   "execution_count": 22,
   "id": "1187af3f",
   "metadata": {},
   "outputs": [
    {
     "data": {
      "text/plain": [
       "6"
      ]
     },
     "execution_count": 22,
     "metadata": {},
     "output_type": "execute_result"
    }
   ],
   "source": [
    "def count_inv(arr):\n",
    "    inv = 0\n",
    "    for i in range(len(arr)):\n",
    "        for j in range(i+1,len(arr)):\n",
    "            if arr[i] > arr[j]:\n",
    "                inv+=1\n",
    "    return inv\n",
    "\n",
    "count_inv([8,4,2,1])"
   ]
  },
  {
   "cell_type": "code",
   "execution_count": 20,
   "id": "aebe0bcd",
   "metadata": {},
   "outputs": [
    {
     "name": "stdout",
     "output_type": "stream",
     "text": [
      "6\n"
     ]
    }
   ],
   "source": [
    "def count_inversions(arr):\n",
    "    inversions = 0\n",
    "    for i in range(len(arr)):\n",
    "        for j in range(i+1, len(arr)):\n",
    "            if arr[i] > arr[j]:\n",
    "                inversions += 1\n",
    "    return inversions\n",
    "\n",
    "print(count_inversions([8, 4, 2, 1]))  # 6\n"
   ]
  },
  {
   "cell_type": "code",
   "execution_count": null,
   "id": "6270cd57",
   "metadata": {},
   "outputs": [],
   "source": [
    "def majority_element(nums):\n",
    "    count = 0\n",
    "    candidate = None\n",
    "    for num in nums:\n",
    "        if count == 0:\n",
    "            candidate = num\n",
    "        count += (1 if num == candidate else -1)\n",
    "    return candidate\n",
    "\n",
    "print(majority_element([3, 3, 4, 2, 4, 4, 2, 4, 4]))  # 4\n"
   ]
  },
  {
   "cell_type": "code",
   "execution_count": 23,
   "id": "f3b04e1d",
   "metadata": {},
   "outputs": [
    {
     "data": {
      "text/plain": [
       "{(2, 5), (3, 4)}"
      ]
     },
     "execution_count": 23,
     "metadata": {},
     "output_type": "execute_result"
    }
   ],
   "source": [
    "def find_pairs(arr,target):\n",
    "    seen = set()\n",
    "    pairs = set()\n",
    "    for num in  arr:\n",
    "        diff = target - num\n",
    "        if diff in seen:\n",
    "            pairs.add((min(num,diff), max(num,diff)))\n",
    "        seen.add(num)\n",
    "    return pairs\n",
    "\n",
    "find_pairs([1,2,3,4,5,9,2],7)"
   ]
  },
  {
   "cell_type": "code",
   "execution_count": 116,
   "id": "657b781f",
   "metadata": {},
   "outputs": [
    {
     "data": {
      "text/html": [
       "<div>\n",
       "<style scoped>\n",
       "    .dataframe tbody tr th:only-of-type {\n",
       "        vertical-align: middle;\n",
       "    }\n",
       "\n",
       "    .dataframe tbody tr th {\n",
       "        vertical-align: top;\n",
       "    }\n",
       "\n",
       "    .dataframe thead th {\n",
       "        text-align: right;\n",
       "    }\n",
       "</style>\n",
       "<table border=\"1\" class=\"dataframe\">\n",
       "  <thead>\n",
       "    <tr style=\"text-align: right;\">\n",
       "      <th></th>\n",
       "      <th>Name</th>\n",
       "      <th>Age</th>\n",
       "      <th>City</th>\n",
       "    </tr>\n",
       "  </thead>\n",
       "  <tbody>\n",
       "    <tr>\n",
       "      <th>0</th>\n",
       "      <td>Alice</td>\n",
       "      <td>25</td>\n",
       "      <td>New York</td>\n",
       "    </tr>\n",
       "    <tr>\n",
       "      <th>1</th>\n",
       "      <td>Bob</td>\n",
       "      <td>30</td>\n",
       "      <td>Los Angeles</td>\n",
       "    </tr>\n",
       "    <tr>\n",
       "      <th>2</th>\n",
       "      <td>Charlie</td>\n",
       "      <td>35</td>\n",
       "      <td>Chicago</td>\n",
       "    </tr>\n",
       "  </tbody>\n",
       "</table>\n",
       "</div>"
      ],
      "text/plain": [
       "      Name  Age         City\n",
       "0    Alice   25     New York\n",
       "1      Bob   30  Los Angeles\n",
       "2  Charlie   35      Chicago"
      ]
     },
     "execution_count": 116,
     "metadata": {},
     "output_type": "execute_result"
    }
   ],
   "source": [
    "# import pandas as pd\n",
    "\n",
    "data = {\n",
    "    \"Name\": [\"Alice\", \"Bob\", \"Charlie\"],\n",
    "    \"Age\": [25, 30, 35],\n",
    "    \"City\": [\"New York\", \"Los Angeles\", \"Chicago\"]\n",
    "}\n",
    "\n",
    "df = pd.DataFrame(data)\n",
    "df\n"
   ]
  },
  {
   "cell_type": "code",
   "execution_count": 85,
   "id": "5246dd0c",
   "metadata": {},
   "outputs": [
    {
     "data": {
      "text/html": [
       "<div>\n",
       "<style scoped>\n",
       "    .dataframe tbody tr th:only-of-type {\n",
       "        vertical-align: middle;\n",
       "    }\n",
       "\n",
       "    .dataframe tbody tr th {\n",
       "        vertical-align: top;\n",
       "    }\n",
       "\n",
       "    .dataframe thead th {\n",
       "        text-align: right;\n",
       "    }\n",
       "</style>\n",
       "<table border=\"1\" class=\"dataframe\">\n",
       "  <thead>\n",
       "    <tr style=\"text-align: right;\">\n",
       "      <th></th>\n",
       "      <th>Name</th>\n",
       "      <th>Age</th>\n",
       "      <th>City</th>\n",
       "    </tr>\n",
       "  </thead>\n",
       "  <tbody>\n",
       "    <tr>\n",
       "      <th>2</th>\n",
       "      <td>Charlie</td>\n",
       "      <td>35</td>\n",
       "      <td>Chicago</td>\n",
       "    </tr>\n",
       "  </tbody>\n",
       "</table>\n",
       "</div>"
      ],
      "text/plain": [
       "      Name  Age     City\n",
       "2  Charlie   35  Chicago"
      ]
     },
     "execution_count": 85,
     "metadata": {},
     "output_type": "execute_result"
    }
   ],
   "source": [
    "df[df['Age'] > 30]"
   ]
  },
  {
   "cell_type": "code",
   "execution_count": 86,
   "id": "329b7204",
   "metadata": {},
   "outputs": [
    {
     "data": {
      "text/html": [
       "<div>\n",
       "<style scoped>\n",
       "    .dataframe tbody tr th:only-of-type {\n",
       "        vertical-align: middle;\n",
       "    }\n",
       "\n",
       "    .dataframe tbody tr th {\n",
       "        vertical-align: top;\n",
       "    }\n",
       "\n",
       "    .dataframe thead th {\n",
       "        text-align: right;\n",
       "    }\n",
       "</style>\n",
       "<table border=\"1\" class=\"dataframe\">\n",
       "  <thead>\n",
       "    <tr style=\"text-align: right;\">\n",
       "      <th></th>\n",
       "      <th>Name</th>\n",
       "      <th>Age</th>\n",
       "      <th>City</th>\n",
       "      <th>Salary</th>\n",
       "    </tr>\n",
       "  </thead>\n",
       "  <tbody>\n",
       "    <tr>\n",
       "      <th>0</th>\n",
       "      <td>Alice</td>\n",
       "      <td>25</td>\n",
       "      <td>New York</td>\n",
       "      <td>5000</td>\n",
       "    </tr>\n",
       "    <tr>\n",
       "      <th>1</th>\n",
       "      <td>Bob</td>\n",
       "      <td>30</td>\n",
       "      <td>Los Angeles</td>\n",
       "      <td>5000</td>\n",
       "    </tr>\n",
       "    <tr>\n",
       "      <th>2</th>\n",
       "      <td>Charlie</td>\n",
       "      <td>35</td>\n",
       "      <td>Chicago</td>\n",
       "      <td>5000</td>\n",
       "    </tr>\n",
       "  </tbody>\n",
       "</table>\n",
       "</div>"
      ],
      "text/plain": [
       "      Name  Age         City  Salary\n",
       "0    Alice   25     New York    5000\n",
       "1      Bob   30  Los Angeles    5000\n",
       "2  Charlie   35      Chicago    5000"
      ]
     },
     "execution_count": 86,
     "metadata": {},
     "output_type": "execute_result"
    }
   ],
   "source": [
    "df['Salary'] = 5000\n",
    "df"
   ]
  },
  {
   "cell_type": "code",
   "execution_count": 87,
   "id": "478b367b",
   "metadata": {},
   "outputs": [
    {
     "data": {
      "text/html": [
       "<div>\n",
       "<style scoped>\n",
       "    .dataframe tbody tr th:only-of-type {\n",
       "        vertical-align: middle;\n",
       "    }\n",
       "\n",
       "    .dataframe tbody tr th {\n",
       "        vertical-align: top;\n",
       "    }\n",
       "\n",
       "    .dataframe thead th {\n",
       "        text-align: right;\n",
       "    }\n",
       "</style>\n",
       "<table border=\"1\" class=\"dataframe\">\n",
       "  <thead>\n",
       "    <tr style=\"text-align: right;\">\n",
       "      <th></th>\n",
       "      <th>Name</th>\n",
       "      <th>Age</th>\n",
       "      <th>City</th>\n",
       "    </tr>\n",
       "  </thead>\n",
       "  <tbody>\n",
       "    <tr>\n",
       "      <th>0</th>\n",
       "      <td>Alice</td>\n",
       "      <td>25</td>\n",
       "      <td>New York</td>\n",
       "    </tr>\n",
       "    <tr>\n",
       "      <th>1</th>\n",
       "      <td>Bob</td>\n",
       "      <td>30</td>\n",
       "      <td>Los Angeles</td>\n",
       "    </tr>\n",
       "    <tr>\n",
       "      <th>2</th>\n",
       "      <td>Charlie</td>\n",
       "      <td>35</td>\n",
       "      <td>Chicago</td>\n",
       "    </tr>\n",
       "  </tbody>\n",
       "</table>\n",
       "</div>"
      ],
      "text/plain": [
       "      Name  Age         City\n",
       "0    Alice   25     New York\n",
       "1      Bob   30  Los Angeles\n",
       "2  Charlie   35      Chicago"
      ]
     },
     "execution_count": 87,
     "metadata": {},
     "output_type": "execute_result"
    }
   ],
   "source": [
    "df.drop(columns=['Salary'],axis=1,inplace=True)\n",
    "df"
   ]
  },
  {
   "cell_type": "code",
   "execution_count": 88,
   "id": "c2af7a71",
   "metadata": {},
   "outputs": [
    {
     "data": {
      "text/plain": [
       "City\n",
       "Chicago        35.0\n",
       "Los Angeles    30.0\n",
       "New York       25.0\n",
       "Name: Age, dtype: float64"
      ]
     },
     "execution_count": 88,
     "metadata": {},
     "output_type": "execute_result"
    }
   ],
   "source": [
    "df.groupby('City')['Age'].mean()"
   ]
  },
  {
   "cell_type": "code",
   "execution_count": 61,
   "id": "8172e0ab",
   "metadata": {},
   "outputs": [
    {
     "name": "stdout",
     "output_type": "stream",
     "text": [
      "   ID   Name  Score\n",
      "0   1  Alice     85\n",
      "1   2    Bob     90\n"
     ]
    }
   ],
   "source": [
    "df1 = pd.DataFrame({'ID': [1, 2], 'Name': ['Alice', 'Bob']})\n",
    "df2 = pd.DataFrame({'ID': [1, 2], 'Score': [85, 90]})\n",
    "\n",
    "merged_df = pd.merge(df1, df2, on='ID')\n",
    "print(merged_df)\n"
   ]
  },
  {
   "cell_type": "code",
   "execution_count": 62,
   "id": "30825732",
   "metadata": {},
   "outputs": [
    {
     "data": {
      "text/html": [
       "<div>\n",
       "<style scoped>\n",
       "    .dataframe tbody tr th:only-of-type {\n",
       "        vertical-align: middle;\n",
       "    }\n",
       "\n",
       "    .dataframe tbody tr th {\n",
       "        vertical-align: top;\n",
       "    }\n",
       "\n",
       "    .dataframe thead th {\n",
       "        text-align: right;\n",
       "    }\n",
       "</style>\n",
       "<table border=\"1\" class=\"dataframe\">\n",
       "  <thead>\n",
       "    <tr style=\"text-align: right;\">\n",
       "      <th></th>\n",
       "      <th>ID</th>\n",
       "      <th>Name</th>\n",
       "      <th>Score</th>\n",
       "    </tr>\n",
       "  </thead>\n",
       "  <tbody>\n",
       "    <tr>\n",
       "      <th>0</th>\n",
       "      <td>1</td>\n",
       "      <td>Alice</td>\n",
       "      <td>85</td>\n",
       "    </tr>\n",
       "    <tr>\n",
       "      <th>1</th>\n",
       "      <td>2</td>\n",
       "      <td>Bob</td>\n",
       "      <td>90</td>\n",
       "    </tr>\n",
       "  </tbody>\n",
       "</table>\n",
       "</div>"
      ],
      "text/plain": [
       "   ID   Name  Score\n",
       "0   1  Alice     85\n",
       "1   2    Bob     90"
      ]
     },
     "execution_count": 62,
     "metadata": {},
     "output_type": "execute_result"
    }
   ],
   "source": [
    "merge = pd.merge(df1,df2,on='ID')\n",
    "merge"
   ]
  },
  {
   "cell_type": "code",
   "execution_count": 63,
   "id": "102c651f",
   "metadata": {},
   "outputs": [
    {
     "data": {
      "text/html": [
       "<div>\n",
       "<style scoped>\n",
       "    .dataframe tbody tr th:only-of-type {\n",
       "        vertical-align: middle;\n",
       "    }\n",
       "\n",
       "    .dataframe tbody tr th {\n",
       "        vertical-align: top;\n",
       "    }\n",
       "\n",
       "    .dataframe thead th {\n",
       "        text-align: right;\n",
       "    }\n",
       "</style>\n",
       "<table border=\"1\" class=\"dataframe\">\n",
       "  <thead>\n",
       "    <tr style=\"text-align: right;\">\n",
       "      <th></th>\n",
       "      <th>Name</th>\n",
       "      <th>Age</th>\n",
       "      <th>City</th>\n",
       "    </tr>\n",
       "  </thead>\n",
       "  <tbody>\n",
       "    <tr>\n",
       "      <th>0</th>\n",
       "      <td>Alice</td>\n",
       "      <td>25</td>\n",
       "      <td>New York</td>\n",
       "    </tr>\n",
       "    <tr>\n",
       "      <th>1</th>\n",
       "      <td>Bob</td>\n",
       "      <td>30</td>\n",
       "      <td>Los Angeles</td>\n",
       "    </tr>\n",
       "    <tr>\n",
       "      <th>2</th>\n",
       "      <td>Charlie</td>\n",
       "      <td>35</td>\n",
       "      <td>Chicago</td>\n",
       "    </tr>\n",
       "  </tbody>\n",
       "</table>\n",
       "</div>"
      ],
      "text/plain": [
       "      Name  Age         City\n",
       "0    Alice   25     New York\n",
       "1      Bob   30  Los Angeles\n",
       "2  Charlie   35      Chicago"
      ]
     },
     "execution_count": 63,
     "metadata": {},
     "output_type": "execute_result"
    }
   ],
   "source": [
    "df"
   ]
  },
  {
   "cell_type": "code",
   "execution_count": 117,
   "id": "684e9093",
   "metadata": {},
   "outputs": [],
   "source": [
    "import numpy as np\n",
    "df['Salary'] = [5,np.nan, 8]"
   ]
  },
  {
   "cell_type": "code",
   "execution_count": 118,
   "id": "66dfa580",
   "metadata": {},
   "outputs": [
    {
     "data": {
      "text/html": [
       "<div>\n",
       "<style scoped>\n",
       "    .dataframe tbody tr th:only-of-type {\n",
       "        vertical-align: middle;\n",
       "    }\n",
       "\n",
       "    .dataframe tbody tr th {\n",
       "        vertical-align: top;\n",
       "    }\n",
       "\n",
       "    .dataframe thead th {\n",
       "        text-align: right;\n",
       "    }\n",
       "</style>\n",
       "<table border=\"1\" class=\"dataframe\">\n",
       "  <thead>\n",
       "    <tr style=\"text-align: right;\">\n",
       "      <th></th>\n",
       "      <th>Name</th>\n",
       "      <th>Age</th>\n",
       "      <th>City</th>\n",
       "      <th>Salary</th>\n",
       "    </tr>\n",
       "  </thead>\n",
       "  <tbody>\n",
       "    <tr>\n",
       "      <th>0</th>\n",
       "      <td>Alice</td>\n",
       "      <td>25</td>\n",
       "      <td>New York</td>\n",
       "      <td>5.0</td>\n",
       "    </tr>\n",
       "    <tr>\n",
       "      <th>1</th>\n",
       "      <td>Bob</td>\n",
       "      <td>30</td>\n",
       "      <td>Los Angeles</td>\n",
       "      <td>NaN</td>\n",
       "    </tr>\n",
       "    <tr>\n",
       "      <th>2</th>\n",
       "      <td>Charlie</td>\n",
       "      <td>35</td>\n",
       "      <td>Chicago</td>\n",
       "      <td>8.0</td>\n",
       "    </tr>\n",
       "  </tbody>\n",
       "</table>\n",
       "</div>"
      ],
      "text/plain": [
       "      Name  Age         City  Salary\n",
       "0    Alice   25     New York     5.0\n",
       "1      Bob   30  Los Angeles     NaN\n",
       "2  Charlie   35      Chicago     8.0"
      ]
     },
     "execution_count": 118,
     "metadata": {},
     "output_type": "execute_result"
    }
   ],
   "source": [
    "df"
   ]
  },
  {
   "cell_type": "code",
   "execution_count": 119,
   "id": "009a3876",
   "metadata": {},
   "outputs": [
    {
     "data": {
      "text/html": [
       "<div>\n",
       "<style scoped>\n",
       "    .dataframe tbody tr th:only-of-type {\n",
       "        vertical-align: middle;\n",
       "    }\n",
       "\n",
       "    .dataframe tbody tr th {\n",
       "        vertical-align: top;\n",
       "    }\n",
       "\n",
       "    .dataframe thead th {\n",
       "        text-align: right;\n",
       "    }\n",
       "</style>\n",
       "<table border=\"1\" class=\"dataframe\">\n",
       "  <thead>\n",
       "    <tr style=\"text-align: right;\">\n",
       "      <th></th>\n",
       "      <th>Name</th>\n",
       "      <th>Age</th>\n",
       "      <th>City</th>\n",
       "      <th>Salary</th>\n",
       "    </tr>\n",
       "  </thead>\n",
       "  <tbody>\n",
       "    <tr>\n",
       "      <th>0</th>\n",
       "      <td>Alice</td>\n",
       "      <td>25</td>\n",
       "      <td>New York</td>\n",
       "      <td>5.0</td>\n",
       "    </tr>\n",
       "    <tr>\n",
       "      <th>1</th>\n",
       "      <td>Bob</td>\n",
       "      <td>30</td>\n",
       "      <td>Los Angeles</td>\n",
       "      <td>6.5</td>\n",
       "    </tr>\n",
       "    <tr>\n",
       "      <th>2</th>\n",
       "      <td>Charlie</td>\n",
       "      <td>35</td>\n",
       "      <td>Chicago</td>\n",
       "      <td>8.0</td>\n",
       "    </tr>\n",
       "  </tbody>\n",
       "</table>\n",
       "</div>"
      ],
      "text/plain": [
       "      Name  Age         City  Salary\n",
       "0    Alice   25     New York     5.0\n",
       "1      Bob   30  Los Angeles     6.5\n",
       "2  Charlie   35      Chicago     8.0"
      ]
     },
     "execution_count": 119,
     "metadata": {},
     "output_type": "execute_result"
    }
   ],
   "source": [
    "df['Salary'] = df['Salary'].fillna(df['Salary'].mean())\n",
    "df"
   ]
  },
  {
   "cell_type": "code",
   "execution_count": 120,
   "id": "d8375611",
   "metadata": {},
   "outputs": [
    {
     "data": {
      "text/html": [
       "<div>\n",
       "<style scoped>\n",
       "    .dataframe tbody tr th:only-of-type {\n",
       "        vertical-align: middle;\n",
       "    }\n",
       "\n",
       "    .dataframe tbody tr th {\n",
       "        vertical-align: top;\n",
       "    }\n",
       "\n",
       "    .dataframe thead th {\n",
       "        text-align: right;\n",
       "    }\n",
       "</style>\n",
       "<table border=\"1\" class=\"dataframe\">\n",
       "  <thead>\n",
       "    <tr style=\"text-align: right;\">\n",
       "      <th></th>\n",
       "      <th>Name</th>\n",
       "      <th>Age</th>\n",
       "      <th>City</th>\n",
       "      <th>Salary</th>\n",
       "    </tr>\n",
       "  </thead>\n",
       "  <tbody>\n",
       "    <tr>\n",
       "      <th>2</th>\n",
       "      <td>Charlie</td>\n",
       "      <td>35</td>\n",
       "      <td>Chicago</td>\n",
       "      <td>8.0</td>\n",
       "    </tr>\n",
       "    <tr>\n",
       "      <th>1</th>\n",
       "      <td>Bob</td>\n",
       "      <td>30</td>\n",
       "      <td>Los Angeles</td>\n",
       "      <td>6.5</td>\n",
       "    </tr>\n",
       "    <tr>\n",
       "      <th>0</th>\n",
       "      <td>Alice</td>\n",
       "      <td>25</td>\n",
       "      <td>New York</td>\n",
       "      <td>5.0</td>\n",
       "    </tr>\n",
       "  </tbody>\n",
       "</table>\n",
       "</div>"
      ],
      "text/plain": [
       "      Name  Age         City  Salary\n",
       "2  Charlie   35      Chicago     8.0\n",
       "1      Bob   30  Los Angeles     6.5\n",
       "0    Alice   25     New York     5.0"
      ]
     },
     "execution_count": 120,
     "metadata": {},
     "output_type": "execute_result"
    }
   ],
   "source": [
    "sorted_df = df.sort_values(by='Age',ascending=False)\n",
    "sorted_df"
   ]
  },
  {
   "cell_type": "code",
   "execution_count": 93,
   "id": "0232149e",
   "metadata": {},
   "outputs": [
    {
     "data": {
      "text/html": [
       "<div>\n",
       "<style scoped>\n",
       "    .dataframe tbody tr th:only-of-type {\n",
       "        vertical-align: middle;\n",
       "    }\n",
       "\n",
       "    .dataframe tbody tr th {\n",
       "        vertical-align: top;\n",
       "    }\n",
       "\n",
       "    .dataframe thead th {\n",
       "        text-align: right;\n",
       "    }\n",
       "</style>\n",
       "<table border=\"1\" class=\"dataframe\">\n",
       "  <thead>\n",
       "    <tr style=\"text-align: right;\">\n",
       "      <th></th>\n",
       "      <th>Name</th>\n",
       "      <th>Age</th>\n",
       "      <th>City</th>\n",
       "      <th>Salary</th>\n",
       "    </tr>\n",
       "  </thead>\n",
       "  <tbody>\n",
       "    <tr>\n",
       "      <th>0</th>\n",
       "      <td>Alice</td>\n",
       "      <td>25</td>\n",
       "      <td>New York</td>\n",
       "      <td>5.0</td>\n",
       "    </tr>\n",
       "    <tr>\n",
       "      <th>1</th>\n",
       "      <td>Bob</td>\n",
       "      <td>30</td>\n",
       "      <td>Los Angeles</td>\n",
       "      <td>6.5</td>\n",
       "    </tr>\n",
       "    <tr>\n",
       "      <th>2</th>\n",
       "      <td>Charlie</td>\n",
       "      <td>35</td>\n",
       "      <td>Chicago</td>\n",
       "      <td>8.0</td>\n",
       "    </tr>\n",
       "  </tbody>\n",
       "</table>\n",
       "</div>"
      ],
      "text/plain": [
       "      Name  Age         City  Salary\n",
       "0    Alice   25     New York     5.0\n",
       "1      Bob   30  Los Angeles     6.5\n",
       "2  Charlie   35      Chicago     8.0"
      ]
     },
     "execution_count": 93,
     "metadata": {},
     "output_type": "execute_result"
    }
   ],
   "source": [
    "sor = df.sort_values(by='Age', ascending=True)\n",
    "sor"
   ]
  },
  {
   "cell_type": "code",
   "execution_count": 46,
   "id": "6afbcc42",
   "metadata": {},
   "outputs": [],
   "source": [
    "# df['Date'] = pd.to_datetime(df['Date'])\n",
    "# df['Year'] = df['Date'].dt.year\n",
    "# print(df)\n"
   ]
  },
  {
   "cell_type": "code",
   "execution_count": 47,
   "id": "33090ef4",
   "metadata": {},
   "outputs": [
    {
     "name": "stdout",
     "output_type": "stream",
     "text": [
      "  Full Name  Age         City  Salary\n",
      "0     Alice   25     New York     5.0\n",
      "1       Bob   30  Los Angeles     6.5\n",
      "2   Charlie   35      Chicago     8.0\n"
     ]
    }
   ],
   "source": [
    "df = df.rename(columns={'Name': 'Full Name'})\n",
    "print(df)\n"
   ]
  },
  {
   "cell_type": "code",
   "execution_count": 94,
   "id": "660639aa",
   "metadata": {},
   "outputs": [
    {
     "data": {
      "text/html": [
       "<div>\n",
       "<style scoped>\n",
       "    .dataframe tbody tr th:only-of-type {\n",
       "        vertical-align: middle;\n",
       "    }\n",
       "\n",
       "    .dataframe tbody tr th {\n",
       "        vertical-align: top;\n",
       "    }\n",
       "\n",
       "    .dataframe thead th {\n",
       "        text-align: right;\n",
       "    }\n",
       "</style>\n",
       "<table border=\"1\" class=\"dataframe\">\n",
       "  <thead>\n",
       "    <tr style=\"text-align: right;\">\n",
       "      <th></th>\n",
       "      <th>Full Name</th>\n",
       "      <th>Age</th>\n",
       "      <th>City</th>\n",
       "      <th>Salary</th>\n",
       "    </tr>\n",
       "  </thead>\n",
       "  <tbody>\n",
       "    <tr>\n",
       "      <th>0</th>\n",
       "      <td>Alice</td>\n",
       "      <td>25</td>\n",
       "      <td>New York</td>\n",
       "      <td>5.0</td>\n",
       "    </tr>\n",
       "    <tr>\n",
       "      <th>1</th>\n",
       "      <td>Bob</td>\n",
       "      <td>30</td>\n",
       "      <td>Los Angeles</td>\n",
       "      <td>6.5</td>\n",
       "    </tr>\n",
       "    <tr>\n",
       "      <th>2</th>\n",
       "      <td>Charlie</td>\n",
       "      <td>35</td>\n",
       "      <td>Chicago</td>\n",
       "      <td>8.0</td>\n",
       "    </tr>\n",
       "  </tbody>\n",
       "</table>\n",
       "</div>"
      ],
      "text/plain": [
       "  Full Name  Age         City  Salary\n",
       "0     Alice   25     New York     5.0\n",
       "1       Bob   30  Los Angeles     6.5\n",
       "2   Charlie   35      Chicago     8.0"
      ]
     },
     "execution_count": 94,
     "metadata": {},
     "output_type": "execute_result"
    }
   ],
   "source": [
    "df = df.rename(columns={'Name':'Full Name'})\n",
    "df"
   ]
  },
  {
   "cell_type": "code",
   "execution_count": null,
   "id": "718ad971",
   "metadata": {},
   "outputs": [],
   "source": [
    "df.loc(len(df))"
   ]
  },
  {
   "cell_type": "code",
   "execution_count": null,
   "id": "94b4188b",
   "metadata": {},
   "outputs": [],
   "source": []
  },
  {
   "cell_type": "code",
   "execution_count": 49,
   "id": "a63dc93c",
   "metadata": {},
   "outputs": [
    {
     "data": {
      "text/html": [
       "<div>\n",
       "<style scoped>\n",
       "    .dataframe tbody tr th:only-of-type {\n",
       "        vertical-align: middle;\n",
       "    }\n",
       "\n",
       "    .dataframe tbody tr th {\n",
       "        vertical-align: top;\n",
       "    }\n",
       "\n",
       "    .dataframe thead th {\n",
       "        text-align: right;\n",
       "    }\n",
       "</style>\n",
       "<table border=\"1\" class=\"dataframe\">\n",
       "  <thead>\n",
       "    <tr style=\"text-align: right;\">\n",
       "      <th></th>\n",
       "      <th>Name</th>\n",
       "      <th>Age</th>\n",
       "      <th>City</th>\n",
       "      <th>Salary</th>\n",
       "    </tr>\n",
       "  </thead>\n",
       "  <tbody>\n",
       "    <tr>\n",
       "      <th>0</th>\n",
       "      <td>Alice</td>\n",
       "      <td>25</td>\n",
       "      <td>New York</td>\n",
       "      <td>5.0</td>\n",
       "    </tr>\n",
       "    <tr>\n",
       "      <th>1</th>\n",
       "      <td>Bob</td>\n",
       "      <td>30</td>\n",
       "      <td>Los Angeles</td>\n",
       "      <td>6.5</td>\n",
       "    </tr>\n",
       "    <tr>\n",
       "      <th>2</th>\n",
       "      <td>Charlie</td>\n",
       "      <td>35</td>\n",
       "      <td>Chicago</td>\n",
       "      <td>8.0</td>\n",
       "    </tr>\n",
       "  </tbody>\n",
       "</table>\n",
       "</div>"
      ],
      "text/plain": [
       "      Name  Age         City  Salary\n",
       "0    Alice   25     New York     5.0\n",
       "1      Bob   30  Los Angeles     6.5\n",
       "2  Charlie   35      Chicago     8.0"
      ]
     },
     "execution_count": 49,
     "metadata": {},
     "output_type": "execute_result"
    }
   ],
   "source": [
    "df = df.rename(columns={'Full Name':'Name'})\n",
    "df"
   ]
  },
  {
   "cell_type": "code",
   "execution_count": 51,
   "id": "7236a25f",
   "metadata": {},
   "outputs": [
    {
     "data": {
      "text/plain": [
       "array(['New York', 'Los Angeles', 'Chicago'], dtype=object)"
      ]
     },
     "execution_count": 51,
     "metadata": {},
     "output_type": "execute_result"
    }
   ],
   "source": [
    "df['City'].unique()"
   ]
  },
  {
   "cell_type": "code",
   "execution_count": 52,
   "id": "f149c45b",
   "metadata": {},
   "outputs": [
    {
     "data": {
      "text/plain": [
       "0    50\n",
       "1    60\n",
       "2    70\n",
       "Name: Age, dtype: int64"
      ]
     },
     "execution_count": 52,
     "metadata": {},
     "output_type": "execute_result"
    }
   ],
   "source": [
    "df['Age'].apply(lambda x: x*2)"
   ]
  },
  {
   "cell_type": "code",
   "execution_count": 54,
   "id": "a95e2d07",
   "metadata": {},
   "outputs": [
    {
     "data": {
      "text/html": [
       "<div>\n",
       "<style scoped>\n",
       "    .dataframe tbody tr th:only-of-type {\n",
       "        vertical-align: middle;\n",
       "    }\n",
       "\n",
       "    .dataframe tbody tr th {\n",
       "        vertical-align: top;\n",
       "    }\n",
       "\n",
       "    .dataframe thead th {\n",
       "        text-align: right;\n",
       "    }\n",
       "</style>\n",
       "<table border=\"1\" class=\"dataframe\">\n",
       "  <thead>\n",
       "    <tr style=\"text-align: right;\">\n",
       "      <th></th>\n",
       "      <th></th>\n",
       "      <th>Value</th>\n",
       "    </tr>\n",
       "    <tr>\n",
       "      <th>Group</th>\n",
       "      <th>Index</th>\n",
       "      <th></th>\n",
       "    </tr>\n",
       "  </thead>\n",
       "  <tbody>\n",
       "    <tr>\n",
       "      <th rowspan=\"2\" valign=\"top\">A</th>\n",
       "      <th>1</th>\n",
       "      <td>10</td>\n",
       "    </tr>\n",
       "    <tr>\n",
       "      <th>2</th>\n",
       "      <td>20</td>\n",
       "    </tr>\n",
       "    <tr>\n",
       "      <th rowspan=\"2\" valign=\"top\">B</th>\n",
       "      <th>1</th>\n",
       "      <td>30</td>\n",
       "    </tr>\n",
       "    <tr>\n",
       "      <th>2</th>\n",
       "      <td>40</td>\n",
       "    </tr>\n",
       "  </tbody>\n",
       "</table>\n",
       "</div>"
      ],
      "text/plain": [
       "             Value\n",
       "Group Index       \n",
       "A     1         10\n",
       "      2         20\n",
       "B     1         30\n",
       "      2         40"
      ]
     },
     "execution_count": 54,
     "metadata": {},
     "output_type": "execute_result"
    }
   ],
   "source": [
    "arrays = [['A', 'A', 'B', 'B'], [1, 2, 1, 2]]\n",
    "df = pd.DataFrame({'Value': [10, 20, 30, 40]}, index=arrays)\n",
    "df.index.names = ['Group', 'Index']\n",
    "(df)\n"
   ]
  },
  {
   "cell_type": "code",
   "execution_count": 67,
   "id": "aea979d6",
   "metadata": {},
   "outputs": [
    {
     "name": "stdout",
     "output_type": "stream",
     "text": [
      "      Name  Age         City  Salary  RollingAvg\n",
      "0    Alice   25     New York     5.0         NaN\n",
      "1      Bob   30  Los Angeles     6.5        5.75\n",
      "2  Charlie   35      Chicago     8.0        7.25\n"
     ]
    }
   ],
   "source": [
    "df['RollingAvg'] = df['Salary'].rolling(window=2).mean()\n",
    "print(df)\n"
   ]
  },
  {
   "cell_type": "code",
   "execution_count": 68,
   "id": "526fc151",
   "metadata": {},
   "outputs": [
    {
     "data": {
      "text/html": [
       "<div>\n",
       "<style scoped>\n",
       "    .dataframe tbody tr th:only-of-type {\n",
       "        vertical-align: middle;\n",
       "    }\n",
       "\n",
       "    .dataframe tbody tr th {\n",
       "        vertical-align: top;\n",
       "    }\n",
       "\n",
       "    .dataframe thead th {\n",
       "        text-align: right;\n",
       "    }\n",
       "</style>\n",
       "<table border=\"1\" class=\"dataframe\">\n",
       "  <thead>\n",
       "    <tr style=\"text-align: right;\">\n",
       "      <th></th>\n",
       "      <th>Name</th>\n",
       "      <th>Age</th>\n",
       "      <th>City</th>\n",
       "      <th>Salary</th>\n",
       "      <th>RollingAvg</th>\n",
       "    </tr>\n",
       "  </thead>\n",
       "  <tbody>\n",
       "    <tr>\n",
       "      <th>0</th>\n",
       "      <td>Alice</td>\n",
       "      <td>25</td>\n",
       "      <td>NYC</td>\n",
       "      <td>5.0</td>\n",
       "      <td>NaN</td>\n",
       "    </tr>\n",
       "    <tr>\n",
       "      <th>1</th>\n",
       "      <td>Bob</td>\n",
       "      <td>30</td>\n",
       "      <td>Los Angeles</td>\n",
       "      <td>6.5</td>\n",
       "      <td>5.75</td>\n",
       "    </tr>\n",
       "    <tr>\n",
       "      <th>2</th>\n",
       "      <td>Charlie</td>\n",
       "      <td>35</td>\n",
       "      <td>Chicago</td>\n",
       "      <td>8.0</td>\n",
       "      <td>7.25</td>\n",
       "    </tr>\n",
       "  </tbody>\n",
       "</table>\n",
       "</div>"
      ],
      "text/plain": [
       "      Name  Age         City  Salary  RollingAvg\n",
       "0    Alice   25          NYC     5.0         NaN\n",
       "1      Bob   30  Los Angeles     6.5        5.75\n",
       "2  Charlie   35      Chicago     8.0        7.25"
      ]
     },
     "execution_count": 68,
     "metadata": {},
     "output_type": "execute_result"
    }
   ],
   "source": [
    "df['City'] = df['City'].replace('New York','NYC')\n",
    "df"
   ]
  },
  {
   "cell_type": "code",
   "execution_count": 69,
   "id": "588675f2",
   "metadata": {},
   "outputs": [
    {
     "data": {
      "text/html": [
       "<div>\n",
       "<style scoped>\n",
       "    .dataframe tbody tr th:only-of-type {\n",
       "        vertical-align: middle;\n",
       "    }\n",
       "\n",
       "    .dataframe tbody tr th {\n",
       "        vertical-align: top;\n",
       "    }\n",
       "\n",
       "    .dataframe thead th {\n",
       "        text-align: right;\n",
       "    }\n",
       "</style>\n",
       "<table border=\"1\" class=\"dataframe\">\n",
       "  <thead>\n",
       "    <tr style=\"text-align: right;\">\n",
       "      <th></th>\n",
       "      <th>Name</th>\n",
       "      <th>Age</th>\n",
       "      <th>City</th>\n",
       "      <th>Salary</th>\n",
       "      <th>RollingAvg</th>\n",
       "    </tr>\n",
       "  </thead>\n",
       "  <tbody>\n",
       "    <tr>\n",
       "      <th>0</th>\n",
       "      <td>Alice</td>\n",
       "      <td>25</td>\n",
       "      <td>New York</td>\n",
       "      <td>5.0</td>\n",
       "      <td>NaN</td>\n",
       "    </tr>\n",
       "    <tr>\n",
       "      <th>1</th>\n",
       "      <td>Bob</td>\n",
       "      <td>30</td>\n",
       "      <td>Los Angeles</td>\n",
       "      <td>6.5</td>\n",
       "      <td>5.75</td>\n",
       "    </tr>\n",
       "    <tr>\n",
       "      <th>2</th>\n",
       "      <td>Charlie</td>\n",
       "      <td>35</td>\n",
       "      <td>Chicago</td>\n",
       "      <td>8.0</td>\n",
       "      <td>7.25</td>\n",
       "    </tr>\n",
       "  </tbody>\n",
       "</table>\n",
       "</div>"
      ],
      "text/plain": [
       "      Name  Age         City  Salary  RollingAvg\n",
       "0    Alice   25     New York     5.0         NaN\n",
       "1      Bob   30  Los Angeles     6.5        5.75\n",
       "2  Charlie   35      Chicago     8.0        7.25"
      ]
     },
     "execution_count": 69,
     "metadata": {},
     "output_type": "execute_result"
    }
   ],
   "source": [
    "df['City'] = df['City'].replace('NYC','New York')\n",
    "df"
   ]
  },
  {
   "cell_type": "code",
   "execution_count": 70,
   "id": "191e71fa",
   "metadata": {},
   "outputs": [
    {
     "name": "stdout",
     "output_type": "stream",
     "text": [
      "      Name  Age         City  Salary  RollingAvg\n",
      "0    Alice   25     New York     5.0         NaN\n",
      "1      Bob   30  Los Angeles     6.5        5.75\n",
      "2  Charlie   35      Chicago     8.0        7.25\n"
     ]
    }
   ],
   "source": [
    "df = df.drop_duplicates()\n",
    "\n"
   ]
  },
  {
   "cell_type": "code",
   "execution_count": 121,
   "id": "d32eda9e",
   "metadata": {},
   "outputs": [
    {
     "data": {
      "text/html": [
       "<div>\n",
       "<style scoped>\n",
       "    .dataframe tbody tr th:only-of-type {\n",
       "        vertical-align: middle;\n",
       "    }\n",
       "\n",
       "    .dataframe tbody tr th {\n",
       "        vertical-align: top;\n",
       "    }\n",
       "\n",
       "    .dataframe thead th {\n",
       "        text-align: right;\n",
       "    }\n",
       "</style>\n",
       "<table border=\"1\" class=\"dataframe\">\n",
       "  <thead>\n",
       "    <tr style=\"text-align: right;\">\n",
       "      <th></th>\n",
       "      <th>Name</th>\n",
       "      <th>Age</th>\n",
       "      <th>City</th>\n",
       "      <th>Salary</th>\n",
       "    </tr>\n",
       "  </thead>\n",
       "  <tbody>\n",
       "    <tr>\n",
       "      <th>0</th>\n",
       "      <td>Alice</td>\n",
       "      <td>25</td>\n",
       "      <td>New York</td>\n",
       "      <td>5.0</td>\n",
       "    </tr>\n",
       "    <tr>\n",
       "      <th>1</th>\n",
       "      <td>Bob</td>\n",
       "      <td>30</td>\n",
       "      <td>Los Angeles</td>\n",
       "      <td>6.5</td>\n",
       "    </tr>\n",
       "    <tr>\n",
       "      <th>2</th>\n",
       "      <td>Charlie</td>\n",
       "      <td>35</td>\n",
       "      <td>Chicago</td>\n",
       "      <td>8.0</td>\n",
       "    </tr>\n",
       "    <tr>\n",
       "      <th>3</th>\n",
       "      <td>David</td>\n",
       "      <td>28</td>\n",
       "      <td>Houston</td>\n",
       "      <td>7.0</td>\n",
       "    </tr>\n",
       "  </tbody>\n",
       "</table>\n",
       "</div>"
      ],
      "text/plain": [
       "      Name  Age         City  Salary\n",
       "0    Alice   25     New York     5.0\n",
       "1      Bob   30  Los Angeles     6.5\n",
       "2  Charlie   35      Chicago     8.0\n",
       "3    David   28      Houston     7.0"
      ]
     },
     "execution_count": 121,
     "metadata": {},
     "output_type": "execute_result"
    }
   ],
   "source": [
    "# Add a single row using loc\n",
    "df.loc[len(df)] = [\"David\", 28, \"Houston\", 7.0,]\n",
    "df"
   ]
  },
  {
   "cell_type": "code",
   "execution_count": 122,
   "id": "e22c5898",
   "metadata": {},
   "outputs": [
    {
     "data": {
      "text/html": [
       "<div>\n",
       "<style scoped>\n",
       "    .dataframe tbody tr th:only-of-type {\n",
       "        vertical-align: middle;\n",
       "    }\n",
       "\n",
       "    .dataframe tbody tr th {\n",
       "        vertical-align: top;\n",
       "    }\n",
       "\n",
       "    .dataframe thead th {\n",
       "        text-align: right;\n",
       "    }\n",
       "</style>\n",
       "<table border=\"1\" class=\"dataframe\">\n",
       "  <thead>\n",
       "    <tr style=\"text-align: right;\">\n",
       "      <th></th>\n",
       "      <th>Name</th>\n",
       "      <th>Age</th>\n",
       "      <th>City</th>\n",
       "      <th>Salary</th>\n",
       "    </tr>\n",
       "  </thead>\n",
       "  <tbody>\n",
       "    <tr>\n",
       "      <th>0</th>\n",
       "      <td>Alice</td>\n",
       "      <td>25</td>\n",
       "      <td>New York</td>\n",
       "      <td>5.0</td>\n",
       "    </tr>\n",
       "    <tr>\n",
       "      <th>1</th>\n",
       "      <td>Bob</td>\n",
       "      <td>30</td>\n",
       "      <td>Los Angeles</td>\n",
       "      <td>6.5</td>\n",
       "    </tr>\n",
       "    <tr>\n",
       "      <th>2</th>\n",
       "      <td>Charlie</td>\n",
       "      <td>35</td>\n",
       "      <td>Chicago</td>\n",
       "      <td>8.0</td>\n",
       "    </tr>\n",
       "    <tr>\n",
       "      <th>3</th>\n",
       "      <td>David</td>\n",
       "      <td>28</td>\n",
       "      <td>Houston</td>\n",
       "      <td>7.0</td>\n",
       "    </tr>\n",
       "  </tbody>\n",
       "</table>\n",
       "</div>"
      ],
      "text/plain": [
       "      Name  Age         City  Salary\n",
       "0    Alice   25     New York     5.0\n",
       "1      Bob   30  Los Angeles     6.5\n",
       "2  Charlie   35      Chicago     8.0\n",
       "3    David   28      Houston     7.0"
      ]
     },
     "execution_count": 122,
     "metadata": {},
     "output_type": "execute_result"
    }
   ],
   "source": [
    "df"
   ]
  },
  {
   "cell_type": "code",
   "execution_count": 123,
   "id": "070ff242",
   "metadata": {},
   "outputs": [
    {
     "data": {
      "text/html": [
       "<div>\n",
       "<style scoped>\n",
       "    .dataframe tbody tr th:only-of-type {\n",
       "        vertical-align: middle;\n",
       "    }\n",
       "\n",
       "    .dataframe tbody tr th {\n",
       "        vertical-align: top;\n",
       "    }\n",
       "\n",
       "    .dataframe thead th {\n",
       "        text-align: right;\n",
       "    }\n",
       "</style>\n",
       "<table border=\"1\" class=\"dataframe\">\n",
       "  <thead>\n",
       "    <tr style=\"text-align: right;\">\n",
       "      <th></th>\n",
       "      <th>Name</th>\n",
       "      <th>Age</th>\n",
       "      <th>City</th>\n",
       "      <th>Salary</th>\n",
       "    </tr>\n",
       "  </thead>\n",
       "  <tbody>\n",
       "    <tr>\n",
       "      <th>0</th>\n",
       "      <td>Alice</td>\n",
       "      <td>25</td>\n",
       "      <td>New York</td>\n",
       "      <td>5.0</td>\n",
       "    </tr>\n",
       "    <tr>\n",
       "      <th>1</th>\n",
       "      <td>Bob</td>\n",
       "      <td>30</td>\n",
       "      <td>Los Angeles</td>\n",
       "      <td>6.5</td>\n",
       "    </tr>\n",
       "    <tr>\n",
       "      <th>2</th>\n",
       "      <td>Charlie</td>\n",
       "      <td>35</td>\n",
       "      <td>Chicago</td>\n",
       "      <td>8.0</td>\n",
       "    </tr>\n",
       "    <tr>\n",
       "      <th>3</th>\n",
       "      <td>David</td>\n",
       "      <td>28</td>\n",
       "      <td>Houston</td>\n",
       "      <td>7.0</td>\n",
       "    </tr>\n",
       "    <tr>\n",
       "      <th>4</th>\n",
       "      <td>Ajit</td>\n",
       "      <td>28</td>\n",
       "      <td>Bhandara</td>\n",
       "      <td>9.1</td>\n",
       "    </tr>\n",
       "  </tbody>\n",
       "</table>\n",
       "</div>"
      ],
      "text/plain": [
       "      Name  Age         City  Salary\n",
       "0    Alice   25     New York     5.0\n",
       "1      Bob   30  Los Angeles     6.5\n",
       "2  Charlie   35      Chicago     8.0\n",
       "3    David   28      Houston     7.0\n",
       "4     Ajit   28     Bhandara     9.1"
      ]
     },
     "execution_count": 123,
     "metadata": {},
     "output_type": "execute_result"
    }
   ],
   "source": [
    "df.loc[len(df)] = ['Ajit',28,'Bhandara',9.1]\n",
    "df"
   ]
  },
  {
   "cell_type": "code",
   "execution_count": 124,
   "id": "5bb16fa2",
   "metadata": {},
   "outputs": [
    {
     "data": {
      "text/html": [
       "<div>\n",
       "<style scoped>\n",
       "    .dataframe tbody tr th:only-of-type {\n",
       "        vertical-align: middle;\n",
       "    }\n",
       "\n",
       "    .dataframe tbody tr th {\n",
       "        vertical-align: top;\n",
       "    }\n",
       "\n",
       "    .dataframe thead th {\n",
       "        text-align: right;\n",
       "    }\n",
       "</style>\n",
       "<table border=\"1\" class=\"dataframe\">\n",
       "  <thead>\n",
       "    <tr style=\"text-align: right;\">\n",
       "      <th></th>\n",
       "      <th>Name</th>\n",
       "      <th>Age</th>\n",
       "      <th>City</th>\n",
       "      <th>Salary</th>\n",
       "    </tr>\n",
       "  </thead>\n",
       "  <tbody>\n",
       "    <tr>\n",
       "      <th>0</th>\n",
       "      <td>Alice</td>\n",
       "      <td>25</td>\n",
       "      <td>New York</td>\n",
       "      <td>5.0</td>\n",
       "    </tr>\n",
       "    <tr>\n",
       "      <th>1</th>\n",
       "      <td>Bob</td>\n",
       "      <td>30</td>\n",
       "      <td>Los Angeles</td>\n",
       "      <td>6.5</td>\n",
       "    </tr>\n",
       "    <tr>\n",
       "      <th>2</th>\n",
       "      <td>Charlie</td>\n",
       "      <td>35</td>\n",
       "      <td>Chicago</td>\n",
       "      <td>8.0</td>\n",
       "    </tr>\n",
       "    <tr>\n",
       "      <th>3</th>\n",
       "      <td>David</td>\n",
       "      <td>28</td>\n",
       "      <td>Houston</td>\n",
       "      <td>7.0</td>\n",
       "    </tr>\n",
       "    <tr>\n",
       "      <th>4</th>\n",
       "      <td>Ajit</td>\n",
       "      <td>28</td>\n",
       "      <td>Bhandara</td>\n",
       "      <td>9.1</td>\n",
       "    </tr>\n",
       "    <tr>\n",
       "      <th>5</th>\n",
       "      <td>Madame</td>\n",
       "      <td>28</td>\n",
       "      <td>Bhandara</td>\n",
       "      <td>9.0</td>\n",
       "    </tr>\n",
       "  </tbody>\n",
       "</table>\n",
       "</div>"
      ],
      "text/plain": [
       "      Name  Age         City  Salary\n",
       "0    Alice   25     New York     5.0\n",
       "1      Bob   30  Los Angeles     6.5\n",
       "2  Charlie   35      Chicago     8.0\n",
       "3    David   28      Houston     7.0\n",
       "4     Ajit   28     Bhandara     9.1\n",
       "5   Madame   28     Bhandara     9.0"
      ]
     },
     "execution_count": 124,
     "metadata": {},
     "output_type": "execute_result"
    }
   ],
   "source": [
    "df.loc[len(df)] = ['Madame',28,'Bhandara',9]\n",
    "df"
   ]
  },
  {
   "cell_type": "code",
   "execution_count": 101,
   "id": "b505c4a8",
   "metadata": {},
   "outputs": [
    {
     "data": {
      "text/html": [
       "<div>\n",
       "<style scoped>\n",
       "    .dataframe tbody tr th:only-of-type {\n",
       "        vertical-align: middle;\n",
       "    }\n",
       "\n",
       "    .dataframe tbody tr th {\n",
       "        vertical-align: top;\n",
       "    }\n",
       "\n",
       "    .dataframe thead th {\n",
       "        text-align: right;\n",
       "    }\n",
       "</style>\n",
       "<table border=\"1\" class=\"dataframe\">\n",
       "  <thead>\n",
       "    <tr style=\"text-align: right;\">\n",
       "      <th></th>\n",
       "      <th>Name</th>\n",
       "      <th>Age</th>\n",
       "      <th>City</th>\n",
       "      <th>Salary</th>\n",
       "    </tr>\n",
       "  </thead>\n",
       "  <tbody>\n",
       "    <tr>\n",
       "      <th>0</th>\n",
       "      <td>Alice</td>\n",
       "      <td>25</td>\n",
       "      <td>New York</td>\n",
       "      <td>5.0</td>\n",
       "    </tr>\n",
       "    <tr>\n",
       "      <th>1</th>\n",
       "      <td>Bob</td>\n",
       "      <td>30</td>\n",
       "      <td>Los Angeles</td>\n",
       "      <td>6.5</td>\n",
       "    </tr>\n",
       "    <tr>\n",
       "      <th>2</th>\n",
       "      <td>Charlie</td>\n",
       "      <td>35</td>\n",
       "      <td>Chicago</td>\n",
       "      <td>8.0</td>\n",
       "    </tr>\n",
       "    <tr>\n",
       "      <th>3</th>\n",
       "      <td>Ajit</td>\n",
       "      <td>28</td>\n",
       "      <td>Bhandara</td>\n",
       "      <td>9.1</td>\n",
       "    </tr>\n",
       "    <tr>\n",
       "      <th>4</th>\n",
       "      <td>Madame</td>\n",
       "      <td>28</td>\n",
       "      <td>Bhandara</td>\n",
       "      <td>9.0</td>\n",
       "    </tr>\n",
       "  </tbody>\n",
       "</table>\n",
       "</div>"
      ],
      "text/plain": [
       "      Name  Age         City  Salary\n",
       "0    Alice   25     New York     5.0\n",
       "1      Bob   30  Los Angeles     6.5\n",
       "2  Charlie   35      Chicago     8.0\n",
       "3     Ajit   28     Bhandara     9.1\n",
       "4   Madame   28     Bhandara     9.0"
      ]
     },
     "execution_count": 101,
     "metadata": {},
     "output_type": "execute_result"
    }
   ],
   "source": [
    "df = df.rename(columns={'Full Name':'Name'})\n",
    "df"
   ]
  },
  {
   "cell_type": "code",
   "execution_count": 125,
   "id": "3d4e7a46",
   "metadata": {},
   "outputs": [
    {
     "data": {
      "text/html": [
       "<div>\n",
       "<style scoped>\n",
       "    .dataframe tbody tr th:only-of-type {\n",
       "        vertical-align: middle;\n",
       "    }\n",
       "\n",
       "    .dataframe tbody tr th {\n",
       "        vertical-align: top;\n",
       "    }\n",
       "\n",
       "    .dataframe thead th {\n",
       "        text-align: right;\n",
       "    }\n",
       "</style>\n",
       "<table border=\"1\" class=\"dataframe\">\n",
       "  <thead>\n",
       "    <tr style=\"text-align: right;\">\n",
       "      <th></th>\n",
       "      <th>Name</th>\n",
       "      <th>Age</th>\n",
       "      <th>City</th>\n",
       "      <th>Salary</th>\n",
       "    </tr>\n",
       "  </thead>\n",
       "  <tbody>\n",
       "    <tr>\n",
       "      <th>0</th>\n",
       "      <td>Alice</td>\n",
       "      <td>25</td>\n",
       "      <td>New York</td>\n",
       "      <td>5.0</td>\n",
       "    </tr>\n",
       "    <tr>\n",
       "      <th>1</th>\n",
       "      <td>Bob</td>\n",
       "      <td>30</td>\n",
       "      <td>Los Angeles</td>\n",
       "      <td>6.5</td>\n",
       "    </tr>\n",
       "    <tr>\n",
       "      <th>2</th>\n",
       "      <td>Charlie</td>\n",
       "      <td>35</td>\n",
       "      <td>Chicago</td>\n",
       "      <td>8.0</td>\n",
       "    </tr>\n",
       "    <tr>\n",
       "      <th>3</th>\n",
       "      <td>David</td>\n",
       "      <td>28</td>\n",
       "      <td>Houston</td>\n",
       "      <td>7.0</td>\n",
       "    </tr>\n",
       "    <tr>\n",
       "      <th>4</th>\n",
       "      <td>Ajit</td>\n",
       "      <td>28</td>\n",
       "      <td>Bhandara</td>\n",
       "      <td>9.1</td>\n",
       "    </tr>\n",
       "    <tr>\n",
       "      <th>5</th>\n",
       "      <td>Madame</td>\n",
       "      <td>28</td>\n",
       "      <td>Bhandara</td>\n",
       "      <td>9.0</td>\n",
       "    </tr>\n",
       "  </tbody>\n",
       "</table>\n",
       "</div>"
      ],
      "text/plain": [
       "      Name  Age         City  Salary\n",
       "0    Alice   25     New York     5.0\n",
       "1      Bob   30  Los Angeles     6.5\n",
       "2  Charlie   35      Chicago     8.0\n",
       "3    David   28      Houston     7.0\n",
       "4     Ajit   28     Bhandara     9.1\n",
       "5   Madame   28     Bhandara     9.0"
      ]
     },
     "execution_count": 125,
     "metadata": {},
     "output_type": "execute_result"
    }
   ],
   "source": [
    "df.groupby('City')['Age'].apply(lambda x: x.mode()[0])\n",
    "df"
   ]
  },
  {
   "cell_type": "code",
   "execution_count": 126,
   "id": "65b1828a",
   "metadata": {},
   "outputs": [
    {
     "name": "stdout",
     "output_type": "stream",
     "text": [
      "      Name  Age           City  Salary\n",
      "0    Alice   25       New York     5.0\n",
      "1      Bob   30    Los Angeles     6.5\n",
      "2  Charlie   35        Chicago     8.0\n",
      "3    David   28        Houston     7.0\n",
      "4     Ajit   28       Bhandara     9.1\n",
      "5   Madame   28       Bhandara     9.0\n",
      "6    David   28        Houston     7.0\n",
      "7      Eve   32  San Francisco     9.0\n",
      "8    Frank   29         Austin     6.8\n"
     ]
    }
   ],
   "source": [
    "# Define the rows to be added as a list of dictionaries\n",
    "rows_to_add = [\n",
    "    {\"Name\": \"David\", \"Age\": 28, \"City\": \"Houston\", \"Salary\": 7.0},\n",
    "    {\"Name\": \"Eve\", \"Age\": 32, \"City\": \"San Francisco\", \"Salary\": 9.0},\n",
    "    {\"Name\": \"Frank\", \"Age\": 29, \"City\": \"Austin\", \"Salary\": 6.8},\n",
    "]\n",
    "\n",
    "# Append each row to the DataFrame\n",
    "for row in rows_to_add:\n",
    "    df = pd.concat([df, pd.DataFrame([row])], ignore_index=True)\n",
    "\n",
    "print(df)\n"
   ]
  },
  {
   "cell_type": "code",
   "execution_count": 127,
   "id": "5197df6e",
   "metadata": {},
   "outputs": [
    {
     "data": {
      "text/html": [
       "<div>\n",
       "<style scoped>\n",
       "    .dataframe tbody tr th:only-of-type {\n",
       "        vertical-align: middle;\n",
       "    }\n",
       "\n",
       "    .dataframe tbody tr th {\n",
       "        vertical-align: top;\n",
       "    }\n",
       "\n",
       "    .dataframe thead th {\n",
       "        text-align: right;\n",
       "    }\n",
       "</style>\n",
       "<table border=\"1\" class=\"dataframe\">\n",
       "  <thead>\n",
       "    <tr style=\"text-align: right;\">\n",
       "      <th></th>\n",
       "      <th>Name</th>\n",
       "      <th>Age</th>\n",
       "      <th>City</th>\n",
       "      <th>Salary</th>\n",
       "    </tr>\n",
       "  </thead>\n",
       "  <tbody>\n",
       "    <tr>\n",
       "      <th>0</th>\n",
       "      <td>Alice</td>\n",
       "      <td>25</td>\n",
       "      <td>New York</td>\n",
       "      <td>5.0</td>\n",
       "    </tr>\n",
       "    <tr>\n",
       "      <th>1</th>\n",
       "      <td>Bob</td>\n",
       "      <td>30</td>\n",
       "      <td>Los Angeles</td>\n",
       "      <td>6.5</td>\n",
       "    </tr>\n",
       "    <tr>\n",
       "      <th>2</th>\n",
       "      <td>Charlie</td>\n",
       "      <td>35</td>\n",
       "      <td>Chicago</td>\n",
       "      <td>8.0</td>\n",
       "    </tr>\n",
       "    <tr>\n",
       "      <th>3</th>\n",
       "      <td>David</td>\n",
       "      <td>28</td>\n",
       "      <td>Houston</td>\n",
       "      <td>7.0</td>\n",
       "    </tr>\n",
       "    <tr>\n",
       "      <th>4</th>\n",
       "      <td>Ajit</td>\n",
       "      <td>28</td>\n",
       "      <td>Bhandara</td>\n",
       "      <td>9.1</td>\n",
       "    </tr>\n",
       "    <tr>\n",
       "      <th>5</th>\n",
       "      <td>Madame</td>\n",
       "      <td>28</td>\n",
       "      <td>Bhandara</td>\n",
       "      <td>9.0</td>\n",
       "    </tr>\n",
       "    <tr>\n",
       "      <th>6</th>\n",
       "      <td>David</td>\n",
       "      <td>28</td>\n",
       "      <td>Houston</td>\n",
       "      <td>7.0</td>\n",
       "    </tr>\n",
       "    <tr>\n",
       "      <th>7</th>\n",
       "      <td>Eve</td>\n",
       "      <td>32</td>\n",
       "      <td>San Francisco</td>\n",
       "      <td>9.0</td>\n",
       "    </tr>\n",
       "    <tr>\n",
       "      <th>8</th>\n",
       "      <td>Frank</td>\n",
       "      <td>29</td>\n",
       "      <td>Austin</td>\n",
       "      <td>6.8</td>\n",
       "    </tr>\n",
       "    <tr>\n",
       "      <th>9</th>\n",
       "      <td>Ajit</td>\n",
       "      <td>28</td>\n",
       "      <td>Bhandara</td>\n",
       "      <td>9.0</td>\n",
       "    </tr>\n",
       "    <tr>\n",
       "      <th>10</th>\n",
       "      <td>Ajit</td>\n",
       "      <td>28</td>\n",
       "      <td>Bhandara</td>\n",
       "      <td>9.0</td>\n",
       "    </tr>\n",
       "  </tbody>\n",
       "</table>\n",
       "</div>"
      ],
      "text/plain": [
       "       Name  Age           City  Salary\n",
       "0     Alice   25       New York     5.0\n",
       "1       Bob   30    Los Angeles     6.5\n",
       "2   Charlie   35        Chicago     8.0\n",
       "3     David   28        Houston     7.0\n",
       "4      Ajit   28       Bhandara     9.1\n",
       "5    Madame   28       Bhandara     9.0\n",
       "6     David   28        Houston     7.0\n",
       "7       Eve   32  San Francisco     9.0\n",
       "8     Frank   29         Austin     6.8\n",
       "9      Ajit   28       Bhandara     9.0\n",
       "10     Ajit   28       Bhandara     9.0"
      ]
     },
     "execution_count": 127,
     "metadata": {},
     "output_type": "execute_result"
    }
   ],
   "source": [
    "new_row = [\n",
    "    {'Name':'Ajit','Age':28,'City':'Bhandara','Salary':9},\n",
    "    {'Name':'Ajit','Age':28,'City':'Bhandara','Salary':9}\n",
    "]\n",
    "\n",
    "for row in new_row:\n",
    "    df = pd.concat([df,pd.DataFrame([row])], ignore_index=True)\n",
    "df"
   ]
  },
  {
   "cell_type": "code",
   "execution_count": 128,
   "id": "295145f6",
   "metadata": {},
   "outputs": [
    {
     "data": {
      "text/html": [
       "<div>\n",
       "<style scoped>\n",
       "    .dataframe tbody tr th:only-of-type {\n",
       "        vertical-align: middle;\n",
       "    }\n",
       "\n",
       "    .dataframe tbody tr th {\n",
       "        vertical-align: top;\n",
       "    }\n",
       "\n",
       "    .dataframe thead th {\n",
       "        text-align: right;\n",
       "    }\n",
       "</style>\n",
       "<table border=\"1\" class=\"dataframe\">\n",
       "  <thead>\n",
       "    <tr style=\"text-align: right;\">\n",
       "      <th></th>\n",
       "      <th>Name</th>\n",
       "      <th>Age</th>\n",
       "      <th>City</th>\n",
       "      <th>Salary</th>\n",
       "    </tr>\n",
       "  </thead>\n",
       "  <tbody>\n",
       "    <tr>\n",
       "      <th>0</th>\n",
       "      <td>Alice</td>\n",
       "      <td>25</td>\n",
       "      <td>New York</td>\n",
       "      <td>5.0</td>\n",
       "    </tr>\n",
       "    <tr>\n",
       "      <th>1</th>\n",
       "      <td>Bob</td>\n",
       "      <td>30</td>\n",
       "      <td>Los Angeles</td>\n",
       "      <td>6.5</td>\n",
       "    </tr>\n",
       "    <tr>\n",
       "      <th>2</th>\n",
       "      <td>Charlie</td>\n",
       "      <td>35</td>\n",
       "      <td>Chicago</td>\n",
       "      <td>8.0</td>\n",
       "    </tr>\n",
       "    <tr>\n",
       "      <th>3</th>\n",
       "      <td>David</td>\n",
       "      <td>28</td>\n",
       "      <td>Houston</td>\n",
       "      <td>7.0</td>\n",
       "    </tr>\n",
       "    <tr>\n",
       "      <th>4</th>\n",
       "      <td>Ajit</td>\n",
       "      <td>28</td>\n",
       "      <td>Bhandara</td>\n",
       "      <td>9.1</td>\n",
       "    </tr>\n",
       "    <tr>\n",
       "      <th>5</th>\n",
       "      <td>Madame</td>\n",
       "      <td>28</td>\n",
       "      <td>Bhandara</td>\n",
       "      <td>9.0</td>\n",
       "    </tr>\n",
       "    <tr>\n",
       "      <th>6</th>\n",
       "      <td>David</td>\n",
       "      <td>28</td>\n",
       "      <td>Houston</td>\n",
       "      <td>7.0</td>\n",
       "    </tr>\n",
       "    <tr>\n",
       "      <th>7</th>\n",
       "      <td>Eve</td>\n",
       "      <td>32</td>\n",
       "      <td>San Francisco</td>\n",
       "      <td>9.0</td>\n",
       "    </tr>\n",
       "    <tr>\n",
       "      <th>8</th>\n",
       "      <td>Frank</td>\n",
       "      <td>29</td>\n",
       "      <td>Austin</td>\n",
       "      <td>6.8</td>\n",
       "    </tr>\n",
       "    <tr>\n",
       "      <th>9</th>\n",
       "      <td>Ajit</td>\n",
       "      <td>28</td>\n",
       "      <td>Bhandara</td>\n",
       "      <td>9.0</td>\n",
       "    </tr>\n",
       "    <tr>\n",
       "      <th>10</th>\n",
       "      <td>Ajit</td>\n",
       "      <td>28</td>\n",
       "      <td>Bhandara</td>\n",
       "      <td>9.0</td>\n",
       "    </tr>\n",
       "    <tr>\n",
       "      <th>11</th>\n",
       "      <td>Sujit</td>\n",
       "      <td>28</td>\n",
       "      <td>Bhandara</td>\n",
       "      <td>8.0</td>\n",
       "    </tr>\n",
       "  </tbody>\n",
       "</table>\n",
       "</div>"
      ],
      "text/plain": [
       "       Name  Age           City  Salary\n",
       "0     Alice   25       New York     5.0\n",
       "1       Bob   30    Los Angeles     6.5\n",
       "2   Charlie   35        Chicago     8.0\n",
       "3     David   28        Houston     7.0\n",
       "4      Ajit   28       Bhandara     9.1\n",
       "5    Madame   28       Bhandara     9.0\n",
       "6     David   28        Houston     7.0\n",
       "7       Eve   32  San Francisco     9.0\n",
       "8     Frank   29         Austin     6.8\n",
       "9      Ajit   28       Bhandara     9.0\n",
       "10     Ajit   28       Bhandara     9.0\n",
       "11    Sujit   28       Bhandara     8.0"
      ]
     },
     "execution_count": 128,
     "metadata": {},
     "output_type": "execute_result"
    }
   ],
   "source": [
    "df.loc[len(df)] = ['Sujit',28,'Bhandara',8]\n",
    "df"
   ]
  },
  {
   "cell_type": "code",
   "execution_count": 129,
   "id": "db3772ae",
   "metadata": {},
   "outputs": [
    {
     "data": {
      "text/plain": [
       "City\n",
       "Austin           29\n",
       "Bhandara         28\n",
       "Chicago          35\n",
       "Houston          28\n",
       "Los Angeles      30\n",
       "New York         25\n",
       "San Francisco    32\n",
       "Name: Age, dtype: int64"
      ]
     },
     "execution_count": 129,
     "metadata": {},
     "output_type": "execute_result"
    }
   ],
   "source": [
    "df.groupby('City')['Age'].apply(lambda x:x.mode()[0])\n"
   ]
  },
  {
   "cell_type": "code",
   "execution_count": 130,
   "id": "9e9830c5",
   "metadata": {},
   "outputs": [
    {
     "data": {
      "text/html": [
       "<div>\n",
       "<style scoped>\n",
       "    .dataframe tbody tr th:only-of-type {\n",
       "        vertical-align: middle;\n",
       "    }\n",
       "\n",
       "    .dataframe tbody tr th {\n",
       "        vertical-align: top;\n",
       "    }\n",
       "\n",
       "    .dataframe thead th {\n",
       "        text-align: right;\n",
       "    }\n",
       "</style>\n",
       "<table border=\"1\" class=\"dataframe\">\n",
       "  <thead>\n",
       "    <tr style=\"text-align: right;\">\n",
       "      <th></th>\n",
       "      <th>Name</th>\n",
       "      <th>Age</th>\n",
       "      <th>City</th>\n",
       "      <th>Salary</th>\n",
       "    </tr>\n",
       "  </thead>\n",
       "  <tbody>\n",
       "    <tr>\n",
       "      <th>0</th>\n",
       "      <td>Alice</td>\n",
       "      <td>25</td>\n",
       "      <td>New York</td>\n",
       "      <td>5.0</td>\n",
       "    </tr>\n",
       "    <tr>\n",
       "      <th>1</th>\n",
       "      <td>Bob</td>\n",
       "      <td>30</td>\n",
       "      <td>Los Angeles</td>\n",
       "      <td>6.5</td>\n",
       "    </tr>\n",
       "    <tr>\n",
       "      <th>2</th>\n",
       "      <td>Charlie</td>\n",
       "      <td>35</td>\n",
       "      <td>Chicago</td>\n",
       "      <td>8.0</td>\n",
       "    </tr>\n",
       "    <tr>\n",
       "      <th>3</th>\n",
       "      <td>David</td>\n",
       "      <td>28</td>\n",
       "      <td>Houston</td>\n",
       "      <td>7.0</td>\n",
       "    </tr>\n",
       "    <tr>\n",
       "      <th>4</th>\n",
       "      <td>Ajit</td>\n",
       "      <td>28</td>\n",
       "      <td>Bhandara</td>\n",
       "      <td>9.1</td>\n",
       "    </tr>\n",
       "    <tr>\n",
       "      <th>5</th>\n",
       "      <td>Madame</td>\n",
       "      <td>28</td>\n",
       "      <td>Bhandara</td>\n",
       "      <td>9.0</td>\n",
       "    </tr>\n",
       "    <tr>\n",
       "      <th>6</th>\n",
       "      <td>David</td>\n",
       "      <td>28</td>\n",
       "      <td>Houston</td>\n",
       "      <td>7.0</td>\n",
       "    </tr>\n",
       "    <tr>\n",
       "      <th>7</th>\n",
       "      <td>Eve</td>\n",
       "      <td>32</td>\n",
       "      <td>San Francisco</td>\n",
       "      <td>9.0</td>\n",
       "    </tr>\n",
       "    <tr>\n",
       "      <th>8</th>\n",
       "      <td>Frank</td>\n",
       "      <td>29</td>\n",
       "      <td>Austin</td>\n",
       "      <td>6.8</td>\n",
       "    </tr>\n",
       "    <tr>\n",
       "      <th>9</th>\n",
       "      <td>Ajit</td>\n",
       "      <td>28</td>\n",
       "      <td>Bhandara</td>\n",
       "      <td>9.0</td>\n",
       "    </tr>\n",
       "    <tr>\n",
       "      <th>10</th>\n",
       "      <td>Ajit</td>\n",
       "      <td>28</td>\n",
       "      <td>Bhandara</td>\n",
       "      <td>9.0</td>\n",
       "    </tr>\n",
       "    <tr>\n",
       "      <th>11</th>\n",
       "      <td>Sujit</td>\n",
       "      <td>28</td>\n",
       "      <td>Bhandara</td>\n",
       "      <td>8.0</td>\n",
       "    </tr>\n",
       "  </tbody>\n",
       "</table>\n",
       "</div>"
      ],
      "text/plain": [
       "       Name  Age           City  Salary\n",
       "0     Alice   25       New York     5.0\n",
       "1       Bob   30    Los Angeles     6.5\n",
       "2   Charlie   35        Chicago     8.0\n",
       "3     David   28        Houston     7.0\n",
       "4      Ajit   28       Bhandara     9.1\n",
       "5    Madame   28       Bhandara     9.0\n",
       "6     David   28        Houston     7.0\n",
       "7       Eve   32  San Francisco     9.0\n",
       "8     Frank   29         Austin     6.8\n",
       "9      Ajit   28       Bhandara     9.0\n",
       "10     Ajit   28       Bhandara     9.0\n",
       "11    Sujit   28       Bhandara     8.0"
      ]
     },
     "execution_count": 130,
     "metadata": {},
     "output_type": "execute_result"
    }
   ],
   "source": [
    "df"
   ]
  },
  {
   "cell_type": "code",
   "execution_count": 131,
   "id": "c9f331e9",
   "metadata": {},
   "outputs": [
    {
     "data": {
      "text/html": [
       "<div>\n",
       "<style scoped>\n",
       "    .dataframe tbody tr th:only-of-type {\n",
       "        vertical-align: middle;\n",
       "    }\n",
       "\n",
       "    .dataframe tbody tr th {\n",
       "        vertical-align: top;\n",
       "    }\n",
       "\n",
       "    .dataframe thead th {\n",
       "        text-align: right;\n",
       "    }\n",
       "</style>\n",
       "<table border=\"1\" class=\"dataframe\">\n",
       "  <thead>\n",
       "    <tr style=\"text-align: right;\">\n",
       "      <th></th>\n",
       "      <th>Name</th>\n",
       "      <th>Age</th>\n",
       "      <th>City</th>\n",
       "      <th>Salary</th>\n",
       "    </tr>\n",
       "  </thead>\n",
       "  <tbody>\n",
       "    <tr>\n",
       "      <th>6</th>\n",
       "      <td>David</td>\n",
       "      <td>28</td>\n",
       "      <td>Houston</td>\n",
       "      <td>7.0</td>\n",
       "    </tr>\n",
       "    <tr>\n",
       "      <th>10</th>\n",
       "      <td>Ajit</td>\n",
       "      <td>28</td>\n",
       "      <td>Bhandara</td>\n",
       "      <td>9.0</td>\n",
       "    </tr>\n",
       "  </tbody>\n",
       "</table>\n",
       "</div>"
      ],
      "text/plain": [
       "     Name  Age      City  Salary\n",
       "6   David   28   Houston     7.0\n",
       "10   Ajit   28  Bhandara     9.0"
      ]
     },
     "execution_count": 131,
     "metadata": {},
     "output_type": "execute_result"
    }
   ],
   "source": [
    "duplicate = df[df.duplicated()]\n",
    "duplicate"
   ]
  },
  {
   "cell_type": "code",
   "execution_count": 133,
   "id": "468feb6d",
   "metadata": {},
   "outputs": [
    {
     "data": {
      "text/html": [
       "<div>\n",
       "<style scoped>\n",
       "    .dataframe tbody tr th:only-of-type {\n",
       "        vertical-align: middle;\n",
       "    }\n",
       "\n",
       "    .dataframe tbody tr th {\n",
       "        vertical-align: top;\n",
       "    }\n",
       "\n",
       "    .dataframe thead th {\n",
       "        text-align: right;\n",
       "    }\n",
       "</style>\n",
       "<table border=\"1\" class=\"dataframe\">\n",
       "  <thead>\n",
       "    <tr style=\"text-align: right;\">\n",
       "      <th></th>\n",
       "      <th>Name</th>\n",
       "      <th>Age</th>\n",
       "      <th>City</th>\n",
       "      <th>Salary</th>\n",
       "    </tr>\n",
       "  </thead>\n",
       "  <tbody>\n",
       "    <tr>\n",
       "      <th>6</th>\n",
       "      <td>David</td>\n",
       "      <td>28</td>\n",
       "      <td>Houston</td>\n",
       "      <td>7.0</td>\n",
       "    </tr>\n",
       "    <tr>\n",
       "      <th>9</th>\n",
       "      <td>Ajit</td>\n",
       "      <td>28</td>\n",
       "      <td>Bhandara</td>\n",
       "      <td>9.0</td>\n",
       "    </tr>\n",
       "    <tr>\n",
       "      <th>10</th>\n",
       "      <td>Ajit</td>\n",
       "      <td>28</td>\n",
       "      <td>Bhandara</td>\n",
       "      <td>9.0</td>\n",
       "    </tr>\n",
       "  </tbody>\n",
       "</table>\n",
       "</div>"
      ],
      "text/plain": [
       "     Name  Age      City  Salary\n",
       "6   David   28   Houston     7.0\n",
       "9    Ajit   28  Bhandara     9.0\n",
       "10   Ajit   28  Bhandara     9.0"
      ]
     },
     "execution_count": 133,
     "metadata": {},
     "output_type": "execute_result"
    }
   ],
   "source": [
    "# Find duplicates based on 'Name' and 'Age' columns\n",
    "duplicates = df[df.duplicated(subset=[\"Name\", \"Age\"])]\n",
    "(duplicates)\n"
   ]
  },
  {
   "cell_type": "code",
   "execution_count": 134,
   "id": "20e455f4",
   "metadata": {},
   "outputs": [
    {
     "name": "stdout",
     "output_type": "stream",
     "text": [
      "Number of duplicate rows: 2\n"
     ]
    }
   ],
   "source": [
    "# Count duplicate rows\n",
    "duplicate_count = df.duplicated().sum()\n",
    "print(f\"Number of duplicate rows: {duplicate_count}\")\n"
   ]
  },
  {
   "cell_type": "code",
   "execution_count": 135,
   "id": "fc3b9d59",
   "metadata": {},
   "outputs": [
    {
     "data": {
      "text/html": [
       "<div>\n",
       "<style scoped>\n",
       "    .dataframe tbody tr th:only-of-type {\n",
       "        vertical-align: middle;\n",
       "    }\n",
       "\n",
       "    .dataframe tbody tr th {\n",
       "        vertical-align: top;\n",
       "    }\n",
       "\n",
       "    .dataframe thead th {\n",
       "        text-align: right;\n",
       "    }\n",
       "</style>\n",
       "<table border=\"1\" class=\"dataframe\">\n",
       "  <thead>\n",
       "    <tr style=\"text-align: right;\">\n",
       "      <th></th>\n",
       "      <th>Name</th>\n",
       "      <th>Age</th>\n",
       "      <th>City</th>\n",
       "      <th>Salary</th>\n",
       "    </tr>\n",
       "  </thead>\n",
       "  <tbody>\n",
       "    <tr>\n",
       "      <th>0</th>\n",
       "      <td>Alice</td>\n",
       "      <td>25</td>\n",
       "      <td>New York</td>\n",
       "      <td>5.0</td>\n",
       "    </tr>\n",
       "    <tr>\n",
       "      <th>1</th>\n",
       "      <td>Bob</td>\n",
       "      <td>30</td>\n",
       "      <td>Los Angeles</td>\n",
       "      <td>6.5</td>\n",
       "    </tr>\n",
       "    <tr>\n",
       "      <th>2</th>\n",
       "      <td>Charlie</td>\n",
       "      <td>35</td>\n",
       "      <td>Chicago</td>\n",
       "      <td>8.0</td>\n",
       "    </tr>\n",
       "    <tr>\n",
       "      <th>3</th>\n",
       "      <td>David</td>\n",
       "      <td>28</td>\n",
       "      <td>Houston</td>\n",
       "      <td>7.0</td>\n",
       "    </tr>\n",
       "    <tr>\n",
       "      <th>4</th>\n",
       "      <td>Ajit</td>\n",
       "      <td>28</td>\n",
       "      <td>Bhandara</td>\n",
       "      <td>9.1</td>\n",
       "    </tr>\n",
       "    <tr>\n",
       "      <th>5</th>\n",
       "      <td>Madame</td>\n",
       "      <td>28</td>\n",
       "      <td>Bhandara</td>\n",
       "      <td>9.0</td>\n",
       "    </tr>\n",
       "    <tr>\n",
       "      <th>6</th>\n",
       "      <td>David</td>\n",
       "      <td>28</td>\n",
       "      <td>Houston</td>\n",
       "      <td>7.0</td>\n",
       "    </tr>\n",
       "    <tr>\n",
       "      <th>7</th>\n",
       "      <td>Eve</td>\n",
       "      <td>32</td>\n",
       "      <td>San Francisco</td>\n",
       "      <td>9.0</td>\n",
       "    </tr>\n",
       "    <tr>\n",
       "      <th>8</th>\n",
       "      <td>Frank</td>\n",
       "      <td>29</td>\n",
       "      <td>Austin</td>\n",
       "      <td>6.8</td>\n",
       "    </tr>\n",
       "    <tr>\n",
       "      <th>9</th>\n",
       "      <td>Ajit</td>\n",
       "      <td>28</td>\n",
       "      <td>Bhandara</td>\n",
       "      <td>9.0</td>\n",
       "    </tr>\n",
       "    <tr>\n",
       "      <th>10</th>\n",
       "      <td>Ajit</td>\n",
       "      <td>28</td>\n",
       "      <td>Bhandara</td>\n",
       "      <td>9.0</td>\n",
       "    </tr>\n",
       "    <tr>\n",
       "      <th>11</th>\n",
       "      <td>Sujit</td>\n",
       "      <td>28</td>\n",
       "      <td>Bhandara</td>\n",
       "      <td>8.0</td>\n",
       "    </tr>\n",
       "  </tbody>\n",
       "</table>\n",
       "</div>"
      ],
      "text/plain": [
       "       Name  Age           City  Salary\n",
       "0     Alice   25       New York     5.0\n",
       "1       Bob   30    Los Angeles     6.5\n",
       "2   Charlie   35        Chicago     8.0\n",
       "3     David   28        Houston     7.0\n",
       "4      Ajit   28       Bhandara     9.1\n",
       "5    Madame   28       Bhandara     9.0\n",
       "6     David   28        Houston     7.0\n",
       "7       Eve   32  San Francisco     9.0\n",
       "8     Frank   29         Austin     6.8\n",
       "9      Ajit   28       Bhandara     9.0\n",
       "10     Ajit   28       Bhandara     9.0\n",
       "11    Sujit   28       Bhandara     8.0"
      ]
     },
     "execution_count": 135,
     "metadata": {},
     "output_type": "execute_result"
    }
   ],
   "source": [
    "df"
   ]
  },
  {
   "cell_type": "code",
   "execution_count": 140,
   "id": "d076716e",
   "metadata": {},
   "outputs": [
    {
     "name": "stdout",
     "output_type": "stream",
     "text": [
      "       Name  Salary\n",
      "0     Alice     5.0\n",
      "1       Bob     6.5\n",
      "2   Charlie     8.0\n",
      "3     David     7.0\n",
      "4      Ajit     9.1\n",
      "5    Madame     9.0\n",
      "6     David     7.0\n",
      "7       Eve     9.0\n",
      "8     Frank     6.8\n",
      "9      Ajit     9.0\n",
      "10     Ajit     9.0\n",
      "11    Sujit     8.0\n"
     ]
    }
   ],
   "source": [
    "# Filter columns whose names contain the letter 'a' (case-insensitive)\n",
    "filtered_columns = df.filter(like='a', axis=1)\n",
    "print(filtered_columns)"
   ]
  },
  {
   "cell_type": "code",
   "execution_count": 141,
   "id": "5571c9d9",
   "metadata": {},
   "outputs": [
    {
     "name": "stdout",
     "output_type": "stream",
     "text": [
      "      Name  Age           City  Salary\n",
      "1      Bob   30    Los Angeles     6.5\n",
      "2  Charlie   35        Chicago     8.0\n",
      "7      Eve   32  San Francisco     9.0\n",
      "8    Frank   29         Austin     6.8\n"
     ]
    }
   ],
   "source": [
    "# Filter rows where Age is greater than 28\n",
    "filtered_rows = df.loc[lambda x: x['Age'] > 28]\n",
    "print(filtered_rows)\n"
   ]
  },
  {
   "cell_type": "code",
   "execution_count": 142,
   "id": "295f20d7",
   "metadata": {},
   "outputs": [
    {
     "name": "stdout",
     "output_type": "stream",
     "text": [
      "      Name  Salary\n",
      "1      Bob     6.5\n",
      "2  Charlie     8.0\n",
      "7      Eve     9.0\n",
      "8    Frank     6.8\n"
     ]
    }
   ],
   "source": [
    "# Filter rows where Age > 28 and columns containing the letter 'a'\n",
    "filtered = df.loc[lambda x: x['Age'] > 28, df.filter(like='a').columns]\n",
    "print(filtered)\n"
   ]
  },
  {
   "cell_type": "code",
   "execution_count": null,
   "id": "30264467",
   "metadata": {},
   "outputs": [],
   "source": []
  },
  {
   "cell_type": "code",
   "execution_count": null,
   "id": "651cc350",
   "metadata": {},
   "outputs": [],
   "source": []
  },
  {
   "cell_type": "code",
   "execution_count": null,
   "id": "c44e40f8",
   "metadata": {},
   "outputs": [],
   "source": []
  },
  {
   "cell_type": "code",
   "execution_count": null,
   "id": "8b5ecfdf",
   "metadata": {},
   "outputs": [],
   "source": []
  },
  {
   "cell_type": "code",
   "execution_count": null,
   "id": "53992338",
   "metadata": {},
   "outputs": [],
   "source": []
  },
  {
   "cell_type": "code",
   "execution_count": null,
   "id": "e0271fb0",
   "metadata": {},
   "outputs": [],
   "source": []
  },
  {
   "cell_type": "code",
   "execution_count": null,
   "id": "c7ded9f7",
   "metadata": {},
   "outputs": [],
   "source": []
  },
  {
   "cell_type": "code",
   "execution_count": null,
   "id": "fd655aa2",
   "metadata": {},
   "outputs": [],
   "source": []
  },
  {
   "cell_type": "code",
   "execution_count": null,
   "id": "627e722e",
   "metadata": {},
   "outputs": [],
   "source": []
  },
  {
   "cell_type": "code",
   "execution_count": 113,
   "id": "61cb9a52",
   "metadata": {},
   "outputs": [
    {
     "data": {
      "text/plain": [
       "Name\n",
       "Ajit            Bhandara\n",
       "Alice           New York\n",
       "Bob          Los Angeles\n",
       "Charlie          Chicago\n",
       "David            Houston\n",
       "Eve        San Francisco\n",
       "Frank             Austin\n",
       "Madame          Bhandara\n",
       "Sujit           Bhandara\n",
       "Name: City, dtype: object"
      ]
     },
     "execution_count": 113,
     "metadata": {},
     "output_type": "execute_result"
    }
   ],
   "source": [
    "df.groupby('Name')['City'].apply(lambda x:x.mode()[0])"
   ]
  },
  {
   "cell_type": "code",
   "execution_count": 114,
   "id": "b9645326",
   "metadata": {},
   "outputs": [
    {
     "name": "stdout",
     "output_type": "stream",
     "text": [
      "      Name  Age      City\n",
      "3    Alice   25  New York\n",
      "5  Charlie   35   Chicago\n"
     ]
    }
   ],
   "source": [
    "import pandas as pd\n",
    "\n",
    "# Sample DataFrame\n",
    "data = {\n",
    "    \"Name\": [\"Alice\", \"Bob\", \"Charlie\", \"Alice\", \"Eve\", \"Charlie\"],\n",
    "    \"Age\": [25, 30, 35, 25, 32, 35],\n",
    "    \"City\": [\"New York\", \"Los Angeles\", \"Chicago\", \"New York\", \"Austin\", \"Chicago\"]\n",
    "}\n",
    "\n",
    "df = pd.DataFrame(data)\n",
    "\n",
    "# Find duplicate rows\n",
    "duplicates = df[df.duplicated()]\n",
    "print(duplicates)\n"
   ]
  },
  {
   "cell_type": "code",
   "execution_count": null,
   "id": "a31268e3",
   "metadata": {},
   "outputs": [],
   "source": []
  },
  {
   "cell_type": "code",
   "execution_count": null,
   "id": "4700d5c0",
   "metadata": {},
   "outputs": [],
   "source": []
  },
  {
   "cell_type": "code",
   "execution_count": null,
   "id": "a5c671fd",
   "metadata": {},
   "outputs": [],
   "source": []
  },
  {
   "cell_type": "code",
   "execution_count": null,
   "id": "931f5b03",
   "metadata": {},
   "outputs": [],
   "source": []
  },
  {
   "cell_type": "code",
   "execution_count": 77,
   "id": "f30a1382",
   "metadata": {},
   "outputs": [
    {
     "name": "stderr",
     "output_type": "stream",
     "text": [
      "C:\\Users\\ASUS\\AppData\\Local\\Temp\\ipykernel_15796\\23164260.py:12: DeprecationWarning: DataFrameGroupBy.apply operated on the grouping columns. This behavior is deprecated, and in a future version of pandas the grouping columns will be excluded from the operation. Either pass `include_groups=False` to exclude the groupings or explicitly select the grouping columns after groupby to silence this warning.\n",
      "  top_salaries = df.groupby('City').apply(lambda x: x.nlargest(3, 'Salary')).reset_index(drop=True)\n"
     ]
    },
    {
     "data": {
      "text/html": [
       "<div>\n",
       "<style scoped>\n",
       "    .dataframe tbody tr th:only-of-type {\n",
       "        vertical-align: middle;\n",
       "    }\n",
       "\n",
       "    .dataframe tbody tr th {\n",
       "        vertical-align: top;\n",
       "    }\n",
       "\n",
       "    .dataframe thead th {\n",
       "        text-align: right;\n",
       "    }\n",
       "</style>\n",
       "<table border=\"1\" class=\"dataframe\">\n",
       "  <thead>\n",
       "    <tr style=\"text-align: right;\">\n",
       "      <th></th>\n",
       "      <th>Name</th>\n",
       "      <th>City</th>\n",
       "      <th>Salary</th>\n",
       "    </tr>\n",
       "  </thead>\n",
       "  <tbody>\n",
       "    <tr>\n",
       "      <th>0</th>\n",
       "      <td>David</td>\n",
       "      <td>Chicago</td>\n",
       "      <td>90000</td>\n",
       "    </tr>\n",
       "    <tr>\n",
       "      <th>1</th>\n",
       "      <td>Charlie</td>\n",
       "      <td>Chicago</td>\n",
       "      <td>60000</td>\n",
       "    </tr>\n",
       "    <tr>\n",
       "      <th>2</th>\n",
       "      <td>Frank</td>\n",
       "      <td>LA</td>\n",
       "      <td>85000</td>\n",
       "    </tr>\n",
       "    <tr>\n",
       "      <th>3</th>\n",
       "      <td>Eve</td>\n",
       "      <td>LA</td>\n",
       "      <td>75000</td>\n",
       "    </tr>\n",
       "    <tr>\n",
       "      <th>4</th>\n",
       "      <td>Bob</td>\n",
       "      <td>NYC</td>\n",
       "      <td>80000</td>\n",
       "    </tr>\n",
       "    <tr>\n",
       "      <th>5</th>\n",
       "      <td>Alice</td>\n",
       "      <td>NYC</td>\n",
       "      <td>70000</td>\n",
       "    </tr>\n",
       "  </tbody>\n",
       "</table>\n",
       "</div>"
      ],
      "text/plain": [
       "      Name     City  Salary\n",
       "0    David  Chicago   90000\n",
       "1  Charlie  Chicago   60000\n",
       "2    Frank       LA   85000\n",
       "3      Eve       LA   75000\n",
       "4      Bob      NYC   80000\n",
       "5    Alice      NYC   70000"
      ]
     },
     "execution_count": 77,
     "metadata": {},
     "output_type": "execute_result"
    }
   ],
   "source": [
    "# import pandas as pd\n",
    "\n",
    "data = {\n",
    "    \"Name\": [\"Alice\", \"Bob\", \"Charlie\", \"David\", \"Eve\", \"Frank\"],\n",
    "    \"City\": [\"NYC\", \"NYC\", \"Chicago\", \"Chicago\", \"LA\", \"LA\"],\n",
    "    \"Salary\": [70000, 80000, 60000, 90000, 75000, 85000]\n",
    "}\n",
    "\n",
    "df = pd.DataFrame(data)\n",
    "\n",
    "# Find the top 3 salaries for each city\n",
    "top_salaries = df.groupby('City').apply(lambda x: x.nlargest(3, 'Salary')).reset_index(drop=True)\n",
    "top_salaries"
   ]
  },
  {
   "cell_type": "code",
   "execution_count": 78,
   "id": "8a437217",
   "metadata": {},
   "outputs": [
    {
     "name": "stderr",
     "output_type": "stream",
     "text": [
      "C:\\Users\\ASUS\\AppData\\Local\\Temp\\ipykernel_15796\\668672122.py:1: DeprecationWarning: DataFrameGroupBy.apply operated on the grouping columns. This behavior is deprecated, and in a future version of pandas the grouping columns will be excluded from the operation. Either pass `include_groups=False` to exclude the groupings or explicitly select the grouping columns after groupby to silence this warning.\n",
      "  top = df.groupby('City').apply(lambda x:x.nlargest(3,'Salary')).reset_index(drop=True)\n"
     ]
    },
    {
     "data": {
      "text/html": [
       "<div>\n",
       "<style scoped>\n",
       "    .dataframe tbody tr th:only-of-type {\n",
       "        vertical-align: middle;\n",
       "    }\n",
       "\n",
       "    .dataframe tbody tr th {\n",
       "        vertical-align: top;\n",
       "    }\n",
       "\n",
       "    .dataframe thead th {\n",
       "        text-align: right;\n",
       "    }\n",
       "</style>\n",
       "<table border=\"1\" class=\"dataframe\">\n",
       "  <thead>\n",
       "    <tr style=\"text-align: right;\">\n",
       "      <th></th>\n",
       "      <th>Name</th>\n",
       "      <th>City</th>\n",
       "      <th>Salary</th>\n",
       "    </tr>\n",
       "  </thead>\n",
       "  <tbody>\n",
       "    <tr>\n",
       "      <th>0</th>\n",
       "      <td>David</td>\n",
       "      <td>Chicago</td>\n",
       "      <td>90000</td>\n",
       "    </tr>\n",
       "    <tr>\n",
       "      <th>1</th>\n",
       "      <td>Charlie</td>\n",
       "      <td>Chicago</td>\n",
       "      <td>60000</td>\n",
       "    </tr>\n",
       "    <tr>\n",
       "      <th>2</th>\n",
       "      <td>Frank</td>\n",
       "      <td>LA</td>\n",
       "      <td>85000</td>\n",
       "    </tr>\n",
       "    <tr>\n",
       "      <th>3</th>\n",
       "      <td>Eve</td>\n",
       "      <td>LA</td>\n",
       "      <td>75000</td>\n",
       "    </tr>\n",
       "    <tr>\n",
       "      <th>4</th>\n",
       "      <td>Bob</td>\n",
       "      <td>NYC</td>\n",
       "      <td>80000</td>\n",
       "    </tr>\n",
       "    <tr>\n",
       "      <th>5</th>\n",
       "      <td>Alice</td>\n",
       "      <td>NYC</td>\n",
       "      <td>70000</td>\n",
       "    </tr>\n",
       "  </tbody>\n",
       "</table>\n",
       "</div>"
      ],
      "text/plain": [
       "      Name     City  Salary\n",
       "0    David  Chicago   90000\n",
       "1  Charlie  Chicago   60000\n",
       "2    Frank       LA   85000\n",
       "3      Eve       LA   75000\n",
       "4      Bob      NYC   80000\n",
       "5    Alice      NYC   70000"
      ]
     },
     "execution_count": 78,
     "metadata": {},
     "output_type": "execute_result"
    }
   ],
   "source": [
    "top = df.groupby('City').apply(lambda x:x.nlargest(3,'Salary')).reset_index(drop=True)\n",
    "top"
   ]
  },
  {
   "cell_type": "code",
   "execution_count": 79,
   "id": "d9a3acb9",
   "metadata": {},
   "outputs": [
    {
     "name": "stdout",
     "output_type": "stream",
     "text": [
      "3\n"
     ]
    }
   ],
   "source": [
    "data = {\"Status\": [1, 1, 0, 1, 1, 1, 0, 1]}\n",
    "df = pd.DataFrame(data)\n",
    "\n",
    "# Add a column to count consecutive 1s\n",
    "df['Group'] = (df['Status'] != df['Status'].shift()).cumsum()\n",
    "consecutive_ones = df[df['Status'] == 1].groupby('Group').size().max()\n",
    "print(consecutive_ones)\n"
   ]
  },
  {
   "cell_type": "code",
   "execution_count": 80,
   "id": "74a881da",
   "metadata": {},
   "outputs": [
    {
     "name": "stdout",
     "output_type": "stream",
     "text": [
      "City\n",
      "LA     A\n",
      "NYC    A\n",
      "Name: Product, dtype: object\n"
     ]
    }
   ],
   "source": [
    "data = {\n",
    "    \"City\": [\"NYC\", \"NYC\", \"LA\", \"LA\", \"LA\"],\n",
    "    \"Product\": [\"A\", \"B\", \"A\", \"A\", \"B\"]\n",
    "}\n",
    "\n",
    "df = pd.DataFrame(data)\n",
    "\n",
    "# Find the most frequent product in each city\n",
    "most_frequent = df.groupby('City')['Product'].apply(lambda x: x.mode()[0])\n",
    "print(most_frequent)\n"
   ]
  },
  {
   "cell_type": "code",
   "execution_count": 82,
   "id": "63069f5c",
   "metadata": {},
   "outputs": [
    {
     "data": {
      "text/plain": [
       "City\n",
       "LA     A\n",
       "NYC    A\n",
       "Name: Product, dtype: object"
      ]
     },
     "execution_count": 82,
     "metadata": {},
     "output_type": "execute_result"
    }
   ],
   "source": [
    "most = df.groupby('City')['Product'].apply(lambda x: x.mode()[0])\n",
    "most"
   ]
  },
  {
   "cell_type": "code",
   "execution_count": 83,
   "id": "b0a10dba",
   "metadata": {},
   "outputs": [
    {
     "name": "stdout",
     "output_type": "stream",
     "text": [
      "   Values  RollingStd\n",
      "0      10         NaN\n",
      "1      20         NaN\n",
      "2      30        10.0\n",
      "3      40        10.0\n",
      "4      50        10.0\n",
      "5      60        10.0\n"
     ]
    }
   ],
   "source": [
    "data = {\"Values\": [10, 20, 30, 40, 50, 60]}\n",
    "df = pd.DataFrame(data)\n",
    "\n",
    "# Calculate rolling standard deviation\n",
    "df['RollingStd'] = df['Values'].rolling(window=3).std()\n",
    "print(df)\n"
   ]
  },
  {
   "cell_type": "code",
   "execution_count": null,
   "id": "a08066d5",
   "metadata": {},
   "outputs": [],
   "source": []
  },
  {
   "cell_type": "code",
   "execution_count": null,
   "id": "6f698d1f",
   "metadata": {},
   "outputs": [],
   "source": []
  },
  {
   "cell_type": "code",
   "execution_count": null,
   "id": "69874c54",
   "metadata": {},
   "outputs": [],
   "source": []
  },
  {
   "cell_type": "code",
   "execution_count": null,
   "id": "89e59a01",
   "metadata": {},
   "outputs": [],
   "source": []
  },
  {
   "cell_type": "code",
   "execution_count": null,
   "id": "55b7ff81",
   "metadata": {},
   "outputs": [],
   "source": []
  },
  {
   "cell_type": "code",
   "execution_count": null,
   "id": "f0fcc594",
   "metadata": {},
   "outputs": [],
   "source": []
  },
  {
   "cell_type": "code",
   "execution_count": null,
   "id": "e0005714",
   "metadata": {},
   "outputs": [],
   "source": []
  },
  {
   "cell_type": "code",
   "execution_count": null,
   "id": "21671fa2",
   "metadata": {},
   "outputs": [],
   "source": []
  },
  {
   "cell_type": "code",
   "execution_count": null,
   "id": "7b72d095",
   "metadata": {},
   "outputs": [],
   "source": []
  },
  {
   "cell_type": "code",
   "execution_count": null,
   "id": "23a13238",
   "metadata": {},
   "outputs": [],
   "source": []
  },
  {
   "cell_type": "code",
   "execution_count": 1,
   "id": "11403573",
   "metadata": {},
   "outputs": [
    {
     "name": "stdout",
     "output_type": "stream",
     "text": [
      "[1, 3]\n"
     ]
    }
   ],
   "source": [
    "def find_duplicates(arr):\n",
    "    seen = set()\n",
    "    duplicates = set()\n",
    "    \n",
    "    for num in arr:\n",
    "        if num in seen:\n",
    "            duplicates.add(num)\n",
    "        else:\n",
    "            seen.add(num)\n",
    "    \n",
    "    return list(duplicates)\n",
    "\n",
    "# Example usage\n",
    "input_array = [1, 2, 3, 1, 3, 6, 5]\n",
    "print(find_duplicates(input_array))\n"
   ]
  },
  {
   "cell_type": "code",
   "execution_count": 1,
   "id": "bc124f04",
   "metadata": {},
   "outputs": [
    {
     "data": {
      "text/plain": [
       "[1, 2, 3, 4, 5]"
      ]
     },
     "execution_count": 1,
     "metadata": {},
     "output_type": "execute_result"
    }
   ],
   "source": [
    "def remove_dup(lis):\n",
    "    lis.sort()\n",
    "    i=1\n",
    "    while i < len(lis):\n",
    "        if lis[i] == lis[i-1]:\n",
    "            del lis[i]\n",
    "        else:\n",
    "            i+=1\n",
    "    return lis\n",
    "\n",
    "remove_dup([5,1,2,3,4,5,1,2,3])"
   ]
  },
  {
   "cell_type": "code",
   "execution_count": 2,
   "id": "f409003b",
   "metadata": {},
   "outputs": [
    {
     "data": {
      "text/plain": [
       "True"
      ]
     },
     "execution_count": 2,
     "metadata": {},
     "output_type": "execute_result"
    }
   ],
   "source": [
    "def prime(n):\n",
    "    if n <=0:\n",
    "        return False\n",
    "    for i in range(2,n):\n",
    "        if n % i == 0:\n",
    "            return False\n",
    "    return True\n",
    "\n",
    "prime(17)"
   ]
  },
  {
   "cell_type": "code",
   "execution_count": 3,
   "id": "7f02f8a2",
   "metadata": {},
   "outputs": [
    {
     "data": {
      "text/plain": [
       "[1, 2, 3, 4, 5, 6]"
      ]
     },
     "execution_count": 3,
     "metadata": {},
     "output_type": "execute_result"
    }
   ],
   "source": [
    "def merge_two_list(lis1,lis2):\n",
    "    merge_list = []\n",
    "    i,j=0,0\n",
    "    while i < len(lis1) and j < len(lis2):\n",
    "        if lis1[i] < lis2[j]:\n",
    "            merge_list.append(lis1[i])\n",
    "            i+=1\n",
    "        else:\n",
    "            merge_list.append(lis2[j])\n",
    "    merge_list.extend(lis1[i:])\n",
    "    merge_list.extend(lis2[j:])\n",
    "    return merge_list\n",
    "\n",
    "merge_two_list([1,2,3],[4,5,6])"
   ]
  },
  {
   "cell_type": "code",
   "execution_count": 4,
   "id": "b17ee7b0",
   "metadata": {},
   "outputs": [
    {
     "data": {
      "text/plain": [
       "[1, 2, 3, 4, 8, 9, 6, 4]"
      ]
     },
     "execution_count": 4,
     "metadata": {},
     "output_type": "execute_result"
    }
   ],
   "source": [
    "def flatten_list(nested_list):\n",
    "    flat_list=[]\n",
    "    for i in nested_list:\n",
    "        if isinstance(i,list):\n",
    "            flat_list.extend(flatten_list(i))\n",
    "        else:\n",
    "            flat_list.append(i)\n",
    "    return flat_list\n",
    "\n",
    "flatten_list([1,2,[3,4,[8,9,[6,4]]]])"
   ]
  },
  {
   "cell_type": "code",
   "execution_count": 6,
   "id": "8f154a1f",
   "metadata": {},
   "outputs": [
    {
     "name": "stdout",
     "output_type": "stream",
     "text": [
      "r\n",
      "o\n",
      "t\n",
      "a\n",
      "t\n",
      "o\n",
      "r\n",
      "tat\n",
      "otato\n",
      "rotator\n"
     ]
    }
   ],
   "source": [
    "s= 'rotator'\n",
    "def polli(s):\n",
    "    return s[::-1] == s\n",
    "for i in range(1,len(s)+1):\n",
    "    start = 0\n",
    "    end = i\n",
    "    while end < len(s)+1:\n",
    "        if polli(s[start:end]):\n",
    "            print(s[start:end])\n",
    "        start+=1\n",
    "        end +=1\n",
    "        "
   ]
  },
  {
   "cell_type": "code",
   "execution_count": 7,
   "id": "18e82bd0",
   "metadata": {},
   "outputs": [
    {
     "data": {
      "text/plain": [
       "120"
      ]
     },
     "execution_count": 7,
     "metadata": {},
     "output_type": "execute_result"
    }
   ],
   "source": [
    "def factorial(n):\n",
    "    if n == 0:\n",
    "        return 1\n",
    "    return n * factorial(n-1)\n",
    "factorial(5)"
   ]
  },
  {
   "cell_type": "code",
   "execution_count": 10,
   "id": "3803fd74",
   "metadata": {},
   "outputs": [
    {
     "data": {
      "text/plain": [
       "120"
      ]
     },
     "execution_count": 10,
     "metadata": {},
     "output_type": "execute_result"
    }
   ],
   "source": [
    "def fact(n):\n",
    "    if n == 0:\n",
    "        return 1\n",
    "    return n*fact(n-1)\n",
    "fact(5)"
   ]
  },
  {
   "cell_type": "code",
   "execution_count": 11,
   "id": "74bff522",
   "metadata": {},
   "outputs": [
    {
     "data": {
      "text/plain": [
       "[0, 1, 1, 2, 3, 5, 8, 13, 21, 34]"
      ]
     },
     "execution_count": 11,
     "metadata": {},
     "output_type": "execute_result"
    }
   ],
   "source": [
    "def fibo(n):\n",
    "    seq=[0,1]\n",
    "    while len(seq) < n:\n",
    "        seq.append(seq[-1]+seq[-2])\n",
    "    return seq\n",
    "\n",
    "fibo(10)"
   ]
  },
  {
   "cell_type": "code",
   "execution_count": 12,
   "id": "facf520f",
   "metadata": {},
   "outputs": [
    {
     "data": {
      "text/plain": [
       "'DlanOdcam'"
      ]
     },
     "execution_count": 12,
     "metadata": {},
     "output_type": "execute_result"
    }
   ],
   "source": [
    "def upper_string(s):\n",
    "    result = ''\n",
    "    st = s.lower()\n",
    "    for i in range(len(st)):\n",
    "        if i == 0 or i == 4:\n",
    "            result+= st[-(i+1)].upper()\n",
    "        else:\n",
    "            result += st[-(i+1)]\n",
    "    return result\n",
    "\n",
    "upper_string('macdonald')"
   ]
  },
  {
   "cell_type": "code",
   "execution_count": 13,
   "id": "0c10fcc2",
   "metadata": {},
   "outputs": [
    {
     "name": "stdout",
     "output_type": "stream",
     "text": [
      "22\n"
     ]
    }
   ],
   "source": [
    "lis = [11,22,33,44]\n",
    "smallest = second_smallest = float('inf')\n",
    "for i in lis:\n",
    "    if i < smallest:\n",
    "        smallest,second_smallest = i,smallest\n",
    "    elif i < second_smallest:\n",
    "        second_smallest = i\n",
    "print(second_smallest)"
   ]
  },
  {
   "cell_type": "code",
   "execution_count": 18,
   "id": "dd4ecaa6",
   "metadata": {},
   "outputs": [
    {
     "name": "stdout",
     "output_type": "stream",
     "text": [
      "33\n"
     ]
    }
   ],
   "source": [
    "second_largest = largest = 0\n",
    "for i in lis:\n",
    "    if i > largest:\n",
    "        second_largest = largest\n",
    "        largest = i\n",
    "    elif i > second_largest and i != largest:\n",
    "        second_largest = i\n",
    "print(second_largest)"
   ]
  },
  {
   "cell_type": "code",
   "execution_count": null,
   "id": "3840e42d",
   "metadata": {},
   "outputs": [],
   "source": []
  },
  {
   "cell_type": "code",
   "execution_count": null,
   "id": "fac6d0c3",
   "metadata": {},
   "outputs": [],
   "source": []
  },
  {
   "cell_type": "code",
   "execution_count": 6,
   "id": "33333939",
   "metadata": {},
   "outputs": [],
   "source": [
    "seen = set()\n",
    "duplicate = set()\n",
    "\n",
    "for num in input_array:\n",
    "    if num in seen:\n",
    "        duplicate.add(num)\n",
    "    else:\n",
    "        seen.add(num)"
   ]
  },
  {
   "cell_type": "code",
   "execution_count": 7,
   "id": "7951a5de",
   "metadata": {},
   "outputs": [
    {
     "data": {
      "text/plain": [
       "{1, 3}"
      ]
     },
     "execution_count": 7,
     "metadata": {},
     "output_type": "execute_result"
    }
   ],
   "source": [
    "duplicate"
   ]
  },
  {
   "cell_type": "code",
   "execution_count": 8,
   "id": "4b2203fc",
   "metadata": {},
   "outputs": [
    {
     "data": {
      "text/plain": [
       "{1, 2, 3, 5, 6}"
      ]
     },
     "execution_count": 8,
     "metadata": {},
     "output_type": "execute_result"
    }
   ],
   "source": [
    "seen"
   ]
  },
  {
   "cell_type": "code",
   "execution_count": null,
   "id": "3b510b4f",
   "metadata": {},
   "outputs": [],
   "source": [
    "#Q3: Given an integer array, return the maximum product of any three numbers in the array?\n"
   ]
  },
  {
   "cell_type": "code",
   "execution_count": 9,
   "id": "707f0aac",
   "metadata": {},
   "outputs": [
    {
     "data": {
      "text/plain": [
       "[1, 2, 3, 1, 3, 6, 5]"
      ]
     },
     "execution_count": 9,
     "metadata": {},
     "output_type": "execute_result"
    }
   ],
   "source": [
    "input_array"
   ]
  },
  {
   "cell_type": "code",
   "execution_count": 10,
   "id": "ae1d4cea",
   "metadata": {},
   "outputs": [
    {
     "name": "stdout",
     "output_type": "stream",
     "text": [
      "5000\n"
     ]
    }
   ],
   "source": [
    "def max_product_of_three(nums):\n",
    "    # Sort the array\n",
    "    nums.sort()\n",
    "    \n",
    "    # Compute the maximum product of the three largest numbers\n",
    "    max1 = nums[-1] * nums[-2] * nums[-3]\n",
    "    \n",
    "    # Compute the maximum product of the two smallest numbers and the largest number\n",
    "    max2 = nums[0] * nums[1] * nums[-1]\n",
    "    \n",
    "    # Return the maximum of the two computed products\n",
    "    return max(max1, max2)\n",
    "\n",
    "# Example usage\n",
    "input_array = [1, 10, -5, 1, -100]\n",
    "print(max_product_of_three(input_array))\n"
   ]
  },
  {
   "cell_type": "code",
   "execution_count": 12,
   "id": "ab0fe4ab",
   "metadata": {},
   "outputs": [
    {
     "data": {
      "text/plain": [
       "5000"
      ]
     },
     "execution_count": 12,
     "metadata": {},
     "output_type": "execute_result"
    }
   ],
   "source": [
    "num = input_array\n",
    "num.sort()\n",
    "max1 = num[-1]*num[-2]*num[-3]\n",
    "max2 = num[0]*num[1]*num[-1]\n",
    "max(max1,max2)"
   ]
  },
  {
   "cell_type": "code",
   "execution_count": null,
   "id": "0ba78e42",
   "metadata": {},
   "outputs": [],
   "source": [
    "#Q4: Given an integer array, find the sum of the largest contiguous subarray within the array. \n",
    "#For example, given the array A = [0,-1,-5,-2,3,14] it should return 17 \n",
    "#because of [3,14]. Note that if all the elements are negative it should return zero."
   ]
  },
  {
   "cell_type": "code",
   "execution_count": null,
   "id": "bdd3e193",
   "metadata": {},
   "outputs": [],
   "source": [
    "def max_subarray(arr):\n",
    "  n = len(arr)\n",
    "  max_sum = arr[0] #max\n",
    "  curr_sum = 0 \n",
    "  for i in range(n):\n",
    "    curr_sum += arr[i]\n",
    "    max_sum = max(max_sum, curr_sum)\n",
    "    if curr_sum <0:\n",
    "      curr_sum  = 0\n",
    "  return max_sum    \n",
    "      "
   ]
  },
  {
   "cell_type": "code",
   "execution_count": 14,
   "id": "5441e6bf",
   "metadata": {},
   "outputs": [],
   "source": [
    "def max_subarry(arr):\n",
    "    n = len(arr)\n",
    "    max_sum = arr[0]\n",
    "    curr_sum = 0\n",
    "    for i in range(n):\n",
    "        curr_sum += arr[i]\n",
    "        max_sum = max(max_sum, curr_sum)\n",
    "        if curr_sum <0:\n",
    "            curr_sum = 0\n",
    "    return max_sum"
   ]
  },
  {
   "cell_type": "code",
   "execution_count": 16,
   "id": "68867304",
   "metadata": {},
   "outputs": [
    {
     "data": {
      "text/plain": [
       "17"
      ]
     },
     "execution_count": 16,
     "metadata": {},
     "output_type": "execute_result"
    }
   ],
   "source": [
    "max_subarry(input_array)"
   ]
  },
  {
   "cell_type": "code",
   "execution_count": 15,
   "id": "85010d7f",
   "metadata": {},
   "outputs": [
    {
     "name": "stdout",
     "output_type": "stream",
     "text": [
      "17\n"
     ]
    }
   ],
   "source": [
    "def max_contiguous_subarray_sum(arr):\n",
    "    if not arr:\n",
    "        return 0\n",
    "    \n",
    "    # Initialize variables\n",
    "    max_current = max_global = 0\n",
    "    \n",
    "    for num in arr:\n",
    "        max_current = max(num, max_current + num)\n",
    "        max_global = max(max_global, max_current)\n",
    "    \n",
    "    return max_global\n",
    "\n",
    "# Example usage\n",
    "input_array = [0, -1, -5, -2, 3, 14]\n",
    "print(max_contiguous_subarray_sum(input_array))\n"
   ]
  },
  {
   "cell_type": "code",
   "execution_count": 19,
   "id": "c195dbc2",
   "metadata": {},
   "outputs": [],
   "source": [
    "def max1(arr):\n",
    "    if not arr:\n",
    "        return 0\n",
    "\n",
    "    max_current = max_global = 0\n",
    "    for num in arr:\n",
    "        max_current = max(num,max_current + num)\n",
    "        max_global = max(max_global,max_current)\n",
    "#         print(max_global)\n",
    "    return max_global "
   ]
  },
  {
   "cell_type": "code",
   "execution_count": 20,
   "id": "3c6eba44",
   "metadata": {},
   "outputs": [
    {
     "data": {
      "text/plain": [
       "17"
      ]
     },
     "execution_count": 20,
     "metadata": {},
     "output_type": "execute_result"
    }
   ],
   "source": [
    "max1(input_array)"
   ]
  },
  {
   "cell_type": "code",
   "execution_count": 21,
   "id": "6c4bda1f",
   "metadata": {},
   "outputs": [
    {
     "name": "stdout",
     "output_type": "stream",
     "text": [
      "5.196152422706632\n"
     ]
    }
   ],
   "source": [
    "import pandas as pd\n",
    "import numpy as np\n",
    "\n",
    "def euclidean_distance(series1, series2):\n",
    "    # Ensure both series are of the same length\n",
    "    if len(series1) != len(series2):\n",
    "        raise ValueError(\"Series must be of the same length\")\n",
    "    \n",
    "    # Compute the Euclidean distance\n",
    "    distance = np.sqrt(np.sum((series1 - series2) ** 2))\n",
    "    return distance\n",
    "\n",
    "# Example usage\n",
    "series1 = pd.Series([1, 2, 3])\n",
    "series2 = pd.Series([4, 5, 6])\n",
    "\n",
    "print(euclidean_distance(series1, series2))\n"
   ]
  },
  {
   "cell_type": "code",
   "execution_count": 26,
   "id": "a4214ecc",
   "metadata": {},
   "outputs": [
    {
     "name": "stdout",
     "output_type": "stream",
     "text": [
      "[(1, 2), (1, 3), (2, 3)]\n"
     ]
    }
   ],
   "source": [
    "import itertools\n",
    "\n",
    "def combinations(n, k):\n",
    "    # Generate the range of numbers from 1 to n\n",
    "    numbers = range(1, n + 1)\n",
    "    \n",
    "    # Use itertools.combinations to generate all combinations of k numbers\n",
    "    return list(itertools.combinations(numbers, k))\n",
    "\n",
    "# Example usage\n",
    "n = 3\n",
    "k = 2\n",
    "print(combinations(n, k))\n"
   ]
  },
  {
   "cell_type": "code",
   "execution_count": 27,
   "id": "3868952d",
   "metadata": {},
   "outputs": [
    {
     "name": "stdout",
     "output_type": "stream",
     "text": [
      "[(1, 2), (1, 3), (2, 3)]\n"
     ]
    }
   ],
   "source": [
    "def com(n,k):\n",
    "    num = range(1,n+1)\n",
    "    return list(itertools.combinations(num,k))\n",
    "\n",
    "print(com(n,k))"
   ]
  },
  {
   "cell_type": "code",
   "execution_count": 28,
   "id": "4b77fcdc",
   "metadata": {},
   "outputs": [
    {
     "name": "stdout",
     "output_type": "stream",
     "text": [
      "Indices List: [[2, 3], [0, 1, 3], [0, 2, 5], [1, 2, 4], [1, 3, 5], [0, 3, 4, 5]]\n",
      "Values List: [[5, 4], [2, 3, 4], [2, 5, 2], [3, 5, 1], [3, 4, 2], [2, 4, 1, 2]]\n"
     ]
    }
   ],
   "source": [
    "import itertools\n",
    "\n",
    "def find_combinations_with_sum(arr, target_sum):\n",
    "    result = []\n",
    "    \n",
    "    # Find all possible combinations of any length\n",
    "    for r in range(1, len(arr) + 1):\n",
    "        for combo in itertools.combinations(enumerate(arr), r):\n",
    "            indices, values = zip(*combo)  # Separate indices and values\n",
    "            if sum(values) == target_sum:\n",
    "                result.append((indices, values))\n",
    "    \n",
    "    return result\n",
    "\n",
    "def retrieve_index_and_values(arr, target_sum):\n",
    "    combinations = find_combinations_with_sum(arr, target_sum)\n",
    "    \n",
    "    indices_list = []\n",
    "    values_list = []\n",
    "    \n",
    "    for indices, values in combinations:\n",
    "        indices_list.append(list(indices))\n",
    "        values_list.append(list(values))\n",
    "    \n",
    "    return indices_list, values_list\n",
    "\n",
    "# Example usage\n",
    "arr = [2, 3, 5, 4, 1, 2]\n",
    "target_sum = 9\n",
    "indices_list, values_list = retrieve_index_and_values(arr, target_sum)\n",
    "\n",
    "print(\"Indices List:\", indices_list)\n",
    "print(\"Values List:\", values_list)\n"
   ]
  },
  {
   "cell_type": "code",
   "execution_count": 2,
   "id": "a867b30a",
   "metadata": {},
   "outputs": [
    {
     "name": "stdout",
     "output_type": "stream",
     "text": [
      "      Name  Age         City\n",
      "0    Alice   25     New York\n",
      "1      Bob   30  Los Angeles\n",
      "2  Charlie   35      Chicago\n"
     ]
    }
   ],
   "source": [
    "import pandas as pd\n",
    "\n",
    "# Creating a DataFrame from a dictionary\n",
    "data = {\n",
    "    'Name': ['Alice', 'Bob', 'Charlie'],\n",
    "    'Age': [25, 30, 35],\n",
    "    'City': ['New York', 'Los Angeles', 'Chicago']\n",
    "}\n",
    "df = pd.DataFrame(data)\n",
    "\n",
    "print(df)\n"
   ]
  },
  {
   "cell_type": "code",
   "execution_count": 4,
   "id": "950fe98e",
   "metadata": {},
   "outputs": [
    {
     "data": {
      "text/html": [
       "<div>\n",
       "<style scoped>\n",
       "    .dataframe tbody tr th:only-of-type {\n",
       "        vertical-align: middle;\n",
       "    }\n",
       "\n",
       "    .dataframe tbody tr th {\n",
       "        vertical-align: top;\n",
       "    }\n",
       "\n",
       "    .dataframe thead th {\n",
       "        text-align: right;\n",
       "    }\n",
       "</style>\n",
       "<table border=\"1\" class=\"dataframe\">\n",
       "  <thead>\n",
       "    <tr style=\"text-align: right;\">\n",
       "      <th></th>\n",
       "      <th>Name</th>\n",
       "      <th>City</th>\n",
       "    </tr>\n",
       "  </thead>\n",
       "  <tbody>\n",
       "    <tr>\n",
       "      <th>0</th>\n",
       "      <td>Alice</td>\n",
       "      <td>New York</td>\n",
       "    </tr>\n",
       "    <tr>\n",
       "      <th>1</th>\n",
       "      <td>Bob</td>\n",
       "      <td>Los Angeles</td>\n",
       "    </tr>\n",
       "    <tr>\n",
       "      <th>2</th>\n",
       "      <td>Charlie</td>\n",
       "      <td>Chicago</td>\n",
       "    </tr>\n",
       "  </tbody>\n",
       "</table>\n",
       "</div>"
      ],
      "text/plain": [
       "      Name         City\n",
       "0    Alice     New York\n",
       "1      Bob  Los Angeles\n",
       "2  Charlie      Chicago"
      ]
     },
     "execution_count": 4,
     "metadata": {},
     "output_type": "execute_result"
    }
   ],
   "source": [
    "ages = df['Age']\n",
    "select_col = df[['Name','City']]\n",
    "select_col"
   ]
  },
  {
   "cell_type": "code",
   "execution_count": 5,
   "id": "4da3dba2",
   "metadata": {},
   "outputs": [
    {
     "data": {
      "text/html": [
       "<div>\n",
       "<style scoped>\n",
       "    .dataframe tbody tr th:only-of-type {\n",
       "        vertical-align: middle;\n",
       "    }\n",
       "\n",
       "    .dataframe tbody tr th {\n",
       "        vertical-align: top;\n",
       "    }\n",
       "\n",
       "    .dataframe thead th {\n",
       "        text-align: right;\n",
       "    }\n",
       "</style>\n",
       "<table border=\"1\" class=\"dataframe\">\n",
       "  <thead>\n",
       "    <tr style=\"text-align: right;\">\n",
       "      <th></th>\n",
       "      <th>Name</th>\n",
       "      <th>Age</th>\n",
       "      <th>City</th>\n",
       "    </tr>\n",
       "  </thead>\n",
       "  <tbody>\n",
       "    <tr>\n",
       "      <th>0</th>\n",
       "      <td>Alice</td>\n",
       "      <td>25</td>\n",
       "      <td>New York</td>\n",
       "    </tr>\n",
       "  </tbody>\n",
       "</table>\n",
       "</div>"
      ],
      "text/plain": [
       "    Name  Age      City\n",
       "0  Alice   25  New York"
      ]
     },
     "execution_count": 5,
     "metadata": {},
     "output_type": "execute_result"
    }
   ],
   "source": [
    "yong_pe = df[df['Age'] < 30]\n",
    "yong_pe"
   ]
  },
  {
   "cell_type": "code",
   "execution_count": 163,
   "id": "4532af24",
   "metadata": {},
   "outputs": [
    {
     "data": {
      "text/html": [
       "<div>\n",
       "<style scoped>\n",
       "    .dataframe tbody tr th:only-of-type {\n",
       "        vertical-align: middle;\n",
       "    }\n",
       "\n",
       "    .dataframe tbody tr th {\n",
       "        vertical-align: top;\n",
       "    }\n",
       "\n",
       "    .dataframe thead th {\n",
       "        text-align: right;\n",
       "    }\n",
       "</style>\n",
       "<table border=\"1\" class=\"dataframe\">\n",
       "  <thead>\n",
       "    <tr style=\"text-align: right;\">\n",
       "      <th></th>\n",
       "      <th>Name</th>\n",
       "      <th>Age</th>\n",
       "      <th>City</th>\n",
       "      <th>Salary</th>\n",
       "    </tr>\n",
       "  </thead>\n",
       "  <tbody>\n",
       "    <tr>\n",
       "      <th>0</th>\n",
       "      <td>Alice</td>\n",
       "      <td>25</td>\n",
       "      <td>New York</td>\n",
       "      <td>5.0</td>\n",
       "    </tr>\n",
       "    <tr>\n",
       "      <th>1</th>\n",
       "      <td>Bob</td>\n",
       "      <td>30</td>\n",
       "      <td>Los Angeles</td>\n",
       "      <td>6.5</td>\n",
       "    </tr>\n",
       "    <tr>\n",
       "      <th>2</th>\n",
       "      <td>Charlie</td>\n",
       "      <td>35</td>\n",
       "      <td>Chicago</td>\n",
       "      <td>8.0</td>\n",
       "    </tr>\n",
       "    <tr>\n",
       "      <th>3</th>\n",
       "      <td>David</td>\n",
       "      <td>28</td>\n",
       "      <td>Houston</td>\n",
       "      <td>7.0</td>\n",
       "    </tr>\n",
       "    <tr>\n",
       "      <th>4</th>\n",
       "      <td>Ajit</td>\n",
       "      <td>28</td>\n",
       "      <td>Bhandara</td>\n",
       "      <td>9.1</td>\n",
       "    </tr>\n",
       "    <tr>\n",
       "      <th>5</th>\n",
       "      <td>Madame</td>\n",
       "      <td>28</td>\n",
       "      <td>Bhandara</td>\n",
       "      <td>9.0</td>\n",
       "    </tr>\n",
       "    <tr>\n",
       "      <th>6</th>\n",
       "      <td>David</td>\n",
       "      <td>28</td>\n",
       "      <td>Houston</td>\n",
       "      <td>7.0</td>\n",
       "    </tr>\n",
       "    <tr>\n",
       "      <th>7</th>\n",
       "      <td>Eve</td>\n",
       "      <td>32</td>\n",
       "      <td>San Francisco</td>\n",
       "      <td>9.0</td>\n",
       "    </tr>\n",
       "    <tr>\n",
       "      <th>8</th>\n",
       "      <td>Frank</td>\n",
       "      <td>29</td>\n",
       "      <td>Austin</td>\n",
       "      <td>6.8</td>\n",
       "    </tr>\n",
       "    <tr>\n",
       "      <th>9</th>\n",
       "      <td>Ajit</td>\n",
       "      <td>28</td>\n",
       "      <td>Bhandara</td>\n",
       "      <td>9.0</td>\n",
       "    </tr>\n",
       "    <tr>\n",
       "      <th>10</th>\n",
       "      <td>Ajit</td>\n",
       "      <td>28</td>\n",
       "      <td>Bhandara</td>\n",
       "      <td>9.0</td>\n",
       "    </tr>\n",
       "    <tr>\n",
       "      <th>11</th>\n",
       "      <td>Sujit</td>\n",
       "      <td>28</td>\n",
       "      <td>Bhandara</td>\n",
       "      <td>8.0</td>\n",
       "    </tr>\n",
       "  </tbody>\n",
       "</table>\n",
       "</div>"
      ],
      "text/plain": [
       "       Name  Age           City  Salary\n",
       "0     Alice   25       New York     5.0\n",
       "1       Bob   30    Los Angeles     6.5\n",
       "2   Charlie   35        Chicago     8.0\n",
       "3     David   28        Houston     7.0\n",
       "4      Ajit   28       Bhandara     9.1\n",
       "5    Madame   28       Bhandara     9.0\n",
       "6     David   28        Houston     7.0\n",
       "7       Eve   32  San Francisco     9.0\n",
       "8     Frank   29         Austin     6.8\n",
       "9      Ajit   28       Bhandara     9.0\n",
       "10     Ajit   28       Bhandara     9.0\n",
       "11    Sujit   28       Bhandara     8.0"
      ]
     },
     "execution_count": 163,
     "metadata": {},
     "output_type": "execute_result"
    }
   ],
   "source": [
    "df"
   ]
  },
  {
   "cell_type": "code",
   "execution_count": 164,
   "id": "13748b57",
   "metadata": {},
   "outputs": [
    {
     "data": {
      "text/html": [
       "<div>\n",
       "<style scoped>\n",
       "    .dataframe tbody tr th:only-of-type {\n",
       "        vertical-align: middle;\n",
       "    }\n",
       "\n",
       "    .dataframe tbody tr th {\n",
       "        vertical-align: top;\n",
       "    }\n",
       "\n",
       "    .dataframe thead th {\n",
       "        text-align: right;\n",
       "    }\n",
       "</style>\n",
       "<table border=\"1\" class=\"dataframe\">\n",
       "  <thead>\n",
       "    <tr style=\"text-align: right;\">\n",
       "      <th></th>\n",
       "      <th>Name</th>\n",
       "      <th>Age</th>\n",
       "      <th>City</th>\n",
       "      <th>Salary</th>\n",
       "    </tr>\n",
       "  </thead>\n",
       "  <tbody>\n",
       "    <tr>\n",
       "      <th>4</th>\n",
       "      <td>Ajit</td>\n",
       "      <td>28</td>\n",
       "      <td>Bhandara</td>\n",
       "      <td>9.1</td>\n",
       "    </tr>\n",
       "    <tr>\n",
       "      <th>5</th>\n",
       "      <td>Madame</td>\n",
       "      <td>28</td>\n",
       "      <td>Bhandara</td>\n",
       "      <td>9.0</td>\n",
       "    </tr>\n",
       "    <tr>\n",
       "      <th>9</th>\n",
       "      <td>Ajit</td>\n",
       "      <td>28</td>\n",
       "      <td>Bhandara</td>\n",
       "      <td>9.0</td>\n",
       "    </tr>\n",
       "    <tr>\n",
       "      <th>10</th>\n",
       "      <td>Ajit</td>\n",
       "      <td>28</td>\n",
       "      <td>Bhandara</td>\n",
       "      <td>9.0</td>\n",
       "    </tr>\n",
       "    <tr>\n",
       "      <th>11</th>\n",
       "      <td>Sujit</td>\n",
       "      <td>28</td>\n",
       "      <td>Bhandara</td>\n",
       "      <td>8.0</td>\n",
       "    </tr>\n",
       "  </tbody>\n",
       "</table>\n",
       "</div>"
      ],
      "text/plain": [
       "      Name  Age      City  Salary\n",
       "4     Ajit   28  Bhandara     9.1\n",
       "5   Madame   28  Bhandara     9.0\n",
       "9     Ajit   28  Bhandara     9.0\n",
       "10    Ajit   28  Bhandara     9.0\n",
       "11   Sujit   28  Bhandara     8.0"
      ]
     },
     "execution_count": 164,
     "metadata": {},
     "output_type": "execute_result"
    }
   ],
   "source": [
    "df[df['City']=='Bhandara']"
   ]
  },
  {
   "cell_type": "code",
   "execution_count": null,
   "id": "e7795846",
   "metadata": {},
   "outputs": [],
   "source": []
  },
  {
   "cell_type": "code",
   "execution_count": null,
   "id": "39ddcb10",
   "metadata": {},
   "outputs": [],
   "source": []
  },
  {
   "cell_type": "code",
   "execution_count": 30,
   "id": "bebe6c1f",
   "metadata": {},
   "outputs": [
    {
     "name": "stdout",
     "output_type": "stream",
     "text": [
      "0    25\n",
      "1    30\n",
      "2    35\n",
      "Name: Age, dtype: int64\n",
      "      Name         City\n",
      "0    Alice     New York\n",
      "1      Bob  Los Angeles\n",
      "2  Charlie      Chicago\n",
      "    Name  Age      City\n",
      "0  Alice   25  New York\n"
     ]
    }
   ],
   "source": [
    "# Select a column\n",
    "ages = df['Age']\n",
    "\n",
    "# Select multiple columns\n",
    "selected_columns = df[['Name', 'City']]\n",
    "\n",
    "# Filter rows based on a condition\n",
    "young_people = df[df['Age'] < 30]\n",
    "\n",
    "print(ages)\n",
    "print(selected_columns)\n",
    "print(young_people)\n"
   ]
  },
  {
   "cell_type": "code",
   "execution_count": null,
   "id": "f5b90b62",
   "metadata": {},
   "outputs": [],
   "source": []
  },
  {
   "cell_type": "code",
   "execution_count": 7,
   "id": "15c18d0e",
   "metadata": {},
   "outputs": [
    {
     "name": "stdout",
     "output_type": "stream",
     "text": [
      "      Name   Age         City\n",
      "0    Alice  25.0     New York\n",
      "1      Bob   0.0  Los Angeles\n",
      "2  Unknown  35.0      Chicago\n",
      "    Name   Age      City\n",
      "0  Alice  25.0  New York\n"
     ]
    }
   ],
   "source": [
    "# Create a DataFrame with missing values\n",
    "data = {\n",
    "    'Name': ['Alice', 'Bob', None],\n",
    "    'Age': [25, None, 35],\n",
    "    'City': ['New York', 'Los Angeles', 'Chicago']\n",
    "}\n",
    "df = pd.DataFrame(data)\n",
    "\n",
    "# Fill missing values with a specific value\n",
    "df_filled = df.fillna({'Name': 'Unknown', 'Age': 0})\n",
    "\n",
    "# Drop rows with missing values\n",
    "df_dropped = df.dropna()\n",
    "\n",
    "print(df_filled)\n",
    "print(df_dropped)\n"
   ]
  },
  {
   "cell_type": "code",
   "execution_count": 8,
   "id": "7d3b15b9",
   "metadata": {},
   "outputs": [
    {
     "data": {
      "text/html": [
       "<div>\n",
       "<style scoped>\n",
       "    .dataframe tbody tr th:only-of-type {\n",
       "        vertical-align: middle;\n",
       "    }\n",
       "\n",
       "    .dataframe tbody tr th {\n",
       "        vertical-align: top;\n",
       "    }\n",
       "\n",
       "    .dataframe thead th {\n",
       "        text-align: right;\n",
       "    }\n",
       "</style>\n",
       "<table border=\"1\" class=\"dataframe\">\n",
       "  <thead>\n",
       "    <tr style=\"text-align: right;\">\n",
       "      <th></th>\n",
       "      <th>Name</th>\n",
       "      <th>Age</th>\n",
       "      <th>City</th>\n",
       "    </tr>\n",
       "  </thead>\n",
       "  <tbody>\n",
       "    <tr>\n",
       "      <th>0</th>\n",
       "      <td>Alice</td>\n",
       "      <td>25.0</td>\n",
       "      <td>New York</td>\n",
       "    </tr>\n",
       "    <tr>\n",
       "      <th>1</th>\n",
       "      <td>Bob</td>\n",
       "      <td>NaN</td>\n",
       "      <td>Los Angeles</td>\n",
       "    </tr>\n",
       "    <tr>\n",
       "      <th>2</th>\n",
       "      <td>None</td>\n",
       "      <td>35.0</td>\n",
       "      <td>Chicago</td>\n",
       "    </tr>\n",
       "  </tbody>\n",
       "</table>\n",
       "</div>"
      ],
      "text/plain": [
       "    Name   Age         City\n",
       "0  Alice  25.0     New York\n",
       "1    Bob   NaN  Los Angeles\n",
       "2   None  35.0      Chicago"
      ]
     },
     "execution_count": 8,
     "metadata": {},
     "output_type": "execute_result"
    }
   ],
   "source": [
    "df"
   ]
  },
  {
   "cell_type": "code",
   "execution_count": 9,
   "id": "344faf16",
   "metadata": {},
   "outputs": [],
   "source": [
    "df['Age'] = df['Age'].fillna(df['Age'].mean())"
   ]
  },
  {
   "cell_type": "code",
   "execution_count": 10,
   "id": "72fbb87e",
   "metadata": {},
   "outputs": [],
   "source": [
    "df['Age'] = df['Age'].fillna(df['Age'].mean())"
   ]
  },
  {
   "cell_type": "code",
   "execution_count": 13,
   "id": "e6324116",
   "metadata": {},
   "outputs": [],
   "source": [
    "# # Group by 'City' and calculate the mean age\n",
    "# grouped = df.groupby('City').mean()\n",
    "\n",
    "# print(grouped)\n"
   ]
  },
  {
   "cell_type": "code",
   "execution_count": 50,
   "id": "b2bcfbed",
   "metadata": {},
   "outputs": [
    {
     "data": {
      "text/html": [
       "<div>\n",
       "<style scoped>\n",
       "    .dataframe tbody tr th:only-of-type {\n",
       "        vertical-align: middle;\n",
       "    }\n",
       "\n",
       "    .dataframe tbody tr th {\n",
       "        vertical-align: top;\n",
       "    }\n",
       "\n",
       "    .dataframe thead th {\n",
       "        text-align: right;\n",
       "    }\n",
       "</style>\n",
       "<table border=\"1\" class=\"dataframe\">\n",
       "  <thead>\n",
       "    <tr style=\"text-align: right;\">\n",
       "      <th></th>\n",
       "      <th>Age</th>\n",
       "    </tr>\n",
       "    <tr>\n",
       "      <th>City</th>\n",
       "      <th></th>\n",
       "    </tr>\n",
       "  </thead>\n",
       "  <tbody>\n",
       "    <tr>\n",
       "      <th>Chicago</th>\n",
       "      <td>35.0</td>\n",
       "    </tr>\n",
       "    <tr>\n",
       "      <th>Los Angeles</th>\n",
       "      <td>30.0</td>\n",
       "    </tr>\n",
       "    <tr>\n",
       "      <th>New York</th>\n",
       "      <td>25.0</td>\n",
       "    </tr>\n",
       "  </tbody>\n",
       "</table>\n",
       "</div>"
      ],
      "text/plain": [
       "              Age\n",
       "City             \n",
       "Chicago      35.0\n",
       "Los Angeles  30.0\n",
       "New York     25.0"
      ]
     },
     "execution_count": 50,
     "metadata": {},
     "output_type": "execute_result"
    }
   ],
   "source": [
    "group = df.groupby('City').mean()\n",
    "group"
   ]
  },
  {
   "cell_type": "code",
   "execution_count": 43,
   "id": "3e365448",
   "metadata": {},
   "outputs": [
    {
     "name": "stdout",
     "output_type": "stream",
     "text": [
      "    Name   Age         City\n",
      "2   None  35.0      Chicago\n",
      "1    Bob  30.0  Los Angeles\n",
      "0  Alice  25.0     New York\n",
      "    Name   Age         City  Rank\n",
      "0  Alice  25.0     New York   1.0\n",
      "1    Bob  30.0  Los Angeles   2.0\n",
      "2   None  35.0      Chicago   3.0\n"
     ]
    }
   ],
   "source": [
    "# Sort by 'Age' in descending order\n",
    "sorted_df = df.sort_values(by='Age', ascending=False)\n",
    "\n",
    "# Add a ranking column based on 'Age'\n",
    "df['Rank'] = df['Age'].rank()\n",
    "\n",
    "print(sorted_df)\n",
    "print(df)\n"
   ]
  },
  {
   "cell_type": "code",
   "execution_count": 51,
   "id": "d83df6f4",
   "metadata": {},
   "outputs": [
    {
     "data": {
      "text/html": [
       "<div>\n",
       "<style scoped>\n",
       "    .dataframe tbody tr th:only-of-type {\n",
       "        vertical-align: middle;\n",
       "    }\n",
       "\n",
       "    .dataframe tbody tr th {\n",
       "        vertical-align: top;\n",
       "    }\n",
       "\n",
       "    .dataframe thead th {\n",
       "        text-align: right;\n",
       "    }\n",
       "</style>\n",
       "<table border=\"1\" class=\"dataframe\">\n",
       "  <thead>\n",
       "    <tr style=\"text-align: right;\">\n",
       "      <th></th>\n",
       "      <th>Name</th>\n",
       "      <th>Age</th>\n",
       "      <th>City</th>\n",
       "    </tr>\n",
       "  </thead>\n",
       "  <tbody>\n",
       "    <tr>\n",
       "      <th>2</th>\n",
       "      <td>None</td>\n",
       "      <td>35.0</td>\n",
       "      <td>Chicago</td>\n",
       "    </tr>\n",
       "    <tr>\n",
       "      <th>1</th>\n",
       "      <td>Bob</td>\n",
       "      <td>30.0</td>\n",
       "      <td>Los Angeles</td>\n",
       "    </tr>\n",
       "    <tr>\n",
       "      <th>0</th>\n",
       "      <td>Alice</td>\n",
       "      <td>25.0</td>\n",
       "      <td>New York</td>\n",
       "    </tr>\n",
       "  </tbody>\n",
       "</table>\n",
       "</div>"
      ],
      "text/plain": [
       "    Name   Age         City\n",
       "2   None  35.0      Chicago\n",
       "1    Bob  30.0  Los Angeles\n",
       "0  Alice  25.0     New York"
      ]
     },
     "execution_count": 51,
     "metadata": {},
     "output_type": "execute_result"
    }
   ],
   "source": [
    "sort_df = df.sort_values(by='Age',ascending=False)\n",
    "sort_df"
   ]
  },
  {
   "cell_type": "code",
   "execution_count": 52,
   "id": "ec375516",
   "metadata": {},
   "outputs": [
    {
     "data": {
      "text/html": [
       "<div>\n",
       "<style scoped>\n",
       "    .dataframe tbody tr th:only-of-type {\n",
       "        vertical-align: middle;\n",
       "    }\n",
       "\n",
       "    .dataframe tbody tr th {\n",
       "        vertical-align: top;\n",
       "    }\n",
       "\n",
       "    .dataframe thead th {\n",
       "        text-align: right;\n",
       "    }\n",
       "</style>\n",
       "<table border=\"1\" class=\"dataframe\">\n",
       "  <thead>\n",
       "    <tr style=\"text-align: right;\">\n",
       "      <th></th>\n",
       "      <th>Name</th>\n",
       "      <th>Age</th>\n",
       "      <th>City</th>\n",
       "      <th>Rank</th>\n",
       "    </tr>\n",
       "  </thead>\n",
       "  <tbody>\n",
       "    <tr>\n",
       "      <th>0</th>\n",
       "      <td>Alice</td>\n",
       "      <td>25.0</td>\n",
       "      <td>New York</td>\n",
       "      <td>1.0</td>\n",
       "    </tr>\n",
       "    <tr>\n",
       "      <th>1</th>\n",
       "      <td>Bob</td>\n",
       "      <td>30.0</td>\n",
       "      <td>Los Angeles</td>\n",
       "      <td>2.0</td>\n",
       "    </tr>\n",
       "    <tr>\n",
       "      <th>2</th>\n",
       "      <td>None</td>\n",
       "      <td>35.0</td>\n",
       "      <td>Chicago</td>\n",
       "      <td>3.0</td>\n",
       "    </tr>\n",
       "  </tbody>\n",
       "</table>\n",
       "</div>"
      ],
      "text/plain": [
       "    Name   Age         City  Rank\n",
       "0  Alice  25.0     New York   1.0\n",
       "1    Bob  30.0  Los Angeles   2.0\n",
       "2   None  35.0      Chicago   3.0"
      ]
     },
     "execution_count": 52,
     "metadata": {},
     "output_type": "execute_result"
    }
   ],
   "source": [
    "df['Rank'] = df['Age'].rank()\n",
    "df"
   ]
  },
  {
   "cell_type": "code",
   "execution_count": 58,
   "id": "0bae830b",
   "metadata": {},
   "outputs": [
    {
     "name": "stdout",
     "output_type": "stream",
     "text": [
      "        Date  Value\n",
      "0 2024-01-01     10\n",
      "1 2024-02-01     20\n",
      "2 2024-03-01     30\n"
     ]
    }
   ],
   "source": [
    "# Create a DataFrame with datetime data\n",
    "data = {\n",
    "    'Date': ['2024-01-01', '2024-02-01', '2024-03-01'],\n",
    "    'Value': [10, 20, 30]\n",
    "}\n",
    "df = pd.DataFrame(data)\n",
    "df['Date'] = pd.to_datetime(df['Date'])\n",
    "\n",
    "\n",
    "# # Extract year and month from the 'Date' column\n",
    "# df['Year'] = df['Date'].dt.year\n",
    "# df['Month'] = df['Date'].dt.month\n",
    "\n",
    "print(df)\n"
   ]
  },
  {
   "cell_type": "code",
   "execution_count": 61,
   "id": "93af5bdd",
   "metadata": {},
   "outputs": [
    {
     "data": {
      "text/html": [
       "<div>\n",
       "<style scoped>\n",
       "    .dataframe tbody tr th:only-of-type {\n",
       "        vertical-align: middle;\n",
       "    }\n",
       "\n",
       "    .dataframe tbody tr th {\n",
       "        vertical-align: top;\n",
       "    }\n",
       "\n",
       "    .dataframe thead th {\n",
       "        text-align: right;\n",
       "    }\n",
       "</style>\n",
       "<table border=\"1\" class=\"dataframe\">\n",
       "  <thead>\n",
       "    <tr style=\"text-align: right;\">\n",
       "      <th></th>\n",
       "      <th>Date</th>\n",
       "      <th>Value</th>\n",
       "      <th>Year</th>\n",
       "      <th>Month</th>\n",
       "    </tr>\n",
       "  </thead>\n",
       "  <tbody>\n",
       "    <tr>\n",
       "      <th>0</th>\n",
       "      <td>2024-01-01</td>\n",
       "      <td>10</td>\n",
       "      <td>2024</td>\n",
       "      <td>1</td>\n",
       "    </tr>\n",
       "    <tr>\n",
       "      <th>1</th>\n",
       "      <td>2024-02-01</td>\n",
       "      <td>20</td>\n",
       "      <td>2024</td>\n",
       "      <td>2</td>\n",
       "    </tr>\n",
       "    <tr>\n",
       "      <th>2</th>\n",
       "      <td>2024-03-01</td>\n",
       "      <td>30</td>\n",
       "      <td>2024</td>\n",
       "      <td>3</td>\n",
       "    </tr>\n",
       "  </tbody>\n",
       "</table>\n",
       "</div>"
      ],
      "text/plain": [
       "        Date  Value  Year  Month\n",
       "0 2024-01-01     10  2024      1\n",
       "1 2024-02-01     20  2024      2\n",
       "2 2024-03-01     30  2024      3"
      ]
     },
     "execution_count": 61,
     "metadata": {},
     "output_type": "execute_result"
    }
   ],
   "source": [
    "df['Date'] = pd.to_datetime(df['Date'])\n",
    "\n",
    "df['Year'] = df['Date'].dt.year\n",
    "df['Month'] = df['Date'].dt.month\n",
    "df"
   ]
  },
  {
   "cell_type": "code",
   "execution_count": 57,
   "id": "64bd18a5",
   "metadata": {},
   "outputs": [
    {
     "data": {
      "text/html": [
       "<div>\n",
       "<style scoped>\n",
       "    .dataframe tbody tr th:only-of-type {\n",
       "        vertical-align: middle;\n",
       "    }\n",
       "\n",
       "    .dataframe tbody tr th {\n",
       "        vertical-align: top;\n",
       "    }\n",
       "\n",
       "    .dataframe thead th {\n",
       "        text-align: right;\n",
       "    }\n",
       "</style>\n",
       "<table border=\"1\" class=\"dataframe\">\n",
       "  <thead>\n",
       "    <tr style=\"text-align: right;\">\n",
       "      <th></th>\n",
       "      <th>Date</th>\n",
       "      <th>Value</th>\n",
       "      <th>Year</th>\n",
       "      <th>Month</th>\n",
       "    </tr>\n",
       "  </thead>\n",
       "  <tbody>\n",
       "    <tr>\n",
       "      <th>0</th>\n",
       "      <td>2024-01-01</td>\n",
       "      <td>10</td>\n",
       "      <td>2024</td>\n",
       "      <td>1</td>\n",
       "    </tr>\n",
       "    <tr>\n",
       "      <th>1</th>\n",
       "      <td>2024-02-01</td>\n",
       "      <td>20</td>\n",
       "      <td>2024</td>\n",
       "      <td>2</td>\n",
       "    </tr>\n",
       "    <tr>\n",
       "      <th>2</th>\n",
       "      <td>2024-03-01</td>\n",
       "      <td>30</td>\n",
       "      <td>2024</td>\n",
       "      <td>3</td>\n",
       "    </tr>\n",
       "  </tbody>\n",
       "</table>\n",
       "</div>"
      ],
      "text/plain": [
       "        Date  Value  Year  Month\n",
       "0 2024-01-01     10  2024      1\n",
       "1 2024-02-01     20  2024      2\n",
       "2 2024-03-01     30  2024      3"
      ]
     },
     "execution_count": 57,
     "metadata": {},
     "output_type": "execute_result"
    }
   ],
   "source": [
    "df"
   ]
  },
  {
   "cell_type": "code",
   "execution_count": 143,
   "id": "6433292d",
   "metadata": {},
   "outputs": [
    {
     "data": {
      "text/html": [
       "<div>\n",
       "<style scoped>\n",
       "    .dataframe tbody tr th:only-of-type {\n",
       "        vertical-align: middle;\n",
       "    }\n",
       "\n",
       "    .dataframe tbody tr th {\n",
       "        vertical-align: top;\n",
       "    }\n",
       "\n",
       "    .dataframe thead th {\n",
       "        text-align: right;\n",
       "    }\n",
       "</style>\n",
       "<table border=\"1\" class=\"dataframe\">\n",
       "  <thead>\n",
       "    <tr style=\"text-align: right;\">\n",
       "      <th></th>\n",
       "      <th>Name</th>\n",
       "      <th>Department</th>\n",
       "      <th>Month</th>\n",
       "      <th>Sales</th>\n",
       "      <th>Performance</th>\n",
       "      <th>Sales_category</th>\n",
       "    </tr>\n",
       "  </thead>\n",
       "  <tbody>\n",
       "    <tr>\n",
       "      <th>0</th>\n",
       "      <td>John</td>\n",
       "      <td>Sales</td>\n",
       "      <td>Jan</td>\n",
       "      <td>200</td>\n",
       "      <td>Good</td>\n",
       "      <td>Good</td>\n",
       "    </tr>\n",
       "    <tr>\n",
       "      <th>1</th>\n",
       "      <td>Sara</td>\n",
       "      <td>Sales</td>\n",
       "      <td>Jan</td>\n",
       "      <td>150</td>\n",
       "      <td>Average</td>\n",
       "      <td>Bad</td>\n",
       "    </tr>\n",
       "    <tr>\n",
       "      <th>2</th>\n",
       "      <td>Alice</td>\n",
       "      <td>HR</td>\n",
       "      <td>Jan</td>\n",
       "      <td>0</td>\n",
       "      <td>None</td>\n",
       "      <td>Bad</td>\n",
       "    </tr>\n",
       "    <tr>\n",
       "      <th>3</th>\n",
       "      <td>Bob</td>\n",
       "      <td>HR</td>\n",
       "      <td>Jan</td>\n",
       "      <td>0</td>\n",
       "      <td>None</td>\n",
       "      <td>Bad</td>\n",
       "    </tr>\n",
       "    <tr>\n",
       "      <th>4</th>\n",
       "      <td>John</td>\n",
       "      <td>Sales</td>\n",
       "      <td>Feb</td>\n",
       "      <td>210</td>\n",
       "      <td>Good</td>\n",
       "      <td>Good</td>\n",
       "    </tr>\n",
       "    <tr>\n",
       "      <th>5</th>\n",
       "      <td>Sara</td>\n",
       "      <td>Sales</td>\n",
       "      <td>Feb</td>\n",
       "      <td>160</td>\n",
       "      <td>Average</td>\n",
       "      <td>Bad</td>\n",
       "    </tr>\n",
       "    <tr>\n",
       "      <th>6</th>\n",
       "      <td>Alice</td>\n",
       "      <td>HR</td>\n",
       "      <td>Feb</td>\n",
       "      <td>0</td>\n",
       "      <td>None</td>\n",
       "      <td>Bad</td>\n",
       "    </tr>\n",
       "    <tr>\n",
       "      <th>7</th>\n",
       "      <td>Bob</td>\n",
       "      <td>HR</td>\n",
       "      <td>Feb</td>\n",
       "      <td>0</td>\n",
       "      <td>None</td>\n",
       "      <td>Bad</td>\n",
       "    </tr>\n",
       "  </tbody>\n",
       "</table>\n",
       "</div>"
      ],
      "text/plain": [
       "    Name Department Month  Sales Performance Sales_category\n",
       "0   John      Sales   Jan    200        Good           Good\n",
       "1   Sara      Sales   Jan    150     Average            Bad\n",
       "2  Alice         HR   Jan      0        None            Bad\n",
       "3    Bob         HR   Jan      0        None            Bad\n",
       "4   John      Sales   Feb    210        Good           Good\n",
       "5   Sara      Sales   Feb    160     Average            Bad\n",
       "6  Alice         HR   Feb      0        None            Bad\n",
       "7    Bob         HR   Feb      0        None            Bad"
      ]
     },
     "execution_count": 143,
     "metadata": {},
     "output_type": "execute_result"
    }
   ],
   "source": [
    "import pandas as pd\n",
    "\n",
    "# Sample Data\n",
    "data = {\n",
    "    'Name': ['John', 'Sara', 'Alice', 'Bob', 'John', 'Sara', 'Alice', 'Bob'],\n",
    "    'Department': ['Sales', 'Sales', 'HR', 'HR', 'Sales', 'Sales', 'HR', 'HR'],\n",
    "    'Month': ['Jan', 'Jan', 'Jan', 'Jan', 'Feb', 'Feb', 'Feb', 'Feb'],\n",
    "    'Sales': [200, 150, 0, 0, 210, 160, 0, 0],\n",
    "    'Performance': ['Good', 'Average', None, None, 'Good', 'Average', None, None]\n",
    "}\n",
    "\n",
    "# Creating DataFrame\n",
    "df1 = pd.DataFrame(data)\n",
    "\n",
    "# Add the 'Sales_category' column based on the condition\n",
    "df1['Sales_category'] = df1['Sales'].apply(lambda x: 'Good' if x > 170 else 'Bad')\n",
    "\n",
    "# Display the updated DataFrame\n",
    "df1\n"
   ]
  },
  {
   "cell_type": "code",
   "execution_count": 146,
   "id": "aabf1b4c",
   "metadata": {},
   "outputs": [
    {
     "data": {
      "text/html": [
       "<div>\n",
       "<style scoped>\n",
       "    .dataframe tbody tr th:only-of-type {\n",
       "        vertical-align: middle;\n",
       "    }\n",
       "\n",
       "    .dataframe tbody tr th {\n",
       "        vertical-align: top;\n",
       "    }\n",
       "\n",
       "    .dataframe thead th {\n",
       "        text-align: right;\n",
       "    }\n",
       "</style>\n",
       "<table border=\"1\" class=\"dataframe\">\n",
       "  <thead>\n",
       "    <tr style=\"text-align: right;\">\n",
       "      <th></th>\n",
       "      <th>Name</th>\n",
       "      <th>Department</th>\n",
       "      <th>Month</th>\n",
       "      <th>Sales</th>\n",
       "      <th>Performance</th>\n",
       "      <th>Sales_category</th>\n",
       "      <th>sale_cat</th>\n",
       "    </tr>\n",
       "  </thead>\n",
       "  <tbody>\n",
       "    <tr>\n",
       "      <th>0</th>\n",
       "      <td>John</td>\n",
       "      <td>Sales</td>\n",
       "      <td>Jan</td>\n",
       "      <td>200</td>\n",
       "      <td>Good</td>\n",
       "      <td>Good</td>\n",
       "      <td>Good</td>\n",
       "    </tr>\n",
       "    <tr>\n",
       "      <th>1</th>\n",
       "      <td>Sara</td>\n",
       "      <td>Sales</td>\n",
       "      <td>Jan</td>\n",
       "      <td>150</td>\n",
       "      <td>Average</td>\n",
       "      <td>Bad</td>\n",
       "      <td>Bad</td>\n",
       "    </tr>\n",
       "    <tr>\n",
       "      <th>2</th>\n",
       "      <td>Alice</td>\n",
       "      <td>HR</td>\n",
       "      <td>Jan</td>\n",
       "      <td>0</td>\n",
       "      <td>None</td>\n",
       "      <td>Bad</td>\n",
       "      <td>Bad</td>\n",
       "    </tr>\n",
       "    <tr>\n",
       "      <th>3</th>\n",
       "      <td>Bob</td>\n",
       "      <td>HR</td>\n",
       "      <td>Jan</td>\n",
       "      <td>0</td>\n",
       "      <td>None</td>\n",
       "      <td>Bad</td>\n",
       "      <td>Bad</td>\n",
       "    </tr>\n",
       "    <tr>\n",
       "      <th>4</th>\n",
       "      <td>John</td>\n",
       "      <td>Sales</td>\n",
       "      <td>Feb</td>\n",
       "      <td>210</td>\n",
       "      <td>Good</td>\n",
       "      <td>Good</td>\n",
       "      <td>Good</td>\n",
       "    </tr>\n",
       "    <tr>\n",
       "      <th>5</th>\n",
       "      <td>Sara</td>\n",
       "      <td>Sales</td>\n",
       "      <td>Feb</td>\n",
       "      <td>160</td>\n",
       "      <td>Average</td>\n",
       "      <td>Bad</td>\n",
       "      <td>Bad</td>\n",
       "    </tr>\n",
       "    <tr>\n",
       "      <th>6</th>\n",
       "      <td>Alice</td>\n",
       "      <td>HR</td>\n",
       "      <td>Feb</td>\n",
       "      <td>0</td>\n",
       "      <td>None</td>\n",
       "      <td>Bad</td>\n",
       "      <td>Bad</td>\n",
       "    </tr>\n",
       "    <tr>\n",
       "      <th>7</th>\n",
       "      <td>Bob</td>\n",
       "      <td>HR</td>\n",
       "      <td>Feb</td>\n",
       "      <td>0</td>\n",
       "      <td>None</td>\n",
       "      <td>Bad</td>\n",
       "      <td>Bad</td>\n",
       "    </tr>\n",
       "  </tbody>\n",
       "</table>\n",
       "</div>"
      ],
      "text/plain": [
       "    Name Department Month  Sales Performance Sales_category sale_cat\n",
       "0   John      Sales   Jan    200        Good           Good     Good\n",
       "1   Sara      Sales   Jan    150     Average            Bad      Bad\n",
       "2  Alice         HR   Jan      0        None            Bad      Bad\n",
       "3    Bob         HR   Jan      0        None            Bad      Bad\n",
       "4   John      Sales   Feb    210        Good           Good     Good\n",
       "5   Sara      Sales   Feb    160     Average            Bad      Bad\n",
       "6  Alice         HR   Feb      0        None            Bad      Bad\n",
       "7    Bob         HR   Feb      0        None            Bad      Bad"
      ]
     },
     "execution_count": 146,
     "metadata": {},
     "output_type": "execute_result"
    }
   ],
   "source": [
    "df1['sale_cat'] = df1['Sales'].apply(lambda x: 'Good' if x > 170 else 'Bad')\n",
    "df1"
   ]
  },
  {
   "cell_type": "code",
   "execution_count": 157,
   "id": "5d8ba28d",
   "metadata": {},
   "outputs": [
    {
     "data": {
      "text/html": [
       "<div>\n",
       "<style scoped>\n",
       "    .dataframe tbody tr th:only-of-type {\n",
       "        vertical-align: middle;\n",
       "    }\n",
       "\n",
       "    .dataframe tbody tr th {\n",
       "        vertical-align: top;\n",
       "    }\n",
       "\n",
       "    .dataframe thead th {\n",
       "        text-align: right;\n",
       "    }\n",
       "</style>\n",
       "<table border=\"1\" class=\"dataframe\">\n",
       "  <thead>\n",
       "    <tr style=\"text-align: right;\">\n",
       "      <th></th>\n",
       "      <th>Name</th>\n",
       "      <th>Department</th>\n",
       "      <th>Month</th>\n",
       "      <th>Sales</th>\n",
       "      <th>Performance</th>\n",
       "      <th>Sales_category</th>\n",
       "      <th>sale_cat</th>\n",
       "    </tr>\n",
       "  </thead>\n",
       "  <tbody>\n",
       "    <tr>\n",
       "      <th>0</th>\n",
       "      <td>John</td>\n",
       "      <td>Sales</td>\n",
       "      <td>Jan</td>\n",
       "      <td>200</td>\n",
       "      <td>Good</td>\n",
       "      <td>Good</td>\n",
       "      <td>Good</td>\n",
       "    </tr>\n",
       "    <tr>\n",
       "      <th>1</th>\n",
       "      <td>Sara</td>\n",
       "      <td>Sales</td>\n",
       "      <td>Jan</td>\n",
       "      <td>150</td>\n",
       "      <td>Average</td>\n",
       "      <td>Bad</td>\n",
       "      <td>Bad</td>\n",
       "    </tr>\n",
       "    <tr>\n",
       "      <th>4</th>\n",
       "      <td>John</td>\n",
       "      <td>Sales</td>\n",
       "      <td>Feb</td>\n",
       "      <td>210</td>\n",
       "      <td>Good</td>\n",
       "      <td>Good</td>\n",
       "      <td>Good</td>\n",
       "    </tr>\n",
       "    <tr>\n",
       "      <th>5</th>\n",
       "      <td>Sara</td>\n",
       "      <td>Sales</td>\n",
       "      <td>Feb</td>\n",
       "      <td>160</td>\n",
       "      <td>Average</td>\n",
       "      <td>Bad</td>\n",
       "      <td>Bad</td>\n",
       "    </tr>\n",
       "  </tbody>\n",
       "</table>\n",
       "</div>"
      ],
      "text/plain": [
       "   Name Department Month  Sales Performance Sales_category sale_cat\n",
       "0  John      Sales   Jan    200        Good           Good     Good\n",
       "1  Sara      Sales   Jan    150     Average            Bad      Bad\n",
       "4  John      Sales   Feb    210        Good           Good     Good\n",
       "5  Sara      Sales   Feb    160     Average            Bad      Bad"
      ]
     },
     "execution_count": 157,
     "metadata": {},
     "output_type": "execute_result"
    }
   ],
   "source": [
    "# filter1 = df.groupby('Department').filter(lambda x:x['Sales'].sum() > 400)\n",
    "fil = df1.groupby('Department').filter(lambda x:x['Sales'].sum() > 400)\n",
    "fil"
   ]
  },
  {
   "cell_type": "code",
   "execution_count": 158,
   "id": "f4cd2c3d",
   "metadata": {},
   "outputs": [],
   "source": [
    "df1.drop(columns=['sale_cat','Sales_category'],axis= 1,inplace=True)"
   ]
  },
  {
   "cell_type": "code",
   "execution_count": 160,
   "id": "a6479b86",
   "metadata": {},
   "outputs": [
    {
     "data": {
      "text/html": [
       "<div>\n",
       "<style scoped>\n",
       "    .dataframe tbody tr th:only-of-type {\n",
       "        vertical-align: middle;\n",
       "    }\n",
       "\n",
       "    .dataframe tbody tr th {\n",
       "        vertical-align: top;\n",
       "    }\n",
       "\n",
       "    .dataframe thead th {\n",
       "        text-align: right;\n",
       "    }\n",
       "</style>\n",
       "<table border=\"1\" class=\"dataframe\">\n",
       "  <thead>\n",
       "    <tr style=\"text-align: right;\">\n",
       "      <th></th>\n",
       "      <th>Name</th>\n",
       "      <th>Department</th>\n",
       "      <th>Month</th>\n",
       "      <th>Sales</th>\n",
       "      <th>Performance</th>\n",
       "    </tr>\n",
       "  </thead>\n",
       "  <tbody>\n",
       "    <tr>\n",
       "      <th>0</th>\n",
       "      <td>John</td>\n",
       "      <td>Sales</td>\n",
       "      <td>Jan</td>\n",
       "      <td>200</td>\n",
       "      <td>Good</td>\n",
       "    </tr>\n",
       "    <tr>\n",
       "      <th>1</th>\n",
       "      <td>Sara</td>\n",
       "      <td>Sales</td>\n",
       "      <td>Jan</td>\n",
       "      <td>150</td>\n",
       "      <td>Average</td>\n",
       "    </tr>\n",
       "    <tr>\n",
       "      <th>2</th>\n",
       "      <td>Alice</td>\n",
       "      <td>HR</td>\n",
       "      <td>Jan</td>\n",
       "      <td>0</td>\n",
       "      <td>None</td>\n",
       "    </tr>\n",
       "    <tr>\n",
       "      <th>3</th>\n",
       "      <td>Bob</td>\n",
       "      <td>HR</td>\n",
       "      <td>Jan</td>\n",
       "      <td>0</td>\n",
       "      <td>None</td>\n",
       "    </tr>\n",
       "    <tr>\n",
       "      <th>4</th>\n",
       "      <td>John</td>\n",
       "      <td>Sales</td>\n",
       "      <td>Feb</td>\n",
       "      <td>210</td>\n",
       "      <td>Good</td>\n",
       "    </tr>\n",
       "    <tr>\n",
       "      <th>5</th>\n",
       "      <td>Sara</td>\n",
       "      <td>Sales</td>\n",
       "      <td>Feb</td>\n",
       "      <td>160</td>\n",
       "      <td>Average</td>\n",
       "    </tr>\n",
       "    <tr>\n",
       "      <th>6</th>\n",
       "      <td>Alice</td>\n",
       "      <td>HR</td>\n",
       "      <td>Feb</td>\n",
       "      <td>0</td>\n",
       "      <td>None</td>\n",
       "    </tr>\n",
       "    <tr>\n",
       "      <th>7</th>\n",
       "      <td>Bob</td>\n",
       "      <td>HR</td>\n",
       "      <td>Feb</td>\n",
       "      <td>0</td>\n",
       "      <td>None</td>\n",
       "    </tr>\n",
       "  </tbody>\n",
       "</table>\n",
       "</div>"
      ],
      "text/plain": [
       "    Name Department Month  Sales Performance\n",
       "0   John      Sales   Jan    200        Good\n",
       "1   Sara      Sales   Jan    150     Average\n",
       "2  Alice         HR   Jan      0        None\n",
       "3    Bob         HR   Jan      0        None\n",
       "4   John      Sales   Feb    210        Good\n",
       "5   Sara      Sales   Feb    160     Average\n",
       "6  Alice         HR   Feb      0        None\n",
       "7    Bob         HR   Feb      0        None"
      ]
     },
     "execution_count": 160,
     "metadata": {},
     "output_type": "execute_result"
    }
   ],
   "source": [
    "df1"
   ]
  },
  {
   "cell_type": "code",
   "execution_count": 161,
   "id": "17fdd03d",
   "metadata": {},
   "outputs": [
    {
     "data": {
      "text/html": [
       "<div>\n",
       "<style scoped>\n",
       "    .dataframe tbody tr th:only-of-type {\n",
       "        vertical-align: middle;\n",
       "    }\n",
       "\n",
       "    .dataframe tbody tr th {\n",
       "        vertical-align: top;\n",
       "    }\n",
       "\n",
       "    .dataframe thead th {\n",
       "        text-align: right;\n",
       "    }\n",
       "</style>\n",
       "<table border=\"1\" class=\"dataframe\">\n",
       "  <thead>\n",
       "    <tr style=\"text-align: right;\">\n",
       "      <th></th>\n",
       "      <th>Name</th>\n",
       "      <th>Department</th>\n",
       "      <th>Month</th>\n",
       "      <th>Sales</th>\n",
       "      <th>Performance</th>\n",
       "      <th>Sale_cate</th>\n",
       "    </tr>\n",
       "  </thead>\n",
       "  <tbody>\n",
       "    <tr>\n",
       "      <th>0</th>\n",
       "      <td>John</td>\n",
       "      <td>Sales</td>\n",
       "      <td>Jan</td>\n",
       "      <td>200</td>\n",
       "      <td>Good</td>\n",
       "      <td>Good</td>\n",
       "    </tr>\n",
       "    <tr>\n",
       "      <th>1</th>\n",
       "      <td>Sara</td>\n",
       "      <td>Sales</td>\n",
       "      <td>Jan</td>\n",
       "      <td>150</td>\n",
       "      <td>Average</td>\n",
       "      <td>Bad</td>\n",
       "    </tr>\n",
       "    <tr>\n",
       "      <th>2</th>\n",
       "      <td>Alice</td>\n",
       "      <td>HR</td>\n",
       "      <td>Jan</td>\n",
       "      <td>0</td>\n",
       "      <td>None</td>\n",
       "      <td>Bad</td>\n",
       "    </tr>\n",
       "    <tr>\n",
       "      <th>3</th>\n",
       "      <td>Bob</td>\n",
       "      <td>HR</td>\n",
       "      <td>Jan</td>\n",
       "      <td>0</td>\n",
       "      <td>None</td>\n",
       "      <td>Bad</td>\n",
       "    </tr>\n",
       "    <tr>\n",
       "      <th>4</th>\n",
       "      <td>John</td>\n",
       "      <td>Sales</td>\n",
       "      <td>Feb</td>\n",
       "      <td>210</td>\n",
       "      <td>Good</td>\n",
       "      <td>Good</td>\n",
       "    </tr>\n",
       "    <tr>\n",
       "      <th>5</th>\n",
       "      <td>Sara</td>\n",
       "      <td>Sales</td>\n",
       "      <td>Feb</td>\n",
       "      <td>160</td>\n",
       "      <td>Average</td>\n",
       "      <td>Bad</td>\n",
       "    </tr>\n",
       "    <tr>\n",
       "      <th>6</th>\n",
       "      <td>Alice</td>\n",
       "      <td>HR</td>\n",
       "      <td>Feb</td>\n",
       "      <td>0</td>\n",
       "      <td>None</td>\n",
       "      <td>Bad</td>\n",
       "    </tr>\n",
       "    <tr>\n",
       "      <th>7</th>\n",
       "      <td>Bob</td>\n",
       "      <td>HR</td>\n",
       "      <td>Feb</td>\n",
       "      <td>0</td>\n",
       "      <td>None</td>\n",
       "      <td>Bad</td>\n",
       "    </tr>\n",
       "  </tbody>\n",
       "</table>\n",
       "</div>"
      ],
      "text/plain": [
       "    Name Department Month  Sales Performance Sale_cate\n",
       "0   John      Sales   Jan    200        Good      Good\n",
       "1   Sara      Sales   Jan    150     Average       Bad\n",
       "2  Alice         HR   Jan      0        None       Bad\n",
       "3    Bob         HR   Jan      0        None       Bad\n",
       "4   John      Sales   Feb    210        Good      Good\n",
       "5   Sara      Sales   Feb    160     Average       Bad\n",
       "6  Alice         HR   Feb      0        None       Bad\n",
       "7    Bob         HR   Feb      0        None       Bad"
      ]
     },
     "execution_count": 161,
     "metadata": {},
     "output_type": "execute_result"
    }
   ],
   "source": [
    "df1['Sale_cate'] = df1['Sales'].apply(lambda x:'Good' if x > 170 else 'Bad')\n",
    "df1"
   ]
  },
  {
   "cell_type": "code",
   "execution_count": 162,
   "id": "ad8a43a9",
   "metadata": {},
   "outputs": [
    {
     "data": {
      "text/html": [
       "<div>\n",
       "<style scoped>\n",
       "    .dataframe tbody tr th:only-of-type {\n",
       "        vertical-align: middle;\n",
       "    }\n",
       "\n",
       "    .dataframe tbody tr th {\n",
       "        vertical-align: top;\n",
       "    }\n",
       "\n",
       "    .dataframe thead th {\n",
       "        text-align: right;\n",
       "    }\n",
       "</style>\n",
       "<table border=\"1\" class=\"dataframe\">\n",
       "  <thead>\n",
       "    <tr style=\"text-align: right;\">\n",
       "      <th></th>\n",
       "      <th>Name</th>\n",
       "      <th>Department</th>\n",
       "      <th>Month</th>\n",
       "      <th>Sales</th>\n",
       "      <th>Performance</th>\n",
       "      <th>Sale_cate</th>\n",
       "    </tr>\n",
       "  </thead>\n",
       "  <tbody>\n",
       "    <tr>\n",
       "      <th>0</th>\n",
       "      <td>John</td>\n",
       "      <td>Sales</td>\n",
       "      <td>Jan</td>\n",
       "      <td>200</td>\n",
       "      <td>Good</td>\n",
       "      <td>Good</td>\n",
       "    </tr>\n",
       "    <tr>\n",
       "      <th>1</th>\n",
       "      <td>Sara</td>\n",
       "      <td>Sales</td>\n",
       "      <td>Jan</td>\n",
       "      <td>150</td>\n",
       "      <td>Average</td>\n",
       "      <td>Bad</td>\n",
       "    </tr>\n",
       "    <tr>\n",
       "      <th>4</th>\n",
       "      <td>John</td>\n",
       "      <td>Sales</td>\n",
       "      <td>Feb</td>\n",
       "      <td>210</td>\n",
       "      <td>Good</td>\n",
       "      <td>Good</td>\n",
       "    </tr>\n",
       "    <tr>\n",
       "      <th>5</th>\n",
       "      <td>Sara</td>\n",
       "      <td>Sales</td>\n",
       "      <td>Feb</td>\n",
       "      <td>160</td>\n",
       "      <td>Average</td>\n",
       "      <td>Bad</td>\n",
       "    </tr>\n",
       "  </tbody>\n",
       "</table>\n",
       "</div>"
      ],
      "text/plain": [
       "   Name Department Month  Sales Performance Sale_cate\n",
       "0  John      Sales   Jan    200        Good      Good\n",
       "1  Sara      Sales   Jan    150     Average       Bad\n",
       "4  John      Sales   Feb    210        Good      Good\n",
       "5  Sara      Sales   Feb    160     Average       Bad"
      ]
     },
     "execution_count": 162,
     "metadata": {},
     "output_type": "execute_result"
    }
   ],
   "source": [
    "fil = df1.groupby('Department').filter(lambda x:x['Sales'].sum() > 400)\n",
    "fil"
   ]
  },
  {
   "cell_type": "code",
   "execution_count": null,
   "id": "4df259c4",
   "metadata": {},
   "outputs": [],
   "source": [
    "df['sales_cate'] = df['Sales'].apply(lambda x: 'Good' if x > 170 else 'Bad')\n"
   ]
  },
  {
   "cell_type": "code",
   "execution_count": 16,
   "id": "80157900",
   "metadata": {},
   "outputs": [],
   "source": [
    "df['Performance'] = df['Performance'].fillna(df['Performance'].mode()[0])"
   ]
  },
  {
   "cell_type": "code",
   "execution_count": 17,
   "id": "7fc3e352",
   "metadata": {},
   "outputs": [
    {
     "data": {
      "text/html": [
       "<div>\n",
       "<style scoped>\n",
       "    .dataframe tbody tr th:only-of-type {\n",
       "        vertical-align: middle;\n",
       "    }\n",
       "\n",
       "    .dataframe tbody tr th {\n",
       "        vertical-align: top;\n",
       "    }\n",
       "\n",
       "    .dataframe thead th {\n",
       "        text-align: right;\n",
       "    }\n",
       "</style>\n",
       "<table border=\"1\" class=\"dataframe\">\n",
       "  <thead>\n",
       "    <tr style=\"text-align: right;\">\n",
       "      <th></th>\n",
       "      <th>Name</th>\n",
       "      <th>Department</th>\n",
       "      <th>Month</th>\n",
       "      <th>Sales</th>\n",
       "      <th>Performance</th>\n",
       "      <th>Sales_category</th>\n",
       "    </tr>\n",
       "  </thead>\n",
       "  <tbody>\n",
       "    <tr>\n",
       "      <th>0</th>\n",
       "      <td>John</td>\n",
       "      <td>Sales</td>\n",
       "      <td>Jan</td>\n",
       "      <td>200</td>\n",
       "      <td>Good</td>\n",
       "      <td>Good</td>\n",
       "    </tr>\n",
       "    <tr>\n",
       "      <th>1</th>\n",
       "      <td>Sara</td>\n",
       "      <td>Sales</td>\n",
       "      <td>Jan</td>\n",
       "      <td>150</td>\n",
       "      <td>Average</td>\n",
       "      <td>Bad</td>\n",
       "    </tr>\n",
       "    <tr>\n",
       "      <th>2</th>\n",
       "      <td>Alice</td>\n",
       "      <td>HR</td>\n",
       "      <td>Jan</td>\n",
       "      <td>0</td>\n",
       "      <td>Average</td>\n",
       "      <td>Bad</td>\n",
       "    </tr>\n",
       "    <tr>\n",
       "      <th>3</th>\n",
       "      <td>Bob</td>\n",
       "      <td>HR</td>\n",
       "      <td>Jan</td>\n",
       "      <td>0</td>\n",
       "      <td>Average</td>\n",
       "      <td>Bad</td>\n",
       "    </tr>\n",
       "    <tr>\n",
       "      <th>4</th>\n",
       "      <td>John</td>\n",
       "      <td>Sales</td>\n",
       "      <td>Feb</td>\n",
       "      <td>210</td>\n",
       "      <td>Good</td>\n",
       "      <td>Good</td>\n",
       "    </tr>\n",
       "    <tr>\n",
       "      <th>5</th>\n",
       "      <td>Sara</td>\n",
       "      <td>Sales</td>\n",
       "      <td>Feb</td>\n",
       "      <td>160</td>\n",
       "      <td>Average</td>\n",
       "      <td>Bad</td>\n",
       "    </tr>\n",
       "    <tr>\n",
       "      <th>6</th>\n",
       "      <td>Alice</td>\n",
       "      <td>HR</td>\n",
       "      <td>Feb</td>\n",
       "      <td>0</td>\n",
       "      <td>Average</td>\n",
       "      <td>Bad</td>\n",
       "    </tr>\n",
       "    <tr>\n",
       "      <th>7</th>\n",
       "      <td>Bob</td>\n",
       "      <td>HR</td>\n",
       "      <td>Feb</td>\n",
       "      <td>0</td>\n",
       "      <td>Average</td>\n",
       "      <td>Bad</td>\n",
       "    </tr>\n",
       "  </tbody>\n",
       "</table>\n",
       "</div>"
      ],
      "text/plain": [
       "    Name Department Month  Sales Performance Sales_category\n",
       "0   John      Sales   Jan    200        Good           Good\n",
       "1   Sara      Sales   Jan    150     Average            Bad\n",
       "2  Alice         HR   Jan      0     Average            Bad\n",
       "3    Bob         HR   Jan      0     Average            Bad\n",
       "4   John      Sales   Feb    210        Good           Good\n",
       "5   Sara      Sales   Feb    160     Average            Bad\n",
       "6  Alice         HR   Feb      0     Average            Bad\n",
       "7    Bob         HR   Feb      0     Average            Bad"
      ]
     },
     "execution_count": 17,
     "metadata": {},
     "output_type": "execute_result"
    }
   ],
   "source": [
    "df"
   ]
  },
  {
   "cell_type": "code",
   "execution_count": 18,
   "id": "b52245d2",
   "metadata": {},
   "outputs": [
    {
     "name": "stdout",
     "output_type": "stream",
     "text": [
      "Department\n",
      "HR         0\n",
      "Sales    720\n",
      "Name: Sales, dtype: int64\n"
     ]
    }
   ],
   "source": [
    "# Group by Department and calculate total Sales\n",
    "grouped = df.groupby('Department')['Sales'].sum()\n",
    "print(grouped)\n"
   ]
  },
  {
   "cell_type": "code",
   "execution_count": 20,
   "id": "366ab3ae",
   "metadata": {},
   "outputs": [
    {
     "data": {
      "text/plain": [
       "Department\n",
       "HR         0\n",
       "Sales    720\n",
       "Name: Sales, dtype: int64"
      ]
     },
     "execution_count": 20,
     "metadata": {},
     "output_type": "execute_result"
    }
   ],
   "source": [
    "gr = df.groupby('Department')['Sales'].sum()\n",
    "gr"
   ]
  },
  {
   "cell_type": "code",
   "execution_count": 154,
   "id": "06f0a35b",
   "metadata": {},
   "outputs": [
    {
     "data": {
      "text/plain": [
       "Department\n",
       "HR         0\n",
       "Sales    720\n",
       "Name: Sales, dtype: int64"
      ]
     },
     "execution_count": 154,
     "metadata": {},
     "output_type": "execute_result"
    }
   ],
   "source": [
    "df1.groupby('Department')['Sales'].sum()"
   ]
  },
  {
   "cell_type": "code",
   "execution_count": 21,
   "id": "4e020453",
   "metadata": {},
   "outputs": [
    {
     "data": {
      "text/plain": [
       "Name   Department\n",
       "Alice  HR              0\n",
       "Bob    HR              0\n",
       "John   Sales         410\n",
       "Sara   Sales         310\n",
       "Name: Sales, dtype: int64"
      ]
     },
     "execution_count": 21,
     "metadata": {},
     "output_type": "execute_result"
    }
   ],
   "source": [
    "gr1 = df.groupby(['Name','Department'])['Sales'].sum()\n",
    "gr1"
   ]
  },
  {
   "cell_type": "code",
   "execution_count": null,
   "id": "5af57be4",
   "metadata": {},
   "outputs": [],
   "source": []
  },
  {
   "cell_type": "code",
   "execution_count": 19,
   "id": "79d22e18",
   "metadata": {},
   "outputs": [
    {
     "name": "stdout",
     "output_type": "stream",
     "text": [
      "Name   Department\n",
      "Alice  HR              0\n",
      "Bob    HR              0\n",
      "John   Sales         410\n",
      "Sara   Sales         310\n",
      "Name: Sales, dtype: int64\n"
     ]
    }
   ],
   "source": [
    "# Group by both Name and Department, and sum the Sales\n",
    "grouped = df.groupby(['Name', 'Department'])['Sales'].sum()\n",
    "print(grouped)\n"
   ]
  },
  {
   "cell_type": "code",
   "execution_count": null,
   "id": "bdac5289",
   "metadata": {},
   "outputs": [],
   "source": [
    "# Calculate the average Sales for each Department\n",
    "average_sales = df.groupby('Department')['Sales'].mean()\n",
    "print(average_sales)\n"
   ]
  },
  {
   "cell_type": "code",
   "execution_count": 23,
   "id": "dddec6a3",
   "metadata": {},
   "outputs": [
    {
     "data": {
      "text/html": [
       "<div>\n",
       "<style scoped>\n",
       "    .dataframe tbody tr th:only-of-type {\n",
       "        vertical-align: middle;\n",
       "    }\n",
       "\n",
       "    .dataframe tbody tr th {\n",
       "        vertical-align: top;\n",
       "    }\n",
       "\n",
       "    .dataframe thead th {\n",
       "        text-align: right;\n",
       "    }\n",
       "</style>\n",
       "<table border=\"1\" class=\"dataframe\">\n",
       "  <thead>\n",
       "    <tr style=\"text-align: right;\">\n",
       "      <th></th>\n",
       "      <th>sum</th>\n",
       "      <th>mean</th>\n",
       "      <th>count</th>\n",
       "    </tr>\n",
       "    <tr>\n",
       "      <th>Department</th>\n",
       "      <th></th>\n",
       "      <th></th>\n",
       "      <th></th>\n",
       "    </tr>\n",
       "  </thead>\n",
       "  <tbody>\n",
       "    <tr>\n",
       "      <th>HR</th>\n",
       "      <td>0</td>\n",
       "      <td>0.0</td>\n",
       "      <td>4</td>\n",
       "    </tr>\n",
       "    <tr>\n",
       "      <th>Sales</th>\n",
       "      <td>720</td>\n",
       "      <td>180.0</td>\n",
       "      <td>4</td>\n",
       "    </tr>\n",
       "  </tbody>\n",
       "</table>\n",
       "</div>"
      ],
      "text/plain": [
       "            sum   mean  count\n",
       "Department                   \n",
       "HR            0    0.0      4\n",
       "Sales       720  180.0      4"
      ]
     },
     "execution_count": 23,
     "metadata": {},
     "output_type": "execute_result"
    }
   ],
   "source": [
    "gr = df.groupby('Department')['Sales'].agg(['sum','mean','count'])\n",
    "gr"
   ]
  },
  {
   "cell_type": "code",
   "execution_count": null,
   "id": "92904d14",
   "metadata": {},
   "outputs": [],
   "source": []
  },
  {
   "cell_type": "code",
   "execution_count": null,
   "id": "aea0aece",
   "metadata": {},
   "outputs": [],
   "source": [
    "# Group by Department and apply multiple aggregations to Sales\n",
    "grouped = df.groupby('Department')['Sales'].agg(['sum', 'mean', 'count'])\n",
    "print(grouped)\n"
   ]
  },
  {
   "cell_type": "code",
   "execution_count": null,
   "id": "7a089056",
   "metadata": {},
   "outputs": [],
   "source": [
    "# Resetting the index\n",
    "grouped_df = df.groupby('Department')['Sales'].sum().reset_index()\n",
    "print(grouped_df)\n"
   ]
  },
  {
   "cell_type": "code",
   "execution_count": 26,
   "id": "42899f85",
   "metadata": {},
   "outputs": [
    {
     "data": {
      "text/html": [
       "<div>\n",
       "<style scoped>\n",
       "    .dataframe tbody tr th:only-of-type {\n",
       "        vertical-align: middle;\n",
       "    }\n",
       "\n",
       "    .dataframe tbody tr th {\n",
       "        vertical-align: top;\n",
       "    }\n",
       "\n",
       "    .dataframe thead th {\n",
       "        text-align: right;\n",
       "    }\n",
       "</style>\n",
       "<table border=\"1\" class=\"dataframe\">\n",
       "  <thead>\n",
       "    <tr style=\"text-align: right;\">\n",
       "      <th></th>\n",
       "      <th>Name</th>\n",
       "      <th>Department</th>\n",
       "      <th>Month</th>\n",
       "      <th>Sales</th>\n",
       "      <th>Performance</th>\n",
       "      <th>Sales_category</th>\n",
       "    </tr>\n",
       "  </thead>\n",
       "  <tbody>\n",
       "    <tr>\n",
       "      <th>0</th>\n",
       "      <td>John</td>\n",
       "      <td>Sales</td>\n",
       "      <td>Jan</td>\n",
       "      <td>200</td>\n",
       "      <td>Good</td>\n",
       "      <td>Good</td>\n",
       "    </tr>\n",
       "    <tr>\n",
       "      <th>1</th>\n",
       "      <td>Sara</td>\n",
       "      <td>Sales</td>\n",
       "      <td>Jan</td>\n",
       "      <td>150</td>\n",
       "      <td>Average</td>\n",
       "      <td>Bad</td>\n",
       "    </tr>\n",
       "    <tr>\n",
       "      <th>4</th>\n",
       "      <td>John</td>\n",
       "      <td>Sales</td>\n",
       "      <td>Feb</td>\n",
       "      <td>210</td>\n",
       "      <td>Good</td>\n",
       "      <td>Good</td>\n",
       "    </tr>\n",
       "    <tr>\n",
       "      <th>5</th>\n",
       "      <td>Sara</td>\n",
       "      <td>Sales</td>\n",
       "      <td>Feb</td>\n",
       "      <td>160</td>\n",
       "      <td>Average</td>\n",
       "      <td>Bad</td>\n",
       "    </tr>\n",
       "  </tbody>\n",
       "</table>\n",
       "</div>"
      ],
      "text/plain": [
       "   Name Department Month  Sales Performance Sales_category\n",
       "0  John      Sales   Jan    200        Good           Good\n",
       "1  Sara      Sales   Jan    150     Average            Bad\n",
       "4  John      Sales   Feb    210        Good           Good\n",
       "5  Sara      Sales   Feb    160     Average            Bad"
      ]
     },
     "execution_count": 26,
     "metadata": {},
     "output_type": "execute_result"
    }
   ],
   "source": [
    "fil = df.groupby('Department').filter(lambda x:x['Sales'].sum() > 400)\n",
    "filt = df.groupby('Department').filter(lambda x:x['Sales'].sum() > 400)\n",
    "filt"
   ]
  },
  {
   "cell_type": "code",
   "execution_count": 28,
   "id": "55071d64",
   "metadata": {},
   "outputs": [
    {
     "data": {
      "text/html": [
       "<div>\n",
       "<style scoped>\n",
       "    .dataframe tbody tr th:only-of-type {\n",
       "        vertical-align: middle;\n",
       "    }\n",
       "\n",
       "    .dataframe tbody tr th {\n",
       "        vertical-align: top;\n",
       "    }\n",
       "\n",
       "    .dataframe thead th {\n",
       "        text-align: right;\n",
       "    }\n",
       "</style>\n",
       "<table border=\"1\" class=\"dataframe\">\n",
       "  <thead>\n",
       "    <tr style=\"text-align: right;\">\n",
       "      <th></th>\n",
       "      <th>Name</th>\n",
       "      <th>Department</th>\n",
       "      <th>Month</th>\n",
       "      <th>Sales</th>\n",
       "      <th>Performance</th>\n",
       "      <th>Sales_category</th>\n",
       "      <th>sales_cate</th>\n",
       "    </tr>\n",
       "  </thead>\n",
       "  <tbody>\n",
       "    <tr>\n",
       "      <th>0</th>\n",
       "      <td>John</td>\n",
       "      <td>Sales</td>\n",
       "      <td>Jan</td>\n",
       "      <td>200</td>\n",
       "      <td>Good</td>\n",
       "      <td>Good</td>\n",
       "      <td>Good</td>\n",
       "    </tr>\n",
       "    <tr>\n",
       "      <th>1</th>\n",
       "      <td>Sara</td>\n",
       "      <td>Sales</td>\n",
       "      <td>Jan</td>\n",
       "      <td>150</td>\n",
       "      <td>Average</td>\n",
       "      <td>Bad</td>\n",
       "      <td>Bad</td>\n",
       "    </tr>\n",
       "    <tr>\n",
       "      <th>4</th>\n",
       "      <td>John</td>\n",
       "      <td>Sales</td>\n",
       "      <td>Feb</td>\n",
       "      <td>210</td>\n",
       "      <td>Good</td>\n",
       "      <td>Good</td>\n",
       "      <td>Good</td>\n",
       "    </tr>\n",
       "    <tr>\n",
       "      <th>5</th>\n",
       "      <td>Sara</td>\n",
       "      <td>Sales</td>\n",
       "      <td>Feb</td>\n",
       "      <td>160</td>\n",
       "      <td>Average</td>\n",
       "      <td>Bad</td>\n",
       "      <td>Bad</td>\n",
       "    </tr>\n",
       "  </tbody>\n",
       "</table>\n",
       "</div>"
      ],
      "text/plain": [
       "   Name Department Month  Sales Performance Sales_category sales_cate\n",
       "0  John      Sales   Jan    200        Good           Good       Good\n",
       "1  Sara      Sales   Jan    150     Average            Bad        Bad\n",
       "4  John      Sales   Feb    210        Good           Good       Good\n",
       "5  Sara      Sales   Feb    160     Average            Bad        Bad"
      ]
     },
     "execution_count": 28,
     "metadata": {},
     "output_type": "execute_result"
    }
   ],
   "source": [
    "filter1 = df.groupby('Department').filter(lambda x:x['Sales'].sum() > 400)\n",
    "filt = df.groupby('Department').filter(lambda x : x['Sales'].sum() > 400)\n",
    "filt"
   ]
  },
  {
   "cell_type": "code",
   "execution_count": 30,
   "id": "fff1dce4",
   "metadata": {},
   "outputs": [
    {
     "data": {
      "text/html": [
       "<div>\n",
       "<style scoped>\n",
       "    .dataframe tbody tr th:only-of-type {\n",
       "        vertical-align: middle;\n",
       "    }\n",
       "\n",
       "    .dataframe tbody tr th {\n",
       "        vertical-align: top;\n",
       "    }\n",
       "\n",
       "    .dataframe thead th {\n",
       "        text-align: right;\n",
       "    }\n",
       "</style>\n",
       "<table border=\"1\" class=\"dataframe\">\n",
       "  <thead>\n",
       "    <tr style=\"text-align: right;\">\n",
       "      <th></th>\n",
       "      <th>Name</th>\n",
       "      <th>Department</th>\n",
       "      <th>Month</th>\n",
       "      <th>Sales</th>\n",
       "      <th>Performance</th>\n",
       "      <th>Sales_category</th>\n",
       "    </tr>\n",
       "  </thead>\n",
       "  <tbody>\n",
       "    <tr>\n",
       "      <th>0</th>\n",
       "      <td>John</td>\n",
       "      <td>Sales</td>\n",
       "      <td>Jan</td>\n",
       "      <td>200</td>\n",
       "      <td>Good</td>\n",
       "      <td>Good</td>\n",
       "    </tr>\n",
       "    <tr>\n",
       "      <th>1</th>\n",
       "      <td>Sara</td>\n",
       "      <td>Sales</td>\n",
       "      <td>Jan</td>\n",
       "      <td>150</td>\n",
       "      <td>Average</td>\n",
       "      <td>Bad</td>\n",
       "    </tr>\n",
       "    <tr>\n",
       "      <th>2</th>\n",
       "      <td>Alice</td>\n",
       "      <td>HR</td>\n",
       "      <td>Jan</td>\n",
       "      <td>0</td>\n",
       "      <td>Average</td>\n",
       "      <td>Bad</td>\n",
       "    </tr>\n",
       "    <tr>\n",
       "      <th>3</th>\n",
       "      <td>Bob</td>\n",
       "      <td>HR</td>\n",
       "      <td>Jan</td>\n",
       "      <td>0</td>\n",
       "      <td>Average</td>\n",
       "      <td>Bad</td>\n",
       "    </tr>\n",
       "    <tr>\n",
       "      <th>4</th>\n",
       "      <td>John</td>\n",
       "      <td>Sales</td>\n",
       "      <td>Feb</td>\n",
       "      <td>210</td>\n",
       "      <td>Good</td>\n",
       "      <td>Good</td>\n",
       "    </tr>\n",
       "    <tr>\n",
       "      <th>5</th>\n",
       "      <td>Sara</td>\n",
       "      <td>Sales</td>\n",
       "      <td>Feb</td>\n",
       "      <td>160</td>\n",
       "      <td>Average</td>\n",
       "      <td>Bad</td>\n",
       "    </tr>\n",
       "    <tr>\n",
       "      <th>6</th>\n",
       "      <td>Alice</td>\n",
       "      <td>HR</td>\n",
       "      <td>Feb</td>\n",
       "      <td>0</td>\n",
       "      <td>Average</td>\n",
       "      <td>Bad</td>\n",
       "    </tr>\n",
       "    <tr>\n",
       "      <th>7</th>\n",
       "      <td>Bob</td>\n",
       "      <td>HR</td>\n",
       "      <td>Feb</td>\n",
       "      <td>0</td>\n",
       "      <td>Average</td>\n",
       "      <td>Bad</td>\n",
       "    </tr>\n",
       "  </tbody>\n",
       "</table>\n",
       "</div>"
      ],
      "text/plain": [
       "    Name Department Month  Sales Performance Sales_category\n",
       "0   John      Sales   Jan    200        Good           Good\n",
       "1   Sara      Sales   Jan    150     Average            Bad\n",
       "2  Alice         HR   Jan      0     Average            Bad\n",
       "3    Bob         HR   Jan      0     Average            Bad\n",
       "4   John      Sales   Feb    210        Good           Good\n",
       "5   Sara      Sales   Feb    160     Average            Bad\n",
       "6  Alice         HR   Feb      0     Average            Bad\n",
       "7    Bob         HR   Feb      0     Average            Bad"
      ]
     },
     "execution_count": 30,
     "metadata": {},
     "output_type": "execute_result"
    }
   ],
   "source": [
    "df = df.drop(columns=['sales_cate'])\n",
    "df"
   ]
  },
  {
   "cell_type": "code",
   "execution_count": 31,
   "id": "bccd4d57",
   "metadata": {},
   "outputs": [
    {
     "data": {
      "text/html": [
       "<div>\n",
       "<style scoped>\n",
       "    .dataframe tbody tr th:only-of-type {\n",
       "        vertical-align: middle;\n",
       "    }\n",
       "\n",
       "    .dataframe tbody tr th {\n",
       "        vertical-align: top;\n",
       "    }\n",
       "\n",
       "    .dataframe thead th {\n",
       "        text-align: right;\n",
       "    }\n",
       "</style>\n",
       "<table border=\"1\" class=\"dataframe\">\n",
       "  <thead>\n",
       "    <tr style=\"text-align: right;\">\n",
       "      <th></th>\n",
       "      <th>Name</th>\n",
       "      <th>Department</th>\n",
       "      <th>Month</th>\n",
       "      <th>Sales</th>\n",
       "      <th>Performance</th>\n",
       "      <th>Sales_category</th>\n",
       "      <th>Sales_cate</th>\n",
       "    </tr>\n",
       "  </thead>\n",
       "  <tbody>\n",
       "    <tr>\n",
       "      <th>0</th>\n",
       "      <td>John</td>\n",
       "      <td>Sales</td>\n",
       "      <td>Jan</td>\n",
       "      <td>200</td>\n",
       "      <td>Good</td>\n",
       "      <td>Good</td>\n",
       "      <td>Good</td>\n",
       "    </tr>\n",
       "    <tr>\n",
       "      <th>1</th>\n",
       "      <td>Sara</td>\n",
       "      <td>Sales</td>\n",
       "      <td>Jan</td>\n",
       "      <td>150</td>\n",
       "      <td>Average</td>\n",
       "      <td>Bad</td>\n",
       "      <td>Bad</td>\n",
       "    </tr>\n",
       "    <tr>\n",
       "      <th>2</th>\n",
       "      <td>Alice</td>\n",
       "      <td>HR</td>\n",
       "      <td>Jan</td>\n",
       "      <td>0</td>\n",
       "      <td>Average</td>\n",
       "      <td>Bad</td>\n",
       "      <td>Bad</td>\n",
       "    </tr>\n",
       "    <tr>\n",
       "      <th>3</th>\n",
       "      <td>Bob</td>\n",
       "      <td>HR</td>\n",
       "      <td>Jan</td>\n",
       "      <td>0</td>\n",
       "      <td>Average</td>\n",
       "      <td>Bad</td>\n",
       "      <td>Bad</td>\n",
       "    </tr>\n",
       "    <tr>\n",
       "      <th>4</th>\n",
       "      <td>John</td>\n",
       "      <td>Sales</td>\n",
       "      <td>Feb</td>\n",
       "      <td>210</td>\n",
       "      <td>Good</td>\n",
       "      <td>Good</td>\n",
       "      <td>Good</td>\n",
       "    </tr>\n",
       "    <tr>\n",
       "      <th>5</th>\n",
       "      <td>Sara</td>\n",
       "      <td>Sales</td>\n",
       "      <td>Feb</td>\n",
       "      <td>160</td>\n",
       "      <td>Average</td>\n",
       "      <td>Bad</td>\n",
       "      <td>Bad</td>\n",
       "    </tr>\n",
       "    <tr>\n",
       "      <th>6</th>\n",
       "      <td>Alice</td>\n",
       "      <td>HR</td>\n",
       "      <td>Feb</td>\n",
       "      <td>0</td>\n",
       "      <td>Average</td>\n",
       "      <td>Bad</td>\n",
       "      <td>Bad</td>\n",
       "    </tr>\n",
       "    <tr>\n",
       "      <th>7</th>\n",
       "      <td>Bob</td>\n",
       "      <td>HR</td>\n",
       "      <td>Feb</td>\n",
       "      <td>0</td>\n",
       "      <td>Average</td>\n",
       "      <td>Bad</td>\n",
       "      <td>Bad</td>\n",
       "    </tr>\n",
       "  </tbody>\n",
       "</table>\n",
       "</div>"
      ],
      "text/plain": [
       "    Name Department Month  Sales Performance Sales_category Sales_cate\n",
       "0   John      Sales   Jan    200        Good           Good       Good\n",
       "1   Sara      Sales   Jan    150     Average            Bad        Bad\n",
       "2  Alice         HR   Jan      0     Average            Bad        Bad\n",
       "3    Bob         HR   Jan      0     Average            Bad        Bad\n",
       "4   John      Sales   Feb    210        Good           Good       Good\n",
       "5   Sara      Sales   Feb    160     Average            Bad        Bad\n",
       "6  Alice         HR   Feb      0     Average            Bad        Bad\n",
       "7    Bob         HR   Feb      0     Average            Bad        Bad"
      ]
     },
     "execution_count": 31,
     "metadata": {},
     "output_type": "execute_result"
    }
   ],
   "source": [
    "df['Sales_cate'] = df['Sales'].apply(lambda x: \"Good\" if x > 170 else 'Bad')\n",
    "df"
   ]
  },
  {
   "cell_type": "code",
   "execution_count": 32,
   "id": "9d068419",
   "metadata": {},
   "outputs": [
    {
     "data": {
      "text/html": [
       "<div>\n",
       "<style scoped>\n",
       "    .dataframe tbody tr th:only-of-type {\n",
       "        vertical-align: middle;\n",
       "    }\n",
       "\n",
       "    .dataframe tbody tr th {\n",
       "        vertical-align: top;\n",
       "    }\n",
       "\n",
       "    .dataframe thead th {\n",
       "        text-align: right;\n",
       "    }\n",
       "</style>\n",
       "<table border=\"1\" class=\"dataframe\">\n",
       "  <thead>\n",
       "    <tr style=\"text-align: right;\">\n",
       "      <th></th>\n",
       "      <th>Name</th>\n",
       "      <th>Department</th>\n",
       "      <th>Month</th>\n",
       "      <th>Sales</th>\n",
       "      <th>Performance</th>\n",
       "      <th>Sales_category</th>\n",
       "      <th>Sales_cate</th>\n",
       "    </tr>\n",
       "  </thead>\n",
       "  <tbody>\n",
       "    <tr>\n",
       "      <th>0</th>\n",
       "      <td>John</td>\n",
       "      <td>Sales</td>\n",
       "      <td>Jan</td>\n",
       "      <td>200</td>\n",
       "      <td>Good</td>\n",
       "      <td>Good</td>\n",
       "      <td>Good</td>\n",
       "    </tr>\n",
       "    <tr>\n",
       "      <th>1</th>\n",
       "      <td>Sara</td>\n",
       "      <td>Sales</td>\n",
       "      <td>Jan</td>\n",
       "      <td>150</td>\n",
       "      <td>Average</td>\n",
       "      <td>Bad</td>\n",
       "      <td>Bad</td>\n",
       "    </tr>\n",
       "    <tr>\n",
       "      <th>4</th>\n",
       "      <td>John</td>\n",
       "      <td>Sales</td>\n",
       "      <td>Feb</td>\n",
       "      <td>210</td>\n",
       "      <td>Good</td>\n",
       "      <td>Good</td>\n",
       "      <td>Good</td>\n",
       "    </tr>\n",
       "    <tr>\n",
       "      <th>5</th>\n",
       "      <td>Sara</td>\n",
       "      <td>Sales</td>\n",
       "      <td>Feb</td>\n",
       "      <td>160</td>\n",
       "      <td>Average</td>\n",
       "      <td>Bad</td>\n",
       "      <td>Bad</td>\n",
       "    </tr>\n",
       "  </tbody>\n",
       "</table>\n",
       "</div>"
      ],
      "text/plain": [
       "   Name Department Month  Sales Performance Sales_category Sales_cate\n",
       "0  John      Sales   Jan    200        Good           Good       Good\n",
       "1  Sara      Sales   Jan    150     Average            Bad        Bad\n",
       "4  John      Sales   Feb    210        Good           Good       Good\n",
       "5  Sara      Sales   Feb    160     Average            Bad        Bad"
      ]
     },
     "execution_count": 32,
     "metadata": {},
     "output_type": "execute_result"
    }
   ],
   "source": [
    "fil = df.groupby('Department').filter(lambda x:x['Sales'].sum() > 400)\n",
    "fil"
   ]
  },
  {
   "cell_type": "code",
   "execution_count": 33,
   "id": "706e3a26",
   "metadata": {},
   "outputs": [
    {
     "data": {
      "text/html": [
       "<div>\n",
       "<style scoped>\n",
       "    .dataframe tbody tr th:only-of-type {\n",
       "        vertical-align: middle;\n",
       "    }\n",
       "\n",
       "    .dataframe tbody tr th {\n",
       "        vertical-align: top;\n",
       "    }\n",
       "\n",
       "    .dataframe thead th {\n",
       "        text-align: right;\n",
       "    }\n",
       "</style>\n",
       "<table border=\"1\" class=\"dataframe\">\n",
       "  <thead>\n",
       "    <tr style=\"text-align: right;\">\n",
       "      <th></th>\n",
       "      <th>Name</th>\n",
       "      <th>Department</th>\n",
       "      <th>Month</th>\n",
       "      <th>Sales</th>\n",
       "      <th>Performance</th>\n",
       "      <th>Sales_category</th>\n",
       "      <th>Sales_cate</th>\n",
       "      <th>sale_cate</th>\n",
       "    </tr>\n",
       "  </thead>\n",
       "  <tbody>\n",
       "    <tr>\n",
       "      <th>0</th>\n",
       "      <td>John</td>\n",
       "      <td>Sales</td>\n",
       "      <td>Jan</td>\n",
       "      <td>200</td>\n",
       "      <td>Good</td>\n",
       "      <td>Good</td>\n",
       "      <td>Good</td>\n",
       "      <td>Good</td>\n",
       "    </tr>\n",
       "    <tr>\n",
       "      <th>1</th>\n",
       "      <td>Sara</td>\n",
       "      <td>Sales</td>\n",
       "      <td>Jan</td>\n",
       "      <td>150</td>\n",
       "      <td>Average</td>\n",
       "      <td>Bad</td>\n",
       "      <td>Bad</td>\n",
       "      <td>Bad</td>\n",
       "    </tr>\n",
       "    <tr>\n",
       "      <th>2</th>\n",
       "      <td>Alice</td>\n",
       "      <td>HR</td>\n",
       "      <td>Jan</td>\n",
       "      <td>0</td>\n",
       "      <td>Average</td>\n",
       "      <td>Bad</td>\n",
       "      <td>Bad</td>\n",
       "      <td>Bad</td>\n",
       "    </tr>\n",
       "    <tr>\n",
       "      <th>3</th>\n",
       "      <td>Bob</td>\n",
       "      <td>HR</td>\n",
       "      <td>Jan</td>\n",
       "      <td>0</td>\n",
       "      <td>Average</td>\n",
       "      <td>Bad</td>\n",
       "      <td>Bad</td>\n",
       "      <td>Bad</td>\n",
       "    </tr>\n",
       "    <tr>\n",
       "      <th>4</th>\n",
       "      <td>John</td>\n",
       "      <td>Sales</td>\n",
       "      <td>Feb</td>\n",
       "      <td>210</td>\n",
       "      <td>Good</td>\n",
       "      <td>Good</td>\n",
       "      <td>Good</td>\n",
       "      <td>Good</td>\n",
       "    </tr>\n",
       "    <tr>\n",
       "      <th>5</th>\n",
       "      <td>Sara</td>\n",
       "      <td>Sales</td>\n",
       "      <td>Feb</td>\n",
       "      <td>160</td>\n",
       "      <td>Average</td>\n",
       "      <td>Bad</td>\n",
       "      <td>Bad</td>\n",
       "      <td>Bad</td>\n",
       "    </tr>\n",
       "    <tr>\n",
       "      <th>6</th>\n",
       "      <td>Alice</td>\n",
       "      <td>HR</td>\n",
       "      <td>Feb</td>\n",
       "      <td>0</td>\n",
       "      <td>Average</td>\n",
       "      <td>Bad</td>\n",
       "      <td>Bad</td>\n",
       "      <td>Bad</td>\n",
       "    </tr>\n",
       "    <tr>\n",
       "      <th>7</th>\n",
       "      <td>Bob</td>\n",
       "      <td>HR</td>\n",
       "      <td>Feb</td>\n",
       "      <td>0</td>\n",
       "      <td>Average</td>\n",
       "      <td>Bad</td>\n",
       "      <td>Bad</td>\n",
       "      <td>Bad</td>\n",
       "    </tr>\n",
       "  </tbody>\n",
       "</table>\n",
       "</div>"
      ],
      "text/plain": [
       "    Name Department Month  Sales Performance Sales_category Sales_cate  \\\n",
       "0   John      Sales   Jan    200        Good           Good       Good   \n",
       "1   Sara      Sales   Jan    150     Average            Bad        Bad   \n",
       "2  Alice         HR   Jan      0     Average            Bad        Bad   \n",
       "3    Bob         HR   Jan      0     Average            Bad        Bad   \n",
       "4   John      Sales   Feb    210        Good           Good       Good   \n",
       "5   Sara      Sales   Feb    160     Average            Bad        Bad   \n",
       "6  Alice         HR   Feb      0     Average            Bad        Bad   \n",
       "7    Bob         HR   Feb      0     Average            Bad        Bad   \n",
       "\n",
       "  sale_cate  \n",
       "0      Good  \n",
       "1       Bad  \n",
       "2       Bad  \n",
       "3       Bad  \n",
       "4      Good  \n",
       "5       Bad  \n",
       "6       Bad  \n",
       "7       Bad  "
      ]
     },
     "execution_count": 33,
     "metadata": {},
     "output_type": "execute_result"
    }
   ],
   "source": [
    "df['sale_cate'] = df['Sales'].apply(lambda x: 'Good' if x > 170 else 'Bad')\n",
    "df"
   ]
  },
  {
   "cell_type": "code",
   "execution_count": 34,
   "id": "5921e30a",
   "metadata": {},
   "outputs": [
    {
     "data": {
      "text/html": [
       "<div>\n",
       "<style scoped>\n",
       "    .dataframe tbody tr th:only-of-type {\n",
       "        vertical-align: middle;\n",
       "    }\n",
       "\n",
       "    .dataframe tbody tr th {\n",
       "        vertical-align: top;\n",
       "    }\n",
       "\n",
       "    .dataframe thead th {\n",
       "        text-align: right;\n",
       "    }\n",
       "</style>\n",
       "<table border=\"1\" class=\"dataframe\">\n",
       "  <thead>\n",
       "    <tr style=\"text-align: right;\">\n",
       "      <th></th>\n",
       "      <th>Name</th>\n",
       "      <th>Department</th>\n",
       "      <th>Month</th>\n",
       "      <th>Sales</th>\n",
       "      <th>Performance</th>\n",
       "      <th>Sales_category</th>\n",
       "      <th>Sales_cate</th>\n",
       "      <th>sale_cate</th>\n",
       "    </tr>\n",
       "  </thead>\n",
       "  <tbody>\n",
       "    <tr>\n",
       "      <th>0</th>\n",
       "      <td>John</td>\n",
       "      <td>Sales</td>\n",
       "      <td>Jan</td>\n",
       "      <td>200</td>\n",
       "      <td>Good</td>\n",
       "      <td>Good</td>\n",
       "      <td>Good</td>\n",
       "      <td>Good</td>\n",
       "    </tr>\n",
       "    <tr>\n",
       "      <th>1</th>\n",
       "      <td>Sara</td>\n",
       "      <td>Sales</td>\n",
       "      <td>Jan</td>\n",
       "      <td>150</td>\n",
       "      <td>Average</td>\n",
       "      <td>Bad</td>\n",
       "      <td>Bad</td>\n",
       "      <td>Bad</td>\n",
       "    </tr>\n",
       "    <tr>\n",
       "      <th>4</th>\n",
       "      <td>John</td>\n",
       "      <td>Sales</td>\n",
       "      <td>Feb</td>\n",
       "      <td>210</td>\n",
       "      <td>Good</td>\n",
       "      <td>Good</td>\n",
       "      <td>Good</td>\n",
       "      <td>Good</td>\n",
       "    </tr>\n",
       "    <tr>\n",
       "      <th>5</th>\n",
       "      <td>Sara</td>\n",
       "      <td>Sales</td>\n",
       "      <td>Feb</td>\n",
       "      <td>160</td>\n",
       "      <td>Average</td>\n",
       "      <td>Bad</td>\n",
       "      <td>Bad</td>\n",
       "      <td>Bad</td>\n",
       "    </tr>\n",
       "  </tbody>\n",
       "</table>\n",
       "</div>"
      ],
      "text/plain": [
       "   Name Department Month  Sales Performance Sales_category Sales_cate  \\\n",
       "0  John      Sales   Jan    200        Good           Good       Good   \n",
       "1  Sara      Sales   Jan    150     Average            Bad        Bad   \n",
       "4  John      Sales   Feb    210        Good           Good       Good   \n",
       "5  Sara      Sales   Feb    160     Average            Bad        Bad   \n",
       "\n",
       "  sale_cate  \n",
       "0      Good  \n",
       "1       Bad  \n",
       "4      Good  \n",
       "5       Bad  "
      ]
     },
     "execution_count": 34,
     "metadata": {},
     "output_type": "execute_result"
    }
   ],
   "source": [
    "fil = df.groupby('Department').filter(lambda x: x['Sales'].sum() > 400)\n",
    "fil"
   ]
  },
  {
   "cell_type": "code",
   "execution_count": 35,
   "id": "aab5fe96",
   "metadata": {},
   "outputs": [
    {
     "data": {
      "text/html": [
       "<div>\n",
       "<style scoped>\n",
       "    .dataframe tbody tr th:only-of-type {\n",
       "        vertical-align: middle;\n",
       "    }\n",
       "\n",
       "    .dataframe tbody tr th {\n",
       "        vertical-align: top;\n",
       "    }\n",
       "\n",
       "    .dataframe thead th {\n",
       "        text-align: right;\n",
       "    }\n",
       "</style>\n",
       "<table border=\"1\" class=\"dataframe\">\n",
       "  <thead>\n",
       "    <tr style=\"text-align: right;\">\n",
       "      <th></th>\n",
       "      <th>Name</th>\n",
       "      <th>Department</th>\n",
       "      <th>Month</th>\n",
       "      <th>Sales</th>\n",
       "      <th>Performance</th>\n",
       "      <th>Sales_category</th>\n",
       "      <th>Sales_cate</th>\n",
       "      <th>sale_cate</th>\n",
       "    </tr>\n",
       "  </thead>\n",
       "  <tbody>\n",
       "    <tr>\n",
       "      <th>0</th>\n",
       "      <td>John</td>\n",
       "      <td>Sales</td>\n",
       "      <td>Jan</td>\n",
       "      <td>200</td>\n",
       "      <td>Good</td>\n",
       "      <td>Good</td>\n",
       "      <td>Good</td>\n",
       "      <td>Good</td>\n",
       "    </tr>\n",
       "    <tr>\n",
       "      <th>4</th>\n",
       "      <td>John</td>\n",
       "      <td>Sales</td>\n",
       "      <td>Feb</td>\n",
       "      <td>210</td>\n",
       "      <td>Good</td>\n",
       "      <td>Good</td>\n",
       "      <td>Good</td>\n",
       "      <td>Good</td>\n",
       "    </tr>\n",
       "    <tr>\n",
       "      <th>5</th>\n",
       "      <td>Sara</td>\n",
       "      <td>Sales</td>\n",
       "      <td>Feb</td>\n",
       "      <td>160</td>\n",
       "      <td>Average</td>\n",
       "      <td>Bad</td>\n",
       "      <td>Bad</td>\n",
       "      <td>Bad</td>\n",
       "    </tr>\n",
       "  </tbody>\n",
       "</table>\n",
       "</div>"
      ],
      "text/plain": [
       "   Name Department Month  Sales Performance Sales_category Sales_cate  \\\n",
       "0  John      Sales   Jan    200        Good           Good       Good   \n",
       "4  John      Sales   Feb    210        Good           Good       Good   \n",
       "5  Sara      Sales   Feb    160     Average            Bad        Bad   \n",
       "\n",
       "  sale_cate  \n",
       "0      Good  \n",
       "4      Good  \n",
       "5       Bad  "
      ]
     },
     "execution_count": 35,
     "metadata": {},
     "output_type": "execute_result"
    }
   ],
   "source": [
    "df[df['Sales'] > 150]"
   ]
  },
  {
   "cell_type": "code",
   "execution_count": null,
   "id": "1dd04d9a",
   "metadata": {},
   "outputs": [],
   "source": [
    "from sklearn.model_selection import train_test_split\n",
    "from sklearn.metrics import r2_score,accuracy_score,classification_report\n",
    "from sklearn.linear import LinearRegression\n",
    "from sklearn.ensemble import RandomForestRegressor\n",
    "from sklearn.tree import DecisionTreeRegressor\n",
    "\n",
    "x_train,y_train,x_test,y_test = train_test_split(x,y,test_size=0.2,random_state=42)\n",
    "model = LinearRegression()\n",
    "model.fit(x_train,y_train)\n",
    "y_pred = model.predict(x_test)\n",
    "acc= r2_score(x_train,y_train)"
   ]
  },
  {
   "cell_type": "code",
   "execution_count": 36,
   "id": "54e3d530",
   "metadata": {},
   "outputs": [
    {
     "data": {
      "text/html": [
       "<div>\n",
       "<style scoped>\n",
       "    .dataframe tbody tr th:only-of-type {\n",
       "        vertical-align: middle;\n",
       "    }\n",
       "\n",
       "    .dataframe tbody tr th {\n",
       "        vertical-align: top;\n",
       "    }\n",
       "\n",
       "    .dataframe thead th {\n",
       "        text-align: right;\n",
       "    }\n",
       "</style>\n",
       "<table border=\"1\" class=\"dataframe\">\n",
       "  <thead>\n",
       "    <tr style=\"text-align: right;\">\n",
       "      <th></th>\n",
       "      <th>Name</th>\n",
       "      <th>Department</th>\n",
       "      <th>Month</th>\n",
       "      <th>Sales</th>\n",
       "      <th>Performance</th>\n",
       "      <th>Sales_category</th>\n",
       "      <th>Sales_cate</th>\n",
       "      <th>sale_cate</th>\n",
       "    </tr>\n",
       "  </thead>\n",
       "  <tbody>\n",
       "    <tr>\n",
       "      <th>0</th>\n",
       "      <td>John</td>\n",
       "      <td>Sales</td>\n",
       "      <td>Jan</td>\n",
       "      <td>200</td>\n",
       "      <td>Good</td>\n",
       "      <td>Good</td>\n",
       "      <td>Good</td>\n",
       "      <td>Good</td>\n",
       "    </tr>\n",
       "    <tr>\n",
       "      <th>1</th>\n",
       "      <td>Sara</td>\n",
       "      <td>Sales</td>\n",
       "      <td>Jan</td>\n",
       "      <td>150</td>\n",
       "      <td>Average</td>\n",
       "      <td>Bad</td>\n",
       "      <td>Bad</td>\n",
       "      <td>Bad</td>\n",
       "    </tr>\n",
       "    <tr>\n",
       "      <th>2</th>\n",
       "      <td>Alice</td>\n",
       "      <td>HR</td>\n",
       "      <td>Jan</td>\n",
       "      <td>0</td>\n",
       "      <td>Average</td>\n",
       "      <td>Bad</td>\n",
       "      <td>Bad</td>\n",
       "      <td>Bad</td>\n",
       "    </tr>\n",
       "    <tr>\n",
       "      <th>3</th>\n",
       "      <td>Bob</td>\n",
       "      <td>HR</td>\n",
       "      <td>Jan</td>\n",
       "      <td>0</td>\n",
       "      <td>Average</td>\n",
       "      <td>Bad</td>\n",
       "      <td>Bad</td>\n",
       "      <td>Bad</td>\n",
       "    </tr>\n",
       "    <tr>\n",
       "      <th>4</th>\n",
       "      <td>John</td>\n",
       "      <td>Sales</td>\n",
       "      <td>Feb</td>\n",
       "      <td>210</td>\n",
       "      <td>Good</td>\n",
       "      <td>Good</td>\n",
       "      <td>Good</td>\n",
       "      <td>Good</td>\n",
       "    </tr>\n",
       "    <tr>\n",
       "      <th>5</th>\n",
       "      <td>Sara</td>\n",
       "      <td>Sales</td>\n",
       "      <td>Feb</td>\n",
       "      <td>160</td>\n",
       "      <td>Average</td>\n",
       "      <td>Bad</td>\n",
       "      <td>Bad</td>\n",
       "      <td>Bad</td>\n",
       "    </tr>\n",
       "    <tr>\n",
       "      <th>6</th>\n",
       "      <td>Alice</td>\n",
       "      <td>HR</td>\n",
       "      <td>Feb</td>\n",
       "      <td>0</td>\n",
       "      <td>Average</td>\n",
       "      <td>Bad</td>\n",
       "      <td>Bad</td>\n",
       "      <td>Bad</td>\n",
       "    </tr>\n",
       "    <tr>\n",
       "      <th>7</th>\n",
       "      <td>Bob</td>\n",
       "      <td>HR</td>\n",
       "      <td>Feb</td>\n",
       "      <td>0</td>\n",
       "      <td>Average</td>\n",
       "      <td>Bad</td>\n",
       "      <td>Bad</td>\n",
       "      <td>Bad</td>\n",
       "    </tr>\n",
       "  </tbody>\n",
       "</table>\n",
       "</div>"
      ],
      "text/plain": [
       "    Name Department Month  Sales Performance Sales_category Sales_cate  \\\n",
       "0   John      Sales   Jan    200        Good           Good       Good   \n",
       "1   Sara      Sales   Jan    150     Average            Bad        Bad   \n",
       "2  Alice         HR   Jan      0     Average            Bad        Bad   \n",
       "3    Bob         HR   Jan      0     Average            Bad        Bad   \n",
       "4   John      Sales   Feb    210        Good           Good       Good   \n",
       "5   Sara      Sales   Feb    160     Average            Bad        Bad   \n",
       "6  Alice         HR   Feb      0     Average            Bad        Bad   \n",
       "7    Bob         HR   Feb      0     Average            Bad        Bad   \n",
       "\n",
       "  sale_cate  \n",
       "0      Good  \n",
       "1       Bad  \n",
       "2       Bad  \n",
       "3       Bad  \n",
       "4      Good  \n",
       "5       Bad  \n",
       "6       Bad  \n",
       "7       Bad  "
      ]
     },
     "execution_count": 36,
     "metadata": {},
     "output_type": "execute_result"
    }
   ],
   "source": [
    "df"
   ]
  },
  {
   "cell_type": "code",
   "execution_count": 37,
   "id": "048ae386",
   "metadata": {},
   "outputs": [],
   "source": [
    "df.drop(columns=['Sales_category','Sales_cate','sale_cate'],axis=1,inplace=True)"
   ]
  },
  {
   "cell_type": "code",
   "execution_count": 38,
   "id": "d64a32ee",
   "metadata": {},
   "outputs": [
    {
     "data": {
      "text/html": [
       "<div>\n",
       "<style scoped>\n",
       "    .dataframe tbody tr th:only-of-type {\n",
       "        vertical-align: middle;\n",
       "    }\n",
       "\n",
       "    .dataframe tbody tr th {\n",
       "        vertical-align: top;\n",
       "    }\n",
       "\n",
       "    .dataframe thead th {\n",
       "        text-align: right;\n",
       "    }\n",
       "</style>\n",
       "<table border=\"1\" class=\"dataframe\">\n",
       "  <thead>\n",
       "    <tr style=\"text-align: right;\">\n",
       "      <th></th>\n",
       "      <th>Name</th>\n",
       "      <th>Department</th>\n",
       "      <th>Month</th>\n",
       "      <th>Sales</th>\n",
       "      <th>Performance</th>\n",
       "    </tr>\n",
       "  </thead>\n",
       "  <tbody>\n",
       "    <tr>\n",
       "      <th>0</th>\n",
       "      <td>John</td>\n",
       "      <td>Sales</td>\n",
       "      <td>Jan</td>\n",
       "      <td>200</td>\n",
       "      <td>Good</td>\n",
       "    </tr>\n",
       "    <tr>\n",
       "      <th>1</th>\n",
       "      <td>Sara</td>\n",
       "      <td>Sales</td>\n",
       "      <td>Jan</td>\n",
       "      <td>150</td>\n",
       "      <td>Average</td>\n",
       "    </tr>\n",
       "    <tr>\n",
       "      <th>2</th>\n",
       "      <td>Alice</td>\n",
       "      <td>HR</td>\n",
       "      <td>Jan</td>\n",
       "      <td>0</td>\n",
       "      <td>Average</td>\n",
       "    </tr>\n",
       "    <tr>\n",
       "      <th>3</th>\n",
       "      <td>Bob</td>\n",
       "      <td>HR</td>\n",
       "      <td>Jan</td>\n",
       "      <td>0</td>\n",
       "      <td>Average</td>\n",
       "    </tr>\n",
       "    <tr>\n",
       "      <th>4</th>\n",
       "      <td>John</td>\n",
       "      <td>Sales</td>\n",
       "      <td>Feb</td>\n",
       "      <td>210</td>\n",
       "      <td>Good</td>\n",
       "    </tr>\n",
       "    <tr>\n",
       "      <th>5</th>\n",
       "      <td>Sara</td>\n",
       "      <td>Sales</td>\n",
       "      <td>Feb</td>\n",
       "      <td>160</td>\n",
       "      <td>Average</td>\n",
       "    </tr>\n",
       "    <tr>\n",
       "      <th>6</th>\n",
       "      <td>Alice</td>\n",
       "      <td>HR</td>\n",
       "      <td>Feb</td>\n",
       "      <td>0</td>\n",
       "      <td>Average</td>\n",
       "    </tr>\n",
       "    <tr>\n",
       "      <th>7</th>\n",
       "      <td>Bob</td>\n",
       "      <td>HR</td>\n",
       "      <td>Feb</td>\n",
       "      <td>0</td>\n",
       "      <td>Average</td>\n",
       "    </tr>\n",
       "  </tbody>\n",
       "</table>\n",
       "</div>"
      ],
      "text/plain": [
       "    Name Department Month  Sales Performance\n",
       "0   John      Sales   Jan    200        Good\n",
       "1   Sara      Sales   Jan    150     Average\n",
       "2  Alice         HR   Jan      0     Average\n",
       "3    Bob         HR   Jan      0     Average\n",
       "4   John      Sales   Feb    210        Good\n",
       "5   Sara      Sales   Feb    160     Average\n",
       "6  Alice         HR   Feb      0     Average\n",
       "7    Bob         HR   Feb      0     Average"
      ]
     },
     "execution_count": 38,
     "metadata": {},
     "output_type": "execute_result"
    }
   ],
   "source": [
    "df"
   ]
  },
  {
   "cell_type": "code",
   "execution_count": 39,
   "id": "435c4bec",
   "metadata": {},
   "outputs": [
    {
     "data": {
      "text/html": [
       "<div>\n",
       "<style scoped>\n",
       "    .dataframe tbody tr th:only-of-type {\n",
       "        vertical-align: middle;\n",
       "    }\n",
       "\n",
       "    .dataframe tbody tr th {\n",
       "        vertical-align: top;\n",
       "    }\n",
       "\n",
       "    .dataframe thead th {\n",
       "        text-align: right;\n",
       "    }\n",
       "</style>\n",
       "<table border=\"1\" class=\"dataframe\">\n",
       "  <thead>\n",
       "    <tr style=\"text-align: right;\">\n",
       "      <th></th>\n",
       "      <th>Name</th>\n",
       "      <th>Department</th>\n",
       "      <th>Month</th>\n",
       "      <th>Sales</th>\n",
       "      <th>Performance</th>\n",
       "    </tr>\n",
       "  </thead>\n",
       "  <tbody>\n",
       "    <tr>\n",
       "      <th>0</th>\n",
       "      <td>John</td>\n",
       "      <td>Sales</td>\n",
       "      <td>Jan</td>\n",
       "      <td>200</td>\n",
       "      <td>Good</td>\n",
       "    </tr>\n",
       "    <tr>\n",
       "      <th>1</th>\n",
       "      <td>Sara</td>\n",
       "      <td>Sales</td>\n",
       "      <td>Jan</td>\n",
       "      <td>150</td>\n",
       "      <td>Average</td>\n",
       "    </tr>\n",
       "    <tr>\n",
       "      <th>4</th>\n",
       "      <td>John</td>\n",
       "      <td>Sales</td>\n",
       "      <td>Feb</td>\n",
       "      <td>210</td>\n",
       "      <td>Good</td>\n",
       "    </tr>\n",
       "    <tr>\n",
       "      <th>5</th>\n",
       "      <td>Sara</td>\n",
       "      <td>Sales</td>\n",
       "      <td>Feb</td>\n",
       "      <td>160</td>\n",
       "      <td>Average</td>\n",
       "    </tr>\n",
       "  </tbody>\n",
       "</table>\n",
       "</div>"
      ],
      "text/plain": [
       "   Name Department Month  Sales Performance\n",
       "0  John      Sales   Jan    200        Good\n",
       "1  Sara      Sales   Jan    150     Average\n",
       "4  John      Sales   Feb    210        Good\n",
       "5  Sara      Sales   Feb    160     Average"
      ]
     },
     "execution_count": 39,
     "metadata": {},
     "output_type": "execute_result"
    }
   ],
   "source": [
    "fil = df.groupby('Department').filter(lambda x:x['Sales'].sum() > 400)\n",
    "fil"
   ]
  },
  {
   "cell_type": "code",
   "execution_count": 40,
   "id": "b9b05f8c",
   "metadata": {},
   "outputs": [
    {
     "data": {
      "text/html": [
       "<div>\n",
       "<style scoped>\n",
       "    .dataframe tbody tr th:only-of-type {\n",
       "        vertical-align: middle;\n",
       "    }\n",
       "\n",
       "    .dataframe tbody tr th {\n",
       "        vertical-align: top;\n",
       "    }\n",
       "\n",
       "    .dataframe thead th {\n",
       "        text-align: right;\n",
       "    }\n",
       "</style>\n",
       "<table border=\"1\" class=\"dataframe\">\n",
       "  <thead>\n",
       "    <tr style=\"text-align: right;\">\n",
       "      <th></th>\n",
       "      <th>Name</th>\n",
       "      <th>Department</th>\n",
       "      <th>Month</th>\n",
       "      <th>Sales</th>\n",
       "      <th>Performance</th>\n",
       "      <th>Sales_cate</th>\n",
       "    </tr>\n",
       "  </thead>\n",
       "  <tbody>\n",
       "    <tr>\n",
       "      <th>0</th>\n",
       "      <td>John</td>\n",
       "      <td>Sales</td>\n",
       "      <td>Jan</td>\n",
       "      <td>200</td>\n",
       "      <td>Good</td>\n",
       "      <td>Good</td>\n",
       "    </tr>\n",
       "    <tr>\n",
       "      <th>1</th>\n",
       "      <td>Sara</td>\n",
       "      <td>Sales</td>\n",
       "      <td>Jan</td>\n",
       "      <td>150</td>\n",
       "      <td>Average</td>\n",
       "      <td>Bad</td>\n",
       "    </tr>\n",
       "    <tr>\n",
       "      <th>2</th>\n",
       "      <td>Alice</td>\n",
       "      <td>HR</td>\n",
       "      <td>Jan</td>\n",
       "      <td>0</td>\n",
       "      <td>Average</td>\n",
       "      <td>Bad</td>\n",
       "    </tr>\n",
       "    <tr>\n",
       "      <th>3</th>\n",
       "      <td>Bob</td>\n",
       "      <td>HR</td>\n",
       "      <td>Jan</td>\n",
       "      <td>0</td>\n",
       "      <td>Average</td>\n",
       "      <td>Bad</td>\n",
       "    </tr>\n",
       "    <tr>\n",
       "      <th>4</th>\n",
       "      <td>John</td>\n",
       "      <td>Sales</td>\n",
       "      <td>Feb</td>\n",
       "      <td>210</td>\n",
       "      <td>Good</td>\n",
       "      <td>Good</td>\n",
       "    </tr>\n",
       "    <tr>\n",
       "      <th>5</th>\n",
       "      <td>Sara</td>\n",
       "      <td>Sales</td>\n",
       "      <td>Feb</td>\n",
       "      <td>160</td>\n",
       "      <td>Average</td>\n",
       "      <td>Bad</td>\n",
       "    </tr>\n",
       "    <tr>\n",
       "      <th>6</th>\n",
       "      <td>Alice</td>\n",
       "      <td>HR</td>\n",
       "      <td>Feb</td>\n",
       "      <td>0</td>\n",
       "      <td>Average</td>\n",
       "      <td>Bad</td>\n",
       "    </tr>\n",
       "    <tr>\n",
       "      <th>7</th>\n",
       "      <td>Bob</td>\n",
       "      <td>HR</td>\n",
       "      <td>Feb</td>\n",
       "      <td>0</td>\n",
       "      <td>Average</td>\n",
       "      <td>Bad</td>\n",
       "    </tr>\n",
       "  </tbody>\n",
       "</table>\n",
       "</div>"
      ],
      "text/plain": [
       "    Name Department Month  Sales Performance Sales_cate\n",
       "0   John      Sales   Jan    200        Good       Good\n",
       "1   Sara      Sales   Jan    150     Average        Bad\n",
       "2  Alice         HR   Jan      0     Average        Bad\n",
       "3    Bob         HR   Jan      0     Average        Bad\n",
       "4   John      Sales   Feb    210        Good       Good\n",
       "5   Sara      Sales   Feb    160     Average        Bad\n",
       "6  Alice         HR   Feb      0     Average        Bad\n",
       "7    Bob         HR   Feb      0     Average        Bad"
      ]
     },
     "execution_count": 40,
     "metadata": {},
     "output_type": "execute_result"
    }
   ],
   "source": [
    "df['Sales_cate'] = df['Sales'].apply(lambda x:'Good' if x > 170 else 'Bad')\n",
    "df"
   ]
  },
  {
   "cell_type": "code",
   "execution_count": null,
   "id": "e87d70dc",
   "metadata": {},
   "outputs": [],
   "source": []
  },
  {
   "cell_type": "code",
   "execution_count": null,
   "id": "d49cd226",
   "metadata": {},
   "outputs": [],
   "source": []
  },
  {
   "cell_type": "code",
   "execution_count": null,
   "id": "78cf15a1",
   "metadata": {},
   "outputs": [],
   "source": []
  },
  {
   "cell_type": "code",
   "execution_count": null,
   "id": "150c3e45",
   "metadata": {},
   "outputs": [],
   "source": []
  },
  {
   "cell_type": "code",
   "execution_count": 27,
   "id": "0a614632",
   "metadata": {},
   "outputs": [
    {
     "data": {
      "text/html": [
       "<div>\n",
       "<style scoped>\n",
       "    .dataframe tbody tr th:only-of-type {\n",
       "        vertical-align: middle;\n",
       "    }\n",
       "\n",
       "    .dataframe tbody tr th {\n",
       "        vertical-align: top;\n",
       "    }\n",
       "\n",
       "    .dataframe thead th {\n",
       "        text-align: right;\n",
       "    }\n",
       "</style>\n",
       "<table border=\"1\" class=\"dataframe\">\n",
       "  <thead>\n",
       "    <tr style=\"text-align: right;\">\n",
       "      <th></th>\n",
       "      <th>Name</th>\n",
       "      <th>Department</th>\n",
       "      <th>Month</th>\n",
       "      <th>Sales</th>\n",
       "      <th>Performance</th>\n",
       "      <th>Sales_category</th>\n",
       "      <th>sales_cate</th>\n",
       "    </tr>\n",
       "  </thead>\n",
       "  <tbody>\n",
       "    <tr>\n",
       "      <th>0</th>\n",
       "      <td>John</td>\n",
       "      <td>Sales</td>\n",
       "      <td>Jan</td>\n",
       "      <td>200</td>\n",
       "      <td>Good</td>\n",
       "      <td>Good</td>\n",
       "      <td>Good</td>\n",
       "    </tr>\n",
       "    <tr>\n",
       "      <th>1</th>\n",
       "      <td>Sara</td>\n",
       "      <td>Sales</td>\n",
       "      <td>Jan</td>\n",
       "      <td>150</td>\n",
       "      <td>Average</td>\n",
       "      <td>Bad</td>\n",
       "      <td>Bad</td>\n",
       "    </tr>\n",
       "    <tr>\n",
       "      <th>2</th>\n",
       "      <td>Alice</td>\n",
       "      <td>HR</td>\n",
       "      <td>Jan</td>\n",
       "      <td>0</td>\n",
       "      <td>Average</td>\n",
       "      <td>Bad</td>\n",
       "      <td>Bad</td>\n",
       "    </tr>\n",
       "    <tr>\n",
       "      <th>3</th>\n",
       "      <td>Bob</td>\n",
       "      <td>HR</td>\n",
       "      <td>Jan</td>\n",
       "      <td>0</td>\n",
       "      <td>Average</td>\n",
       "      <td>Bad</td>\n",
       "      <td>Bad</td>\n",
       "    </tr>\n",
       "    <tr>\n",
       "      <th>4</th>\n",
       "      <td>John</td>\n",
       "      <td>Sales</td>\n",
       "      <td>Feb</td>\n",
       "      <td>210</td>\n",
       "      <td>Good</td>\n",
       "      <td>Good</td>\n",
       "      <td>Good</td>\n",
       "    </tr>\n",
       "    <tr>\n",
       "      <th>5</th>\n",
       "      <td>Sara</td>\n",
       "      <td>Sales</td>\n",
       "      <td>Feb</td>\n",
       "      <td>160</td>\n",
       "      <td>Average</td>\n",
       "      <td>Bad</td>\n",
       "      <td>Bad</td>\n",
       "    </tr>\n",
       "    <tr>\n",
       "      <th>6</th>\n",
       "      <td>Alice</td>\n",
       "      <td>HR</td>\n",
       "      <td>Feb</td>\n",
       "      <td>0</td>\n",
       "      <td>Average</td>\n",
       "      <td>Bad</td>\n",
       "      <td>Bad</td>\n",
       "    </tr>\n",
       "    <tr>\n",
       "      <th>7</th>\n",
       "      <td>Bob</td>\n",
       "      <td>HR</td>\n",
       "      <td>Feb</td>\n",
       "      <td>0</td>\n",
       "      <td>Average</td>\n",
       "      <td>Bad</td>\n",
       "      <td>Bad</td>\n",
       "    </tr>\n",
       "  </tbody>\n",
       "</table>\n",
       "</div>"
      ],
      "text/plain": [
       "    Name Department Month  Sales Performance Sales_category sales_cate\n",
       "0   John      Sales   Jan    200        Good           Good       Good\n",
       "1   Sara      Sales   Jan    150     Average            Bad        Bad\n",
       "2  Alice         HR   Jan      0     Average            Bad        Bad\n",
       "3    Bob         HR   Jan      0     Average            Bad        Bad\n",
       "4   John      Sales   Feb    210        Good           Good       Good\n",
       "5   Sara      Sales   Feb    160     Average            Bad        Bad\n",
       "6  Alice         HR   Feb      0     Average            Bad        Bad\n",
       "7    Bob         HR   Feb      0     Average            Bad        Bad"
      ]
     },
     "execution_count": 27,
     "metadata": {},
     "output_type": "execute_result"
    }
   ],
   "source": [
    "df['sales_cate'] = df['Sales'].apply(lambda x: 'Good' if x > 170 else 'Bad')\n",
    "df"
   ]
  },
  {
   "cell_type": "code",
   "execution_count": null,
   "id": "92e47a09",
   "metadata": {},
   "outputs": [],
   "source": [
    "# Filter groups based on total Sales\n",
    "filtered = df.groupby('Department').filter(lambda x: x['Sales'].sum() > 400)\n",
    "print(filtered)\n"
   ]
  },
  {
   "cell_type": "code",
   "execution_count": null,
   "id": "9394a63b",
   "metadata": {},
   "outputs": [],
   "source": [
    "# Iterate over each group\n",
    "for name, group in df.groupby('Department'):\n",
    "    print(f\"Department: {name}\")\n",
    "    print(group)\n",
    "    print(\"-\" * 20)\n"
   ]
  },
  {
   "cell_type": "code",
   "execution_count": null,
   "id": "9d581ef8",
   "metadata": {},
   "outputs": [],
   "source": []
  },
  {
   "cell_type": "code",
   "execution_count": null,
   "id": "c4115e29",
   "metadata": {},
   "outputs": [],
   "source": []
  },
  {
   "cell_type": "code",
   "execution_count": null,
   "id": "8ea0d0b1",
   "metadata": {},
   "outputs": [],
   "source": []
  },
  {
   "cell_type": "code",
   "execution_count": null,
   "id": "fe564ce1",
   "metadata": {},
   "outputs": [],
   "source": []
  },
  {
   "cell_type": "code",
   "execution_count": null,
   "id": "01e994d6",
   "metadata": {},
   "outputs": [],
   "source": []
  },
  {
   "cell_type": "code",
   "execution_count": 62,
   "id": "b8204495",
   "metadata": {},
   "outputs": [
    {
     "name": "stdout",
     "output_type": "stream",
     "text": [
      "[0, 1, 1, 2, 3, 5, 8, 13, 21, 34]\n"
     ]
    }
   ],
   "source": [
    "def fibonacci(n):\n",
    "    sequence = [0, 1]\n",
    "    while len(sequence) < n:\n",
    "        sequence.append(sequence[-1] + sequence[-2])\n",
    "    return sequence\n",
    "\n",
    "# Example usage\n",
    "print(fibonacci(10))  # Output: [0, 1, 1, 2, 3, 5, 8, 13, 21, 34]\n"
   ]
  },
  {
   "cell_type": "code",
   "execution_count": 1,
   "id": "87e806bc",
   "metadata": {},
   "outputs": [
    {
     "data": {
      "text/plain": [
       "[0, 1, 1, 2, 3, 5, 8, 13, 21, 34]"
      ]
     },
     "execution_count": 1,
     "metadata": {},
     "output_type": "execute_result"
    }
   ],
   "source": [
    "def fibo(n):\n",
    "    seq = [0,1]\n",
    "    while len(seq) < n:\n",
    "        seq.append(seq[-1] + seq[-2])\n",
    "    return seq\n",
    "fibo(10)"
   ]
  },
  {
   "cell_type": "code",
   "execution_count": 2,
   "id": "7389455e",
   "metadata": {},
   "outputs": [
    {
     "data": {
      "text/plain": [
       "[0, 1, 1, 2, 3, 5, 8, 13, 21, 34]"
      ]
     },
     "execution_count": 2,
     "metadata": {},
     "output_type": "execute_result"
    }
   ],
   "source": [
    "def fibo(n):\n",
    "    seq=[0,1]\n",
    "    while len(seq) < n:\n",
    "        seq.append(seq[-1] + seq[-2])\n",
    "    return seq\n",
    "\n",
    "fibo(10)"
   ]
  },
  {
   "cell_type": "code",
   "execution_count": 8,
   "id": "0d6e5623",
   "metadata": {},
   "outputs": [
    {
     "data": {
      "text/plain": [
       "[0, 1, 1, 2, 3, 5, 8, 13, 21, 34]"
      ]
     },
     "execution_count": 8,
     "metadata": {},
     "output_type": "execute_result"
    }
   ],
   "source": [
    "def fibo(n):\n",
    "    seq=[0,1]\n",
    "    while len(seq) <n:\n",
    "        seq.append(seq[-1]+seq[-2])\n",
    "    return seq\n",
    "\n",
    "fibo(10)"
   ]
  },
  {
   "cell_type": "code",
   "execution_count": null,
   "id": "fafd5a9c",
   "metadata": {},
   "outputs": [],
   "source": []
  },
  {
   "cell_type": "code",
   "execution_count": 4,
   "id": "f4d0fc17",
   "metadata": {},
   "outputs": [
    {
     "data": {
      "text/plain": [
       "'DlanOdcam'"
      ]
     },
     "execution_count": 4,
     "metadata": {},
     "output_type": "execute_result"
    }
   ],
   "source": [
    "def upper_string(s):\n",
    "    result = \"\"\n",
    "    st = s.lower()\n",
    "    for i in range(len(st)):\n",
    "        if i == 0 or i == 4:\n",
    "            result += st[-(i+1)].upper()\n",
    "        else:\n",
    "            result += st[-(i+1)]\n",
    "    return result\n",
    "\n",
    "upper_string('macdonald')"
   ]
  },
  {
   "cell_type": "code",
   "execution_count": 6,
   "id": "512f13e6",
   "metadata": {},
   "outputs": [
    {
     "data": {
      "text/plain": [
       "{1: 2, 2: 2, 3: 2, 4: 1}"
      ]
     },
     "execution_count": 6,
     "metadata": {},
     "output_type": "execute_result"
    }
   ],
   "source": [
    "def count_(lis):\n",
    "    d = {}\n",
    "    for i in lis:\n",
    "        if i in d:\n",
    "            d[i] += 1\n",
    "        else:\n",
    "            d[i] = 1\n",
    "    return d\n",
    "\n",
    "count_([1,2,3,4,1,2,3])"
   ]
  },
  {
   "cell_type": "code",
   "execution_count": 8,
   "id": "f7831aaa",
   "metadata": {},
   "outputs": [
    {
     "data": {
      "text/plain": [
       "[1, 2, 3, 4, 5, 6]"
      ]
     },
     "execution_count": 8,
     "metadata": {},
     "output_type": "execute_result"
    }
   ],
   "source": [
    "def merge_two_list(list1,list2):\n",
    "    merge_list = []\n",
    "    i,j = 0,0\n",
    "    while i < len(list1) and j < len(list2):\n",
    "        if list1[i] < list2[j]:\n",
    "            merge_list.append(list1[i])\n",
    "            i+=1\n",
    "        else:\n",
    "            merge_list.append(list2[j])\n",
    "            j+=1\n",
    "    merge_list.extend(list1[i:])\n",
    "    merge_list.extend(list2[j:])\n",
    "    return merge_list\n",
    "\n",
    "merge_two_list([1,2,3],[4,5,6])"
   ]
  },
  {
   "cell_type": "code",
   "execution_count": 9,
   "id": "ceb44650",
   "metadata": {},
   "outputs": [
    {
     "data": {
      "text/plain": [
       "[1, 2, 2, 3, 3, 3, 5, 3, 6, 9, 0]"
      ]
     },
     "execution_count": 9,
     "metadata": {},
     "output_type": "execute_result"
    }
   ],
   "source": [
    "def flatten_list(nested_list):\n",
    "    flat_list = []\n",
    "    for i in nested_list:\n",
    "        if isinstance(i,list):\n",
    "            flat_list.extend(flatten_list(i))\n",
    "        else:\n",
    "            flat_list.append(i)\n",
    "    return flat_list\n",
    "\n",
    "flatten_list([1,2,[2,3,[3,3,[5,3], [6,9,0]]]])"
   ]
  },
  {
   "cell_type": "code",
   "execution_count": 10,
   "id": "7fbf2cbf",
   "metadata": {},
   "outputs": [
    {
     "data": {
      "text/plain": [
       "[1, 2, 3, 4, 5, 34]"
      ]
     },
     "execution_count": 10,
     "metadata": {},
     "output_type": "execute_result"
    }
   ],
   "source": [
    "def remove_dup(lis):\n",
    "    lis.sort()\n",
    "    i = 1\n",
    "    while i < len(lis):\n",
    "        if lis[i] == lis[i-1]:\n",
    "            del lis[i]\n",
    "        else:\n",
    "            i+=1\n",
    "    return lis\n",
    "\n",
    "remove_dup([1,2,3,1,2,34,4,5,3,2])"
   ]
  },
  {
   "cell_type": "code",
   "execution_count": 11,
   "id": "4a024a90",
   "metadata": {},
   "outputs": [
    {
     "data": {
      "text/plain": [
       "120"
      ]
     },
     "execution_count": 11,
     "metadata": {},
     "output_type": "execute_result"
    }
   ],
   "source": [
    "def fact(n):\n",
    "    if n == 0:\n",
    "        return 1\n",
    "    return n * fact(n-1)\n",
    "fact(5)"
   ]
  },
  {
   "cell_type": "code",
   "execution_count": null,
   "id": "3b77db90",
   "metadata": {},
   "outputs": [],
   "source": []
  },
  {
   "cell_type": "code",
   "execution_count": 12,
   "id": "b9ed4b62",
   "metadata": {},
   "outputs": [
    {
     "data": {
      "text/plain": [
       "[0, 1, 1, 2, 3, 5, 8, 13, 21, 34]"
      ]
     },
     "execution_count": 12,
     "metadata": {},
     "output_type": "execute_result"
    }
   ],
   "source": [
    "def fibo(n):\n",
    "    seq=[0,1]\n",
    "    while len(seq) < n:\n",
    "        seq.append(seq[-1]+seq[-2])\n",
    "    return seq\n",
    "\n",
    "fibo(10)"
   ]
  },
  {
   "cell_type": "code",
   "execution_count": 65,
   "id": "21ab7b96",
   "metadata": {},
   "outputs": [
    {
     "name": "stdout",
     "output_type": "stream",
     "text": [
      "120\n"
     ]
    }
   ],
   "source": [
    "def factorial(n):\n",
    "    if n == 0:\n",
    "        return 1\n",
    "    return n * factorial(n - 1)\n",
    "\n",
    "# Example usage\n",
    "print(factorial(5))  # Output: 120\n"
   ]
  },
  {
   "cell_type": "code",
   "execution_count": 14,
   "id": "120a3b59",
   "metadata": {},
   "outputs": [
    {
     "data": {
      "text/plain": [
       "120"
      ]
     },
     "execution_count": 14,
     "metadata": {},
     "output_type": "execute_result"
    }
   ],
   "source": [
    "def fact(n):\n",
    "    if n == 0:\n",
    "        return 1\n",
    "    return n * fact(n-1)\n",
    "\n",
    "fact(5)"
   ]
  },
  {
   "cell_type": "code",
   "execution_count": 69,
   "id": "909b458b",
   "metadata": {},
   "outputs": [
    {
     "name": "stdout",
     "output_type": "stream",
     "text": [
      "True\n",
      "False\n"
     ]
    }
   ],
   "source": [
    "def is_prime(n):\n",
    "    if n <= 1:\n",
    "        return False\n",
    "    for i in range(2, int(n**0.5) + 1):\n",
    "        if n % i == 0:\n",
    "            return False\n",
    "    return True\n",
    "\n",
    "# Example usage\n",
    "print(is_prime(11))  # Output: True\n",
    "print(is_prime(4))   # Output: False\n"
   ]
  },
  {
   "cell_type": "code",
   "execution_count": 73,
   "id": "ba6fb44d",
   "metadata": {},
   "outputs": [
    {
     "data": {
      "text/plain": [
       "True"
      ]
     },
     "execution_count": 73,
     "metadata": {},
     "output_type": "execute_result"
    }
   ],
   "source": [
    "def prime(n):\n",
    "    if n <= 1:\n",
    "        return False\n",
    "    for i in range(2, int(n**0.5) +1):\n",
    "        if n%i==0:\n",
    "            return False\n",
    "    return True\n",
    "\n",
    "prime(11)"
   ]
  },
  {
   "cell_type": "code",
   "execution_count": 74,
   "id": "884c3292",
   "metadata": {},
   "outputs": [
    {
     "name": "stdout",
     "output_type": "stream",
     "text": [
      "[1, 2, 3, 4]\n"
     ]
    }
   ],
   "source": [
    "def remove_duplicates(lst):\n",
    "    return list(set(lst))\n",
    "\n",
    "# Example usage\n",
    "print(remove_duplicates([1, 2, 2, 3, 4, 4]))  # Output: [1, 2, 3, 4]\n"
   ]
  },
  {
   "cell_type": "code",
   "execution_count": 112,
   "id": "d336416d",
   "metadata": {},
   "outputs": [],
   "source": [
    "lst = [1, 2, 2, 3, 4, 4]\n",
    "l1 = []\n",
    "for i in lst:\n",
    "    if i in l1:\n",
    "        pass\n",
    "    else:\n",
    "        l1.append(i)\n",
    "#     print(i)"
   ]
  },
  {
   "cell_type": "code",
   "execution_count": 113,
   "id": "f2d85322",
   "metadata": {},
   "outputs": [
    {
     "data": {
      "text/plain": [
       "[1, 2, 3, 4]"
      ]
     },
     "execution_count": 113,
     "metadata": {},
     "output_type": "execute_result"
    }
   ],
   "source": [
    "l1"
   ]
  },
  {
   "cell_type": "code",
   "execution_count": 114,
   "id": "f0e2e6f1",
   "metadata": {},
   "outputs": [],
   "source": [
    "l2 = [i for i in lst if i not in lst]"
   ]
  },
  {
   "cell_type": "code",
   "execution_count": 115,
   "id": "f3f4255b",
   "metadata": {},
   "outputs": [
    {
     "data": {
      "text/plain": [
       "[]"
      ]
     },
     "execution_count": 115,
     "metadata": {},
     "output_type": "execute_result"
    }
   ],
   "source": [
    "l2"
   ]
  },
  {
   "cell_type": "code",
   "execution_count": null,
   "id": "be723c0d",
   "metadata": {},
   "outputs": [],
   "source": []
  },
  {
   "cell_type": "code",
   "execution_count": 78,
   "id": "658ea1f5",
   "metadata": {},
   "outputs": [
    {
     "name": "stdout",
     "output_type": "stream",
     "text": [
      "[3, 4]\n"
     ]
    }
   ],
   "source": [
    "def common_elements(lst1, lst2):\n",
    "    return list(set(lst1) & set(lst2))\n",
    "\n",
    "# Example usage\n",
    "print(common_elements([1, 2, 3, 4], [3, 4, 5, 6]))  # Output: [3, 4]\n"
   ]
  },
  {
   "cell_type": "code",
   "execution_count": 79,
   "id": "38d26d83",
   "metadata": {},
   "outputs": [],
   "source": [
    "l1 = [1,2,3,4]\n",
    "l2 = [3,4,5,6]\n",
    "l3 = []\n",
    "for i in l1:\n",
    "    for j in l2:\n",
    "        if i == j:\n",
    "            l3.append(i)"
   ]
  },
  {
   "cell_type": "code",
   "execution_count": 80,
   "id": "7f0c3354",
   "metadata": {},
   "outputs": [
    {
     "data": {
      "text/plain": [
       "[3, 4]"
      ]
     },
     "execution_count": 80,
     "metadata": {},
     "output_type": "execute_result"
    }
   ],
   "source": [
    "l3"
   ]
  },
  {
   "cell_type": "code",
   "execution_count": 81,
   "id": "2b398a8c",
   "metadata": {},
   "outputs": [
    {
     "name": "stdout",
     "output_type": "stream",
     "text": [
      "[1, 2, 3, 4, 5]\n"
     ]
    }
   ],
   "source": [
    "def flatten_list(nested_list):\n",
    "    flat_list = []\n",
    "    for item in nested_list:\n",
    "        if isinstance(item, list):\n",
    "            flat_list.extend(flatten_list(item))\n",
    "        else:\n",
    "            flat_list.append(item)\n",
    "    return flat_list\n",
    "\n",
    "# Example usage\n",
    "print(flatten_list([1, [2, [3, 4]], 5]))  # Output: [1, 2, 3, 4, 5]\n"
   ]
  },
  {
   "cell_type": "code",
   "execution_count": 82,
   "id": "7e6ce1f7",
   "metadata": {},
   "outputs": [
    {
     "name": "stdout",
     "output_type": "stream",
     "text": [
      "7\n"
     ]
    }
   ],
   "source": [
    "def second_largest(lst):\n",
    "    unique_lst = list(set(lst))  # Remove duplicates\n",
    "    unique_lst.sort()            # Sort the list\n",
    "    return unique_lst[-2] if len(unique_lst) >= 2 else None  # Return second largest or None\n",
    "\n",
    "# Example usage\n",
    "lst = [5, 3, 9, 7, 9, 3]\n",
    "print(second_largest(lst))  # Output: 7\n"
   ]
  },
  {
   "cell_type": "code",
   "execution_count": null,
   "id": "21d6377b",
   "metadata": {},
   "outputs": [],
   "source": [
    "def sec(lst):\n",
    "    uniq = list(set(lst))\n",
    "    uniq.sort()"
   ]
  },
  {
   "cell_type": "code",
   "execution_count": 15,
   "id": "f9dc5ba8",
   "metadata": {},
   "outputs": [
    {
     "name": "stdout",
     "output_type": "stream",
     "text": [
      "33\n"
     ]
    }
   ],
   "source": [
    "lis = [11,22,33,44]\n",
    "largest = second_largest = 0\n",
    "for i in lis:\n",
    "    if i > largest:\n",
    "        second_largest = largest\n",
    "        largest = i\n",
    "    elif i > second_largest and i != largest:\n",
    "        second_largest = i\n",
    "print(second_largest)"
   ]
  },
  {
   "cell_type": "code",
   "execution_count": 18,
   "id": "302ccec3",
   "metadata": {},
   "outputs": [
    {
     "name": "stdout",
     "output_type": "stream",
     "text": [
      "22\n"
     ]
    }
   ],
   "source": [
    "smallest = second_smallest = float('inf')\n",
    "for i in lis:\n",
    "    if i < smallest:\n",
    "        smallest,second_smallest = i,smallest\n",
    "    elif i < second_smallest:\n",
    "        second_smallest = i\n",
    "print(second_smallest)"
   ]
  },
  {
   "cell_type": "code",
   "execution_count": 83,
   "id": "56ce655d",
   "metadata": {},
   "outputs": [
    {
     "name": "stdout",
     "output_type": "stream",
     "text": [
      "7\n"
     ]
    }
   ],
   "source": [
    "def second_largest(lst):\n",
    "    if len(lst) < 2:\n",
    "        return None  # Not enough elements for a second largest\n",
    "\n",
    "    largest = second_largest = float('-inf')  # Initialize to negative infinity\n",
    "\n",
    "    for num in lst:\n",
    "        if num > largest:\n",
    "            second_largest = largest  # Update second largest\n",
    "            largest = num  # Update largest\n",
    "        elif largest > num > second_largest:  # Ensure the number is not equal to the largest\n",
    "            second_largest = num\n",
    "\n",
    "    return second_largest if second_largest != float('-inf') else None  # Return None if no second largest\n",
    "\n",
    "# Example usage\n",
    "lst = [5, 3, 9, 7, 9, 3]\n",
    "print(second_largest(lst))  # Output: 7\n"
   ]
  },
  {
   "cell_type": "code",
   "execution_count": 90,
   "id": "199d50fc",
   "metadata": {},
   "outputs": [],
   "source": [
    "def sec_lar(lst):\n",
    "    if len(lst) < 2:\n",
    "        return None\n",
    "    largest = sec_larg = float('-inf')\n",
    "    for num in lst:\n",
    "        if num > largest:\n",
    "            sec_larg = largest\n",
    "            largest = num\n",
    "        elif largest >num >sec_larg:\n",
    "            sec_larg = num\n",
    "    return sec_larg if sec_lar != float('-inf') else None"
   ]
  },
  {
   "cell_type": "code",
   "execution_count": 91,
   "id": "26647743",
   "metadata": {},
   "outputs": [
    {
     "name": "stdout",
     "output_type": "stream",
     "text": [
      "7\n"
     ]
    }
   ],
   "source": [
    "# Example usage\n",
    "lst = [5, 3, 9, 7, 9, 3]\n",
    "print(sec_lar(lst))  "
   ]
  },
  {
   "cell_type": "code",
   "execution_count": 92,
   "id": "47f2d554",
   "metadata": {},
   "outputs": [
    {
     "name": "stdout",
     "output_type": "stream",
     "text": [
      "2\n"
     ]
    }
   ],
   "source": [
    "def find_index(lst, element):\n",
    "    if element in lst:\n",
    "        return lst.index(element)\n",
    "    return -1  # Return -1 if the element is not found\n",
    "\n",
    "# Example usage\n",
    "lst = [1, 2, 3, 4, 5]\n",
    "print(find_index(lst, 3))  # Output: 2\n"
   ]
  },
  {
   "cell_type": "code",
   "execution_count": 96,
   "id": "3c86b1c3",
   "metadata": {},
   "outputs": [
    {
     "name": "stdout",
     "output_type": "stream",
     "text": [
      "2\n"
     ]
    }
   ],
   "source": [
    "def find_index(lst,element):\n",
    "    if element in lst:\n",
    "        return lst.index(element)\n",
    "    return -1\n",
    "\n",
    "lst = [1, 2, 3, 4, 5]\n",
    "print(find_index(lst, 3))  # Output: 2\n"
   ]
  },
  {
   "cell_type": "code",
   "execution_count": 97,
   "id": "0a716fbe",
   "metadata": {},
   "outputs": [
    {
     "name": "stdout",
     "output_type": "stream",
     "text": [
      "15\n"
     ]
    }
   ],
   "source": [
    "def sum_of_digits(n):\n",
    "    return sum(int(digit) for digit in str(n))\n",
    "\n",
    "# Example usage\n",
    "print(sum_of_digits(12345))  # Output: 15\n"
   ]
  },
  {
   "cell_type": "code",
   "execution_count": 99,
   "id": "c803fdd6",
   "metadata": {},
   "outputs": [
    {
     "name": "stdout",
     "output_type": "stream",
     "text": [
      "15\n"
     ]
    }
   ],
   "source": [
    "def sum_digit(n):\n",
    "    return sum(int(digit) for digit in str(n))\n",
    "print(sum_digit(12345))  # Output: 15\n"
   ]
  },
  {
   "cell_type": "code",
   "execution_count": 100,
   "id": "f3d00485",
   "metadata": {},
   "outputs": [
    {
     "name": "stdout",
     "output_type": "stream",
     "text": [
      "55\n"
     ]
    }
   ],
   "source": [
    "def nth_fibonacci(n):\n",
    "    a, b = 0, 1\n",
    "    for _ in range(n):\n",
    "        a, b = b, a + b\n",
    "    return a\n",
    "\n",
    "# Example usage\n",
    "print(nth_fibonacci(10))  # Output: 55\n"
   ]
  },
  {
   "cell_type": "code",
   "execution_count": 103,
   "id": "082f859b",
   "metadata": {},
   "outputs": [
    {
     "data": {
      "text/plain": [
       "[0, 1, 1, 2, 3, 5, 8, 13, 21, 34]"
      ]
     },
     "execution_count": 103,
     "metadata": {},
     "output_type": "execute_result"
    }
   ],
   "source": [
    "def fibo(n):\n",
    "    seq = [0,1]\n",
    "    while len(seq) < n:\n",
    "        seq.append(seq[-1]+seq[-2])\n",
    "    return seq\n",
    "fibo(10)"
   ]
  },
  {
   "cell_type": "code",
   "execution_count": null,
   "id": "fdb710ac",
   "metadata": {},
   "outputs": [],
   "source": [
    "import numpy as np\n",
    "import tensorflow as tf\n",
    "from tensorflow.keras.models import Sequential\n",
    "from tensorflow.keras.layers import Dense\n",
    "\n",
    "model = Sequential()\n",
    "model.add(Dense(64,activation='relu',input_dim=30))\n",
    "model.add(Dense(32, activation='relu'))\n",
    "model.add(Dense(1, activation='sigmoid'))\n",
    "model.compile(optimizer='adam',loss = 'binary_crossentropy',metrics=['accuracy'])\n",
    "model.summary()\n",
    "model.fit(X_train,Y_train, batch_size=16, epochs=10, validation_data=(X_test,y_test))\n",
    "loss, accuracy = model.evaluate(X_test,y_test)"
   ]
  },
  {
   "cell_type": "code",
   "execution_count": null,
   "id": "43d63196",
   "metadata": {},
   "outputs": [],
   "source": [
    "import tensorflow as tf\n",
    "from tensorflow.keras.models import Sequential\n",
    "from tensorflow.keras.layers import Dense\n",
    "\n",
    "model = Sequential()\n",
    "model.add(Dense(64,activation='relu',input_dim=30))\n",
    "model.add(Dense(32,activation='relu'))\n",
    "model.add(Dense(1,activation='sigmoid'))\n",
    "model.compile(optimizer='adam',loss='binary_crossentropy',metrics=['accuracy'])\n",
    "model.fit(x_train,y_train, batch_sizes = 16, epochs=10, validation_data=(x_test,y_test))\n",
    "model.summary()\n",
    "loss,accuracy = model.evaluate(x_test,y_test)"
   ]
  },
  {
   "cell_type": "code",
   "execution_count": null,
   "id": "b79a63d2",
   "metadata": {},
   "outputs": [],
   "source": [
    "from tensorflow.keras.models import Sequential\n",
    "from tensorflow.keras.layers import Dense,Flatten,BatchNormalization,Dropout,Conv2D,Maxpooling2D\n",
    "\n",
    "model.Sequential()\n",
    "model.add(Conv2D(32,kernel_size=(3,3),padding='valid',activation='relu',input_shape=(224,224,3)))\n",
    "model.add(Conv2D(32,kernel_size=(3,3),padding='valid',activation='relu',input_shape=(224,224,3)))\n",
    "model.add(BatchNormalizartion())\n",
    "model.add(MaxPooling2D(pool_size=(2,2),stride=2,padding='valid'))\n",
    "model.add(Flatten)\n",
    "model.add(Dense(128,activation='relu'))\n",
    "model.Dropout(0.5)\n",
    "model.add(Dense(1,activation='sigmoid'))\n",
    "model.compile(optimizer='adam',loss='binary_crossentropy',metrics=['accuracy'])\n",
    "model.fit(x_train_ds,epochs=10,batch_size = 32,validation_data=validation_ds)"
   ]
  },
  {
   "cell_type": "code",
   "execution_count": null,
   "id": "1c2bdf53",
   "metadata": {},
   "outputs": [],
   "source": []
  },
  {
   "cell_type": "code",
   "execution_count": null,
   "id": "3f6d320d",
   "metadata": {},
   "outputs": [],
   "source": []
  },
  {
   "cell_type": "code",
   "execution_count": null,
   "id": "35cc5fc2",
   "metadata": {},
   "outputs": [],
   "source": [
    "#Simple CNN\n",
    "import tensorflow as tf\n",
    "from  tensorflow import keras\n",
    "from keras import Sequential\n",
    "from keras.layers import Dense, Conv2D, MaxPooling2D, Flatten,BatchNormalization,Dropout\n",
    "model = Sequential()\n",
    "\n",
    "model.add(Conv2D(32,kernel_size=(3,3),padding='valid',activation='relu',input_shape=(256,256,3)))\n",
    "model.add(BatchNormalization())\n",
    "model.add(MaxPooling2D(pool_size=(2,2),strides=2,padding='valid'))\n",
    "\n",
    "model.add(Flatten())\n",
    "\n",
    "model.add(Dense(128,activation='relu'))\n",
    "model.add(Dropout(0.1))\n",
    "\n",
    "model.add(Dense(1,activation='sigmoid'))\n",
    "\n",
    "model.compile(optimizer='adam',loss='binary_crossentropy',metrics=['accuracy'])\n",
    "\n",
    "history = model.fit(train_ds,epochs=10,validation_data=validation_ds)"
   ]
  },
  {
   "cell_type": "code",
   "execution_count": null,
   "id": "128b6af9",
   "metadata": {},
   "outputs": [],
   "source": [
    "import tensorflow as tf\n",
    "from tf.keras.models import Sequential\n",
    "from tf.keras.layers import Dense, Conv2D, MaxPooling2D,Flattern, BatchNormalization,Dropout\n",
    "from tf.keras.layers import Dense, Conv2D, MaxPooling2D, Flattern, BatchNormalization, Dropout\n",
    "\n",
    "model = Sequential()\n",
    "model.add(Conv2D(32,kernel_size=(3,3),padding='valid',activation='relu',input_shape=(224,224,3)))\n",
    "model.add(BatchNormalization())\n",
    "model.add(MaxPooling2D(pool_size=(2,2),stride=2,padding='valid'))\n",
    "model.add(Flattern())\n",
    "model.add(Dense(128,activation='relu'))\n",
    "model.add(Dropout(0.2))\n",
    "model.add(Dense(1,activation='sigmoid'))"
   ]
  },
  {
   "cell_type": "code",
   "execution_count": null,
   "id": "27a3f5af",
   "metadata": {},
   "outputs": [],
   "source": [
    "# Step 1: Import necessary libraries\n",
    "import numpy as np\n",
    "import pandas as pd\n",
    "from sklearn.model_selection import train_test_split\n",
    "from sklearn.metrics import accuracy_score\n",
    "from sklearn.datasets import load_iris\n",
    "\n",
    "# Step 2: Import models\n",
    "from sklearn.ensemble import RandomForestClassifier  # Random Forest\n",
    "from sklearn.neighbors import KNeighborsClassifier   # K-Nearest Neighbors\n",
    "from sklearn.tree import DecisionTreeClassifier      # Decision Tree\n",
    "from sklearn.svm import SVC                          # Support Vector Machine\n",
    "\n",
    "# Step 3: Load dataset (we'll use the iris dataset for simplicity)\n",
    "data = load_iris()\n",
    "X = pd.DataFrame(data.data, columns=data.feature_names)  # Features\n",
    "y = pd.Series(data.target)  # Target variable\n",
    "\n",
    "# Step 4: Split the data into training\n"
   ]
  },
  {
   "cell_type": "code",
   "execution_count": null,
   "id": "d01ebbd9",
   "metadata": {},
   "outputs": [],
   "source": [
    "from skclearn.model_selection import train_test_split\n",
    "from sklearn.metrics import mean_squared_error,r2_score,accuracy_score\n",
    "from sklearn.tree import DecisionTreeClassifier\n",
    "from sklearn.linear_model import LenearRegression\n",
    "from sklearn.svm import SVC\n",
    "from sklearn.neighbors import KNeighborsClassifier\n",
    "\n",
    "x_train,y_train,x_test,y_test = train_test_split(X,Y,test_size=0.2,random_state=42)\n",
    "model = LinearRegression()\n",
    "model.fit(x_train,y_train)\n",
    "y_pred = model.predict(x_test)\n",
    "mse = mean_squared_error(y_test,y_pred)"
   ]
  },
  {
   "cell_type": "code",
   "execution_count": null,
   "id": "01995d34",
   "metadata": {},
   "outputs": [],
   "source": [
    "from sklearn.model_selection import train_test_split\n",
    "from sklearn.metrics import mean_squared_error, r2_score, accuracy_score, classification_report\n",
    "from sklearn.tree import DecisionTreeRegressor\n",
    "from sklearn.linear import LinearRegression\n",
    "from sklearn.enseble import RandomForestRegressor\n",
    "from xgboost import XGBRegressor\n",
    "\n",
    "x_train,y_train,x_test,y_test = train_test_split(x,y,test_size=0.3,random_test=42)\n",
    "model = LinearRegression()\n",
    "model.fit(x_train,y_train)\n",
    "y_pred = model.predict(x_test)\n",
    "mse = mean_squared_error(y_test,y_pred)\n",
    "accuracy = r2_score(x_test,y_test)"
   ]
  },
  {
   "cell_type": "code",
   "execution_count": null,
   "id": "9b3c2099",
   "metadata": {},
   "outputs": [],
   "source": [
    "from sklearn.model_selection import train_test_split\n",
    "from sklearn.metrics import mean_squared_error, r2_score,accuracy_score\n",
    "from sklearn.linear import LinearRegression\n",
    "from sklearn.tree import DecisionTreeRegression\n",
    "from sklearn.ensemble import RandomForestClassifier\n",
    "x_train,y_train,x_test,y_test = train_test_split(x,y,test_size=0.2,random_state=42)\n",
    "model = LinearRegression()\n",
    "model.fit(x_train,y_train)\n",
    "y_pred = model.predict(x_test)\n",
    "r2_sco = r2_score(x_test,y_test)"
   ]
  },
  {
   "cell_type": "code",
   "execution_count": null,
   "id": "80a5b6f6",
   "metadata": {},
   "outputs": [],
   "source": []
  },
  {
   "cell_type": "code",
   "execution_count": null,
   "id": "038da224",
   "metadata": {},
   "outputs": [],
   "source": [
    "# List of columns with null values that you want to fill\n",
    "columns_to_fill = data1.columns[data1.isnull().any()].tolist()\n",
    "\n",
    "# Fill null values with the mean for numeric columns and mode for object columns\n",
    "for column in columns_to_fill:\n",
    "    if data1[column].dtype == 'object':\n",
    "        data1[column] = data1[column].fillna(data1[column].mode()[0])\n",
    "    elif data1[column].dtype in ['int64', 'float64']:\n",
    "        data1[column] = data1[column].fillna(data1[column].mean())\n",
    "        \n",
    "# List of columns to encode\n",
    "df_cols = data1.select_dtypes(include=['object']).columns\n",
    "le = LabelEncoder()\n",
    "for column in df_cols:\n",
    "    if data1[column].dtype == 'object':\n",
    "        data1[column] = le.fit_transform(data1[column])\n",
    "        \n",
    "        \n",
    "# import zscore \n",
    "from scipy.stats import zscore\n",
    "z_score = zscore(data[['weight','ball_controlling_skills','body_reflexes','body_balance','jumping_skills','max_running_speed','goalkeeping_skills','mental_strength','fitness_rating','behaviour_rating','body_strength_stamina']])\n",
    "abs_z_score = np.abs(z_score)    \n",
    "filtering_entry = (abs_z_score  < 3).all(axis=1) \n",
    "df = data[filtering_entry]     "
   ]
  },
  {
   "cell_type": "code",
   "execution_count": null,
   "id": "75593454",
   "metadata": {},
   "outputs": [],
   "source": []
  },
  {
   "cell_type": "code",
   "execution_count": null,
   "id": "d16fb9e9",
   "metadata": {},
   "outputs": [],
   "source": [
    "# Save this code as `classification_pipeline.py`\n",
    "\n",
    "import pandas as pd\n",
    "from sklearn.model_selection import train_test_split\n",
    "from sklearn.ensemble import RandomForestClassifier\n",
    "from xgboost import XGBClassifier\n",
    "from sklearn.linear_model import LogisticRegression\n",
    "from sklearn.metrics import classification_report\n",
    "import joblib\n",
    "\n",
    "class ClassificationPipeline:\n",
    "    def __init__(self, data, target_column):\n",
    "        self.data = data\n",
    "        self.target_column = target_column\n",
    "        self.models = {\n",
    "            \"RandomForest\": RandomForestClassifier(random_state=42),\n",
    "            \"XGBoost\": XGBClassifier(random_state=42),\n",
    "            \"LogisticRegression\": LogisticRegression(max_iter=1000)\n",
    "        }\n",
    "        self.trained_models = {}\n",
    "\n",
    "    def prepare_data(self):\n",
    "        X = self.data.drop(columns=self.target_column)\n",
    "        y = self.data[self.target_column]\n",
    "        return train_test_split(X, y, test_size=0.2, random_state=42)\n",
    "\n",
    "    def train_and_evaluate(self, X_train, X_test, y_train, y_test):\n",
    "        for model_name, model in self.models.items():\n",
    "            model.fit(X_train, y_train)\n",
    "            y_pred = model.predict(X_test)\n",
    "            print(f\"{model_name} Classification Report:\")\n",
    "            print(classification_report(y_test, y_pred))\n",
    "            print(\"\\n\")\n",
    "            self.trained_models[model_name] = model\n",
    "\n",
    "    def save_models(self):\n",
    "        for model_name, model in self.trained_models.items():\n",
    "            joblib.dump(model, f\"{model_name.lower()}_classifier.pkl\")\n",
    "\n",
    "    def load_model(self, model_name):\n",
    "        return joblib.load(f\"{model_name.lower()}_classifier.pkl\")\n",
    "\n",
    "    def predict_on_new_data(self, new_data):\n",
    "        predictions = {}\n",
    "        for model_name in self.models.keys():\n",
    "            model = self.load_model(model_name)\n",
    "            predictions[f\"{model_name} Prediction\"] = model.predict(new_data)\n",
    "        return predictions\n",
    "\n",
    "# Main script\n",
    "if __name__ == \"__main__\":\n",
    "    # Load data (replace with your dataset path)\n",
    "    # Example: df = pd.read_csv('your_dataset.csv')\n",
    "    df = pd.DataFrame()  # Replace with your data\n",
    "    target_column = 'target_column'  # Replace with your actual target column name\n",
    "\n",
    "    # Initialize the pipeline\n",
    "    pipeline = ClassificationPipeline(data=df, target_column=target_column)\n",
    "\n",
    "    # Prepare data\n",
    "    X_train, X_test, y_train, y_test = pipeline.prepare_data()\n",
    "\n",
    "    # Train and evaluate models\n",
    "    pipeline.train_and_evaluate(X_train, X_test, y_train, y_test)\n",
    "\n",
    "    # Save models\n",
    "    pipeline.save_models()\n",
    "\n",
    "    # Example: Predict on new data\n",
    "    # Replace 'new_data' with actual new data as a DataFrame\n",
    "    new_data = pd.DataFrame()  # Example placeholder, replace with your new data\n",
    "    predictions = pipeline.predict_on_new_data(new_data)\n",
    "    print(\"Predictions on new data:\", predictions)\n"
   ]
  },
  {
   "cell_type": "code",
   "execution_count": null,
   "id": "facafee1",
   "metadata": {},
   "outputs": [],
   "source": []
  },
  {
   "cell_type": "code",
   "execution_count": null,
   "id": "25e9c752",
   "metadata": {},
   "outputs": [],
   "source": []
  },
  {
   "cell_type": "code",
   "execution_count": null,
   "id": "04e3016b",
   "metadata": {},
   "outputs": [],
   "source": []
  },
  {
   "cell_type": "code",
   "execution_count": null,
   "id": "ffa7b028",
   "metadata": {},
   "outputs": [],
   "source": []
  },
  {
   "cell_type": "code",
   "execution_count": null,
   "id": "d0048cec",
   "metadata": {},
   "outputs": [],
   "source": []
  },
  {
   "cell_type": "code",
   "execution_count": null,
   "id": "7bfda828",
   "metadata": {},
   "outputs": [],
   "source": []
  },
  {
   "cell_type": "code",
   "execution_count": null,
   "id": "0c349a92",
   "metadata": {},
   "outputs": [],
   "source": [
    "# Step 1: Import necessary libraries\n",
    "import numpy as np\n",
    "import pandas as pd\n",
    "from sklearn.model_selection import train_test_split\n",
    "from sklearn.linear_model import LinearRegression\n",
    "from sklearn.metrics import mean_squared_error, r2_score\n",
    "\n",
    "# Step 2: Load a dataset (we're using a built-in dataset from sklearn)\n",
    "from sklearn.datasets import load_diabetes\n",
    "data = load_diabetes()\n",
    "\n",
    "# Step 3: Prepare the data\n",
    "X = pd.DataFrame(data.data, columns=data.feature_names)  # Features\n",
    "y = pd.Series(data.target)  # Target variable (disease progression)\n",
    "\n",
    "# Step 4: Split the data into training and testing sets\n",
    "X_train, X_test, y_train, y_test = train_test_split(X, y, test_size=0.2, random_state=42)\n",
    "\n",
    "# Step 5: Initialize and train the model (Linear Regression in this case)\n",
    "model = LinearRegression()\n",
    "model.fit(X_train, y_train)\n",
    "\n",
    "# Step 6: Make predictions on the test set\n",
    "y_pred = model.predict(X_test)\n",
    "\n",
    "# Step 7: Evaluate the model performance\n",
    "mse = mean_squared_error(y_test, y_pred)\n",
    "r2 = r2_score(y_test, y_pred)\n",
    "\n",
    "# Step 8: Print the evaluation results\n",
    "print(f\"Mean Squared Error: {mse}\")\n",
    "print(f\"R-Squared: {r2}\")\n",
    "\n",
    "# Optional: Print the model coefficients\n",
    "print(\"Model Coefficients:\", model.coef_)\n"
   ]
  },
  {
   "cell_type": "code",
   "execution_count": null,
   "id": "ef5e5dd2",
   "metadata": {},
   "outputs": [],
   "source": [
    "import pandas as pd\n",
    "import numpy as np\n",
    "from sklearn.model_selection import train_test_split\n",
    "from sklearn.linear_model import LinearRegression\n",
    "from sklearn.ensemble import RandomForestRegressor, XGBRegressor\n",
    "from sklearn.metrics import r2_score,mean_squared_error, accuracy_score"
   ]
  },
  {
   "cell_type": "code",
   "execution_count": null,
   "id": "75c281e7",
   "metadata": {},
   "outputs": [],
   "source": []
  },
  {
   "cell_type": "code",
   "execution_count": null,
   "id": "575036db",
   "metadata": {},
   "outputs": [],
   "source": [
    "# Save this code as `classification_with_report.py`\n",
    "\n",
    "import pandas as pd\n",
    "from sklearn.model_selection import train_test_split\n",
    "from sklearn.ensemble import RandomForestClassifier\n",
    "from xgboost import XGBClassifier\n",
    "from sklearn.linear_model import LogisticRegression\n",
    "from sklearn.metrics import classification_report\n",
    "import joblib\n",
    "\n",
    "# Load data (replace with your dataset path)\n",
    "# Example: df = pd.read_csv('your_dataset.csv')\n",
    "df = pd.DataFrame()  # Replace with your data\n",
    "\n",
    "# Define target and features\n",
    "X = df.drop(columns='target_column')  # Replace 'target_column' with your actual target column name\n",
    "y = df['target_column']  # Replace with your actual target column name\n",
    "\n",
    "# Split the dataset\n",
    "X_train, X_test, y_train, y_test = train_test_split(X, y, test_size=0.2, random_state=42)\n",
    "\n",
    "# Define a function to train, predict and print classification report for a model\n",
    "def evaluate_model(model, X_train, X_test, y_train, y_test):\n",
    "    model.fit(X_train, y_train)\n",
    "    y_pred = model.predict(X_test)\n",
    "    \n",
    "    print(f\"{model.__class__.__name__} Classification Report:\")\n",
    "    print(classification_report(y_test, y_pred))\n",
    "    print(\"\\n\")\n",
    "    \n",
    "    return model\n",
    "\n",
    "# Initialize models\n",
    "rf_model = RandomForestClassifier(random_state=42)\n",
    "xgb_model = XGBClassifier(random_state=42)\n",
    "lr_model = LogisticRegression(max_iter=1000)\n",
    "\n",
    "# Evaluate and save each model\n",
    "rf_model = evaluate_model(rf_model, X_train, X_test, y_train, y_test)\n",
    "xgb_model = evaluate_model(xgb_model, X_train, X_test, y_train, y_test)\n",
    "lr_model = evaluate_model(lr_model, X_train, X_test, y_train, y_test)\n",
    "\n",
    "# Save the trained models\n",
    "joblib.dump(rf_model, 'random_forest_classifier.pkl')\n",
    "joblib.dump(xgb_model, 'xgboost_classifier.pkl')\n",
    "joblib.dump(lr_model, 'logistic_regression_classifier.pkl')\n",
    "\n",
    "# Function to load models and make predictions on new data\n",
    "def predict_on_new_data(new_data):\n",
    "    # Load models\n",
    "    rf_model = joblib.load('random_forest_classifier.pkl')\n",
    "    xgb_model = joblib.load('xgboost_classifier.pkl')\n",
    "    lr_model = joblib.load('logistic_regression_classifier.pkl')\n",
    "    \n",
    "    # Make predictions\n",
    "    rf_pred = rf_model.predict(new_data)\n",
    "    xgb_pred = xgb_model.predict(new_data)\n",
    "    lr_pred = lr_model.predict(new_data)\n",
    "    \n",
    "    predictions = {\n",
    "        \"Random Forest Prediction\": rf_pred,\n",
    "        \"XGBoost Prediction\": xgb_pred,\n",
    "        \"Logistic Regression Prediction\": lr_pred\n",
    "    }\n",
    "    \n",
    "    return predictions\n",
    "\n",
    "# Example: Predict on new data\n",
    "# Replace 'new_data' with actual new data as a DataFrame\n",
    "new_data = pd.DataFrame()  # Example placeholder, replace with your new data\n",
    "predictions = predict_on_new_data(new_data)\n",
    "print(\"Predictions on new data:\", predictions)\n"
   ]
  },
  {
   "cell_type": "code",
   "execution_count": null,
   "id": "27ec301c",
   "metadata": {},
   "outputs": [],
   "source": [
    "a = data['Income'].value_counts() # count the data of income and store it in variavle \"a\"\n",
    "plt.figure(figsize=(3,3)) # figure size\n",
    "a.plot.pie(autopct=\"%1.1f%%\") # plot pie plot\n",
    "plt.show()"
   ]
  },
  {
   "cell_type": "code",
   "execution_count": 2,
   "id": "a31b7d1f",
   "metadata": {},
   "outputs": [],
   "source": [
    "import seaborn as sns\n",
    "import matplotlib.pyplot as plt"
   ]
  },
  {
   "cell_type": "code",
   "execution_count": null,
   "id": "01b95cae",
   "metadata": {},
   "outputs": [],
   "source": [
    "a = data['income'].value_counts()\n",
    "plt.figure(figsize=(3,3))\n",
    "a.plot.pie(autopct=\"%1.1f%%\")\n",
    "plt.show"
   ]
  },
  {
   "cell_type": "code",
   "execution_count": null,
   "id": "17cc96b6",
   "metadata": {},
   "outputs": [],
   "source": [
    "plt.figure(figsize=(12,12))\n",
    "sns.countplot(x='workclass',data=data)\n",
    "plt.show"
   ]
  },
  {
   "cell_type": "code",
   "execution_count": null,
   "id": "8d795bfa",
   "metadata": {},
   "outputs": [],
   "source": [
    "plt.figure(figsize=(12,12))\n",
    "sns.boxplot(x='income',y='age',data=data)\n",
    "plt.show"
   ]
  },
  {
   "cell_type": "code",
   "execution_count": null,
   "id": "1afd642c",
   "metadata": {},
   "outputs": [],
   "source": [
    "plt.figure(figsize=(12,12))\n",
    "sns.barplot(x,y,data=data)\n",
    "plt.show()"
   ]
  },
  {
   "cell_type": "code",
   "execution_count": null,
   "id": "0e3e37aa",
   "metadata": {},
   "outputs": [],
   "source": [
    "sns.distplot()"
   ]
  },
  {
   "cell_type": "code",
   "execution_count": null,
   "id": "1960f569",
   "metadata": {},
   "outputs": [],
   "source": []
  },
  {
   "cell_type": "code",
   "execution_count": null,
   "id": "a4471fde",
   "metadata": {},
   "outputs": [],
   "source": []
  },
  {
   "cell_type": "code",
   "execution_count": null,
   "id": "c74fac58",
   "metadata": {},
   "outputs": [],
   "source": []
  }
 ],
 "metadata": {
  "kernelspec": {
   "display_name": "Python 3 (ipykernel)",
   "language": "python",
   "name": "python3"
  },
  "language_info": {
   "codemirror_mode": {
    "name": "ipython",
    "version": 3
   },
   "file_extension": ".py",
   "mimetype": "text/x-python",
   "name": "python",
   "nbconvert_exporter": "python",
   "pygments_lexer": "ipython3",
   "version": "3.9.13"
  }
 },
 "nbformat": 4,
 "nbformat_minor": 5
}
