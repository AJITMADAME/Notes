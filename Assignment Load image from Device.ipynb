{
 "cells": [
  {
   "cell_type": "code",
   "execution_count": 1,
   "id": "ee16debc",
   "metadata": {},
   "outputs": [],
   "source": [
    "import ee\n",
    "from datetime import datetime"
   ]
  },
  {
   "cell_type": "code",
   "execution_count": 8,
   "id": "610d5ef1",
   "metadata": {},
   "outputs": [
    {
     "data": {
      "text/html": [
       "<p>To authorize access needed by Earth Engine, open the following\n",
       "        URL in a web browser and follow the instructions:</p>\n",
       "        <p><a href=https://code.earthengine.google.com/client-auth?scopes=https%3A//www.googleapis.com/auth/earthengine%20https%3A//www.googleapis.com/auth/devstorage.full_control&request_id=xmNsyUlEjk-adGcen1sHA4NgDrs0JOXLCTx-zCEFoMI&tc=voyd8lwOPclmjvwQHIZb1L0F0C9ddMJtWF3GE25eXSA&cc=JjMYihzOsMT0n3azgZfCJWsJHHC9CUfiFwHJhDxW-qE>https://code.earthengine.google.com/client-auth?scopes=https%3A//www.googleapis.com/auth/earthengine%20https%3A//www.googleapis.com/auth/devstorage.full_control&request_id=xmNsyUlEjk-adGcen1sHA4NgDrs0JOXLCTx-zCEFoMI&tc=voyd8lwOPclmjvwQHIZb1L0F0C9ddMJtWF3GE25eXSA&cc=JjMYihzOsMT0n3azgZfCJWsJHHC9CUfiFwHJhDxW-qE</a></p>\n",
       "        <p>The authorization workflow will generate a code, which you should paste in the box below.</p>\n",
       "        "
      ],
      "text/plain": [
       "<IPython.core.display.HTML object>"
      ]
     },
     "metadata": {},
     "output_type": "display_data"
    },
    {
     "name": "stdout",
     "output_type": "stream",
     "text": [
      "Enter verification code: 4/1AZEOvhX8F_-QjkIJzH9MYc_bgwnpIzi10S6D1DLQcC45pzDTxiNsMF46lBc\n",
      "\n",
      "Successfully saved authorization token.\n"
     ]
    }
   ],
   "source": [
    "ee.Authenticate()"
   ]
  },
  {
   "cell_type": "code",
   "execution_count": 40,
   "id": "5980d5bd",
   "metadata": {},
   "outputs": [],
   "source": [
    "# Initialize Earth Engine\n",
    "ee.Initialize()\n"
   ]
  },
  {
   "cell_type": "code",
   "execution_count": 143,
   "id": "89a8a556",
   "metadata": {},
   "outputs": [],
   "source": [
    "import rasterio"
   ]
  },
  {
   "cell_type": "raw",
   "id": "73561269",
   "metadata": {},
   "source": [
    "import ee\n",
    "\n",
    "# Initialize the Earth Engine Python API\n",
    "ee.Initialize()\n",
    "\n",
    "# Define the region of interest (Nashik region)\n",
    "roi = ee.Geometry.Rectangle([73.438, 19.583, 74.192, 20.231])\n",
    "\n",
    "# Define the date range\n",
    "start_date = '2023-01-01'\n",
    "end_date = '2023-12-31'\n",
    "\n",
    "# Filter Sentinel-2 image collection\n",
    "collection = ee.ImageCollection('COPERNICUS/S2_SR') \\\n",
    "    .filterBounds(roi) \\\n",
    "    .filterDate(start_date, end_date) \\\n",
    "    .sort('CLOUD_COVERAGE_ASSESSMENT')\n",
    "\n",
    "# Select the first image from the collection\n",
    "image = ee.Image(collection.first())\n",
    "\n",
    "# Select the necessary bands (red and NIR)\n",
    "nir_band = image.select('B8')\n",
    "red_band = image.select('B4')\n",
    "\n",
    "# Calculate NDVI\n",
    "ndvi = nir_band.subtract(red_band).divide(nir_band.add(red_band))\n",
    "\n",
    "# Download the image\n",
    "task = ee.batch.Export.image.toDrive({\n",
    "    'image': ndvi,\n",
    "    'description': 'sentinel2_ndvi',\n",
    "    'folder': 'sentinel2_images',\n",
    "    'scale': 10,\n",
    "    'region': roi.getInfo()['coordinates'],\n",
    "})\n",
    "task.start()"
   ]
  },
  {
   "cell_type": "markdown",
   "id": "6f2cfbb4",
   "metadata": {},
   "source": [
    "## Load the Image "
   ]
  },
  {
   "cell_type": "code",
   "execution_count": 103,
   "id": "140b9d9a",
   "metadata": {},
   "outputs": [
    {
     "name": "stdout",
     "output_type": "stream",
     "text": [
      "Image shape: (6912, 1033)\n",
      "Number of bands: 23\n",
      "Coordinate Reference System: EPSG:32643\n"
     ]
    }
   ],
   "source": [
    "# Path to the downloaded Sentinel-2 image file on your local machine\n",
    "image_path = 'sentinel2_image_3.tif'\n",
    "\n",
    "# Open the image file using rasterio\n",
    "dataset = rasterio.open(image_path)\n",
    "\n",
    "# Access information about the image\n",
    "print(\"Image shape:\", dataset.shape)\n",
    "print(\"Number of bands:\", dataset.count)\n",
    "print(\"Coordinate Reference System:\", dataset.crs)\n",
    "\n",
    "# Read the image data as a numpy array\n",
    "image_data = dataset.read()\n",
    "\n",
    "# Access the individual bands\n",
    "band1 = image_data[0]\n",
    "band2 = image_data[1]\n",
    "band3 = image_data[2]\n",
    "\n",
    "# Perform further processing or analysis with the image data\n",
    "\n",
    "# Remember to close the dataset when finished\n",
    "dataset.close()"
   ]
  },
  {
   "cell_type": "markdown",
   "id": "835b3460",
   "metadata": {},
   "source": [
    "## Calculate NDVI"
   ]
  },
  {
   "cell_type": "code",
   "execution_count": 111,
   "id": "2168d1a4",
   "metadata": {},
   "outputs": [],
   "source": [
    "image = ee.Image('sentinel2_image_3.tif')"
   ]
  },
  {
   "cell_type": "code",
   "execution_count": 112,
   "id": "7b9fea7a",
   "metadata": {},
   "outputs": [],
   "source": [
    "nir_band = image.select('B8')\n",
    "red_band = image.select('B4')"
   ]
  },
  {
   "cell_type": "code",
   "execution_count": 113,
   "id": "f1bbdd76",
   "metadata": {},
   "outputs": [],
   "source": [
    "ndvi = image.expression('(NIR - Red) / (NIR + Red)', {'NIR': nir_band, 'Red': red_band})"
   ]
  },
  {
   "cell_type": "code",
   "execution_count": 122,
   "id": "158e920c",
   "metadata": {},
   "outputs": [
    {
     "data": {
      "text/html": [
       "<pre>&lt;ee.image.Image object at 0x000001870DC99250&gt;</pre>"
      ],
      "text/plain": [
       "<ee.image.Image at 0x1870dc99250>"
      ]
     },
     "execution_count": 122,
     "metadata": {},
     "output_type": "execute_result"
    }
   ],
   "source": [
    "ndvi"
   ]
  },
  {
   "cell_type": "code",
   "execution_count": 148,
   "id": "664752ee",
   "metadata": {},
   "outputs": [],
   "source": [
    "import geemap"
   ]
  },
  {
   "cell_type": "code",
   "execution_count": 155,
   "id": "6034f3a7",
   "metadata": {},
   "outputs": [
    {
     "data": {
      "application/vnd.jupyter.widget-view+json": {
       "model_id": "9d5c6e0b1d9a4c97ad2dcdd672b79114",
       "version_major": 2,
       "version_minor": 0
      },
      "text/plain": [
       "Map(center=[20.0, 73.8], controls=(WidgetControl(options=['position', 'transparent_bg'], widget=HBox(children=…"
      ]
     },
     "metadata": {},
     "output_type": "display_data"
    }
   ],
   "source": [
    "\n",
    "# Create a Map object\n",
    "Map = geemap.Map(center=[20.0, 73.8], zoom=9)\n",
    "\n",
    "# Add the NDVI image layer to the map\n",
    "Map.addLayer(ndvi, {'min': -1, 'max': 1, 'palette': ['red', 'yellow', 'green']}, 'NDVI')\n",
    "\n",
    "# Display the map\n",
    "Map"
   ]
  },
  {
   "cell_type": "code",
   "execution_count": null,
   "id": "8add11c1",
   "metadata": {},
   "outputs": [],
   "source": []
  }
 ],
 "metadata": {
  "kernelspec": {
   "display_name": "Python 3 (ipykernel)",
   "language": "python",
   "name": "python3"
  },
  "language_info": {
   "codemirror_mode": {
    "name": "ipython",
    "version": 3
   },
   "file_extension": ".py",
   "mimetype": "text/x-python",
   "name": "python",
   "nbconvert_exporter": "python",
   "pygments_lexer": "ipython3",
   "version": "3.9.13"
  }
 },
 "nbformat": 4,
 "nbformat_minor": 5
}
